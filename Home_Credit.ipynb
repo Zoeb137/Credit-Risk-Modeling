{
  "cells": [
    {
      "cell_type": "markdown",
      "metadata": {
        "id": "view-in-github",
        "colab_type": "text"
      },
      "source": [
        "<a href=\"https://colab.research.google.com/github/Zoeb137/Credit-Risk-Modeling/blob/main/Home_Credit.ipynb\" target=\"_parent\"><img src=\"https://colab.research.google.com/assets/colab-badge.svg\" alt=\"Open In Colab\"/></a>"
      ]
    },
    {
      "cell_type": "markdown",
      "metadata": {
        "id": "xKQK-CDyeXfb"
      },
      "source": [
        "# **Configuration**"
      ]
    },
    {
      "cell_type": "markdown",
      "metadata": {
        "id": "Ggpg-NYrXTxm"
      },
      "source": [
        "安装kaggle api"
      ]
    },
    {
      "cell_type": "code",
      "execution_count": null,
      "metadata": {
        "colab": {
          "base_uri": "https://localhost:8080/"
        },
        "id": "Vd86EHnUUgQp",
        "outputId": "295fb97b-0b7e-4421-ea11-8c8a9cfb5e22"
      },
      "outputs": [
        {
          "output_type": "stream",
          "name": "stdout",
          "text": [
            "Requirement already satisfied: kaggle in /usr/local/lib/python3.10/dist-packages (1.5.16)\n",
            "Requirement already satisfied: six>=1.10 in /usr/local/lib/python3.10/dist-packages (from kaggle) (1.16.0)\n",
            "Requirement already satisfied: certifi in /usr/local/lib/python3.10/dist-packages (from kaggle) (2024.2.2)\n",
            "Requirement already satisfied: python-dateutil in /usr/local/lib/python3.10/dist-packages (from kaggle) (2.8.2)\n",
            "Requirement already satisfied: requests in /usr/local/lib/python3.10/dist-packages (from kaggle) (2.31.0)\n",
            "Requirement already satisfied: tqdm in /usr/local/lib/python3.10/dist-packages (from kaggle) (4.66.2)\n",
            "Requirement already satisfied: python-slugify in /usr/local/lib/python3.10/dist-packages (from kaggle) (8.0.4)\n",
            "Requirement already satisfied: urllib3 in /usr/local/lib/python3.10/dist-packages (from kaggle) (2.0.7)\n",
            "Requirement already satisfied: bleach in /usr/local/lib/python3.10/dist-packages (from kaggle) (6.1.0)\n",
            "Requirement already satisfied: webencodings in /usr/local/lib/python3.10/dist-packages (from bleach->kaggle) (0.5.1)\n",
            "Requirement already satisfied: text-unidecode>=1.3 in /usr/local/lib/python3.10/dist-packages (from python-slugify->kaggle) (1.3)\n",
            "Requirement already satisfied: charset-normalizer<4,>=2 in /usr/local/lib/python3.10/dist-packages (from requests->kaggle) (3.3.2)\n",
            "Requirement already satisfied: idna<4,>=2.5 in /usr/local/lib/python3.10/dist-packages (from requests->kaggle) (3.6)\n"
          ]
        }
      ],
      "source": [
        "!pip install kaggle"
      ]
    },
    {
      "cell_type": "markdown",
      "metadata": {
        "id": "9DVOFFN4Xbh2"
      },
      "source": [
        "从kaggle账户中新建token获得kaggle.json文件，并运行以下代码上传"
      ]
    },
    {
      "cell_type": "code",
      "execution_count": null,
      "metadata": {
        "colab": {
          "base_uri": "https://localhost:8080/",
          "height": 90
        },
        "id": "B4QI9SAAV-IP",
        "outputId": "7955afbd-263b-466c-959a-b59bbf277d35"
      },
      "outputs": [
        {
          "output_type": "display_data",
          "data": {
            "text/plain": [
              "<IPython.core.display.HTML object>"
            ],
            "text/html": [
              "\n",
              "     <input type=\"file\" id=\"files-46e9db8c-9afb-4f4e-9715-46140cb016de\" name=\"files[]\" multiple disabled\n",
              "        style=\"border:none\" />\n",
              "     <output id=\"result-46e9db8c-9afb-4f4e-9715-46140cb016de\">\n",
              "      Upload widget is only available when the cell has been executed in the\n",
              "      current browser session. Please rerun this cell to enable.\n",
              "      </output>\n",
              "      <script>// Copyright 2017 Google LLC\n",
              "//\n",
              "// Licensed under the Apache License, Version 2.0 (the \"License\");\n",
              "// you may not use this file except in compliance with the License.\n",
              "// You may obtain a copy of the License at\n",
              "//\n",
              "//      http://www.apache.org/licenses/LICENSE-2.0\n",
              "//\n",
              "// Unless required by applicable law or agreed to in writing, software\n",
              "// distributed under the License is distributed on an \"AS IS\" BASIS,\n",
              "// WITHOUT WARRANTIES OR CONDITIONS OF ANY KIND, either express or implied.\n",
              "// See the License for the specific language governing permissions and\n",
              "// limitations under the License.\n",
              "\n",
              "/**\n",
              " * @fileoverview Helpers for google.colab Python module.\n",
              " */\n",
              "(function(scope) {\n",
              "function span(text, styleAttributes = {}) {\n",
              "  const element = document.createElement('span');\n",
              "  element.textContent = text;\n",
              "  for (const key of Object.keys(styleAttributes)) {\n",
              "    element.style[key] = styleAttributes[key];\n",
              "  }\n",
              "  return element;\n",
              "}\n",
              "\n",
              "// Max number of bytes which will be uploaded at a time.\n",
              "const MAX_PAYLOAD_SIZE = 100 * 1024;\n",
              "\n",
              "function _uploadFiles(inputId, outputId) {\n",
              "  const steps = uploadFilesStep(inputId, outputId);\n",
              "  const outputElement = document.getElementById(outputId);\n",
              "  // Cache steps on the outputElement to make it available for the next call\n",
              "  // to uploadFilesContinue from Python.\n",
              "  outputElement.steps = steps;\n",
              "\n",
              "  return _uploadFilesContinue(outputId);\n",
              "}\n",
              "\n",
              "// This is roughly an async generator (not supported in the browser yet),\n",
              "// where there are multiple asynchronous steps and the Python side is going\n",
              "// to poll for completion of each step.\n",
              "// This uses a Promise to block the python side on completion of each step,\n",
              "// then passes the result of the previous step as the input to the next step.\n",
              "function _uploadFilesContinue(outputId) {\n",
              "  const outputElement = document.getElementById(outputId);\n",
              "  const steps = outputElement.steps;\n",
              "\n",
              "  const next = steps.next(outputElement.lastPromiseValue);\n",
              "  return Promise.resolve(next.value.promise).then((value) => {\n",
              "    // Cache the last promise value to make it available to the next\n",
              "    // step of the generator.\n",
              "    outputElement.lastPromiseValue = value;\n",
              "    return next.value.response;\n",
              "  });\n",
              "}\n",
              "\n",
              "/**\n",
              " * Generator function which is called between each async step of the upload\n",
              " * process.\n",
              " * @param {string} inputId Element ID of the input file picker element.\n",
              " * @param {string} outputId Element ID of the output display.\n",
              " * @return {!Iterable<!Object>} Iterable of next steps.\n",
              " */\n",
              "function* uploadFilesStep(inputId, outputId) {\n",
              "  const inputElement = document.getElementById(inputId);\n",
              "  inputElement.disabled = false;\n",
              "\n",
              "  const outputElement = document.getElementById(outputId);\n",
              "  outputElement.innerHTML = '';\n",
              "\n",
              "  const pickedPromise = new Promise((resolve) => {\n",
              "    inputElement.addEventListener('change', (e) => {\n",
              "      resolve(e.target.files);\n",
              "    });\n",
              "  });\n",
              "\n",
              "  const cancel = document.createElement('button');\n",
              "  inputElement.parentElement.appendChild(cancel);\n",
              "  cancel.textContent = 'Cancel upload';\n",
              "  const cancelPromise = new Promise((resolve) => {\n",
              "    cancel.onclick = () => {\n",
              "      resolve(null);\n",
              "    };\n",
              "  });\n",
              "\n",
              "  // Wait for the user to pick the files.\n",
              "  const files = yield {\n",
              "    promise: Promise.race([pickedPromise, cancelPromise]),\n",
              "    response: {\n",
              "      action: 'starting',\n",
              "    }\n",
              "  };\n",
              "\n",
              "  cancel.remove();\n",
              "\n",
              "  // Disable the input element since further picks are not allowed.\n",
              "  inputElement.disabled = true;\n",
              "\n",
              "  if (!files) {\n",
              "    return {\n",
              "      response: {\n",
              "        action: 'complete',\n",
              "      }\n",
              "    };\n",
              "  }\n",
              "\n",
              "  for (const file of files) {\n",
              "    const li = document.createElement('li');\n",
              "    li.append(span(file.name, {fontWeight: 'bold'}));\n",
              "    li.append(span(\n",
              "        `(${file.type || 'n/a'}) - ${file.size} bytes, ` +\n",
              "        `last modified: ${\n",
              "            file.lastModifiedDate ? file.lastModifiedDate.toLocaleDateString() :\n",
              "                                    'n/a'} - `));\n",
              "    const percent = span('0% done');\n",
              "    li.appendChild(percent);\n",
              "\n",
              "    outputElement.appendChild(li);\n",
              "\n",
              "    const fileDataPromise = new Promise((resolve) => {\n",
              "      const reader = new FileReader();\n",
              "      reader.onload = (e) => {\n",
              "        resolve(e.target.result);\n",
              "      };\n",
              "      reader.readAsArrayBuffer(file);\n",
              "    });\n",
              "    // Wait for the data to be ready.\n",
              "    let fileData = yield {\n",
              "      promise: fileDataPromise,\n",
              "      response: {\n",
              "        action: 'continue',\n",
              "      }\n",
              "    };\n",
              "\n",
              "    // Use a chunked sending to avoid message size limits. See b/62115660.\n",
              "    let position = 0;\n",
              "    do {\n",
              "      const length = Math.min(fileData.byteLength - position, MAX_PAYLOAD_SIZE);\n",
              "      const chunk = new Uint8Array(fileData, position, length);\n",
              "      position += length;\n",
              "\n",
              "      const base64 = btoa(String.fromCharCode.apply(null, chunk));\n",
              "      yield {\n",
              "        response: {\n",
              "          action: 'append',\n",
              "          file: file.name,\n",
              "          data: base64,\n",
              "        },\n",
              "      };\n",
              "\n",
              "      let percentDone = fileData.byteLength === 0 ?\n",
              "          100 :\n",
              "          Math.round((position / fileData.byteLength) * 100);\n",
              "      percent.textContent = `${percentDone}% done`;\n",
              "\n",
              "    } while (position < fileData.byteLength);\n",
              "  }\n",
              "\n",
              "  // All done.\n",
              "  yield {\n",
              "    response: {\n",
              "      action: 'complete',\n",
              "    }\n",
              "  };\n",
              "}\n",
              "\n",
              "scope.google = scope.google || {};\n",
              "scope.google.colab = scope.google.colab || {};\n",
              "scope.google.colab._files = {\n",
              "  _uploadFiles,\n",
              "  _uploadFilesContinue,\n",
              "};\n",
              "})(self);\n",
              "</script> "
            ]
          },
          "metadata": {}
        },
        {
          "output_type": "stream",
          "name": "stdout",
          "text": [
            "Saving kaggle.json to kaggle.json\n",
            "User uploaded file \"kaggle.json\" with length 67 bytes\n"
          ]
        }
      ],
      "source": [
        "from google.colab import files\n",
        "uploaded = files.upload()\n",
        "\n",
        "# Make sure the kaggle.json file is in the current directory\n",
        "for fn in uploaded.keys():\n",
        "  print('User uploaded file \"{name}\" with length {length} bytes'.format(\n",
        "      name=fn, length=len(uploaded[fn])))\n"
      ]
    },
    {
      "cell_type": "markdown",
      "metadata": {
        "id": "C6QWiuXcXsQN"
      },
      "source": [
        "将kaggle.json放到正确的位置"
      ]
    },
    {
      "cell_type": "code",
      "execution_count": null,
      "metadata": {
        "id": "02TXMYNjWDWP"
      },
      "outputs": [],
      "source": [
        "import os\n",
        "\n",
        "# Ensure .kaggle directory exists at the correct path\n",
        "os.makedirs('/root/.kaggle', exist_ok=True)  # Fixed directory path\n",
        "\n",
        "# Move the kaggle.json into this directory\n",
        "!mv kaggle.json /root/.kaggle/  # Corrected command\n",
        "\n",
        "# Set the correct permissions for the file\n",
        "!chmod 600 /root/.kaggle/kaggle.json  # Corrected command\n",
        "\n"
      ]
    },
    {
      "cell_type": "markdown",
      "metadata": {
        "id": "J1_AlIfaXvl2"
      },
      "source": [
        "下载项目数据"
      ]
    },
    {
      "cell_type": "code",
      "execution_count": null,
      "metadata": {
        "colab": {
          "base_uri": "https://localhost:8080/"
        },
        "id": "kUTamDjXWTK1",
        "outputId": "592b12e2-8811-43c9-fe54-b9dec6a10fdb"
      },
      "outputs": [
        {
          "output_type": "stream",
          "name": "stdout",
          "text": [
            "Downloading home-credit-credit-risk-model-stability.zip to /content\n",
            "100% 3.10G/3.10G [01:53<00:00, 32.5MB/s]\n",
            "100% 3.10G/3.10G [01:53<00:00, 29.4MB/s]\n"
          ]
        }
      ],
      "source": [
        "!kaggle competitions download -c home-credit-credit-risk-model-stability"
      ]
    },
    {
      "cell_type": "markdown",
      "metadata": {
        "id": "A52lJ2zxXyWl"
      },
      "source": [
        "解压项目数据"
      ]
    },
    {
      "cell_type": "code",
      "execution_count": null,
      "metadata": {
        "colab": {
          "base_uri": "https://localhost:8080/"
        },
        "id": "uAvHEIjMWuLn",
        "outputId": "f517cd47-508d-4b25-922b-197003be8f50"
      },
      "outputs": [
        {
          "output_type": "stream",
          "name": "stdout",
          "text": [
            "Archive:  /content/home-credit-credit-risk-model-stability.zip\n",
            "  inflating: /content/home-credit-data/csv_files/test/test_applprev_1_0.csv  \n",
            "  inflating: /content/home-credit-data/csv_files/test/test_applprev_1_1.csv  \n",
            "  inflating: /content/home-credit-data/csv_files/test/test_applprev_1_2.csv  \n",
            "  inflating: /content/home-credit-data/csv_files/test/test_applprev_2.csv  \n",
            "  inflating: /content/home-credit-data/csv_files/test/test_base.csv  \n",
            "  inflating: /content/home-credit-data/csv_files/test/test_credit_bureau_a_1_0.csv  \n",
            "  inflating: /content/home-credit-data/csv_files/test/test_credit_bureau_a_1_1.csv  \n",
            "  inflating: /content/home-credit-data/csv_files/test/test_credit_bureau_a_1_2.csv  \n",
            "  inflating: /content/home-credit-data/csv_files/test/test_credit_bureau_a_1_3.csv  \n",
            "  inflating: /content/home-credit-data/csv_files/test/test_credit_bureau_a_1_4.csv  \n",
            "  inflating: /content/home-credit-data/csv_files/test/test_credit_bureau_a_2_0.csv  \n",
            "  inflating: /content/home-credit-data/csv_files/test/test_credit_bureau_a_2_1.csv  \n",
            "  inflating: /content/home-credit-data/csv_files/test/test_credit_bureau_a_2_10.csv  \n",
            "  inflating: /content/home-credit-data/csv_files/test/test_credit_bureau_a_2_11.csv  \n",
            "  inflating: /content/home-credit-data/csv_files/test/test_credit_bureau_a_2_2.csv  \n",
            "  inflating: /content/home-credit-data/csv_files/test/test_credit_bureau_a_2_3.csv  \n",
            "  inflating: /content/home-credit-data/csv_files/test/test_credit_bureau_a_2_4.csv  \n",
            "  inflating: /content/home-credit-data/csv_files/test/test_credit_bureau_a_2_5.csv  \n",
            "  inflating: /content/home-credit-data/csv_files/test/test_credit_bureau_a_2_6.csv  \n",
            "  inflating: /content/home-credit-data/csv_files/test/test_credit_bureau_a_2_7.csv  \n",
            "  inflating: /content/home-credit-data/csv_files/test/test_credit_bureau_a_2_8.csv  \n",
            "  inflating: /content/home-credit-data/csv_files/test/test_credit_bureau_a_2_9.csv  \n",
            "  inflating: /content/home-credit-data/csv_files/test/test_credit_bureau_b_1.csv  \n",
            "  inflating: /content/home-credit-data/csv_files/test/test_credit_bureau_b_2.csv  \n",
            "  inflating: /content/home-credit-data/csv_files/test/test_debitcard_1.csv  \n",
            "  inflating: /content/home-credit-data/csv_files/test/test_deposit_1.csv  \n",
            "  inflating: /content/home-credit-data/csv_files/test/test_other_1.csv  \n",
            "  inflating: /content/home-credit-data/csv_files/test/test_person_1.csv  \n",
            "  inflating: /content/home-credit-data/csv_files/test/test_person_2.csv  \n",
            "  inflating: /content/home-credit-data/csv_files/test/test_static_0_0.csv  \n",
            "  inflating: /content/home-credit-data/csv_files/test/test_static_0_1.csv  \n",
            "  inflating: /content/home-credit-data/csv_files/test/test_static_0_2.csv  \n",
            "  inflating: /content/home-credit-data/csv_files/test/test_static_cb_0.csv  \n",
            "  inflating: /content/home-credit-data/csv_files/test/test_tax_registry_a_1.csv  \n",
            "  inflating: /content/home-credit-data/csv_files/test/test_tax_registry_b_1.csv  \n",
            "  inflating: /content/home-credit-data/csv_files/test/test_tax_registry_c_1.csv  \n",
            "  inflating: /content/home-credit-data/csv_files/train/train_applprev_1_0.csv  \n",
            "  inflating: /content/home-credit-data/csv_files/train/train_applprev_1_1.csv  \n",
            "  inflating: /content/home-credit-data/csv_files/train/train_applprev_2.csv  \n",
            "  inflating: /content/home-credit-data/csv_files/train/train_base.csv  \n",
            "  inflating: /content/home-credit-data/csv_files/train/train_credit_bureau_a_1_0.csv  \n",
            "  inflating: /content/home-credit-data/csv_files/train/train_credit_bureau_a_1_1.csv  \n",
            "  inflating: /content/home-credit-data/csv_files/train/train_credit_bureau_a_1_2.csv  \n",
            "  inflating: /content/home-credit-data/csv_files/train/train_credit_bureau_a_1_3.csv  \n",
            "  inflating: /content/home-credit-data/csv_files/train/train_credit_bureau_a_2_0.csv  \n",
            "  inflating: /content/home-credit-data/csv_files/train/train_credit_bureau_a_2_1.csv  \n",
            "  inflating: /content/home-credit-data/csv_files/train/train_credit_bureau_a_2_10.csv  \n",
            "  inflating: /content/home-credit-data/csv_files/train/train_credit_bureau_a_2_2.csv  \n",
            "  inflating: /content/home-credit-data/csv_files/train/train_credit_bureau_a_2_3.csv  \n",
            "  inflating: /content/home-credit-data/csv_files/train/train_credit_bureau_a_2_4.csv  \n",
            "  inflating: /content/home-credit-data/csv_files/train/train_credit_bureau_a_2_5.csv  \n",
            "  inflating: /content/home-credit-data/csv_files/train/train_credit_bureau_a_2_6.csv  \n",
            "  inflating: /content/home-credit-data/csv_files/train/train_credit_bureau_a_2_7.csv  \n",
            "  inflating: /content/home-credit-data/csv_files/train/train_credit_bureau_a_2_8.csv  \n",
            "  inflating: /content/home-credit-data/csv_files/train/train_credit_bureau_a_2_9.csv  \n",
            "  inflating: /content/home-credit-data/csv_files/train/train_credit_bureau_b_1.csv  \n",
            "  inflating: /content/home-credit-data/csv_files/train/train_credit_bureau_b_2.csv  \n",
            "  inflating: /content/home-credit-data/csv_files/train/train_debitcard_1.csv  \n",
            "  inflating: /content/home-credit-data/csv_files/train/train_deposit_1.csv  \n",
            "  inflating: /content/home-credit-data/csv_files/train/train_other_1.csv  \n",
            "  inflating: /content/home-credit-data/csv_files/train/train_person_1.csv  \n",
            "  inflating: /content/home-credit-data/csv_files/train/train_person_2.csv  \n",
            "  inflating: /content/home-credit-data/csv_files/train/train_static_0_0.csv  \n",
            "  inflating: /content/home-credit-data/csv_files/train/train_static_0_1.csv  \n",
            "  inflating: /content/home-credit-data/csv_files/train/train_static_cb_0.csv  \n",
            "  inflating: /content/home-credit-data/csv_files/train/train_tax_registry_a_1.csv  \n",
            "  inflating: /content/home-credit-data/csv_files/train/train_tax_registry_b_1.csv  \n",
            "  inflating: /content/home-credit-data/csv_files/train/train_tax_registry_c_1.csv  \n",
            "  inflating: /content/home-credit-data/feature_definitions.csv  \n",
            "  inflating: /content/home-credit-data/parquet_files/test/test_applprev_1_0.parquet  \n",
            "  inflating: /content/home-credit-data/parquet_files/test/test_applprev_1_1.parquet  \n",
            "  inflating: /content/home-credit-data/parquet_files/test/test_applprev_1_2.parquet  \n",
            "  inflating: /content/home-credit-data/parquet_files/test/test_applprev_2.parquet  \n",
            "  inflating: /content/home-credit-data/parquet_files/test/test_base.parquet  \n",
            "  inflating: /content/home-credit-data/parquet_files/test/test_credit_bureau_a_1_0.parquet  \n",
            "  inflating: /content/home-credit-data/parquet_files/test/test_credit_bureau_a_1_1.parquet  \n",
            "  inflating: /content/home-credit-data/parquet_files/test/test_credit_bureau_a_1_2.parquet  \n",
            "  inflating: /content/home-credit-data/parquet_files/test/test_credit_bureau_a_1_3.parquet  \n",
            "  inflating: /content/home-credit-data/parquet_files/test/test_credit_bureau_a_1_4.parquet  \n",
            "  inflating: /content/home-credit-data/parquet_files/test/test_credit_bureau_a_2_0.parquet  \n",
            "  inflating: /content/home-credit-data/parquet_files/test/test_credit_bureau_a_2_1.parquet  \n",
            "  inflating: /content/home-credit-data/parquet_files/test/test_credit_bureau_a_2_10.parquet  \n",
            "  inflating: /content/home-credit-data/parquet_files/test/test_credit_bureau_a_2_11.parquet  \n",
            "  inflating: /content/home-credit-data/parquet_files/test/test_credit_bureau_a_2_2.parquet  \n",
            "  inflating: /content/home-credit-data/parquet_files/test/test_credit_bureau_a_2_3.parquet  \n",
            "  inflating: /content/home-credit-data/parquet_files/test/test_credit_bureau_a_2_4.parquet  \n",
            "  inflating: /content/home-credit-data/parquet_files/test/test_credit_bureau_a_2_5.parquet  \n",
            "  inflating: /content/home-credit-data/parquet_files/test/test_credit_bureau_a_2_6.parquet  \n",
            "  inflating: /content/home-credit-data/parquet_files/test/test_credit_bureau_a_2_7.parquet  \n",
            "  inflating: /content/home-credit-data/parquet_files/test/test_credit_bureau_a_2_8.parquet  \n",
            "  inflating: /content/home-credit-data/parquet_files/test/test_credit_bureau_a_2_9.parquet  \n",
            "  inflating: /content/home-credit-data/parquet_files/test/test_credit_bureau_b_1.parquet  \n",
            "  inflating: /content/home-credit-data/parquet_files/test/test_credit_bureau_b_2.parquet  \n",
            "  inflating: /content/home-credit-data/parquet_files/test/test_debitcard_1.parquet  \n",
            "  inflating: /content/home-credit-data/parquet_files/test/test_deposit_1.parquet  \n",
            "  inflating: /content/home-credit-data/parquet_files/test/test_other_1.parquet  \n",
            "  inflating: /content/home-credit-data/parquet_files/test/test_person_1.parquet  \n",
            "  inflating: /content/home-credit-data/parquet_files/test/test_person_2.parquet  \n",
            "  inflating: /content/home-credit-data/parquet_files/test/test_static_0_0.parquet  \n",
            "  inflating: /content/home-credit-data/parquet_files/test/test_static_0_1.parquet  \n",
            "  inflating: /content/home-credit-data/parquet_files/test/test_static_0_2.parquet  \n",
            "  inflating: /content/home-credit-data/parquet_files/test/test_static_cb_0.parquet  \n",
            "  inflating: /content/home-credit-data/parquet_files/test/test_tax_registry_a_1.parquet  \n",
            "  inflating: /content/home-credit-data/parquet_files/test/test_tax_registry_b_1.parquet  \n",
            "  inflating: /content/home-credit-data/parquet_files/test/test_tax_registry_c_1.parquet  \n",
            "  inflating: /content/home-credit-data/parquet_files/train/train_applprev_1_0.parquet  \n",
            "  inflating: /content/home-credit-data/parquet_files/train/train_applprev_1_1.parquet  \n",
            "  inflating: /content/home-credit-data/parquet_files/train/train_applprev_2.parquet  \n",
            "  inflating: /content/home-credit-data/parquet_files/train/train_base.parquet  \n",
            "  inflating: /content/home-credit-data/parquet_files/train/train_credit_bureau_a_1_0.parquet  \n",
            "  inflating: /content/home-credit-data/parquet_files/train/train_credit_bureau_a_1_1.parquet  \n",
            "  inflating: /content/home-credit-data/parquet_files/train/train_credit_bureau_a_1_2.parquet  \n",
            "  inflating: /content/home-credit-data/parquet_files/train/train_credit_bureau_a_1_3.parquet  \n",
            "  inflating: /content/home-credit-data/parquet_files/train/train_credit_bureau_a_2_0.parquet  \n",
            "  inflating: /content/home-credit-data/parquet_files/train/train_credit_bureau_a_2_1.parquet  \n",
            "  inflating: /content/home-credit-data/parquet_files/train/train_credit_bureau_a_2_10.parquet  \n",
            "  inflating: /content/home-credit-data/parquet_files/train/train_credit_bureau_a_2_2.parquet  \n",
            "  inflating: /content/home-credit-data/parquet_files/train/train_credit_bureau_a_2_3.parquet  \n",
            "  inflating: /content/home-credit-data/parquet_files/train/train_credit_bureau_a_2_4.parquet  \n",
            "  inflating: /content/home-credit-data/parquet_files/train/train_credit_bureau_a_2_5.parquet  \n",
            "  inflating: /content/home-credit-data/parquet_files/train/train_credit_bureau_a_2_6.parquet  \n",
            "  inflating: /content/home-credit-data/parquet_files/train/train_credit_bureau_a_2_7.parquet  \n",
            "  inflating: /content/home-credit-data/parquet_files/train/train_credit_bureau_a_2_8.parquet  \n",
            "  inflating: /content/home-credit-data/parquet_files/train/train_credit_bureau_a_2_9.parquet  \n",
            "  inflating: /content/home-credit-data/parquet_files/train/train_credit_bureau_b_1.parquet  \n",
            "  inflating: /content/home-credit-data/parquet_files/train/train_credit_bureau_b_2.parquet  \n",
            "  inflating: /content/home-credit-data/parquet_files/train/train_debitcard_1.parquet  \n",
            "  inflating: /content/home-credit-data/parquet_files/train/train_deposit_1.parquet  \n",
            "  inflating: /content/home-credit-data/parquet_files/train/train_other_1.parquet  \n",
            "  inflating: /content/home-credit-data/parquet_files/train/train_person_1.parquet  \n",
            "  inflating: /content/home-credit-data/parquet_files/train/train_person_2.parquet  \n",
            "  inflating: /content/home-credit-data/parquet_files/train/train_static_0_0.parquet  \n",
            "  inflating: /content/home-credit-data/parquet_files/train/train_static_0_1.parquet  \n",
            "  inflating: /content/home-credit-data/parquet_files/train/train_static_cb_0.parquet  \n",
            "  inflating: /content/home-credit-data/parquet_files/train/train_tax_registry_a_1.parquet  \n",
            "  inflating: /content/home-credit-data/parquet_files/train/train_tax_registry_b_1.parquet  \n",
            "  inflating: /content/home-credit-data/parquet_files/train/train_tax_registry_c_1.parquet  \n",
            "  inflating: /content/home-credit-data/sample_submission.csv  \n"
          ]
        }
      ],
      "source": [
        "!unzip /content/home-credit-credit-risk-model-stability.zip -d /content/home-credit-data"
      ]
    },
    {
      "cell_type": "code",
      "execution_count": null,
      "metadata": {
        "id": "DIBXF6KIX8M4",
        "colab": {
          "base_uri": "https://localhost:8080/"
        },
        "outputId": "c50ceb72-bca5-4e03-fccd-893f0bdab6ab"
      },
      "outputs": [
        {
          "output_type": "stream",
          "name": "stdout",
          "text": [
            "Requirement already satisfied: pandas in /usr/local/lib/python3.10/dist-packages (1.5.3)\n",
            "Requirement already satisfied: python-dateutil>=2.8.1 in /usr/local/lib/python3.10/dist-packages (from pandas) (2.8.2)\n",
            "Requirement already satisfied: pytz>=2020.1 in /usr/local/lib/python3.10/dist-packages (from pandas) (2023.4)\n",
            "Requirement already satisfied: numpy>=1.21.0 in /usr/local/lib/python3.10/dist-packages (from pandas) (1.25.2)\n",
            "Requirement already satisfied: six>=1.5 in /usr/local/lib/python3.10/dist-packages (from python-dateutil>=2.8.1->pandas) (1.16.0)\n"
          ]
        }
      ],
      "source": [
        "!pip install pandas"
      ]
    },
    {
      "cell_type": "code",
      "execution_count": null,
      "metadata": {
        "id": "fepY65_fZLz_"
      },
      "outputs": [],
      "source": [
        "import pandas as pd\n",
        "\n",
        "def load_and_process_csv(file_path, chunk_size=50000):\n",
        "    \"\"\"\n",
        "    Loads a CSV file in chunks and processes each chunk.\n",
        "\n",
        "    Args:\n",
        "    - file_path: The path to the CSV file to read.\n",
        "    - chunk_size: The number of rows per chunk. Default is 50000.\n",
        "\n",
        "    Returns:\n",
        "    - df_concatenated: A DataFrame containing all the processed chunks.\n",
        "    \"\"\"\n",
        "    chunks = []  # List to hold the processed chunks\n",
        "\n",
        "    for chunk in pd.read_csv(file_path, chunksize=chunk_size):\n",
        "        # Process each chunk here\n",
        "        # For now, we're just collecting the chunks directly\n",
        "        chunks.append(chunk)\n",
        "\n",
        "    # Concatenate all chunks into a single DataFrame\n",
        "    df_concatenated = pd.concat(chunks, axis=0)\n",
        "\n",
        "    return df_concatenated\n"
      ]
    },
    {
      "cell_type": "code",
      "execution_count": null,
      "metadata": {
        "id": "oSKCigpMGz1v"
      },
      "outputs": [],
      "source": [
        "df_feature_definition = load_and_process_csv('/content/home-credit-data/feature_definitions.csv')\n",
        "des_dict = df_feature_definition.set_index('Variable')['Description'].to_dict()"
      ]
    },
    {
      "cell_type": "code",
      "execution_count": null,
      "metadata": {
        "id": "FVWKTANDHLDU"
      },
      "outputs": [],
      "source": [
        "def batch_descriptions(df, desc_dict, batch_size=5):\n",
        "    \"\"\"\n",
        "    一个生成器函数，用于分批遍历DataFrame的列（变量）并获取它们的描述。\n",
        "\n",
        "    参数:\n",
        "    - df: 包含数据的pandas DataFrame。\n",
        "    - desc_dict: 一个字典，包含变量名称到描述的映射。\n",
        "    - batch_size: 每批处理的变量数量。\n",
        "\n",
        "    产出:\n",
        "    - 每次迭代产生一个包含列名和其描述的批次(list of tuples)。\n",
        "    \"\"\"\n",
        "    for i in range(0, len(df.columns), batch_size):\n",
        "        batch_columns = df.columns[i:i+batch_size]\n",
        "        batch_descriptions = [(column, desc_dict.get(column, 'not found')) for column in batch_columns]\n",
        "        yield batch_descriptions\n"
      ]
    },
    {
      "cell_type": "code",
      "execution_count": null,
      "metadata": {
        "id": "EBZspXymHOqM"
      },
      "outputs": [],
      "source": [
        "def format_output(iterator_output,index):\n",
        "    formatted_output = []  # 用于存储格式化后的字符串\n",
        "    for item in iterator_output:\n",
        "        key, description = item  # 分解每个元组为key和description\n",
        "        formatted_output.append(f\"## {index}. {key}\\n{description}\")  # 按新格式添加到列表\n",
        "        index+=1\n",
        "    return \"\\n\".join(formatted_output)  # 将列表转换为单个字符串"
      ]
    },
    {
      "cell_type": "markdown",
      "metadata": {
        "id": "kX97lo-jZNvQ"
      },
      "source": [
        "1. **Business Analysis**\n",
        "A deep understanding of the business context and goals is a crucial first step. Through business analysis, you can identify key factors that may affect default rates. At this stage, working with domain experts to understand what factors may affect the default risk of a loan can help you be more targeted in subsequent data analysis.\n",
        "2. **Find relevant attributes**\n",
        "Filtering relevant attributes based on business understanding (feature selection) is an important step to improve model efficiency and performance. This can be achieved through statistical testing, feature importance scoring, etc. Note that some seemingly irrelevant attributes may also be converted into useful signals through feature engineering.\n",
        "3. **Data analysis**\n",
        "It is very important to conduct thorough exploratory data analysis (EDA) on the data before modeling, including data distribution, missing value processing, outlier checking, etc. This step helps discover patterns, anomalies, structural issues, etc. in the data and lays the foundation for subsequent model development.\n",
        "4. **Build an initial model**\n",
        "Starting with simple models can help you get baseline results quickly, such as logistic regression, decision trees, etc. These models are generally easy to understand and interpret, and are computationally cheap.\n",
        "5. **Validate and complicate the model**\n",
        "Based on the initial model, gradually try more complex models and algorithms, such as random forest, gradient boosting machine (GBM), neural network, etc., to improve prediction performance. At the same time, use techniques such as cross-validation to evaluate the generalization ability of the model and avoid overfitting.\n",
        "6. **Model tuning and evaluation**\n",
        "Further improve model performance through parameter tuning. This can be done manually or using automated methods such as Grid Search or Random Search. Make sure to choose appropriate evaluation metrics (such as AUC, precision, recall, etc.) to measure the performance of the model.\n",
        "7. **Interpret the model and results**\n",
        "Especially in the financial field, model interpretability is very important. Use appropriate tools and techniques (such as feature importance, SHAP values, etc.) to explain the model's prediction and decision-making process."
      ]
    },
    {
      "cell_type": "markdown",
      "metadata": {
        "id": "HmZzUMdoSkBM"
      },
      "source": [
        "#  **Base**\n",
        "\n",
        "## **Analysis**\n",
        "The test set needs to adopt stratified sampling based on weeknum to ensure that the auc and gini coefficients can be calculated based on week.\n"
      ]
    },
    {
      "cell_type": "code",
      "execution_count": null,
      "metadata": {
        "id": "TMOxH8I6S-6J"
      },
      "outputs": [],
      "source": [
        "df_base = load_and_process_csv('/content/home-credit-data/csv_files/train/train_base.csv')"
      ]
    },
    {
      "cell_type": "code",
      "execution_count": null,
      "metadata": {
        "colab": {
          "base_uri": "https://localhost:8080/"
        },
        "id": "lNG2KfUDWGiF",
        "outputId": "a817e902-cb2e-4f32-dfb2-0c32f016f592"
      },
      "outputs": [
        {
          "output_type": "stream",
          "name": "stdout",
          "text": [
            "<class 'pandas.core.frame.DataFrame'>\n",
            "RangeIndex: 1526659 entries, 0 to 1526658\n",
            "Data columns (total 5 columns):\n",
            " #   Column         Non-Null Count    Dtype \n",
            "---  ------         --------------    ----- \n",
            " 0   case_id        1526659 non-null  int64 \n",
            " 1   date_decision  1526659 non-null  object\n",
            " 2   MONTH          1526659 non-null  int64 \n",
            " 3   WEEK_NUM       1526659 non-null  int64 \n",
            " 4   target         1526659 non-null  int64 \n",
            "dtypes: int64(4), object(1)\n",
            "memory usage: 58.2+ MB\n"
          ]
        }
      ],
      "source": [
        "df_base.info()"
      ]
    },
    {
      "cell_type": "code",
      "execution_count": null,
      "metadata": {
        "colab": {
          "base_uri": "https://localhost:8080/",
          "height": 300
        },
        "id": "3hNxXhOPQptZ",
        "outputId": "280f956d-b189-45e4-a0ba-4eda0d67c9c7"
      },
      "outputs": [
        {
          "output_type": "execute_result",
          "data": {
            "text/plain": [
              "            case_id         MONTH      WEEK_NUM        target\n",
              "count  1.526659e+06  1.526659e+06  1.526659e+06  1.526659e+06\n",
              "mean   1.286077e+06  2.019363e+05  4.076904e+01  3.143728e-02\n",
              "std    7.189466e+05  4.473597e+01  2.379798e+01  1.744964e-01\n",
              "min    0.000000e+00  2.019010e+05  0.000000e+00  0.000000e+00\n",
              "25%    7.661975e+05  2.019060e+05  2.300000e+01  0.000000e+00\n",
              "50%    1.357358e+06  2.019100e+05  4.000000e+01  0.000000e+00\n",
              "75%    1.739022e+06  2.020010e+05  5.500000e+01  0.000000e+00\n",
              "max    2.703454e+06  2.020100e+05  9.100000e+01  1.000000e+00"
            ],
            "text/html": [
              "\n",
              "  <div id=\"df-a69cc2ba-17d4-4472-8e7e-078fbc493449\" class=\"colab-df-container\">\n",
              "    <div>\n",
              "<style scoped>\n",
              "    .dataframe tbody tr th:only-of-type {\n",
              "        vertical-align: middle;\n",
              "    }\n",
              "\n",
              "    .dataframe tbody tr th {\n",
              "        vertical-align: top;\n",
              "    }\n",
              "\n",
              "    .dataframe thead th {\n",
              "        text-align: right;\n",
              "    }\n",
              "</style>\n",
              "<table border=\"1\" class=\"dataframe\">\n",
              "  <thead>\n",
              "    <tr style=\"text-align: right;\">\n",
              "      <th></th>\n",
              "      <th>case_id</th>\n",
              "      <th>MONTH</th>\n",
              "      <th>WEEK_NUM</th>\n",
              "      <th>target</th>\n",
              "    </tr>\n",
              "  </thead>\n",
              "  <tbody>\n",
              "    <tr>\n",
              "      <th>count</th>\n",
              "      <td>1.526659e+06</td>\n",
              "      <td>1.526659e+06</td>\n",
              "      <td>1.526659e+06</td>\n",
              "      <td>1.526659e+06</td>\n",
              "    </tr>\n",
              "    <tr>\n",
              "      <th>mean</th>\n",
              "      <td>1.286077e+06</td>\n",
              "      <td>2.019363e+05</td>\n",
              "      <td>4.076904e+01</td>\n",
              "      <td>3.143728e-02</td>\n",
              "    </tr>\n",
              "    <tr>\n",
              "      <th>std</th>\n",
              "      <td>7.189466e+05</td>\n",
              "      <td>4.473597e+01</td>\n",
              "      <td>2.379798e+01</td>\n",
              "      <td>1.744964e-01</td>\n",
              "    </tr>\n",
              "    <tr>\n",
              "      <th>min</th>\n",
              "      <td>0.000000e+00</td>\n",
              "      <td>2.019010e+05</td>\n",
              "      <td>0.000000e+00</td>\n",
              "      <td>0.000000e+00</td>\n",
              "    </tr>\n",
              "    <tr>\n",
              "      <th>25%</th>\n",
              "      <td>7.661975e+05</td>\n",
              "      <td>2.019060e+05</td>\n",
              "      <td>2.300000e+01</td>\n",
              "      <td>0.000000e+00</td>\n",
              "    </tr>\n",
              "    <tr>\n",
              "      <th>50%</th>\n",
              "      <td>1.357358e+06</td>\n",
              "      <td>2.019100e+05</td>\n",
              "      <td>4.000000e+01</td>\n",
              "      <td>0.000000e+00</td>\n",
              "    </tr>\n",
              "    <tr>\n",
              "      <th>75%</th>\n",
              "      <td>1.739022e+06</td>\n",
              "      <td>2.020010e+05</td>\n",
              "      <td>5.500000e+01</td>\n",
              "      <td>0.000000e+00</td>\n",
              "    </tr>\n",
              "    <tr>\n",
              "      <th>max</th>\n",
              "      <td>2.703454e+06</td>\n",
              "      <td>2.020100e+05</td>\n",
              "      <td>9.100000e+01</td>\n",
              "      <td>1.000000e+00</td>\n",
              "    </tr>\n",
              "  </tbody>\n",
              "</table>\n",
              "</div>\n",
              "    <div class=\"colab-df-buttons\">\n",
              "\n",
              "  <div class=\"colab-df-container\">\n",
              "    <button class=\"colab-df-convert\" onclick=\"convertToInteractive('df-a69cc2ba-17d4-4472-8e7e-078fbc493449')\"\n",
              "            title=\"Convert this dataframe to an interactive table.\"\n",
              "            style=\"display:none;\">\n",
              "\n",
              "  <svg xmlns=\"http://www.w3.org/2000/svg\" height=\"24px\" viewBox=\"0 -960 960 960\">\n",
              "    <path d=\"M120-120v-720h720v720H120Zm60-500h600v-160H180v160Zm220 220h160v-160H400v160Zm0 220h160v-160H400v160ZM180-400h160v-160H180v160Zm440 0h160v-160H620v160ZM180-180h160v-160H180v160Zm440 0h160v-160H620v160Z\"/>\n",
              "  </svg>\n",
              "    </button>\n",
              "\n",
              "  <style>\n",
              "    .colab-df-container {\n",
              "      display:flex;\n",
              "      gap: 12px;\n",
              "    }\n",
              "\n",
              "    .colab-df-convert {\n",
              "      background-color: #E8F0FE;\n",
              "      border: none;\n",
              "      border-radius: 50%;\n",
              "      cursor: pointer;\n",
              "      display: none;\n",
              "      fill: #1967D2;\n",
              "      height: 32px;\n",
              "      padding: 0 0 0 0;\n",
              "      width: 32px;\n",
              "    }\n",
              "\n",
              "    .colab-df-convert:hover {\n",
              "      background-color: #E2EBFA;\n",
              "      box-shadow: 0px 1px 2px rgba(60, 64, 67, 0.3), 0px 1px 3px 1px rgba(60, 64, 67, 0.15);\n",
              "      fill: #174EA6;\n",
              "    }\n",
              "\n",
              "    .colab-df-buttons div {\n",
              "      margin-bottom: 4px;\n",
              "    }\n",
              "\n",
              "    [theme=dark] .colab-df-convert {\n",
              "      background-color: #3B4455;\n",
              "      fill: #D2E3FC;\n",
              "    }\n",
              "\n",
              "    [theme=dark] .colab-df-convert:hover {\n",
              "      background-color: #434B5C;\n",
              "      box-shadow: 0px 1px 3px 1px rgba(0, 0, 0, 0.15);\n",
              "      filter: drop-shadow(0px 1px 2px rgba(0, 0, 0, 0.3));\n",
              "      fill: #FFFFFF;\n",
              "    }\n",
              "  </style>\n",
              "\n",
              "    <script>\n",
              "      const buttonEl =\n",
              "        document.querySelector('#df-a69cc2ba-17d4-4472-8e7e-078fbc493449 button.colab-df-convert');\n",
              "      buttonEl.style.display =\n",
              "        google.colab.kernel.accessAllowed ? 'block' : 'none';\n",
              "\n",
              "      async function convertToInteractive(key) {\n",
              "        const element = document.querySelector('#df-a69cc2ba-17d4-4472-8e7e-078fbc493449');\n",
              "        const dataTable =\n",
              "          await google.colab.kernel.invokeFunction('convertToInteractive',\n",
              "                                                    [key], {});\n",
              "        if (!dataTable) return;\n",
              "\n",
              "        const docLinkHtml = 'Like what you see? Visit the ' +\n",
              "          '<a target=\"_blank\" href=https://colab.research.google.com/notebooks/data_table.ipynb>data table notebook</a>'\n",
              "          + ' to learn more about interactive tables.';\n",
              "        element.innerHTML = '';\n",
              "        dataTable['output_type'] = 'display_data';\n",
              "        await google.colab.output.renderOutput(dataTable, element);\n",
              "        const docLink = document.createElement('div');\n",
              "        docLink.innerHTML = docLinkHtml;\n",
              "        element.appendChild(docLink);\n",
              "      }\n",
              "    </script>\n",
              "  </div>\n",
              "\n",
              "\n",
              "<div id=\"df-68cf9bfb-b3e1-42fe-9993-1cb2856a355f\">\n",
              "  <button class=\"colab-df-quickchart\" onclick=\"quickchart('df-68cf9bfb-b3e1-42fe-9993-1cb2856a355f')\"\n",
              "            title=\"Suggest charts\"\n",
              "            style=\"display:none;\">\n",
              "\n",
              "<svg xmlns=\"http://www.w3.org/2000/svg\" height=\"24px\"viewBox=\"0 0 24 24\"\n",
              "     width=\"24px\">\n",
              "    <g>\n",
              "        <path d=\"M19 3H5c-1.1 0-2 .9-2 2v14c0 1.1.9 2 2 2h14c1.1 0 2-.9 2-2V5c0-1.1-.9-2-2-2zM9 17H7v-7h2v7zm4 0h-2V7h2v10zm4 0h-2v-4h2v4z\"/>\n",
              "    </g>\n",
              "</svg>\n",
              "  </button>\n",
              "\n",
              "<style>\n",
              "  .colab-df-quickchart {\n",
              "      --bg-color: #E8F0FE;\n",
              "      --fill-color: #1967D2;\n",
              "      --hover-bg-color: #E2EBFA;\n",
              "      --hover-fill-color: #174EA6;\n",
              "      --disabled-fill-color: #AAA;\n",
              "      --disabled-bg-color: #DDD;\n",
              "  }\n",
              "\n",
              "  [theme=dark] .colab-df-quickchart {\n",
              "      --bg-color: #3B4455;\n",
              "      --fill-color: #D2E3FC;\n",
              "      --hover-bg-color: #434B5C;\n",
              "      --hover-fill-color: #FFFFFF;\n",
              "      --disabled-bg-color: #3B4455;\n",
              "      --disabled-fill-color: #666;\n",
              "  }\n",
              "\n",
              "  .colab-df-quickchart {\n",
              "    background-color: var(--bg-color);\n",
              "    border: none;\n",
              "    border-radius: 50%;\n",
              "    cursor: pointer;\n",
              "    display: none;\n",
              "    fill: var(--fill-color);\n",
              "    height: 32px;\n",
              "    padding: 0;\n",
              "    width: 32px;\n",
              "  }\n",
              "\n",
              "  .colab-df-quickchart:hover {\n",
              "    background-color: var(--hover-bg-color);\n",
              "    box-shadow: 0 1px 2px rgba(60, 64, 67, 0.3), 0 1px 3px 1px rgba(60, 64, 67, 0.15);\n",
              "    fill: var(--button-hover-fill-color);\n",
              "  }\n",
              "\n",
              "  .colab-df-quickchart-complete:disabled,\n",
              "  .colab-df-quickchart-complete:disabled:hover {\n",
              "    background-color: var(--disabled-bg-color);\n",
              "    fill: var(--disabled-fill-color);\n",
              "    box-shadow: none;\n",
              "  }\n",
              "\n",
              "  .colab-df-spinner {\n",
              "    border: 2px solid var(--fill-color);\n",
              "    border-color: transparent;\n",
              "    border-bottom-color: var(--fill-color);\n",
              "    animation:\n",
              "      spin 1s steps(1) infinite;\n",
              "  }\n",
              "\n",
              "  @keyframes spin {\n",
              "    0% {\n",
              "      border-color: transparent;\n",
              "      border-bottom-color: var(--fill-color);\n",
              "      border-left-color: var(--fill-color);\n",
              "    }\n",
              "    20% {\n",
              "      border-color: transparent;\n",
              "      border-left-color: var(--fill-color);\n",
              "      border-top-color: var(--fill-color);\n",
              "    }\n",
              "    30% {\n",
              "      border-color: transparent;\n",
              "      border-left-color: var(--fill-color);\n",
              "      border-top-color: var(--fill-color);\n",
              "      border-right-color: var(--fill-color);\n",
              "    }\n",
              "    40% {\n",
              "      border-color: transparent;\n",
              "      border-right-color: var(--fill-color);\n",
              "      border-top-color: var(--fill-color);\n",
              "    }\n",
              "    60% {\n",
              "      border-color: transparent;\n",
              "      border-right-color: var(--fill-color);\n",
              "    }\n",
              "    80% {\n",
              "      border-color: transparent;\n",
              "      border-right-color: var(--fill-color);\n",
              "      border-bottom-color: var(--fill-color);\n",
              "    }\n",
              "    90% {\n",
              "      border-color: transparent;\n",
              "      border-bottom-color: var(--fill-color);\n",
              "    }\n",
              "  }\n",
              "</style>\n",
              "\n",
              "  <script>\n",
              "    async function quickchart(key) {\n",
              "      const quickchartButtonEl =\n",
              "        document.querySelector('#' + key + ' button');\n",
              "      quickchartButtonEl.disabled = true;  // To prevent multiple clicks.\n",
              "      quickchartButtonEl.classList.add('colab-df-spinner');\n",
              "      try {\n",
              "        const charts = await google.colab.kernel.invokeFunction(\n",
              "            'suggestCharts', [key], {});\n",
              "      } catch (error) {\n",
              "        console.error('Error during call to suggestCharts:', error);\n",
              "      }\n",
              "      quickchartButtonEl.classList.remove('colab-df-spinner');\n",
              "      quickchartButtonEl.classList.add('colab-df-quickchart-complete');\n",
              "    }\n",
              "    (() => {\n",
              "      let quickchartButtonEl =\n",
              "        document.querySelector('#df-68cf9bfb-b3e1-42fe-9993-1cb2856a355f button');\n",
              "      quickchartButtonEl.style.display =\n",
              "        google.colab.kernel.accessAllowed ? 'block' : 'none';\n",
              "    })();\n",
              "  </script>\n",
              "</div>\n",
              "    </div>\n",
              "  </div>\n"
            ],
            "application/vnd.google.colaboratory.intrinsic+json": {
              "type": "dataframe",
              "summary": "{\n  \"name\": \"df_base\",\n  \"rows\": 8,\n  \"fields\": [\n    {\n      \"column\": \"case_id\",\n      \"properties\": {\n        \"dtype\": \"number\",\n        \"std\": 803423.7514462885,\n        \"min\": 0.0,\n        \"max\": 2703454.0,\n        \"num_unique_values\": 8,\n        \"samples\": [\n          1286076.571738679,\n          1357358.0,\n          1526659.0\n        ],\n        \"semantic_type\": \"\",\n        \"description\": \"\"\n      }\n    },\n    {\n      \"column\": \"MONTH\",\n      \"properties\": {\n        \"dtype\": \"number\",\n        \"std\": 483741.9143946933,\n        \"min\": 44.735974503483696,\n        \"max\": 1526659.0,\n        \"num_unique_values\": 8,\n        \"samples\": [\n          201936.28798245057,\n          201910.0,\n          1526659.0\n        ],\n        \"semantic_type\": \"\",\n        \"description\": \"\"\n      }\n    },\n    {\n      \"column\": \"WEEK_NUM\",\n      \"properties\": {\n        \"dtype\": \"number\",\n        \"std\": 539741.6491668079,\n        \"min\": 0.0,\n        \"max\": 1526659.0,\n        \"num_unique_values\": 8,\n        \"samples\": [\n          40.76903617638254,\n          40.0,\n          1526659.0\n        ],\n        \"semantic_type\": \"\",\n        \"description\": \"\"\n      }\n    },\n    {\n      \"column\": \"target\",\n      \"properties\": {\n        \"dtype\": \"number\",\n        \"std\": 539755.4048209972,\n        \"min\": 0.0,\n        \"max\": 1526659.0,\n        \"num_unique_values\": 5,\n        \"samples\": [\n          0.03143727577671242,\n          1.0,\n          0.1744963994279166\n        ],\n        \"semantic_type\": \"\",\n        \"description\": \"\"\n      }\n    }\n  ]\n}"
            }
          },
          "metadata": {},
          "execution_count": 14
        }
      ],
      "source": [
        "df_base.describe()"
      ]
    },
    {
      "cell_type": "markdown",
      "metadata": {
        "id": "4UxKB6Q8sltB"
      },
      "source": [
        "# Traditional Credit Risk Model :\n",
        "\n",
        "the expected loss is calculated as follows:\n",
        "\n",
        "\n",
        "**EL = PD × LGD × EAD = PD × (1 − RR) × EAD,**\n",
        "\n",
        "\n",
        "here :\n",
        "PD = probability of default\n",
        "LGD = loss given default\n",
        "EAD = exposure at default\n",
        "RR = recovery rate (RR = 1 − LGD).\n",
        "Expected loss is covered by revenues (interest rate, fees) and by loan loss provisions (based on the level of expected impairment).\n",
        "The expected loss corresponds to the mean value of the credit loss distribution. Hence, it is only an average value which can be easily exceeded. Therefore, we define the unexpected loss as difference between a high quantile (i.e. 99 %) and the expected loss. Banks should hold enough capital in order to fully cover the unexpected loss.\n",
        "When modelling credit risk losses, several important issues should be taken into account:\n",
        "• Defaults are relatively rare events compared to market losses. The lack of available data is an issue for both calibrating the models as well as backtesting.\n",
        "• Correlations between failures have a significant impact on the final result. They should not be underestimated.\n",
        "• Wrong way exposure (growing utilization of credit cards in case of an increase in PD) should be taken into account.\n"
      ]
    },
    {
      "cell_type": "markdown",
      "metadata": {
        "id": "XHKFySzQtMWV"
      },
      "source": [
        "# Reference for attribute defination\n",
        "\n",
        "https://www.mdpi.com/2073-8994/13/1/83\n",
        "\n"
      ]
    },
    {
      "cell_type": "markdown",
      "metadata": {
        "id": "7Q-IUV-8XMe-"
      },
      "source": [
        "# **static_0**\n",
        "\n",
        "## **Bussiness analysis**\n",
        "\n",
        "### **DPD Related Attributes**\n",
        "These are critical as they directly relate to past payment behaviors, which are strong indicators of future default risks.\n",
        "\n",
        "   - **1. actualdpdtolerance_344P**\n",
        "   - **11. avgdbddpdlast24m_3658932P**\n",
        "   - **12. avgdbddpdlast3m_4187120P**\n",
        "   - **13. avgdbdtollast24m_4525197P**\n",
        "   - **14. avgdpdtolclosure24_3658938P**\n",
        "   - **17. avgmaxdpdlast9m_3716943P**\n",
        "   - **91. maxdbddpdlast1m_3658939P**\n",
        "   - **92. maxdbddpdtollast12m_3658940P**\n",
        "   - **93. maxdbddpdtollast6m_4187119P**\n",
        "   - **98. maxdpdlast12m_727P**\n",
        "   - **99. maxdpdlast24m_143P**\n",
        "   - **100. maxdpdlast3m_392P**\n",
        "   - **101. maxdpdlast6m_474P**\n",
        "   - **102. maxdpdlast9m_1059P**\n",
        "   - **103. maxdpdtolerance_374P**\n",
        "\n",
        "### **Payment Behavior and Instalment Patterns**\n",
        "Attributes indicating regularity and timing of payments, which are significant for assessing financial discipline and stability.\n",
        "   - **15. avginstallast24m_3658937A**\n",
        "   - **19. avgpmtlast12m_4525200A**\n",
        "   - **38. cntincpaycont9m_3716944L**\n",
        "   - **39. cntpmts24_3658933L**\n",
        "   - **117. numinstlallpaidearly3d_817L**\n",
        "   - **120. numinstlswithdpd10_728L**\n",
        "   - **121. numinstlswithdpd5_4187116L**\n",
        "   - **122. numinstlswithoutdpd_562L**\n",
        "   - **130. numinstpaidearly_338L**\n",
        "   - **133. numinstpaidlate1d_3546852L**\n",
        "   - **147. pctinstlsallpaidearl3d_427L**\n",
        "   - **148. pctinstlsallpaidlat10d_839L**\n",
        "   - **149. pctinstlsallpaidlate1d_3546856L**\n",
        "\n",
        "### **Credit Utilization and Outstanding Balances**\n",
        "Indicators of current financial obligations and credit utilization, reflecting on the borrower's debt burden.\n",
        "   - **18. avgoutstandbalancel6m_4187114A**\n",
        "   - **43. currdebt_22A**\n",
        "   - **106. maxoutstandbalancel12m_4187113A**\n",
        "   - **160. sumoutstandtotal_3546847A**\n",
        "   - **162. totaldebt_9A**\n",
        "\n",
        "### **Loan Application and Credit History**\n",
        "Attributes related to the frequency of loan applications, which could indicate financial distress or credit shopping behavior.\n",
        "   - **5. applicationcnt_361L**\n",
        "   - **6. applications30d_658L**\n",
        "   - **7. applicationscnt_1086L**\n",
        "   - **142. numrejects9m_859L**\n",
        "\n",
        "### **Income and Employment Stability**\n",
        "Factors contributing to the borrower's ability to maintain consistent income, which is crucial for meeting loan obligations.\n",
        "   - **22. clientscnt12m_3712952L**\n",
        "   - **23. clientscnt3m_3712950L**\n",
        "   - **24. clientscnt6m_3712949L**\n",
        "   - **40. commnoinclast6m_3546845L**\n",
        "   - **56. equalityempfrom_62L**\n",
        "   - **86. maininc_215A**\n"
      ]
    },
    {
      "cell_type": "code",
      "execution_count": null,
      "metadata": {
        "colab": {
          "base_uri": "https://localhost:8080/"
        },
        "id": "yGnNzwX5XYLa",
        "outputId": "d12c4d3d-a202-4bf7-82db-1424bba7735f"
      },
      "outputs": [
        {
          "output_type": "stream",
          "name": "stderr",
          "text": [
            "<ipython-input-7-f8399a26fe76>:16: DtypeWarning: Columns (45,53,57,84,143,146,167) have mixed types. Specify dtype option on import or set low_memory=False.\n",
            "  for chunk in pd.read_csv(file_path, chunksize=chunk_size):\n",
            "<ipython-input-7-f8399a26fe76>:16: DtypeWarning: Columns (53) have mixed types. Specify dtype option on import or set low_memory=False.\n",
            "  for chunk in pd.read_csv(file_path, chunksize=chunk_size):\n",
            "<ipython-input-7-f8399a26fe76>:16: DtypeWarning: Columns (45,46,53,57,84,143,146,167) have mixed types. Specify dtype option on import or set low_memory=False.\n",
            "  for chunk in pd.read_csv(file_path, chunksize=chunk_size):\n",
            "<ipython-input-7-f8399a26fe76>:16: DtypeWarning: Columns (20,45,57,84) have mixed types. Specify dtype option on import or set low_memory=False.\n",
            "  for chunk in pd.read_csv(file_path, chunksize=chunk_size):\n",
            "<ipython-input-7-f8399a26fe76>:16: DtypeWarning: Columns (45,57,84) have mixed types. Specify dtype option on import or set low_memory=False.\n",
            "  for chunk in pd.read_csv(file_path, chunksize=chunk_size):\n",
            "<ipython-input-7-f8399a26fe76>:16: DtypeWarning: Columns (45,53,84,146) have mixed types. Specify dtype option on import or set low_memory=False.\n",
            "  for chunk in pd.read_csv(file_path, chunksize=chunk_size):\n",
            "<ipython-input-7-f8399a26fe76>:16: DtypeWarning: Columns (45,57,84,146) have mixed types. Specify dtype option on import or set low_memory=False.\n",
            "  for chunk in pd.read_csv(file_path, chunksize=chunk_size):\n",
            "<ipython-input-7-f8399a26fe76>:16: DtypeWarning: Columns (45,84,146) have mixed types. Specify dtype option on import or set low_memory=False.\n",
            "  for chunk in pd.read_csv(file_path, chunksize=chunk_size):\n",
            "<ipython-input-7-f8399a26fe76>:16: DtypeWarning: Columns (20,45,53,57,84,143) have mixed types. Specify dtype option on import or set low_memory=False.\n",
            "  for chunk in pd.read_csv(file_path, chunksize=chunk_size):\n",
            "<ipython-input-7-f8399a26fe76>:16: DtypeWarning: Columns (20,46,56,146) have mixed types. Specify dtype option on import or set low_memory=False.\n",
            "  for chunk in pd.read_csv(file_path, chunksize=chunk_size):\n",
            "<ipython-input-7-f8399a26fe76>:16: DtypeWarning: Columns (146) have mixed types. Specify dtype option on import or set low_memory=False.\n",
            "  for chunk in pd.read_csv(file_path, chunksize=chunk_size):\n",
            "<ipython-input-7-f8399a26fe76>:16: DtypeWarning: Columns (146) have mixed types. Specify dtype option on import or set low_memory=False.\n",
            "  for chunk in pd.read_csv(file_path, chunksize=chunk_size):\n",
            "<ipython-input-7-f8399a26fe76>:16: DtypeWarning: Columns (53) have mixed types. Specify dtype option on import or set low_memory=False.\n",
            "  for chunk in pd.read_csv(file_path, chunksize=chunk_size):\n",
            "<ipython-input-7-f8399a26fe76>:16: DtypeWarning: Columns (20,46,53,146,167) have mixed types. Specify dtype option on import or set low_memory=False.\n",
            "  for chunk in pd.read_csv(file_path, chunksize=chunk_size):\n",
            "<ipython-input-7-f8399a26fe76>:16: DtypeWarning: Columns (53) have mixed types. Specify dtype option on import or set low_memory=False.\n",
            "  for chunk in pd.read_csv(file_path, chunksize=chunk_size):\n"
          ]
        }
      ],
      "source": [
        "df_static_0_0 = load_and_process_csv('/content/home-credit-data/csv_files/train/train_static_0_0.csv')"
      ]
    },
    {
      "cell_type": "code",
      "execution_count": null,
      "metadata": {
        "colab": {
          "base_uri": "https://localhost:8080/"
        },
        "id": "Q7JltFTmHSh0",
        "outputId": "e5d85f05-4285-484e-beee-8927becd8757"
      },
      "outputs": [
        {
          "output_type": "stream",
          "name": "stdout",
          "text": [
            "<class 'pandas.core.frame.DataFrame'>\n",
            "RangeIndex: 1003757 entries, 0 to 1003756\n",
            "Columns: 168 entries, case_id to validfrom_1069D\n",
            "dtypes: bool(1), float64(128), int64(1), object(38)\n",
            "memory usage: 1.2+ GB\n"
          ]
        }
      ],
      "source": [
        "df_static_0_0.info()"
      ]
    },
    {
      "cell_type": "code",
      "execution_count": null,
      "metadata": {
        "colab": {
          "base_uri": "https://localhost:8080/"
        },
        "id": "jBZ3jZPaHWFS",
        "outputId": "b5937700-d355-4bc7-a08c-e087b6b20dbc"
      },
      "outputs": [
        {
          "output_type": "execute_result",
          "data": {
            "text/plain": [
              "            case_id  actualdpdtolerance_344P  amtinstpaidbefduel24m_4187115A  \\\n",
              "count  1.003757e+06            707071.000000                   574903.000000   \n",
              "mean   1.216924e+06                 0.054391                    50692.545111   \n",
              "std    6.964624e+05                 8.743984                    65457.938573   \n",
              "min    0.000000e+00                 0.000000                        0.000000   \n",
              "25%    7.259870e+05                 0.000000                     6452.900150   \n",
              "50%    1.311700e+06                 0.000000                    26937.000000   \n",
              "75%    1.562639e+06                 0.000000                    68960.840000   \n",
              "max    2.651092e+06              3676.000000                   992476.500000   \n",
              "\n",
              "       annuity_780A  annuitynextmonth_57A  applicationcnt_361L  \\\n",
              "count  1.003757e+06          1.003755e+06         1.003757e+06   \n",
              "mean   3.875598e+03          1.348499e+03         2.689894e-05   \n",
              "std    2.920237e+03          2.687341e+03         9.309873e-03   \n",
              "min    8.300000e+01          0.000000e+00         0.000000e+00   \n",
              "25%    1.895800e+03          0.000000e+00         0.000000e+00   \n",
              "50%    3.000000e+03          0.000000e+00         0.000000e+00   \n",
              "75%    4.989800e+03          1.866600e+03         0.000000e+00   \n",
              "max    1.060070e+05          8.562080e+04         5.000000e+00   \n",
              "\n",
              "       applications30d_658L  applicationscnt_1086L  applicationscnt_464L  \\\n",
              "count          1.003757e+06           1.003757e+06          1.003757e+06   \n",
              "mean           1.261839e-01           4.200011e-01          1.238874e+00   \n",
              "std            4.458153e-01           2.683453e+00          1.031643e+01   \n",
              "min            0.000000e+00           0.000000e+00          0.000000e+00   \n",
              "25%            0.000000e+00           0.000000e+00          0.000000e+00   \n",
              "50%            0.000000e+00           0.000000e+00          0.000000e+00   \n",
              "75%            0.000000e+00           0.000000e+00          0.000000e+00   \n",
              "max            2.500000e+01           4.430000e+02          2.470000e+02   \n",
              "\n",
              "       applicationscnt_629L  ...  posfpd30lastmonth_3976960P  \\\n",
              "count          1.003757e+06  ...               939963.000000   \n",
              "mean           3.163963e-01  ...                    0.007732   \n",
              "std            2.648092e+00  ...                    0.087592   \n",
              "min            0.000000e+00  ...                    0.000000   \n",
              "25%            0.000000e+00  ...                    0.000000   \n",
              "50%            0.000000e+00  ...                    0.000000   \n",
              "75%            0.000000e+00  ...                    0.000000   \n",
              "max            7.700000e+01  ...                    1.000000   \n",
              "\n",
              "       posfstqpd30lastmonth_3976962P    price_1097A  sellerplacecnt_915L  \\\n",
              "count                  911303.000000  869385.000000         1.003757e+06   \n",
              "mean                        0.028932   33339.941490         1.537563e-01   \n",
              "std                         0.167616   33206.102117         4.337781e-01   \n",
              "min                         0.000000       0.000000         0.000000e+00   \n",
              "25%                         0.000000   13400.000000         0.000000e+00   \n",
              "50%                         0.000000   24478.000000         0.000000e+00   \n",
              "75%                         0.000000   43956.000000         0.000000e+00   \n",
              "max                         1.000000  761867.440000         8.000000e+00   \n",
              "\n",
              "       sellerplacescnt_216L  sumoutstandtotal_3546847A  \\\n",
              "count          1.003757e+06               6.879380e+05   \n",
              "mean           1.449694e+00               2.646509e+04   \n",
              "std            1.859990e+00               5.571921e+04   \n",
              "min            0.000000e+00              -2.405000e+03   \n",
              "25%            0.000000e+00               0.000000e+00   \n",
              "50%            1.000000e+00               0.000000e+00   \n",
              "75%            2.000000e+00               2.718295e+04   \n",
              "max            3.300000e+01               1.210629e+06   \n",
              "\n",
              "       sumoutstandtotalest_4493215A  totaldebt_9A  totalsettled_863A  \\\n",
              "count                  2.953810e+05  1.003755e+06       1.003755e+06   \n",
              "mean                   2.606057e+04  1.818406e+04       7.927638e+04   \n",
              "std                    5.703931e+04  4.779889e+04       1.256841e+05   \n",
              "min                   -2.405000e+03  0.000000e+00       0.000000e+00   \n",
              "25%                    0.000000e+00  0.000000e+00       0.000000e+00   \n",
              "50%                    0.000000e+00  0.000000e+00       2.978000e+04   \n",
              "75%                    2.570092e+04  1.196770e+04       1.018738e+05   \n",
              "max                    1.085048e+06  1.210629e+06       7.988198e+06   \n",
              "\n",
              "       totinstallast1m_4525188A  \n",
              "count             138692.000000  \n",
              "mean               10576.192565  \n",
              "std                16354.417830  \n",
              "min                    0.222000  \n",
              "25%                 3142.400100  \n",
              "50%                 6008.500000  \n",
              "75%                11627.300250  \n",
              "max               794899.200000  \n",
              "\n",
              "[8 rows x 129 columns]"
            ],
            "text/html": [
              "\n",
              "  <div id=\"df-7fc16852-af47-46aa-aaed-957415cf0aea\" class=\"colab-df-container\">\n",
              "    <div>\n",
              "<style scoped>\n",
              "    .dataframe tbody tr th:only-of-type {\n",
              "        vertical-align: middle;\n",
              "    }\n",
              "\n",
              "    .dataframe tbody tr th {\n",
              "        vertical-align: top;\n",
              "    }\n",
              "\n",
              "    .dataframe thead th {\n",
              "        text-align: right;\n",
              "    }\n",
              "</style>\n",
              "<table border=\"1\" class=\"dataframe\">\n",
              "  <thead>\n",
              "    <tr style=\"text-align: right;\">\n",
              "      <th></th>\n",
              "      <th>case_id</th>\n",
              "      <th>actualdpdtolerance_344P</th>\n",
              "      <th>amtinstpaidbefduel24m_4187115A</th>\n",
              "      <th>annuity_780A</th>\n",
              "      <th>annuitynextmonth_57A</th>\n",
              "      <th>applicationcnt_361L</th>\n",
              "      <th>applications30d_658L</th>\n",
              "      <th>applicationscnt_1086L</th>\n",
              "      <th>applicationscnt_464L</th>\n",
              "      <th>applicationscnt_629L</th>\n",
              "      <th>...</th>\n",
              "      <th>posfpd30lastmonth_3976960P</th>\n",
              "      <th>posfstqpd30lastmonth_3976962P</th>\n",
              "      <th>price_1097A</th>\n",
              "      <th>sellerplacecnt_915L</th>\n",
              "      <th>sellerplacescnt_216L</th>\n",
              "      <th>sumoutstandtotal_3546847A</th>\n",
              "      <th>sumoutstandtotalest_4493215A</th>\n",
              "      <th>totaldebt_9A</th>\n",
              "      <th>totalsettled_863A</th>\n",
              "      <th>totinstallast1m_4525188A</th>\n",
              "    </tr>\n",
              "  </thead>\n",
              "  <tbody>\n",
              "    <tr>\n",
              "      <th>count</th>\n",
              "      <td>1.003757e+06</td>\n",
              "      <td>707071.000000</td>\n",
              "      <td>574903.000000</td>\n",
              "      <td>1.003757e+06</td>\n",
              "      <td>1.003755e+06</td>\n",
              "      <td>1.003757e+06</td>\n",
              "      <td>1.003757e+06</td>\n",
              "      <td>1.003757e+06</td>\n",
              "      <td>1.003757e+06</td>\n",
              "      <td>1.003757e+06</td>\n",
              "      <td>...</td>\n",
              "      <td>939963.000000</td>\n",
              "      <td>911303.000000</td>\n",
              "      <td>869385.000000</td>\n",
              "      <td>1.003757e+06</td>\n",
              "      <td>1.003757e+06</td>\n",
              "      <td>6.879380e+05</td>\n",
              "      <td>2.953810e+05</td>\n",
              "      <td>1.003755e+06</td>\n",
              "      <td>1.003755e+06</td>\n",
              "      <td>138692.000000</td>\n",
              "    </tr>\n",
              "    <tr>\n",
              "      <th>mean</th>\n",
              "      <td>1.216924e+06</td>\n",
              "      <td>0.054391</td>\n",
              "      <td>50692.545111</td>\n",
              "      <td>3.875598e+03</td>\n",
              "      <td>1.348499e+03</td>\n",
              "      <td>2.689894e-05</td>\n",
              "      <td>1.261839e-01</td>\n",
              "      <td>4.200011e-01</td>\n",
              "      <td>1.238874e+00</td>\n",
              "      <td>3.163963e-01</td>\n",
              "      <td>...</td>\n",
              "      <td>0.007732</td>\n",
              "      <td>0.028932</td>\n",
              "      <td>33339.941490</td>\n",
              "      <td>1.537563e-01</td>\n",
              "      <td>1.449694e+00</td>\n",
              "      <td>2.646509e+04</td>\n",
              "      <td>2.606057e+04</td>\n",
              "      <td>1.818406e+04</td>\n",
              "      <td>7.927638e+04</td>\n",
              "      <td>10576.192565</td>\n",
              "    </tr>\n",
              "    <tr>\n",
              "      <th>std</th>\n",
              "      <td>6.964624e+05</td>\n",
              "      <td>8.743984</td>\n",
              "      <td>65457.938573</td>\n",
              "      <td>2.920237e+03</td>\n",
              "      <td>2.687341e+03</td>\n",
              "      <td>9.309873e-03</td>\n",
              "      <td>4.458153e-01</td>\n",
              "      <td>2.683453e+00</td>\n",
              "      <td>1.031643e+01</td>\n",
              "      <td>2.648092e+00</td>\n",
              "      <td>...</td>\n",
              "      <td>0.087592</td>\n",
              "      <td>0.167616</td>\n",
              "      <td>33206.102117</td>\n",
              "      <td>4.337781e-01</td>\n",
              "      <td>1.859990e+00</td>\n",
              "      <td>5.571921e+04</td>\n",
              "      <td>5.703931e+04</td>\n",
              "      <td>4.779889e+04</td>\n",
              "      <td>1.256841e+05</td>\n",
              "      <td>16354.417830</td>\n",
              "    </tr>\n",
              "    <tr>\n",
              "      <th>min</th>\n",
              "      <td>0.000000e+00</td>\n",
              "      <td>0.000000</td>\n",
              "      <td>0.000000</td>\n",
              "      <td>8.300000e+01</td>\n",
              "      <td>0.000000e+00</td>\n",
              "      <td>0.000000e+00</td>\n",
              "      <td>0.000000e+00</td>\n",
              "      <td>0.000000e+00</td>\n",
              "      <td>0.000000e+00</td>\n",
              "      <td>0.000000e+00</td>\n",
              "      <td>...</td>\n",
              "      <td>0.000000</td>\n",
              "      <td>0.000000</td>\n",
              "      <td>0.000000</td>\n",
              "      <td>0.000000e+00</td>\n",
              "      <td>0.000000e+00</td>\n",
              "      <td>-2.405000e+03</td>\n",
              "      <td>-2.405000e+03</td>\n",
              "      <td>0.000000e+00</td>\n",
              "      <td>0.000000e+00</td>\n",
              "      <td>0.222000</td>\n",
              "    </tr>\n",
              "    <tr>\n",
              "      <th>25%</th>\n",
              "      <td>7.259870e+05</td>\n",
              "      <td>0.000000</td>\n",
              "      <td>6452.900150</td>\n",
              "      <td>1.895800e+03</td>\n",
              "      <td>0.000000e+00</td>\n",
              "      <td>0.000000e+00</td>\n",
              "      <td>0.000000e+00</td>\n",
              "      <td>0.000000e+00</td>\n",
              "      <td>0.000000e+00</td>\n",
              "      <td>0.000000e+00</td>\n",
              "      <td>...</td>\n",
              "      <td>0.000000</td>\n",
              "      <td>0.000000</td>\n",
              "      <td>13400.000000</td>\n",
              "      <td>0.000000e+00</td>\n",
              "      <td>0.000000e+00</td>\n",
              "      <td>0.000000e+00</td>\n",
              "      <td>0.000000e+00</td>\n",
              "      <td>0.000000e+00</td>\n",
              "      <td>0.000000e+00</td>\n",
              "      <td>3142.400100</td>\n",
              "    </tr>\n",
              "    <tr>\n",
              "      <th>50%</th>\n",
              "      <td>1.311700e+06</td>\n",
              "      <td>0.000000</td>\n",
              "      <td>26937.000000</td>\n",
              "      <td>3.000000e+03</td>\n",
              "      <td>0.000000e+00</td>\n",
              "      <td>0.000000e+00</td>\n",
              "      <td>0.000000e+00</td>\n",
              "      <td>0.000000e+00</td>\n",
              "      <td>0.000000e+00</td>\n",
              "      <td>0.000000e+00</td>\n",
              "      <td>...</td>\n",
              "      <td>0.000000</td>\n",
              "      <td>0.000000</td>\n",
              "      <td>24478.000000</td>\n",
              "      <td>0.000000e+00</td>\n",
              "      <td>1.000000e+00</td>\n",
              "      <td>0.000000e+00</td>\n",
              "      <td>0.000000e+00</td>\n",
              "      <td>0.000000e+00</td>\n",
              "      <td>2.978000e+04</td>\n",
              "      <td>6008.500000</td>\n",
              "    </tr>\n",
              "    <tr>\n",
              "      <th>75%</th>\n",
              "      <td>1.562639e+06</td>\n",
              "      <td>0.000000</td>\n",
              "      <td>68960.840000</td>\n",
              "      <td>4.989800e+03</td>\n",
              "      <td>1.866600e+03</td>\n",
              "      <td>0.000000e+00</td>\n",
              "      <td>0.000000e+00</td>\n",
              "      <td>0.000000e+00</td>\n",
              "      <td>0.000000e+00</td>\n",
              "      <td>0.000000e+00</td>\n",
              "      <td>...</td>\n",
              "      <td>0.000000</td>\n",
              "      <td>0.000000</td>\n",
              "      <td>43956.000000</td>\n",
              "      <td>0.000000e+00</td>\n",
              "      <td>2.000000e+00</td>\n",
              "      <td>2.718295e+04</td>\n",
              "      <td>2.570092e+04</td>\n",
              "      <td>1.196770e+04</td>\n",
              "      <td>1.018738e+05</td>\n",
              "      <td>11627.300250</td>\n",
              "    </tr>\n",
              "    <tr>\n",
              "      <th>max</th>\n",
              "      <td>2.651092e+06</td>\n",
              "      <td>3676.000000</td>\n",
              "      <td>992476.500000</td>\n",
              "      <td>1.060070e+05</td>\n",
              "      <td>8.562080e+04</td>\n",
              "      <td>5.000000e+00</td>\n",
              "      <td>2.500000e+01</td>\n",
              "      <td>4.430000e+02</td>\n",
              "      <td>2.470000e+02</td>\n",
              "      <td>7.700000e+01</td>\n",
              "      <td>...</td>\n",
              "      <td>1.000000</td>\n",
              "      <td>1.000000</td>\n",
              "      <td>761867.440000</td>\n",
              "      <td>8.000000e+00</td>\n",
              "      <td>3.300000e+01</td>\n",
              "      <td>1.210629e+06</td>\n",
              "      <td>1.085048e+06</td>\n",
              "      <td>1.210629e+06</td>\n",
              "      <td>7.988198e+06</td>\n",
              "      <td>794899.200000</td>\n",
              "    </tr>\n",
              "  </tbody>\n",
              "</table>\n",
              "<p>8 rows × 129 columns</p>\n",
              "</div>\n",
              "    <div class=\"colab-df-buttons\">\n",
              "\n",
              "  <div class=\"colab-df-container\">\n",
              "    <button class=\"colab-df-convert\" onclick=\"convertToInteractive('df-7fc16852-af47-46aa-aaed-957415cf0aea')\"\n",
              "            title=\"Convert this dataframe to an interactive table.\"\n",
              "            style=\"display:none;\">\n",
              "\n",
              "  <svg xmlns=\"http://www.w3.org/2000/svg\" height=\"24px\" viewBox=\"0 -960 960 960\">\n",
              "    <path d=\"M120-120v-720h720v720H120Zm60-500h600v-160H180v160Zm220 220h160v-160H400v160Zm0 220h160v-160H400v160ZM180-400h160v-160H180v160Zm440 0h160v-160H620v160ZM180-180h160v-160H180v160Zm440 0h160v-160H620v160Z\"/>\n",
              "  </svg>\n",
              "    </button>\n",
              "\n",
              "  <style>\n",
              "    .colab-df-container {\n",
              "      display:flex;\n",
              "      gap: 12px;\n",
              "    }\n",
              "\n",
              "    .colab-df-convert {\n",
              "      background-color: #E8F0FE;\n",
              "      border: none;\n",
              "      border-radius: 50%;\n",
              "      cursor: pointer;\n",
              "      display: none;\n",
              "      fill: #1967D2;\n",
              "      height: 32px;\n",
              "      padding: 0 0 0 0;\n",
              "      width: 32px;\n",
              "    }\n",
              "\n",
              "    .colab-df-convert:hover {\n",
              "      background-color: #E2EBFA;\n",
              "      box-shadow: 0px 1px 2px rgba(60, 64, 67, 0.3), 0px 1px 3px 1px rgba(60, 64, 67, 0.15);\n",
              "      fill: #174EA6;\n",
              "    }\n",
              "\n",
              "    .colab-df-buttons div {\n",
              "      margin-bottom: 4px;\n",
              "    }\n",
              "\n",
              "    [theme=dark] .colab-df-convert {\n",
              "      background-color: #3B4455;\n",
              "      fill: #D2E3FC;\n",
              "    }\n",
              "\n",
              "    [theme=dark] .colab-df-convert:hover {\n",
              "      background-color: #434B5C;\n",
              "      box-shadow: 0px 1px 3px 1px rgba(0, 0, 0, 0.15);\n",
              "      filter: drop-shadow(0px 1px 2px rgba(0, 0, 0, 0.3));\n",
              "      fill: #FFFFFF;\n",
              "    }\n",
              "  </style>\n",
              "\n",
              "    <script>\n",
              "      const buttonEl =\n",
              "        document.querySelector('#df-7fc16852-af47-46aa-aaed-957415cf0aea button.colab-df-convert');\n",
              "      buttonEl.style.display =\n",
              "        google.colab.kernel.accessAllowed ? 'block' : 'none';\n",
              "\n",
              "      async function convertToInteractive(key) {\n",
              "        const element = document.querySelector('#df-7fc16852-af47-46aa-aaed-957415cf0aea');\n",
              "        const dataTable =\n",
              "          await google.colab.kernel.invokeFunction('convertToInteractive',\n",
              "                                                    [key], {});\n",
              "        if (!dataTable) return;\n",
              "\n",
              "        const docLinkHtml = 'Like what you see? Visit the ' +\n",
              "          '<a target=\"_blank\" href=https://colab.research.google.com/notebooks/data_table.ipynb>data table notebook</a>'\n",
              "          + ' to learn more about interactive tables.';\n",
              "        element.innerHTML = '';\n",
              "        dataTable['output_type'] = 'display_data';\n",
              "        await google.colab.output.renderOutput(dataTable, element);\n",
              "        const docLink = document.createElement('div');\n",
              "        docLink.innerHTML = docLinkHtml;\n",
              "        element.appendChild(docLink);\n",
              "      }\n",
              "    </script>\n",
              "  </div>\n",
              "\n",
              "\n",
              "<div id=\"df-898e99d5-07eb-4efe-a646-9a17041647fe\">\n",
              "  <button class=\"colab-df-quickchart\" onclick=\"quickchart('df-898e99d5-07eb-4efe-a646-9a17041647fe')\"\n",
              "            title=\"Suggest charts\"\n",
              "            style=\"display:none;\">\n",
              "\n",
              "<svg xmlns=\"http://www.w3.org/2000/svg\" height=\"24px\"viewBox=\"0 0 24 24\"\n",
              "     width=\"24px\">\n",
              "    <g>\n",
              "        <path d=\"M19 3H5c-1.1 0-2 .9-2 2v14c0 1.1.9 2 2 2h14c1.1 0 2-.9 2-2V5c0-1.1-.9-2-2-2zM9 17H7v-7h2v7zm4 0h-2V7h2v10zm4 0h-2v-4h2v4z\"/>\n",
              "    </g>\n",
              "</svg>\n",
              "  </button>\n",
              "\n",
              "<style>\n",
              "  .colab-df-quickchart {\n",
              "      --bg-color: #E8F0FE;\n",
              "      --fill-color: #1967D2;\n",
              "      --hover-bg-color: #E2EBFA;\n",
              "      --hover-fill-color: #174EA6;\n",
              "      --disabled-fill-color: #AAA;\n",
              "      --disabled-bg-color: #DDD;\n",
              "  }\n",
              "\n",
              "  [theme=dark] .colab-df-quickchart {\n",
              "      --bg-color: #3B4455;\n",
              "      --fill-color: #D2E3FC;\n",
              "      --hover-bg-color: #434B5C;\n",
              "      --hover-fill-color: #FFFFFF;\n",
              "      --disabled-bg-color: #3B4455;\n",
              "      --disabled-fill-color: #666;\n",
              "  }\n",
              "\n",
              "  .colab-df-quickchart {\n",
              "    background-color: var(--bg-color);\n",
              "    border: none;\n",
              "    border-radius: 50%;\n",
              "    cursor: pointer;\n",
              "    display: none;\n",
              "    fill: var(--fill-color);\n",
              "    height: 32px;\n",
              "    padding: 0;\n",
              "    width: 32px;\n",
              "  }\n",
              "\n",
              "  .colab-df-quickchart:hover {\n",
              "    background-color: var(--hover-bg-color);\n",
              "    box-shadow: 0 1px 2px rgba(60, 64, 67, 0.3), 0 1px 3px 1px rgba(60, 64, 67, 0.15);\n",
              "    fill: var(--button-hover-fill-color);\n",
              "  }\n",
              "\n",
              "  .colab-df-quickchart-complete:disabled,\n",
              "  .colab-df-quickchart-complete:disabled:hover {\n",
              "    background-color: var(--disabled-bg-color);\n",
              "    fill: var(--disabled-fill-color);\n",
              "    box-shadow: none;\n",
              "  }\n",
              "\n",
              "  .colab-df-spinner {\n",
              "    border: 2px solid var(--fill-color);\n",
              "    border-color: transparent;\n",
              "    border-bottom-color: var(--fill-color);\n",
              "    animation:\n",
              "      spin 1s steps(1) infinite;\n",
              "  }\n",
              "\n",
              "  @keyframes spin {\n",
              "    0% {\n",
              "      border-color: transparent;\n",
              "      border-bottom-color: var(--fill-color);\n",
              "      border-left-color: var(--fill-color);\n",
              "    }\n",
              "    20% {\n",
              "      border-color: transparent;\n",
              "      border-left-color: var(--fill-color);\n",
              "      border-top-color: var(--fill-color);\n",
              "    }\n",
              "    30% {\n",
              "      border-color: transparent;\n",
              "      border-left-color: var(--fill-color);\n",
              "      border-top-color: var(--fill-color);\n",
              "      border-right-color: var(--fill-color);\n",
              "    }\n",
              "    40% {\n",
              "      border-color: transparent;\n",
              "      border-right-color: var(--fill-color);\n",
              "      border-top-color: var(--fill-color);\n",
              "    }\n",
              "    60% {\n",
              "      border-color: transparent;\n",
              "      border-right-color: var(--fill-color);\n",
              "    }\n",
              "    80% {\n",
              "      border-color: transparent;\n",
              "      border-right-color: var(--fill-color);\n",
              "      border-bottom-color: var(--fill-color);\n",
              "    }\n",
              "    90% {\n",
              "      border-color: transparent;\n",
              "      border-bottom-color: var(--fill-color);\n",
              "    }\n",
              "  }\n",
              "</style>\n",
              "\n",
              "  <script>\n",
              "    async function quickchart(key) {\n",
              "      const quickchartButtonEl =\n",
              "        document.querySelector('#' + key + ' button');\n",
              "      quickchartButtonEl.disabled = true;  // To prevent multiple clicks.\n",
              "      quickchartButtonEl.classList.add('colab-df-spinner');\n",
              "      try {\n",
              "        const charts = await google.colab.kernel.invokeFunction(\n",
              "            'suggestCharts', [key], {});\n",
              "      } catch (error) {\n",
              "        console.error('Error during call to suggestCharts:', error);\n",
              "      }\n",
              "      quickchartButtonEl.classList.remove('colab-df-spinner');\n",
              "      quickchartButtonEl.classList.add('colab-df-quickchart-complete');\n",
              "    }\n",
              "    (() => {\n",
              "      let quickchartButtonEl =\n",
              "        document.querySelector('#df-898e99d5-07eb-4efe-a646-9a17041647fe button');\n",
              "      quickchartButtonEl.style.display =\n",
              "        google.colab.kernel.accessAllowed ? 'block' : 'none';\n",
              "    })();\n",
              "  </script>\n",
              "</div>\n",
              "    </div>\n",
              "  </div>\n"
            ],
            "application/vnd.google.colaboratory.intrinsic+json": {
              "type": "dataframe"
            }
          },
          "metadata": {},
          "execution_count": 16
        }
      ],
      "source": [
        "df_static_0_0.describe()"
      ]
    },
    {
      "cell_type": "code",
      "execution_count": null,
      "metadata": {
        "id": "eE05OlQNJbeT"
      },
      "outputs": [],
      "source": [
        "des_iterator_static_0_0 = batch_descriptions(df_static_0_0,des_dict,5)"
      ]
    },
    {
      "cell_type": "markdown",
      "metadata": {
        "id": "-AQ6GpQmKNRd"
      },
      "source": [
        "\n",
        "\n",
        "## 0. case_id\n",
        "## 1. actualdpdtolerance_344P\n",
        "DPD of client with tolerance:\n",
        "Days past due, it affects the standard of load default, a higher tolerance will reduce the default rate. In this problem, a penalty coefficient can be imposed for default cases with high tolerance.\n",
        "\n",
        "## 2. amtinstpaidbefduel24m_4187115A\n",
        "Number of instalments paid before due date in the last 24 months:\n",
        " A positive credit factor.\n",
        "\n",
        "## 3. annuity_780A\n",
        "Monthly annuity amount:Monthly repayment amount, considering whether the repayment amount will exceed the borrower's ability to pay\n",
        "\n",
        "## 4. annuitynextmonth_57A\n",
        "\n",
        "Next month's amount of annuity:The expected repayment amount due next month and the fixed interest rate should be the same as this month. But in some cases it will be different.Consider omitting this attribute or adding it to the calculation of the repayment amount."
      ]
    },
    {
      "cell_type": "markdown",
      "metadata": {
        "id": "d91_IClVR51M"
      },
      "source": [
        "\n",
        "## 5. applicationcnt_361L\n",
        "Number of applications associated with the same email address as the client.The number of loan applications from users, taking into account fraud risk and credit risk.\n",
        "\n",
        "## 6. applications30d_658L\n",
        "Number of applications made by the client in the last 30 days.\n",
        "\n",
        "## 7. applicationscnt_1086L\n",
        "Number of applications associated with the same phone number.\n",
        "\n",
        "## 8. applicationscnt_464L\n",
        "Number of applications made in the last 30 days by other clients with the same employer as the applicant.\n",
        "\n",
        "## 9. applicationscnt_629L\n",
        "Number of applications with the same employer in the last 7 days.\n",
        "\n",
        "## 10. applicationscnt_867L\n",
        "Number of applications associated with the same mobile phone\n",
        "\n",
        "Note : jointly calculate a risk factor"
      ]
    },
    {
      "cell_type": "markdown",
      "metadata": {
        "id": "Qgaa5eA0Wx2R"
      },
      "source": [
        "\n",
        "## 11. avgdbddpdlast24m_3658932P\n",
        "Average days past or before due of payment during the last 24 months. Early Payments are negative values.\n",
        "\n",
        "## 12. avgdbddpdlast3m_4187120P\n",
        "\n",
        "Average days past or before due of payment during the last 3 months.\n",
        "\n",
        "## 13. avgdbdtollast24m_4525197P\n",
        "\n",
        "Average days of payment before due date within the last 24 months (with tolerance).\n",
        "\n",
        "## 14. avgdpdtolclosure24_3658938P\n",
        "\n",
        "Average DPD (days past due) with tolerance within the past 24 months from the maximum closure date, assuming that the contract is finished. If the contract is ongoing, the calculation is based on the current date.\n",
        "\n",
        "Note: Joint computing to reduce dimensionality. Pay attention to what time changes may reveal"
      ]
    },
    {
      "cell_type": "markdown",
      "metadata": {
        "id": "RTN96Tl0Y2_E"
      },
      "source": [
        "\n",
        "\n",
        "## 15. avginstallast24m_3658937A\n",
        "Average instalments paid by the client over the past 24 months.The higher average monthly repayment amount may represent the customer's income level and repayment ability.\n",
        "\n",
        "## 16. avglnamtstart24m_4525187A\n",
        "Average loan amount in the last 24 months.The average amount of loans obtained by customers in the past two years.Reflects the size and nature of the loan.\n",
        "\n",
        "Note:Joint computing.\n",
        "\n",
        "## 17. avgmaxdpdlast9m_3716943P\n",
        "Average Days Past Due (DPD) of the client in last 9 months.\n",
        "\n",
        "## 18. avgoutstandbalancel6m_4187114A\n",
        "Average outstanding balance of applicant for the last 6 months.Monthly average of remaining loan amount\n",
        "\n",
        "## 19. avgpmtlast12m_4525200A\n",
        "\n",
        "Average of payments made by the client in the last 12 months.\n"
      ]
    },
    {
      "cell_type": "markdown",
      "metadata": {
        "id": "59-T0KbJcXaq"
      },
      "source": [
        "\n",
        "\n",
        "## 20. bankacctype_710L\n",
        "Type of applicant's bank account.refers to the specific category or nature of the bank account held by the applicant for a loan or credit.\n",
        "\n",
        "## 21. cardtype_51L\n",
        "Type of credit card.\n",
        "\n",
        "## 22. clientscnt12m_3712952L\n",
        "Number of clients that have used the same mobile phone as the applicant in the past 12 months. risk factor\n",
        "\n",
        "## 23. clientscnt3m_3712950L\n",
        "Number of clients who have the same mobile phone number in the last 3 months.\n",
        "\n",
        "## 24. clientscnt6m_3712949L\n",
        "Total number of clients who have used the same mobile number in the last 6 months."
      ]
    },
    {
      "cell_type": "markdown",
      "metadata": {
        "id": "qD5AQTdkmFSE"
      },
      "source": [
        "\n",
        "## 25. clientscnt_100L\n",
        "Number of applications with matching employer's phone and client's.\n",
        "\n",
        "## 26. clientscnt_1022L\n",
        "Number of clients sharing the same mobile phone.\n",
        "\n",
        "## 27. clientscnt_1071L\n",
        "Number of applications where the alternative phone number matches that of the client.\n",
        "\n",
        "## 28. clientscnt_1130L\n",
        "Number of applications where client's phone number matches the alternative phone contact.\n",
        "\n",
        "## 29. clientscnt_136L\n",
        "Number of applications associated with same email address as client's email.\n",
        "\n",
        "## 30. clientscnt_157L\n",
        "Number of clients whose employer has the same phone number as the client.\n",
        "\n",
        "## 31. clientscnt_257L\n",
        "Number of clients that share an alternative phone number with the applicant.\n",
        "\n",
        "## 32. clientscnt_304L\n",
        "Number of clients with the same phone number.\n",
        "\n",
        "## 33. clientscnt_360L\n",
        "Number of clients that have the same alternative phone number and employer's phone number.\n",
        "\n",
        "## 34. clientscnt_493L\n",
        "Number of clients with matching phone numbers for both the employer and the client.\n",
        "\n",
        "## 35. clientscnt_533L\n",
        "Number of clients with same client's and alternative's phone number\n",
        "\n",
        "## 36. clientscnt_887L\n",
        "Number of clients sharing the same employer's phone number.\n",
        "\n",
        "## 37. clientscnt_946L\n",
        "Number of clients with matching mobile and employer's number.\n",
        "\n",
        "Note:risk\n"
      ]
    },
    {
      "cell_type": "markdown",
      "metadata": {
        "id": "AXMWO20KnWK0"
      },
      "source": [
        "\n",
        "## 38. cntincpaycont9m_3716944L\n",
        "Number of incoming payments in the past 9 months. recent income stability positive factor\n",
        "\n",
        "## 39. cntpmts24_3658933L\n",
        "Number of months with any incoming payment in last 24 months.longtime income stability.positive factor\n",
        "\n",
        "## 40. commnoinclast6m_3546845L\n",
        "Number of communications indicating low income in the last six months Indicates recent low income. negative factor\n",
        "\n",
        "## 41. credamount_770A\n",
        "Loan amount or credit card limit.\n",
        "\n",
        "## 42. credtype_322L\n",
        "Type of credit\n",
        "\n",
        "## 43. currdebt_22A\n",
        "Current debt amount of the client.\n",
        "\n",
        "## 44. currdebtcredtyperange_828A\n",
        "Current amount of debt of the applicant.\n",
        "\n",
        "Note:The client has already established contact, the applicant has not yet established contact. Different strategies for treating clients and applicants.Analyze the number of records for customer-related attributes. Maybe it can be ignored."
      ]
    },
    {
      "cell_type": "markdown",
      "metadata": {
        "id": "am760rNZuxh2"
      },
      "source": [
        "\n",
        "\n",
        "## 45. datefirstoffer_1144D\n",
        "Date of first customer relationship management (CRM) offer. loyalty\n",
        "\n",
        "## 46. datelastinstal40dpd_247D\n",
        "Date of last instalment that was more than 40 days past due (DPD). Recent repayment behavior and financial stability\n",
        "\n",
        "## 47. datelastunpaid_3546854D\n",
        "Date of the last unpaid instalment. Financial difficulties that customers may face\n",
        "\n",
        "## 48. daysoverduetolerancedd_3976961L\n",
        "Number of days that past after the due date (with tolerance). negative factor\n",
        "\n",
        "## 49. deferredmnthsnum_166L\n",
        "Number of deferred months. negative factor"
      ]
    },
    {
      "cell_type": "markdown",
      "metadata": {
        "id": "afmZhJPxxl9v"
      },
      "source": [
        "## 50. disbursedcredamount_1113A\n",
        "Disbursed credit amount after consolidation.The impact needs to be analyzed\n",
        "\n",
        "## 51. disbursementtype_67L\n",
        "Type of disbursement. conjoint analysis\n",
        "\n",
        "## 52. downpmt_116A\n",
        "Amount of downpayment. positive factor\n",
        "\n",
        "## 53. dtlastpmtallstes_4499206D\n",
        "Date of last payment made by the applicant. Ignorable\n",
        "\n",
        "## 54. eir_270L\n",
        "Interest rate."
      ]
    },
    {
      "cell_type": "markdown",
      "metadata": {
        "id": "tHDCtwqn97NY"
      },
      "source": [
        "## 55. equalitydataagreement_891L\n",
        "Flag indicating sudden changes in client's social-demographic data (e.g. education, family status, housing type).\n",
        "\n",
        "## 56. equalityempfrom_62L\n",
        "Flag indicating a sudden change in the client's length of employment. 0: Typically indicates no significant change in the client's length of employment, suggesting stable employment.\n",
        "\n",
        "## 57. firstclxcampaign_1125D\n",
        "Date of the client's first campaign. ignorable\n",
        "\n",
        "## 58. firstdatedue_489D\n",
        "Date of the first due date. ignorable\n",
        "\n",
        "## 59. homephncnt_628L\n",
        "Number of distinct home phones on client's application. risk"
      ]
    },
    {
      "cell_type": "markdown",
      "metadata": {
        "id": "6ppYZJ6oBaTZ"
      },
      "source": [
        "## 60. inittransactionamount_650A\n",
        "Initial transaction amount of the credit application.\n",
        "\n",
        "## 61. inittransactioncode_186L\n",
        "Transaction type of the initial credit transaction.\n",
        "\n",
        "## 62. interestrate_311L\n",
        "The interest rate of the active credit contract. negative\n",
        "\n",
        "## 63. interestrategrace_34L\n",
        "Interest rate during the grace period.\n",
        "\n",
        "## 64. isbidproduct_1095L\n",
        "Flag indicating if the product is a cross-sell. Cross-selling involves offering additional, related, or complementary products to customers who already purchase or have purchased another product.\n",
        "\n",
        "## 65. isbidproductrequest_292L\n",
        "Flag indicating if the product is a cross-sell.\n",
        "\n",
        "## 66. isdebitcard_729L\n",
        "Flag indicating if the product is a debit card.\n",
        "\n",
        "\n",
        "\n"
      ]
    },
    {
      "cell_type": "markdown",
      "metadata": {
        "id": "jyYBb2bKFQtz"
      },
      "source": [
        "## 67. lastactivateddate_801D\n",
        "Contract activation date for previous applications. ignorable\n",
        "\n",
        "## 68. lastapplicationdate_877D\n",
        "Date of previous customer's application.ignorable\n",
        "\n",
        "## 69. lastapprcommoditycat_1041M\n",
        "Commodity category of the last loan applications made by the applicant.\n",
        "\n",
        "## 70. lastapprcommoditytypec_5251766M\n",
        "Commodity type of the last application.\n",
        "\n",
        "## 71. lastapprcredamount_781A\n",
        "Credit amount from the client's last application.\n",
        "\n",
        "## 72. lastapprdate_640D\n",
        "Date of approval on client's most recent previous application.ignorable\n",
        "\n",
        "## 73. lastcancelreason_561M\n",
        "Cancellation reason of the last application.\n",
        "\n",
        "## 74. lastdelinqdate_224D\n",
        "Date of the last delinquency occurrence."
      ]
    },
    {
      "cell_type": "markdown",
      "metadata": {
        "id": "wrD3Dw77GhxI"
      },
      "source": [
        "## 75. lastdependentsnum_448L\n",
        "Number of dependents in the client's last loan application. Number of individuals who rely on the applicant for financial support\n",
        "\n",
        "## 76. lastotherinc_902A\n",
        "Amount of other income reported by the client in their last application.\n",
        "\n",
        "## 77. lastotherlnsexpense_631A\n",
        "Monthly expenses on other loans from the last application.\n",
        "\n",
        "## 78. lastrejectcommoditycat_161M\n",
        "Category of commodity in the applicant's last rejected application.\n",
        "\n",
        "## 79. lastrejectcommodtypec_5251769M\n",
        "Commodity type of the last rejected application."
      ]
    },
    {
      "cell_type": "markdown",
      "metadata": {
        "id": "hIKSX26vJKOp"
      },
      "source": [
        "## 80. lastrejectcredamount_222A\n",
        "Credit amount on last rejected application.\n",
        "\n",
        "## 81. lastrejectdate_50D\n",
        "Date of most recent rejected application by the applicant.\n",
        "\n",
        "## 82. lastrejectreason_759M\n",
        "Reason for rejection on the most recent rejected application.\n",
        "\n",
        "## 83. lastrejectreasonclient_4145040M\n",
        "Reason for the client's last loan rejection.\n",
        "\n",
        "## 84. lastrepayingdate_696D\n",
        "Date of the last payment made by the applicant. ignorable"
      ]
    },
    {
      "cell_type": "markdown",
      "metadata": {
        "id": "DllxPXkqMX7l"
      },
      "source": [
        "## 85. lastst_736L\n",
        "Status of the client's previous credit application.\n",
        "\n",
        "## 86. maininc_215A\n",
        "Client's primary income amount.\n",
        "\n",
        "## 87. mastercontrelectronic_519L\n",
        "Flag indicating the existence of the master contract for the client.\n",
        "\n",
        "## 88. mastercontrexist_109L\n",
        "Flag indicating whether or not the applicant has an existing master contract.\n",
        "\n",
        "## 89. maxannuity_159A\n",
        "Maximum annuity previously obtained by client."
      ]
    },
    {
      "cell_type": "markdown",
      "metadata": {
        "id": "p_vTfSU5Urnr"
      },
      "source": [
        "## 90. maxannuity_4075009A\n",
        "Maximal annuity offered to the client in the current application.\n",
        "\n",
        "## 91. maxdbddpdlast1m_3658939P\n",
        "Maximum number of days past due in the last month. A negative value indicates the number of days before the due date.\n",
        "\n",
        "## 92. maxdbddpdtollast12m_3658940P\n",
        "Maximum number of days past due in last 12 months. A negative value implies days before due date.\n",
        "\n",
        "## 93. maxdbddpdtollast6m_4187119P\n",
        "Maximum number of days past due in last 6 months. This predictor takes the value as a negative number when it represents days before due date.\n",
        "\n",
        "## 94. maxdebt4_972A\n",
        "Maximal principal debt of the client in the history older than 4 months."
      ]
    },
    {
      "cell_type": "markdown",
      "metadata": {
        "id": "RR9W4sqEV6NM"
      },
      "source": [
        "## 95. maxdpdfrom6mto36m_3546853P\n",
        "Maximum Days Past Due (DPD) in the period ranging from 6 to 36 months.\n",
        "\n",
        "## 96. maxdpdinstldate_3546855D\n",
        "Date of instalment on which client was most days past due ignorable\n",
        "\n",
        "## 97. maxdpdinstlnum_3546846P\n",
        "Instalment number of which client was most days past due\n",
        "\n",
        "## 98. maxdpdlast12m_727P\n",
        "Maximum days past due in the past 12 months.\n",
        "\n",
        "## 99. maxdpdlast24m_143P\n",
        "Maximal days past due in the last 24 months.\n",
        "\n",
        "## 100. maxdpdlast3m_392P\n",
        "Maximum number of days past due in last 3 months.\n",
        "\n",
        "## 101. maxdpdlast6m_474P\n",
        "Maximum days past due in the last 6 months.\n",
        "\n",
        "## 102. maxdpdlast9m_1059P\n",
        "Maximum days past due in last 9 months.\n",
        "\n",
        "## 103. maxdpdtolerance_374P\n",
        "Maximum number of days past due (with tolerance).\n"
      ]
    },
    {
      "cell_type": "markdown",
      "metadata": {
        "id": "D3hjpSKADqiU"
      },
      "source": [
        "## 104. maxinstallast24m_3658928A\n",
        "Maximum instalment in the last 24 months\n",
        "\n",
        "## 105. maxlnamtstart6m_4525199A\n",
        "Maximum loan amount started in the last 6 months.\n",
        "\n",
        "## 106. maxoutstandbalancel12m_4187113A\n",
        "Maximum outstanding balance in the last 12 months\n",
        "\n",
        "## 107. maxpmtlast3m_4525190A\n",
        "Maximum payment made by the client in the last 3 months.\n",
        "\n",
        "## 108. mindbddpdlast24m_3658935P\n",
        "Minimum days past due (or days before due) in last 24 months.'\n",
        "\n",
        "## 109. mindbdtollast24m_4525191P\n",
        "Minimum days before due in last 24 months."
      ]
    },
    {
      "cell_type": "markdown",
      "metadata": {
        "id": "Ks6Ui0XyGDOl"
      },
      "source": [
        "## 110. mobilephncnt_593L\n",
        "Number of persons with the same mobile phone number.\n",
        "\n",
        "## 111. monthsannuity_845L\n",
        "Monthly annuity amount for the applicant.\n",
        "\n",
        "## 112. numactivecreds_622L\n",
        "Number of active credits.\n",
        "\n",
        "## 113. numactivecredschannel_414L\n",
        "Number of active credits.\n",
        "\n",
        "## 114. numactiverelcontr_750L\n",
        "Number of active revolving credits."
      ]
    },
    {
      "cell_type": "markdown",
      "metadata": {
        "id": "oCUQC9RbG6PS"
      },
      "source": [
        "## 115. numcontrs3months_479L\n",
        "Number of contracts in last 3 months.\n",
        "\n",
        "## 116. numincomingpmts_3546848L\n",
        "Number of incoming payments.\n",
        "\n",
        "## 117. numinstlallpaidearly3d_817L\n",
        "Number of instalments paid at least 3 days prior to their due date.\n",
        "\n",
        "## 118. numinstls_657L\n",
        "Number of instalments\n",
        "\n",
        "## 119. numinstlsallpaid_934L\n",
        "Number of paid instalments."
      ]
    },
    {
      "cell_type": "markdown",
      "metadata": {
        "id": "FCK2SgRvJJVt"
      },
      "source": [
        "## 120. numinstlswithdpd10_728L\n",
        "Number of instalments that were overdue for 10 or more days.\n",
        "\n",
        "## 121. numinstlswithdpd5_4187116L\n",
        "Number of instalments that were overdue by at least 5 days.\n",
        "\n",
        "## 122. numinstlswithoutdpd_562L\n",
        "Number of instalments that were not past due date.\n",
        "\n",
        "## 123.numinstmatpaidtearly2d_4499204L\n",
        "Number of instalments that have been paid more than 2 days before their due date.\n",
        "\n",
        "## 124. numinstpaid_4499208L\n",
        "Number of paid instalments."
      ]
    },
    {
      "cell_type": "markdown",
      "metadata": {
        "id": "atwOgHNKJv0P"
      },
      "source": [
        "## 125. numinstpaidearly3d_3546850L\n",
        "Number of instalments paid more than three days before the due date.'), ('\n",
        "\n",
        "## 126. numinstpaidearly3dest_4493216L\n",
        "Number of instalments that have been paid more than 3 days in advance of the due date.\n",
        "\n",
        "## 127. numinstpaidearly5d_1087L\n",
        "Number of instalments paid more than 5 days prior to the due date.\n",
        "\n",
        "## 128. numinstpaidearly5dest_4493211L\n",
        "Number of instalments that were paid more than 5 days before the due date.\n",
        "\n",
        "## 129. numinstpaidearly5dobd_4499205L\n",
        "Number of installments paid more than 5 days prior to the due date."
      ]
    },
    {
      "cell_type": "markdown",
      "metadata": {
        "id": "WjPeK6tTLr9A"
      },
      "source": [
        "## 130. numinstpaidearly_338L\n",
        "Number of installments paid prior to the due date.\n",
        "\n",
        "## 131. numinstpaidearlyest_4493214L\n",
        "Number of instalments paid before the due date.\n",
        "\n",
        "## 132. numinstpaidlastcontr_4325080L\n",
        "Number of paid installments from the client's last contract.\n",
        "\n",
        "## 133. numinstpaidlate1d_3546852L\n",
        "Number of instalments paid more than 1 day past their due date.\n",
        "\n",
        "## 134. numinstregularpaid_973L\n",
        "Number of fully paid regular installments in the client's previous contracts."
      ]
    },
    {
      "cell_type": "markdown",
      "metadata": {
        "id": "v63eTnrEM3dD"
      },
      "source": [
        "## 135. numinstregularpaidest_4493210L\n",
        "Number of fully paid regular installments on clients' previous contracts.\"\n",
        "\n",
        "## 136. numinsttopaygr_769L\n",
        "Number of unpaid instalments.\n",
        "\n",
        "## 137. numinsttopaygrest_4493213L\n",
        "Number of unpaid instalments.\n",
        "\n",
        "## 138. numinstunpaidmax_3546851L\n",
        "Maximum number of unpaid instalments.\n",
        "\n",
        "## 139. numinstunpaidmaxest_4493212L\n",
        "Maximum number of unpaid instalments."
      ]
    },
    {
      "cell_type": "markdown",
      "metadata": {
        "id": "gjou1_qnNZju"
      },
      "source": [
        "## 140. numnotactivated_1143L\n",
        "Number of non-activated credits.\n",
        "\n",
        "## 141. numpmtchanneldd_318L\n",
        "Number of previous loan contracts for the applicant that had direct debit as payment channel.\n",
        "\n",
        "## 142. numrejects9m_859L\n",
        "Number of credit applications that were rejected in the last 9 months.\n",
        "\n",
        "## 143.opencred_647L\n",
        "Number of active loans from the previous application.\n",
        "\n",
        "## 144. paytype1st_925L\n",
        "Type of first payment of the client."
      ]
    },
    {
      "cell_type": "markdown",
      "metadata": {
        "id": "wlROzIBSOJtN"
      },
      "source": [
        "## 145. paytype_783L\n",
        "Type of payment.\n",
        "\n",
        "## 146. payvacationpostpone_4187118D\n",
        "Date of last payment holiday instalment.\n",
        "\n",
        "## 147. pctinstlsallpaidearl3d_427L\n",
        "Percentage of installments paid at least 3 days prior to the due date.\n",
        "\n",
        "## 148. pctinstlsallpaidlat10d_839L\n",
        "Percentage of installments that were paid 10 or more days after the due date.\n",
        "\n",
        "## 149. pctinstlsallpaidlate1d_3546856L\n",
        "Percentage of installments that are paid 1 or more days after the due date."
      ]
    },
    {
      "cell_type": "markdown",
      "metadata": {
        "id": "gT9Y2V0GODFn"
      },
      "source": [
        "## 150. pctinstlsallpaidlate4d_3546849L\n",
        "Percentage of installments that were paid 4 or more days past their due date.\n",
        "\n",
        "## 151. pctinstlsallpaidlate6d_3546844L\n",
        "Percentage of installments that were paid 6 or more days past their due date.\n",
        "\n",
        "## 152. pmtnum_254L\n",
        "Total number of loan payments made by the client.\n",
        "\n",
        "## 153.posfpd10lastmonth_333P\n",
        "Average FPD10 (Share of contracts with first installment past due more than 10 days) from point of sales that processed contract in the previous month.\n",
        "\n",
        "## 154. posfpd30lastmonth_3976960P\n",
        "Average FPD30 (Share of contracts with first installment past due more than 30 days) from point of sales that processed contract in the previous month."
      ]
    },
    {
      "cell_type": "markdown",
      "metadata": {
        "id": "p64gCPXmPfhc"
      },
      "source": [
        "## 155. posfstqpd30lastmonth_3976962P\n",
        "Average FSTPD30 (share of contracts with first, second, or third installment past due more than 30 days) from point of sale that processed contract in the last month.\n",
        "\n",
        "## 156. previouscontdistrict_112M\n",
        "Contact district of the client's previous approved application.\n",
        "\n",
        "## 157. price_1097A\n",
        "Credit price.\n",
        "\n",
        "## 158. sellerplacecnt_915L\n",
        "Number of sellerplaces where the same client's document was used.\n",
        "\n",
        "## 159.sellerplacescnt_216L\n",
        "Number of sellerplaces where the same client's mobile phone was used.\""
      ]
    },
    {
      "cell_type": "markdown",
      "metadata": {
        "id": "nns9MT1UP6C8"
      },
      "source": [
        "## 160. sumoutstandtotal_3546847A\n",
        "Sum of total outstanding amount.\n",
        "\n",
        "## 161. sumoutstandtotalest_4493215A\n",
        "Sum of total outstanding amount.\n",
        "\n",
        "## 162. totaldebt_9A\n",
        "Total amount of debt.\n",
        "\n",
        "## 163. totalsettled_863A\n",
        "Sum of all payments made by the client.\n",
        "\n",
        "## 164. totinstallast1m_4525188A\n",
        "Total amount of monthly instalments paid in the previous month.'\n",
        "\n",
        "## 165. twobodfilling_608L\n",
        "Type of application process.\n",
        "\n",
        "## 166. typesuite_864L\n",
        "Persons accompanying the client during the loan application process.\n",
        "\n",
        "## 167. validfrom_1069D\n",
        "Date since the client has an active campaign."
      ]
    },
    {
      "cell_type": "markdown",
      "metadata": {
        "id": "-_1ZbFU6IPGH"
      },
      "source": []
    },
    {
      "cell_type": "markdown",
      "metadata": {
        "id": "RfhHJYFH6lyi"
      },
      "source": [
        "# **static_cb_0**\n",
        "\n",
        "## **Bussiness analysis**\n",
        "\n",
        "### **personal information**\n",
        "**4.birthdate_574D & 6. dateofbirth_337D & 7. dateofbirth_342D**: The customer’s date of birth, which can be used to calculate the customer’s age. Age may be related to credit risk.\n",
        "\n",
        "**14.education_1103M & 15. education_88M**: The education level of the customer. The education level may be related to the borrower's repayment ability.\n",
        "\n",
        "**34.maritalst_385M & 35. maritalst_893M**: The client’s marital status, which may affect the borrower’s financial responsibility and stability.\n",
        "credit history\n",
        "\n",
        "**8. days120_123L, 9. days180_256L, 10. days30_165L, 11. days360_512L, 12. days90_310L**: The number of credit bureau inquiries in the last 30 days, 90 days, 120 days, 180 days, and 360 days, reflecting the customer's recent credit activity.\n",
        "\n",
        "**17.for3years_128L, 18. for3years_504L, 19. for3years_584L, 20. formonth_118L, 21. formonth_206L, 22. formonth_535L, 23. forquarter_1017L, 24. forquarter_462L, 25. forquarter_634L, 26. fortoday_1 092L, 27. forweek_1077L, 28. forweek_528L, 29. forweek_601L, 30. foryear_618L, 31. foryear_818L, 32. foryear_850L**: These attributes record a customer's credit activity over the past week, month, quarter, year, and three years, including application denials, cancellations, and credit history data, which are It is an important indicator for assessing customer credit risk.\n",
        "\n",
        "### **Financial status**\n",
        "**37. pmtaverage_3A, 38. pmtaverage_4527227A, 39. pmtaverage_4955615A**: Client's average tax deduction, reflecting financial responsibility and possible stable income.\n",
        "\n",
        "**40. pmtcount_4527229L, 41. pmtcount_4955617L, 42. pmtcount_693L, 43. pmtscount_423L**: The number of tax deductions, which provides information on the frequency of financial activities.\n",
        "\n",
        "**44. pmtssum_45A**: The total tax deduction of the customer, reflecting the overall financial situation.\n",
        "\n",
        "### **risk assessment**\n",
        "**49. riskassesment_302T & 50. riskassesment_940T**: The estimated probability of customer default and credit assessment directly reflect the customer's credit risk.\n",
        "\n",
        "### **Other important attributes**\n",
        "\n",
        "**1. assignmentdate_238D, 2. assignmentdate_4527235D, 3. assignmentdate_4955616D**: Assignment date for tax authority data, which may be related to recent financial activity or credit activity.\n",
        "\n",
        "**46. responsedate_1012D, 47. responsedate_4527233D, 48. responsedate_4917613D**: The tax authority’s response date, which may reflect the most recent financial review or inquiry.\n",
        "\n",
        "**45. requesttype_4525192L**: Tax authority request type, which may reveal the nature or purpose of the financial review."
      ]
    },
    {
      "cell_type": "code",
      "execution_count": null,
      "metadata": {
        "colab": {
          "base_uri": "https://localhost:8080/"
        },
        "id": "QdKni6Bl_KSr",
        "outputId": "ea10e9d1-ceb4-40b5-b9d4-5f7b2dfe0d3f"
      },
      "outputs": [
        {
          "output_type": "stream",
          "name": "stderr",
          "text": [
            "<ipython-input-7-f8399a26fe76>:16: DtypeWarning: Columns (1,2,3,4,45,46,47,48) have mixed types. Specify dtype option on import or set low_memory=False.\n",
            "  for chunk in pd.read_csv(file_path, chunksize=chunk_size):\n",
            "<ipython-input-7-f8399a26fe76>:16: DtypeWarning: Columns (2,3,45,47,48) have mixed types. Specify dtype option on import or set low_memory=False.\n",
            "  for chunk in pd.read_csv(file_path, chunksize=chunk_size):\n",
            "<ipython-input-7-f8399a26fe76>:16: DtypeWarning: Columns (1,4,46) have mixed types. Specify dtype option on import or set low_memory=False.\n",
            "  for chunk in pd.read_csv(file_path, chunksize=chunk_size):\n",
            "<ipython-input-7-f8399a26fe76>:16: DtypeWarning: Columns (3,48) have mixed types. Specify dtype option on import or set low_memory=False.\n",
            "  for chunk in pd.read_csv(file_path, chunksize=chunk_size):\n",
            "<ipython-input-7-f8399a26fe76>:16: DtypeWarning: Columns (2,3,7,45,47,48) have mixed types. Specify dtype option on import or set low_memory=False.\n",
            "  for chunk in pd.read_csv(file_path, chunksize=chunk_size):\n",
            "<ipython-input-7-f8399a26fe76>:16: DtypeWarning: Columns (2,4,7,45,47) have mixed types. Specify dtype option on import or set low_memory=False.\n",
            "  for chunk in pd.read_csv(file_path, chunksize=chunk_size):\n",
            "<ipython-input-7-f8399a26fe76>:16: DtypeWarning: Columns (1,7,46) have mixed types. Specify dtype option on import or set low_memory=False.\n",
            "  for chunk in pd.read_csv(file_path, chunksize=chunk_size):\n",
            "<ipython-input-7-f8399a26fe76>:16: DtypeWarning: Columns (3,48) have mixed types. Specify dtype option on import or set low_memory=False.\n",
            "  for chunk in pd.read_csv(file_path, chunksize=chunk_size):\n",
            "<ipython-input-7-f8399a26fe76>:16: DtypeWarning: Columns (1,2,3,4,45,46,47,48) have mixed types. Specify dtype option on import or set low_memory=False.\n",
            "  for chunk in pd.read_csv(file_path, chunksize=chunk_size):\n",
            "<ipython-input-7-f8399a26fe76>:16: DtypeWarning: Columns (2,7,45,47) have mixed types. Specify dtype option on import or set low_memory=False.\n",
            "  for chunk in pd.read_csv(file_path, chunksize=chunk_size):\n",
            "<ipython-input-7-f8399a26fe76>:16: DtypeWarning: Columns (4,7) have mixed types. Specify dtype option on import or set low_memory=False.\n",
            "  for chunk in pd.read_csv(file_path, chunksize=chunk_size):\n",
            "<ipython-input-7-f8399a26fe76>:16: DtypeWarning: Columns (1,46) have mixed types. Specify dtype option on import or set low_memory=False.\n",
            "  for chunk in pd.read_csv(file_path, chunksize=chunk_size):\n",
            "<ipython-input-7-f8399a26fe76>:16: DtypeWarning: Columns (3) have mixed types. Specify dtype option on import or set low_memory=False.\n",
            "  for chunk in pd.read_csv(file_path, chunksize=chunk_size):\n",
            "<ipython-input-7-f8399a26fe76>:16: DtypeWarning: Columns (1,2,3,4,45,46,47,48) have mixed types. Specify dtype option on import or set low_memory=False.\n",
            "  for chunk in pd.read_csv(file_path, chunksize=chunk_size):\n",
            "<ipython-input-7-f8399a26fe76>:16: DtypeWarning: Columns (1,4,46) have mixed types. Specify dtype option on import or set low_memory=False.\n",
            "  for chunk in pd.read_csv(file_path, chunksize=chunk_size):\n",
            "<ipython-input-7-f8399a26fe76>:16: DtypeWarning: Columns (2,3,48) have mixed types. Specify dtype option on import or set low_memory=False.\n",
            "  for chunk in pd.read_csv(file_path, chunksize=chunk_size):\n"
          ]
        }
      ],
      "source": [
        "df_static_cb_0 = load_and_process_csv('/content/home-credit-data/csv_files/train/train_static_cb_0.csv')"
      ]
    },
    {
      "cell_type": "code",
      "execution_count": null,
      "metadata": {
        "colab": {
          "base_uri": "https://localhost:8080/"
        },
        "id": "dGja6GAr_aN7",
        "outputId": "948519ff-a66d-403f-bec3-11513241ad21"
      },
      "outputs": [
        {
          "output_type": "stream",
          "name": "stdout",
          "text": [
            "<class 'pandas.core.frame.DataFrame'>\n",
            "RangeIndex: 1500476 entries, 0 to 1500475\n",
            "Data columns (total 53 columns):\n",
            " #   Column                   Non-Null Count    Dtype  \n",
            "---  ------                   --------------    -----  \n",
            " 0   case_id                  1500476 non-null  int64  \n",
            " 1   assignmentdate_238D      136996 non-null   object \n",
            " 2   assignmentdate_4527235D  114978 non-null   object \n",
            " 3   assignmentdate_4955616D  71633 non-null    object \n",
            " 4   birthdate_574D           607871 non-null   object \n",
            " 5   contractssum_5085716L    157329 non-null   float64\n",
            " 6   dateofbirth_337D         1385691 non-null  object \n",
            " 7   dateofbirth_342D         36500 non-null    object \n",
            " 8   days120_123L             1385691 non-null  float64\n",
            " 9   days180_256L             1385691 non-null  float64\n",
            " 10  days30_165L              1385691 non-null  float64\n",
            " 11  days360_512L             1385691 non-null  float64\n",
            " 12  days90_310L              1385691 non-null  float64\n",
            " 13  description_5085714M     1500476 non-null  object \n",
            " 14  education_1103M          1500476 non-null  object \n",
            " 15  education_88M            1500476 non-null  object \n",
            " 16  firstquarter_103L        1385691 non-null  float64\n",
            " 17  for3years_128L           36514 non-null    float64\n",
            " 18  for3years_504L           36514 non-null    float64\n",
            " 19  for3years_584L           36514 non-null    float64\n",
            " 20  formonth_118L            36514 non-null    float64\n",
            " 21  formonth_206L            36514 non-null    float64\n",
            " 22  formonth_535L            36514 non-null    float64\n",
            " 23  forquarter_1017L         36514 non-null    float64\n",
            " 24  forquarter_462L          36514 non-null    float64\n",
            " 25  forquarter_634L          36514 non-null    float64\n",
            " 26  fortoday_1092L           36514 non-null    float64\n",
            " 27  forweek_1077L            36514 non-null    float64\n",
            " 28  forweek_528L             36514 non-null    float64\n",
            " 29  forweek_601L             36514 non-null    float64\n",
            " 30  foryear_618L             36514 non-null    float64\n",
            " 31  foryear_818L             36514 non-null    float64\n",
            " 32  foryear_850L             36514 non-null    float64\n",
            " 33  fourthquarter_440L       1385691 non-null  float64\n",
            " 34  maritalst_385M           1500476 non-null  object \n",
            " 35  maritalst_893M           1500476 non-null  object \n",
            " 36  numberofqueries_373L     1385691 non-null  float64\n",
            " 37  pmtaverage_3A            143589 non-null   float64\n",
            " 38  pmtaverage_4527227A      114978 non-null   float64\n",
            " 39  pmtaverage_4955615A      71845 non-null    float64\n",
            " 40  pmtcount_4527229L        114978 non-null   float64\n",
            " 41  pmtcount_4955617L        71845 non-null    float64\n",
            " 42  pmtcount_693L            146406 non-null   float64\n",
            " 43  pmtscount_423L           572638 non-null   float64\n",
            " 44  pmtssum_45A              572638 non-null   float64\n",
            " 45  requesttype_4525192L     673264 non-null   object \n",
            " 46  responsedate_1012D       720000 non-null   object \n",
            " 47  responsedate_4527233D    660327 non-null   object \n",
            " 48  responsedate_4917613D    224912 non-null   object \n",
            " 49  riskassesment_302T       53559 non-null    object \n",
            " 50  riskassesment_940T       53560 non-null    float64\n",
            " 51  secondquarter_766L       1385691 non-null  float64\n",
            " 52  thirdquarter_1082L       1385691 non-null  float64\n",
            "dtypes: float64(36), int64(1), object(16)\n",
            "memory usage: 606.7+ MB\n"
          ]
        }
      ],
      "source": [
        "df_static_cb_0.info()"
      ]
    },
    {
      "cell_type": "code",
      "execution_count": null,
      "metadata": {
        "colab": {
          "base_uri": "https://localhost:8080/",
          "height": 350
        },
        "id": "9J1MEtTU_np1",
        "outputId": "ba4c1ec9-fa9c-430d-9bdb-9d4f725ecb9f"
      },
      "outputs": [
        {
          "output_type": "execute_result",
          "data": {
            "text/plain": [
              "            case_id  contractssum_5085716L  days120_123L  days180_256L  \\\n",
              "count  1.500476e+06           1.573290e+05  1.385691e+06  1.385691e+06   \n",
              "mean   1.284032e+06           6.416044e+05  1.607715e+00  2.388656e+00   \n",
              "std    7.160881e+05           9.803273e+05  2.083003e+00  2.891115e+00   \n",
              "min    3.570000e+02           0.000000e+00  0.000000e+00  0.000000e+00   \n",
              "25%    7.685088e+05           7.853195e+04  0.000000e+00  0.000000e+00   \n",
              "50%    1.361878e+06           3.072824e+05  1.000000e+00  2.000000e+00   \n",
              "75%    1.737010e+06           8.021141e+05  2.000000e+00  3.000000e+00   \n",
              "max    2.703454e+06           3.129676e+07  1.090000e+02  1.100000e+02   \n",
              "\n",
              "        days30_165L  days360_512L   days90_310L  firstquarter_103L  \\\n",
              "count  1.385691e+06  1.385691e+06  1.385691e+06       1.385691e+06   \n",
              "mean   5.177078e-01  4.777066e+00  1.211420e+00       2.860590e+00   \n",
              "std    8.992377e-01  5.168856e+00  1.655931e+00       3.610966e+00   \n",
              "min    0.000000e+00  0.000000e+00  0.000000e+00       0.000000e+00   \n",
              "25%    0.000000e+00  1.000000e+00  0.000000e+00       0.000000e+00   \n",
              "50%    0.000000e+00  3.000000e+00  1.000000e+00       2.000000e+00   \n",
              "75%    1.000000e+00  6.500000e+00  2.000000e+00       4.000000e+00   \n",
              "max    2.200000e+01  1.150000e+02  4.100000e+01       7.600000e+01   \n",
              "\n",
              "       for3years_128L  for3years_504L  ...  pmtaverage_4527227A  \\\n",
              "count    36514.000000    36514.000000  ...        114978.000000   \n",
              "mean         0.000082        4.382346  ...         10033.556094   \n",
              "std          0.009064        5.815514  ...          5455.843604   \n",
              "min          0.000000        0.000000  ...             4.200000   \n",
              "25%          0.000000        0.000000  ...          7192.000000   \n",
              "50%          0.000000        2.000000  ...          7553.000000   \n",
              "75%          0.000000        6.000000  ...         13464.400000   \n",
              "max          1.000000       57.000000  ...        205848.610000   \n",
              "\n",
              "       pmtaverage_4955615A  pmtcount_4527229L  pmtcount_4955617L  \\\n",
              "count         71845.000000      114978.000000       71845.000000   \n",
              "mean          17651.732489           6.598027          13.061118   \n",
              "std            6871.642301           2.188992           1.855216   \n",
              "min               4.400000           1.000000           1.000000   \n",
              "25%           13664.601000           6.000000          12.000000   \n",
              "50%           15765.200000           6.000000          14.000000   \n",
              "75%           21840.000000           6.000000          14.000000   \n",
              "max           99085.400000          15.000000          16.000000   \n",
              "\n",
              "       pmtcount_693L  pmtscount_423L    pmtssum_45A  riskassesment_940T  \\\n",
              "count  146406.000000   572638.000000  572638.000000        53560.000000   \n",
              "mean        5.714991        5.839291   13199.935970            0.225968   \n",
              "std         1.758117        4.148264   18117.218312            0.976170   \n",
              "min         0.000000        0.000000       0.000000           -3.670423   \n",
              "25%         6.000000        3.000000    3156.400100           -0.227985   \n",
              "50%         6.000000        6.000000    8391.900000            0.371834   \n",
              "75%         6.000000        7.000000   16992.000000            0.971653   \n",
              "max        66.000000      121.000000  476843.400000            2.119132   \n",
              "\n",
              "       secondquarter_766L  thirdquarter_1082L  \n",
              "count        1.385691e+06        1.385691e+06  \n",
              "mean         2.688482e+00        2.918342e+00  \n",
              "std          3.324546e+00        3.423862e+00  \n",
              "min          0.000000e+00        0.000000e+00  \n",
              "25%          0.000000e+00        0.000000e+00  \n",
              "50%          2.000000e+00        2.000000e+00  \n",
              "75%          4.000000e+00        4.000000e+00  \n",
              "max          1.090000e+02        6.200000e+01  \n",
              "\n",
              "[8 rows x 37 columns]"
            ],
            "text/html": [
              "\n",
              "  <div id=\"df-f3683029-c78d-4db8-ac9f-604a663299c7\" class=\"colab-df-container\">\n",
              "    <div>\n",
              "<style scoped>\n",
              "    .dataframe tbody tr th:only-of-type {\n",
              "        vertical-align: middle;\n",
              "    }\n",
              "\n",
              "    .dataframe tbody tr th {\n",
              "        vertical-align: top;\n",
              "    }\n",
              "\n",
              "    .dataframe thead th {\n",
              "        text-align: right;\n",
              "    }\n",
              "</style>\n",
              "<table border=\"1\" class=\"dataframe\">\n",
              "  <thead>\n",
              "    <tr style=\"text-align: right;\">\n",
              "      <th></th>\n",
              "      <th>case_id</th>\n",
              "      <th>contractssum_5085716L</th>\n",
              "      <th>days120_123L</th>\n",
              "      <th>days180_256L</th>\n",
              "      <th>days30_165L</th>\n",
              "      <th>days360_512L</th>\n",
              "      <th>days90_310L</th>\n",
              "      <th>firstquarter_103L</th>\n",
              "      <th>for3years_128L</th>\n",
              "      <th>for3years_504L</th>\n",
              "      <th>...</th>\n",
              "      <th>pmtaverage_4527227A</th>\n",
              "      <th>pmtaverage_4955615A</th>\n",
              "      <th>pmtcount_4527229L</th>\n",
              "      <th>pmtcount_4955617L</th>\n",
              "      <th>pmtcount_693L</th>\n",
              "      <th>pmtscount_423L</th>\n",
              "      <th>pmtssum_45A</th>\n",
              "      <th>riskassesment_940T</th>\n",
              "      <th>secondquarter_766L</th>\n",
              "      <th>thirdquarter_1082L</th>\n",
              "    </tr>\n",
              "  </thead>\n",
              "  <tbody>\n",
              "    <tr>\n",
              "      <th>count</th>\n",
              "      <td>1.500476e+06</td>\n",
              "      <td>1.573290e+05</td>\n",
              "      <td>1.385691e+06</td>\n",
              "      <td>1.385691e+06</td>\n",
              "      <td>1.385691e+06</td>\n",
              "      <td>1.385691e+06</td>\n",
              "      <td>1.385691e+06</td>\n",
              "      <td>1.385691e+06</td>\n",
              "      <td>36514.000000</td>\n",
              "      <td>36514.000000</td>\n",
              "      <td>...</td>\n",
              "      <td>114978.000000</td>\n",
              "      <td>71845.000000</td>\n",
              "      <td>114978.000000</td>\n",
              "      <td>71845.000000</td>\n",
              "      <td>146406.000000</td>\n",
              "      <td>572638.000000</td>\n",
              "      <td>572638.000000</td>\n",
              "      <td>53560.000000</td>\n",
              "      <td>1.385691e+06</td>\n",
              "      <td>1.385691e+06</td>\n",
              "    </tr>\n",
              "    <tr>\n",
              "      <th>mean</th>\n",
              "      <td>1.284032e+06</td>\n",
              "      <td>6.416044e+05</td>\n",
              "      <td>1.607715e+00</td>\n",
              "      <td>2.388656e+00</td>\n",
              "      <td>5.177078e-01</td>\n",
              "      <td>4.777066e+00</td>\n",
              "      <td>1.211420e+00</td>\n",
              "      <td>2.860590e+00</td>\n",
              "      <td>0.000082</td>\n",
              "      <td>4.382346</td>\n",
              "      <td>...</td>\n",
              "      <td>10033.556094</td>\n",
              "      <td>17651.732489</td>\n",
              "      <td>6.598027</td>\n",
              "      <td>13.061118</td>\n",
              "      <td>5.714991</td>\n",
              "      <td>5.839291</td>\n",
              "      <td>13199.935970</td>\n",
              "      <td>0.225968</td>\n",
              "      <td>2.688482e+00</td>\n",
              "      <td>2.918342e+00</td>\n",
              "    </tr>\n",
              "    <tr>\n",
              "      <th>std</th>\n",
              "      <td>7.160881e+05</td>\n",
              "      <td>9.803273e+05</td>\n",
              "      <td>2.083003e+00</td>\n",
              "      <td>2.891115e+00</td>\n",
              "      <td>8.992377e-01</td>\n",
              "      <td>5.168856e+00</td>\n",
              "      <td>1.655931e+00</td>\n",
              "      <td>3.610966e+00</td>\n",
              "      <td>0.009064</td>\n",
              "      <td>5.815514</td>\n",
              "      <td>...</td>\n",
              "      <td>5455.843604</td>\n",
              "      <td>6871.642301</td>\n",
              "      <td>2.188992</td>\n",
              "      <td>1.855216</td>\n",
              "      <td>1.758117</td>\n",
              "      <td>4.148264</td>\n",
              "      <td>18117.218312</td>\n",
              "      <td>0.976170</td>\n",
              "      <td>3.324546e+00</td>\n",
              "      <td>3.423862e+00</td>\n",
              "    </tr>\n",
              "    <tr>\n",
              "      <th>min</th>\n",
              "      <td>3.570000e+02</td>\n",
              "      <td>0.000000e+00</td>\n",
              "      <td>0.000000e+00</td>\n",
              "      <td>0.000000e+00</td>\n",
              "      <td>0.000000e+00</td>\n",
              "      <td>0.000000e+00</td>\n",
              "      <td>0.000000e+00</td>\n",
              "      <td>0.000000e+00</td>\n",
              "      <td>0.000000</td>\n",
              "      <td>0.000000</td>\n",
              "      <td>...</td>\n",
              "      <td>4.200000</td>\n",
              "      <td>4.400000</td>\n",
              "      <td>1.000000</td>\n",
              "      <td>1.000000</td>\n",
              "      <td>0.000000</td>\n",
              "      <td>0.000000</td>\n",
              "      <td>0.000000</td>\n",
              "      <td>-3.670423</td>\n",
              "      <td>0.000000e+00</td>\n",
              "      <td>0.000000e+00</td>\n",
              "    </tr>\n",
              "    <tr>\n",
              "      <th>25%</th>\n",
              "      <td>7.685088e+05</td>\n",
              "      <td>7.853195e+04</td>\n",
              "      <td>0.000000e+00</td>\n",
              "      <td>0.000000e+00</td>\n",
              "      <td>0.000000e+00</td>\n",
              "      <td>1.000000e+00</td>\n",
              "      <td>0.000000e+00</td>\n",
              "      <td>0.000000e+00</td>\n",
              "      <td>0.000000</td>\n",
              "      <td>0.000000</td>\n",
              "      <td>...</td>\n",
              "      <td>7192.000000</td>\n",
              "      <td>13664.601000</td>\n",
              "      <td>6.000000</td>\n",
              "      <td>12.000000</td>\n",
              "      <td>6.000000</td>\n",
              "      <td>3.000000</td>\n",
              "      <td>3156.400100</td>\n",
              "      <td>-0.227985</td>\n",
              "      <td>0.000000e+00</td>\n",
              "      <td>0.000000e+00</td>\n",
              "    </tr>\n",
              "    <tr>\n",
              "      <th>50%</th>\n",
              "      <td>1.361878e+06</td>\n",
              "      <td>3.072824e+05</td>\n",
              "      <td>1.000000e+00</td>\n",
              "      <td>2.000000e+00</td>\n",
              "      <td>0.000000e+00</td>\n",
              "      <td>3.000000e+00</td>\n",
              "      <td>1.000000e+00</td>\n",
              "      <td>2.000000e+00</td>\n",
              "      <td>0.000000</td>\n",
              "      <td>2.000000</td>\n",
              "      <td>...</td>\n",
              "      <td>7553.000000</td>\n",
              "      <td>15765.200000</td>\n",
              "      <td>6.000000</td>\n",
              "      <td>14.000000</td>\n",
              "      <td>6.000000</td>\n",
              "      <td>6.000000</td>\n",
              "      <td>8391.900000</td>\n",
              "      <td>0.371834</td>\n",
              "      <td>2.000000e+00</td>\n",
              "      <td>2.000000e+00</td>\n",
              "    </tr>\n",
              "    <tr>\n",
              "      <th>75%</th>\n",
              "      <td>1.737010e+06</td>\n",
              "      <td>8.021141e+05</td>\n",
              "      <td>2.000000e+00</td>\n",
              "      <td>3.000000e+00</td>\n",
              "      <td>1.000000e+00</td>\n",
              "      <td>6.500000e+00</td>\n",
              "      <td>2.000000e+00</td>\n",
              "      <td>4.000000e+00</td>\n",
              "      <td>0.000000</td>\n",
              "      <td>6.000000</td>\n",
              "      <td>...</td>\n",
              "      <td>13464.400000</td>\n",
              "      <td>21840.000000</td>\n",
              "      <td>6.000000</td>\n",
              "      <td>14.000000</td>\n",
              "      <td>6.000000</td>\n",
              "      <td>7.000000</td>\n",
              "      <td>16992.000000</td>\n",
              "      <td>0.971653</td>\n",
              "      <td>4.000000e+00</td>\n",
              "      <td>4.000000e+00</td>\n",
              "    </tr>\n",
              "    <tr>\n",
              "      <th>max</th>\n",
              "      <td>2.703454e+06</td>\n",
              "      <td>3.129676e+07</td>\n",
              "      <td>1.090000e+02</td>\n",
              "      <td>1.100000e+02</td>\n",
              "      <td>2.200000e+01</td>\n",
              "      <td>1.150000e+02</td>\n",
              "      <td>4.100000e+01</td>\n",
              "      <td>7.600000e+01</td>\n",
              "      <td>1.000000</td>\n",
              "      <td>57.000000</td>\n",
              "      <td>...</td>\n",
              "      <td>205848.610000</td>\n",
              "      <td>99085.400000</td>\n",
              "      <td>15.000000</td>\n",
              "      <td>16.000000</td>\n",
              "      <td>66.000000</td>\n",
              "      <td>121.000000</td>\n",
              "      <td>476843.400000</td>\n",
              "      <td>2.119132</td>\n",
              "      <td>1.090000e+02</td>\n",
              "      <td>6.200000e+01</td>\n",
              "    </tr>\n",
              "  </tbody>\n",
              "</table>\n",
              "<p>8 rows × 37 columns</p>\n",
              "</div>\n",
              "    <div class=\"colab-df-buttons\">\n",
              "\n",
              "  <div class=\"colab-df-container\">\n",
              "    <button class=\"colab-df-convert\" onclick=\"convertToInteractive('df-f3683029-c78d-4db8-ac9f-604a663299c7')\"\n",
              "            title=\"Convert this dataframe to an interactive table.\"\n",
              "            style=\"display:none;\">\n",
              "\n",
              "  <svg xmlns=\"http://www.w3.org/2000/svg\" height=\"24px\" viewBox=\"0 -960 960 960\">\n",
              "    <path d=\"M120-120v-720h720v720H120Zm60-500h600v-160H180v160Zm220 220h160v-160H400v160Zm0 220h160v-160H400v160ZM180-400h160v-160H180v160Zm440 0h160v-160H620v160ZM180-180h160v-160H180v160Zm440 0h160v-160H620v160Z\"/>\n",
              "  </svg>\n",
              "    </button>\n",
              "\n",
              "  <style>\n",
              "    .colab-df-container {\n",
              "      display:flex;\n",
              "      gap: 12px;\n",
              "    }\n",
              "\n",
              "    .colab-df-convert {\n",
              "      background-color: #E8F0FE;\n",
              "      border: none;\n",
              "      border-radius: 50%;\n",
              "      cursor: pointer;\n",
              "      display: none;\n",
              "      fill: #1967D2;\n",
              "      height: 32px;\n",
              "      padding: 0 0 0 0;\n",
              "      width: 32px;\n",
              "    }\n",
              "\n",
              "    .colab-df-convert:hover {\n",
              "      background-color: #E2EBFA;\n",
              "      box-shadow: 0px 1px 2px rgba(60, 64, 67, 0.3), 0px 1px 3px 1px rgba(60, 64, 67, 0.15);\n",
              "      fill: #174EA6;\n",
              "    }\n",
              "\n",
              "    .colab-df-buttons div {\n",
              "      margin-bottom: 4px;\n",
              "    }\n",
              "\n",
              "    [theme=dark] .colab-df-convert {\n",
              "      background-color: #3B4455;\n",
              "      fill: #D2E3FC;\n",
              "    }\n",
              "\n",
              "    [theme=dark] .colab-df-convert:hover {\n",
              "      background-color: #434B5C;\n",
              "      box-shadow: 0px 1px 3px 1px rgba(0, 0, 0, 0.15);\n",
              "      filter: drop-shadow(0px 1px 2px rgba(0, 0, 0, 0.3));\n",
              "      fill: #FFFFFF;\n",
              "    }\n",
              "  </style>\n",
              "\n",
              "    <script>\n",
              "      const buttonEl =\n",
              "        document.querySelector('#df-f3683029-c78d-4db8-ac9f-604a663299c7 button.colab-df-convert');\n",
              "      buttonEl.style.display =\n",
              "        google.colab.kernel.accessAllowed ? 'block' : 'none';\n",
              "\n",
              "      async function convertToInteractive(key) {\n",
              "        const element = document.querySelector('#df-f3683029-c78d-4db8-ac9f-604a663299c7');\n",
              "        const dataTable =\n",
              "          await google.colab.kernel.invokeFunction('convertToInteractive',\n",
              "                                                    [key], {});\n",
              "        if (!dataTable) return;\n",
              "\n",
              "        const docLinkHtml = 'Like what you see? Visit the ' +\n",
              "          '<a target=\"_blank\" href=https://colab.research.google.com/notebooks/data_table.ipynb>data table notebook</a>'\n",
              "          + ' to learn more about interactive tables.';\n",
              "        element.innerHTML = '';\n",
              "        dataTable['output_type'] = 'display_data';\n",
              "        await google.colab.output.renderOutput(dataTable, element);\n",
              "        const docLink = document.createElement('div');\n",
              "        docLink.innerHTML = docLinkHtml;\n",
              "        element.appendChild(docLink);\n",
              "      }\n",
              "    </script>\n",
              "  </div>\n",
              "\n",
              "\n",
              "<div id=\"df-623c2405-bd28-4555-b279-a170e2b69178\">\n",
              "  <button class=\"colab-df-quickchart\" onclick=\"quickchart('df-623c2405-bd28-4555-b279-a170e2b69178')\"\n",
              "            title=\"Suggest charts\"\n",
              "            style=\"display:none;\">\n",
              "\n",
              "<svg xmlns=\"http://www.w3.org/2000/svg\" height=\"24px\"viewBox=\"0 0 24 24\"\n",
              "     width=\"24px\">\n",
              "    <g>\n",
              "        <path d=\"M19 3H5c-1.1 0-2 .9-2 2v14c0 1.1.9 2 2 2h14c1.1 0 2-.9 2-2V5c0-1.1-.9-2-2-2zM9 17H7v-7h2v7zm4 0h-2V7h2v10zm4 0h-2v-4h2v4z\"/>\n",
              "    </g>\n",
              "</svg>\n",
              "  </button>\n",
              "\n",
              "<style>\n",
              "  .colab-df-quickchart {\n",
              "      --bg-color: #E8F0FE;\n",
              "      --fill-color: #1967D2;\n",
              "      --hover-bg-color: #E2EBFA;\n",
              "      --hover-fill-color: #174EA6;\n",
              "      --disabled-fill-color: #AAA;\n",
              "      --disabled-bg-color: #DDD;\n",
              "  }\n",
              "\n",
              "  [theme=dark] .colab-df-quickchart {\n",
              "      --bg-color: #3B4455;\n",
              "      --fill-color: #D2E3FC;\n",
              "      --hover-bg-color: #434B5C;\n",
              "      --hover-fill-color: #FFFFFF;\n",
              "      --disabled-bg-color: #3B4455;\n",
              "      --disabled-fill-color: #666;\n",
              "  }\n",
              "\n",
              "  .colab-df-quickchart {\n",
              "    background-color: var(--bg-color);\n",
              "    border: none;\n",
              "    border-radius: 50%;\n",
              "    cursor: pointer;\n",
              "    display: none;\n",
              "    fill: var(--fill-color);\n",
              "    height: 32px;\n",
              "    padding: 0;\n",
              "    width: 32px;\n",
              "  }\n",
              "\n",
              "  .colab-df-quickchart:hover {\n",
              "    background-color: var(--hover-bg-color);\n",
              "    box-shadow: 0 1px 2px rgba(60, 64, 67, 0.3), 0 1px 3px 1px rgba(60, 64, 67, 0.15);\n",
              "    fill: var(--button-hover-fill-color);\n",
              "  }\n",
              "\n",
              "  .colab-df-quickchart-complete:disabled,\n",
              "  .colab-df-quickchart-complete:disabled:hover {\n",
              "    background-color: var(--disabled-bg-color);\n",
              "    fill: var(--disabled-fill-color);\n",
              "    box-shadow: none;\n",
              "  }\n",
              "\n",
              "  .colab-df-spinner {\n",
              "    border: 2px solid var(--fill-color);\n",
              "    border-color: transparent;\n",
              "    border-bottom-color: var(--fill-color);\n",
              "    animation:\n",
              "      spin 1s steps(1) infinite;\n",
              "  }\n",
              "\n",
              "  @keyframes spin {\n",
              "    0% {\n",
              "      border-color: transparent;\n",
              "      border-bottom-color: var(--fill-color);\n",
              "      border-left-color: var(--fill-color);\n",
              "    }\n",
              "    20% {\n",
              "      border-color: transparent;\n",
              "      border-left-color: var(--fill-color);\n",
              "      border-top-color: var(--fill-color);\n",
              "    }\n",
              "    30% {\n",
              "      border-color: transparent;\n",
              "      border-left-color: var(--fill-color);\n",
              "      border-top-color: var(--fill-color);\n",
              "      border-right-color: var(--fill-color);\n",
              "    }\n",
              "    40% {\n",
              "      border-color: transparent;\n",
              "      border-right-color: var(--fill-color);\n",
              "      border-top-color: var(--fill-color);\n",
              "    }\n",
              "    60% {\n",
              "      border-color: transparent;\n",
              "      border-right-color: var(--fill-color);\n",
              "    }\n",
              "    80% {\n",
              "      border-color: transparent;\n",
              "      border-right-color: var(--fill-color);\n",
              "      border-bottom-color: var(--fill-color);\n",
              "    }\n",
              "    90% {\n",
              "      border-color: transparent;\n",
              "      border-bottom-color: var(--fill-color);\n",
              "    }\n",
              "  }\n",
              "</style>\n",
              "\n",
              "  <script>\n",
              "    async function quickchart(key) {\n",
              "      const quickchartButtonEl =\n",
              "        document.querySelector('#' + key + ' button');\n",
              "      quickchartButtonEl.disabled = true;  // To prevent multiple clicks.\n",
              "      quickchartButtonEl.classList.add('colab-df-spinner');\n",
              "      try {\n",
              "        const charts = await google.colab.kernel.invokeFunction(\n",
              "            'suggestCharts', [key], {});\n",
              "      } catch (error) {\n",
              "        console.error('Error during call to suggestCharts:', error);\n",
              "      }\n",
              "      quickchartButtonEl.classList.remove('colab-df-spinner');\n",
              "      quickchartButtonEl.classList.add('colab-df-quickchart-complete');\n",
              "    }\n",
              "    (() => {\n",
              "      let quickchartButtonEl =\n",
              "        document.querySelector('#df-623c2405-bd28-4555-b279-a170e2b69178 button');\n",
              "      quickchartButtonEl.style.display =\n",
              "        google.colab.kernel.accessAllowed ? 'block' : 'none';\n",
              "    })();\n",
              "  </script>\n",
              "</div>\n",
              "    </div>\n",
              "  </div>\n"
            ],
            "application/vnd.google.colaboratory.intrinsic+json": {
              "type": "dataframe"
            }
          },
          "metadata": {},
          "execution_count": 20
        }
      ],
      "source": [
        "df_static_cb_0.describe()"
      ]
    },
    {
      "cell_type": "code",
      "execution_count": null,
      "metadata": {
        "id": "NsFmf7gJ_yUb"
      },
      "outputs": [],
      "source": [
        "des_static_cb_0 = batch_descriptions(df_static_cb_0,des_dict,10)"
      ]
    },
    {
      "cell_type": "code",
      "execution_count": null,
      "metadata": {
        "colab": {
          "base_uri": "https://localhost:8080/"
        },
        "id": "zxnyYewW4Nq6",
        "outputId": "5b28b31e-58fe-4f7c-8824-b1f637a1c8ac"
      },
      "outputs": [
        {
          "output_type": "stream",
          "name": "stdout",
          "text": [
            "## 50. case_id\n",
            "not found\n",
            "## 51. assignmentdate_238D\n",
            "Tax authority data - date of assignment.\n",
            "## 52. assignmentdate_4527235D\n",
            "Tax authority data - Date of assignment.\n",
            "## 53. assignmentdate_4955616D\n",
            "Tax authority assignment date.\n",
            "## 54. birthdate_574D\n",
            "Client's date of birth (credit bureau data).\n",
            "## 55. contractssum_5085716L\n",
            "Total sum of values of contracts retrieved from external credit bureau.\n",
            "## 56. dateofbirth_337D\n",
            "Client's date of birth.\n",
            "## 57. dateofbirth_342D\n",
            "Client's date of birth.\n",
            "## 58. days120_123L\n",
            "Number of credit bureau queries for the last 120 days.\n",
            "## 59. days180_256L\n",
            "Number of credit bureau queries for last 180 days.\n"
          ]
        }
      ],
      "source": [
        "iterator_output = next(des_static_cb_0)\n",
        "formatted_string = format_output(iterator_output,50)\n",
        "print(formatted_string)"
      ]
    },
    {
      "cell_type": "markdown",
      "metadata": {
        "id": "0wQOa4cTAz77"
      },
      "source": [
        "## 0. case_id\n",
        "not found\n",
        "## 1. assignmentdate_238D\n",
        "Tax authority data - date of assignment.\n",
        "## 2. assignmentdate_4527235D\n",
        "Tax authority data - Date of assignment.\n",
        "## 3. assignmentdate_4955616D\n",
        "Tax authority assignment date.\n",
        "\n",
        "**note**:do not use 1.2.3, cause high non-value rate and no direct relation with the problem\n",
        "## 4. birthdate_574D\n",
        "Client's date of birth (credit bureau data).\n",
        "## 5. contractssum_5085716L\n",
        "Total sum of values of contracts retrieved from external credit bureau.\n",
        "## 6. dateofbirth_337D\n",
        "Client's date of birth.\n",
        "## 7. dateofbirth_342D\n",
        "Client's date of birth.\n",
        "\n",
        "**note**:do not use 4.6.7, cause we have more information in the persion table\n",
        "## 8. days120_123L\n",
        "Number of credit bureau queries for the last 120 days.\n",
        "## 9. days180_256L\n",
        "Number of credit bureau queries for last 180 days."
      ]
    },
    {
      "cell_type": "markdown",
      "metadata": {
        "id": "U6SpO9eDBRN5"
      },
      "source": [
        "## 10. days30_165L\n",
        "Number of credit bureau queries for the last 30 days.\n",
        "## 11. days360_512L\n",
        "Number of Credit Bureau queries for last 360 days.\n",
        "## 12. days90_310L\n",
        "Number of credit bureau queries for the last 90 days.\n",
        "\n",
        "**note**: for an inital model, just pick 30 days and 120 days.\n",
        "## 13. description_5085714M\n",
        "Categorization of clients by credit bureau.\n",
        "## 14. education_1103M\n",
        "Level of education of the client provided by external source.\n",
        "## 15. education_88M\n",
        "Education level of the client.\n",
        "## 16. firstquarter_103L\n",
        "Number of results obtained from credit bureau in the first quarter.\n",
        "## 17. for3years_128L\n",
        "Number of rejected applications in the past 3 years.\n",
        "## 18. for3years_504L\n",
        "Client's credit history data over the last three years.\n",
        "## 19. for3years_584L\n",
        "Number of cancellations in the last 3 years."
      ]
    },
    {
      "cell_type": "markdown",
      "metadata": {
        "id": "ms_jnvMFBa0P"
      },
      "source": [
        "## 20. formonth_118L\n",
        "Number of rejections in a month.\n",
        "## 21. formonth_206L\n",
        "Number of cancelations in the previous month.\n",
        "## 22. formonth_535L\n",
        "Credit history for the last month.\n",
        "## 23. forquarter_1017L\n",
        "Number of cancellations recorded in the credit bureau in the last quarter.\n",
        "## 24. forquarter_462L\n",
        "Number of credit applications that were rejected in the last quarter.\n",
        "## 25. forquarter_634L\n",
        "Credit history for the last quarter.\n",
        "## 26. fortoday_1092L\n",
        "Client's credit history for today.\n",
        "## 27. forweek_1077L\n",
        "Number of cancelations in the last week.\n",
        "## 28. forweek_528L\n",
        "Credit history for the last week.\n",
        "## 29. forweek_601L\n",
        "Number of rejected applications in the last week."
      ]
    },
    {
      "cell_type": "markdown",
      "metadata": {
        "id": "dEVacoKUBiCv"
      },
      "source": [
        "## 30. foryear_618L\n",
        "Number of application rejections in the previous year.\n",
        "## 31. foryear_818L\n",
        "Number of cancelations that occurred in last year.\n",
        "## 32. foryear_850L\n",
        "Credit history for the last year.\n",
        "## 33. fourthquarter_440L\n",
        "Number of results in fourth quarter.\n",
        "## 34. maritalst_385M\n",
        "Marital status of the client.\n",
        "## 35. maritalst_893M\n",
        "Marital status of the client\n",
        "## 36. numberofqueries_373L\n",
        "Number of queries to credit bureau.\n",
        "## 37. pmtaverage_3A\n",
        "Average of tax deductions.\n",
        "## 38. pmtaverage_4527227A\n",
        "Average of tax deductions.\n",
        "## 39. pmtaverage_4955615A\n",
        "Average of tax deductions."
      ]
    },
    {
      "cell_type": "markdown",
      "metadata": {
        "id": "wSXUce4VBrQ3"
      },
      "source": [
        "## 40. pmtcount_4527229L\n",
        "Number of tax deductions.\n",
        "## 41. pmtcount_4955617L\n",
        "Number of tax deductions.\n",
        "## 42. pmtcount_693L\n",
        "Number of tax deductions.\n",
        "## 43. pmtscount_423L\n",
        "Number of tax deduction payments.\n",
        "## 44. pmtssum_45A\n",
        "Sum of tax deductions for the client.\n",
        "## 45. requesttype_4525192L\n",
        "Tax authority request type.\n",
        "## 46. responsedate_1012D\n",
        "Tax authority's response date.\n",
        "## 47. responsedate_4527233D\n",
        "Tax authority's response date.\n",
        "## 48. responsedate_4917613D\n",
        "Tax authority's response date.\n",
        "## 49. riskassesment_302T\n",
        "Estimated probability that the client will default on their credit obligation within the next year.\n",
        "\n",
        "## 50. riskassesment_940T\n",
        "Estimate of client's creditworthiness.\n",
        "## 51. secondquarter_766L\n",
        "Number of results in second quarter.\n",
        "## 52. thirdquarter_1082L\n",
        "Number of results in third quarter."
      ]
    },
    {
      "cell_type": "code",
      "execution_count": null,
      "metadata": {
        "id": "9xIoUR74j76O"
      },
      "outputs": [],
      "source": [
        "df_static_cb_train=pd.merge(df_base,df_static_cb_0,on=\"case_id\")"
      ]
    },
    {
      "cell_type": "code",
      "execution_count": null,
      "metadata": {
        "colab": {
          "base_uri": "https://localhost:8080/"
        },
        "id": "V068WY9E42ST",
        "outputId": "e5918058-57e1-4bc9-af93-367a8ad28c44"
      },
      "outputs": [
        {
          "output_type": "stream",
          "name": "stdout",
          "text": [
            "<class 'pandas.core.frame.DataFrame'>\n",
            "Int64Index: 1500476 entries, 0 to 1500475\n",
            "Data columns (total 57 columns):\n",
            " #   Column                   Non-Null Count    Dtype  \n",
            "---  ------                   --------------    -----  \n",
            " 0   case_id                  1500476 non-null  int64  \n",
            " 1   date_decision            1500476 non-null  object \n",
            " 2   MONTH                    1500476 non-null  int64  \n",
            " 3   WEEK_NUM                 1500476 non-null  int64  \n",
            " 4   target                   1500476 non-null  int64  \n",
            " 5   assignmentdate_238D      136996 non-null   object \n",
            " 6   assignmentdate_4527235D  114978 non-null   object \n",
            " 7   assignmentdate_4955616D  71633 non-null    object \n",
            " 8   birthdate_574D           607871 non-null   object \n",
            " 9   contractssum_5085716L    157329 non-null   float64\n",
            " 10  dateofbirth_337D         1385691 non-null  object \n",
            " 11  dateofbirth_342D         36500 non-null    object \n",
            " 12  days120_123L             1385691 non-null  float64\n",
            " 13  days180_256L             1385691 non-null  float64\n",
            " 14  days30_165L              1385691 non-null  float64\n",
            " 15  days360_512L             1385691 non-null  float64\n",
            " 16  days90_310L              1385691 non-null  float64\n",
            " 17  description_5085714M     1500476 non-null  object \n",
            " 18  education_1103M          1500476 non-null  object \n",
            " 19  education_88M            1500476 non-null  object \n",
            " 20  firstquarter_103L        1385691 non-null  float64\n",
            " 21  for3years_128L           36514 non-null    float64\n",
            " 22  for3years_504L           36514 non-null    float64\n",
            " 23  for3years_584L           36514 non-null    float64\n",
            " 24  formonth_118L            36514 non-null    float64\n",
            " 25  formonth_206L            36514 non-null    float64\n",
            " 26  formonth_535L            36514 non-null    float64\n",
            " 27  forquarter_1017L         36514 non-null    float64\n",
            " 28  forquarter_462L          36514 non-null    float64\n",
            " 29  forquarter_634L          36514 non-null    float64\n",
            " 30  fortoday_1092L           36514 non-null    float64\n",
            " 31  forweek_1077L            36514 non-null    float64\n",
            " 32  forweek_528L             36514 non-null    float64\n",
            " 33  forweek_601L             36514 non-null    float64\n",
            " 34  foryear_618L             36514 non-null    float64\n",
            " 35  foryear_818L             36514 non-null    float64\n",
            " 36  foryear_850L             36514 non-null    float64\n",
            " 37  fourthquarter_440L       1385691 non-null  float64\n",
            " 38  maritalst_385M           1500476 non-null  object \n",
            " 39  maritalst_893M           1500476 non-null  object \n",
            " 40  numberofqueries_373L     1385691 non-null  float64\n",
            " 41  pmtaverage_3A            143589 non-null   float64\n",
            " 42  pmtaverage_4527227A      114978 non-null   float64\n",
            " 43  pmtaverage_4955615A      71845 non-null    float64\n",
            " 44  pmtcount_4527229L        114978 non-null   float64\n",
            " 45  pmtcount_4955617L        71845 non-null    float64\n",
            " 46  pmtcount_693L            146406 non-null   float64\n",
            " 47  pmtscount_423L           572638 non-null   float64\n",
            " 48  pmtssum_45A              572638 non-null   float64\n",
            " 49  requesttype_4525192L     673264 non-null   object \n",
            " 50  responsedate_1012D       720000 non-null   object \n",
            " 51  responsedate_4527233D    660327 non-null   object \n",
            " 52  responsedate_4917613D    224912 non-null   object \n",
            " 53  riskassesment_302T       53559 non-null    object \n",
            " 54  riskassesment_940T       53560 non-null    float64\n",
            " 55  secondquarter_766L       1385691 non-null  float64\n",
            " 56  thirdquarter_1082L       1385691 non-null  float64\n",
            "dtypes: float64(36), int64(4), object(17)\n",
            "memory usage: 664.0+ MB\n"
          ]
        }
      ],
      "source": [
        "df_static_cb_train.info()"
      ]
    },
    {
      "cell_type": "code",
      "execution_count": null,
      "metadata": {
        "id": "yjfuUf6kX6HG"
      },
      "outputs": [],
      "source": [
        "columns_to_drop = ['date_decision', 'WEEK_NUM', 'birthdate_574D','dateofbirth_337D','dateofbirth_342D','assignmentdate_238D'\n",
        ",'assignmentdate_4527235D','assignmentdate_4955616D','days180_256L','days360_512L','days90_310L','for3years_128L','for3years_584L','formonth_118L',\n",
        "                   'formonth_206L','forquarter_1017L','forquarter_462L','forquarter_634L','fortoday_1092L','forweek_1077L','forweek_528L','forweek_601L',\n",
        "                   'foryear_618L','foryear_818L','foryear_850L','pmtaverage_3A','pmtaverage_4527227A','pmtaverage_4955615A','pmtcount_4527229L','pmtcount_4955617L','pmtscount_423L',\n",
        "                   'responsedate_1012D','responsedate_4527233D','responsedate_4917613D']\n",
        "df = df_static_cb_train.drop(columns_to_drop, axis=1)"
      ]
    },
    {
      "cell_type": "code",
      "execution_count": null,
      "metadata": {
        "colab": {
          "base_uri": "https://localhost:8080/"
        },
        "id": "uvn8tJlEYfwE",
        "outputId": "43fced28-f633-485d-b963-3d53830d119c"
      },
      "outputs": [
        {
          "output_type": "stream",
          "name": "stdout",
          "text": [
            "case_id                   0.000000\n",
            "MONTH                     0.000000\n",
            "target                    0.000000\n",
            "contractssum_5085716L    89.514727\n",
            "days120_123L              7.649906\n",
            "days30_165L               7.649906\n",
            "description_5085714M      0.000000\n",
            "education_1103M           0.000000\n",
            "education_88M             0.000000\n",
            "firstquarter_103L         7.649906\n",
            "for3years_504L           97.566506\n",
            "formonth_535L            97.566506\n",
            "fourthquarter_440L        7.649906\n",
            "maritalst_385M            0.000000\n",
            "maritalst_893M            0.000000\n",
            "numberofqueries_373L      7.649906\n",
            "pmtcount_693L            90.242696\n",
            "pmtssum_45A              61.836244\n",
            "requesttype_4525192L     55.129972\n",
            "riskassesment_302T       96.430533\n",
            "riskassesment_940T       96.430466\n",
            "secondquarter_766L        7.649906\n",
            "thirdquarter_1082L        7.649906\n",
            "dtype: float64\n"
          ]
        }
      ],
      "source": [
        "# 计算每列空值的百分比\n",
        "null_percentage = (df.isnull().sum() / len(df)) * 100\n",
        "\n",
        "# 打印每列空值的百分比\n",
        "print(null_percentage)\n"
      ]
    },
    {
      "cell_type": "code",
      "execution_count": null,
      "metadata": {
        "id": "a1M0ULiHkEt2"
      },
      "outputs": [],
      "source": [
        "df.fillna(0.0, inplace=True)"
      ]
    },
    {
      "cell_type": "code",
      "execution_count": null,
      "metadata": {
        "id": "lcNKPGzAl_i1"
      },
      "outputs": [],
      "source": [
        "import pandas as pd\n",
        "\n",
        "\n",
        "object_columns_train = df.select_dtypes(include=['object']).columns\n",
        "\n",
        "\n",
        "df_encoded = pd.get_dummies(df, columns=object_columns_train)\n",
        "\n",
        "\n",
        "\n",
        "print(df_encoded.info())\n",
        "\n"
      ]
    },
    {
      "cell_type": "code",
      "execution_count": null,
      "metadata": {
        "id": "mRWwaV1omB40"
      },
      "outputs": [],
      "source": [
        "from sklearn.ensemble import RandomForestClassifier\n",
        "from sklearn.model_selection import train_test_split\n",
        "\n",
        "# 分离特征和目标变量\n",
        "X = df_encoded.drop(['target', 'case_id'], axis=1)  # 假设所有其他列都是特征\n",
        "y = df_encoded['target']  # 目标变量\n",
        "\n",
        "# 划分训练集和测试集\n",
        "X_train, X_test, y_train, y_test = train_test_split(X, y, test_size=0.2, random_state=42)\n",
        "\n",
        "# 训练随机森林模型\n",
        "clf = RandomForestClassifier(n_estimators=100, class_weight='balanced_subsample', random_state=42)\n",
        "clf.fit(X_train, y_train)\n",
        "\n",
        "# 获取特征重要性\n",
        "feature_importances = clf.feature_importances_\n",
        "\n",
        "# 将特征重要性与特征名称配对并排序\n",
        "features = sorted(zip(X.columns, feature_importances), key=lambda x: x[1], reverse=True)\n",
        "\n",
        "# 打印特征重要性\n",
        "for feature, importance in features:\n",
        "    print(f'{feature}: {importance}')\n",
        "\n"
      ]
    },
    {
      "cell_type": "code",
      "execution_count": null,
      "metadata": {
        "id": "Mt-qDqj4CJrx"
      },
      "outputs": [],
      "source": [
        "from sklearn.metrics import roc_auc_score\n",
        "\n",
        "# 假设clf是已经训练好的随机森林分类器\n",
        "# X_test是测试集的特征，y_test是测试集的实际标签\n",
        "\n",
        "# 预测正类的概率\n",
        "y_test_pred_proba = clf.predict_proba(X_test)[:, 1]\n",
        "\n",
        "# 计算AUC\n",
        "auc_score = roc_auc_score(y_test, y_test_pred_proba)\n",
        "print(f'AUC Score: {auc_score}')\n"
      ]
    },
    {
      "cell_type": "markdown",
      "metadata": {
        "id": "F75CQmBzeHCI"
      },
      "source": [
        "# **applprev_1**\n",
        "\n",
        "## **Bussiness analysis**\n",
        "\n",
        "### **Financial condition and credit history**\n",
        "**1. actualdpd_943P**: The actual number of days past due (DPD) of the previous contract, reflecting the applicant’s past repayment behavior.\n",
        "\n",
        "**2. annuity_853A**: The previously applied monthly payment amount can reflect the applicant’s repayment burden.\n",
        "\n",
        "**4. byoccupationinc_3656910L**: The applicant’s income from previous applications directly reflects the applicant’s financial situation.\n",
        "\n",
        "**8. credacc_actualbalance_314A**: The actual balance of the credit account, the current amount owed, illustrates the applicant's current debt level.\n",
        "\n",
        "**9. credacc_credlmt_575A**: The credit card credit limit provided by previous applications reflects the credit market's trust in the applicant.\n",
        "\n",
        "**10. credacc_maxhisbal_375A & 11. credacc_minhisbal_90A**: The maximum and minimum historical balances of previous credit accounts, reflecting the applicant's credit utilization pattern and financial stability.\n",
        "\n",
        "**16. curdebt_94A**: Current Debt from Previous Applications, provides a view of an applicant's current liabilities.\n",
        "\n",
        "**32. outstandingdebt_522A**: The amount of outstanding debt previously applied by the customer illustrates the applicant's debt level.\n",
        "\n",
        "### **Application Information**\n",
        "**3. approvaldate_319D & 7. creationdate_885D**: Approval dates and creation dates of previous applications, which can provide information about the frequency of credit activity on the applicant.\n",
        "\n",
        "**15. credtype_587L**: The type of credit previously applied for. Different credit products may have different default risks.\n",
        "\n",
        "**17. dateactivated_425D & 20. dtlastpmt_581D**: The contract activation date and last payment date of the previous application provide direct evidence of the applicant's repayment behavior.\n",
        "\n",
        "**22. education_1138M**: The applicant’s education level indirectly reflects the applicant’s financial status and repayment ability.\n",
        "\n",
        "**24. familystate_726L**: The applicant’s family status in previous applications may affect the applicant’s financial responsibility and ability to repay.\n",
        "\n",
        "**30. maxdpdtolerance_577P**: The maximum DPD allowed (including tolerance), reflecting past repayment behavior and potential default risk.\n",
        "\n",
        "**33. pmtnum_8L**: The number of payments previously applied for reflects the applicant’s repayment habits.\n",
        "\n",
        "**39. status_219L**: The status of previous applications can show whether the applicant's application was successful, whether there is a record of breach of contract, etc.\n"
      ]
    },
    {
      "cell_type": "code",
      "execution_count": null,
      "metadata": {
        "id": "Gs04_rLSeSOj",
        "colab": {
          "base_uri": "https://localhost:8080/"
        },
        "outputId": "746dc0f9-1e15-43a0-aba2-20b256c85c5b"
      },
      "outputs": [
        {
          "output_type": "stream",
          "name": "stderr",
          "text": [
            "<ipython-input-2-f8399a26fe76>:16: DtypeWarning: Columns (27) have mixed types. Specify dtype option on import or set low_memory=False.\n",
            "  for chunk in pd.read_csv(file_path, chunksize=chunk_size):\n",
            "<ipython-input-2-f8399a26fe76>:16: DtypeWarning: Columns (27) have mixed types. Specify dtype option on import or set low_memory=False.\n",
            "  for chunk in pd.read_csv(file_path, chunksize=chunk_size):\n",
            "<ipython-input-2-f8399a26fe76>:16: DtypeWarning: Columns (27) have mixed types. Specify dtype option on import or set low_memory=False.\n",
            "  for chunk in pd.read_csv(file_path, chunksize=chunk_size):\n",
            "<ipython-input-2-f8399a26fe76>:16: DtypeWarning: Columns (27) have mixed types. Specify dtype option on import or set low_memory=False.\n",
            "  for chunk in pd.read_csv(file_path, chunksize=chunk_size):\n",
            "<ipython-input-2-f8399a26fe76>:16: DtypeWarning: Columns (27) have mixed types. Specify dtype option on import or set low_memory=False.\n",
            "  for chunk in pd.read_csv(file_path, chunksize=chunk_size):\n"
          ]
        }
      ],
      "source": [
        "df_applprev_1_0 = load_and_process_csv('/content/home-credit-data/csv_files/train/train_applprev_1_0.csv')"
      ]
    },
    {
      "cell_type": "code",
      "execution_count": null,
      "metadata": {
        "id": "R0iYfO43F5P_",
        "colab": {
          "base_uri": "https://localhost:8080/"
        },
        "outputId": "79b16b6f-e842-447d-c053-85b9aa3ff3a2"
      },
      "outputs": [
        {
          "output_type": "stream",
          "name": "stderr",
          "text": [
            "<ipython-input-2-f8399a26fe76>:16: DtypeWarning: Columns (27) have mixed types. Specify dtype option on import or set low_memory=False.\n",
            "  for chunk in pd.read_csv(file_path, chunksize=chunk_size):\n",
            "<ipython-input-2-f8399a26fe76>:16: DtypeWarning: Columns (27) have mixed types. Specify dtype option on import or set low_memory=False.\n",
            "  for chunk in pd.read_csv(file_path, chunksize=chunk_size):\n",
            "<ipython-input-2-f8399a26fe76>:16: DtypeWarning: Columns (27) have mixed types. Specify dtype option on import or set low_memory=False.\n",
            "  for chunk in pd.read_csv(file_path, chunksize=chunk_size):\n",
            "<ipython-input-2-f8399a26fe76>:16: DtypeWarning: Columns (27) have mixed types. Specify dtype option on import or set low_memory=False.\n",
            "  for chunk in pd.read_csv(file_path, chunksize=chunk_size):\n",
            "<ipython-input-2-f8399a26fe76>:16: DtypeWarning: Columns (27) have mixed types. Specify dtype option on import or set low_memory=False.\n",
            "  for chunk in pd.read_csv(file_path, chunksize=chunk_size):\n",
            "<ipython-input-2-f8399a26fe76>:16: DtypeWarning: Columns (27) have mixed types. Specify dtype option on import or set low_memory=False.\n",
            "  for chunk in pd.read_csv(file_path, chunksize=chunk_size):\n",
            "<ipython-input-2-f8399a26fe76>:16: DtypeWarning: Columns (27) have mixed types. Specify dtype option on import or set low_memory=False.\n",
            "  for chunk in pd.read_csv(file_path, chunksize=chunk_size):\n"
          ]
        }
      ],
      "source": [
        "df_applprev_1_1 = load_and_process_csv('/content/home-credit-data/csv_files/train/train_applprev_1_1.csv')"
      ]
    },
    {
      "cell_type": "code",
      "execution_count": null,
      "metadata": {
        "id": "lUA3Oo6xGcTP"
      },
      "outputs": [],
      "source": [
        "df_applprev_1 = pd.concat([df_applprev_1_0, df_applprev_1_1], ignore_index=True)"
      ]
    },
    {
      "cell_type": "code",
      "execution_count": null,
      "metadata": {
        "id": "A5cne7Io6XGJ",
        "colab": {
          "base_uri": "https://localhost:8080/"
        },
        "outputId": "fc8fcf2f-74b4-461a-cab0-b043a36d06f3"
      },
      "outputs": [
        {
          "output_type": "execute_result",
          "data": {
            "text/plain": [
              "(6525979, 41)"
            ]
          },
          "metadata": {},
          "execution_count": 9
        }
      ],
      "source": [
        "df_applprev_1.shape"
      ]
    },
    {
      "cell_type": "code",
      "execution_count": null,
      "metadata": {
        "id": "XH4td2euIOH2"
      },
      "outputs": [],
      "source": [
        "df_applprev_1_analysis = pd.merge(df_base,df_applprev_1,on=\"case_id\")"
      ]
    },
    {
      "cell_type": "code",
      "execution_count": null,
      "metadata": {
        "id": "twqaXoppJZ13",
        "colab": {
          "base_uri": "https://localhost:8080/"
        },
        "outputId": "0c4edf67-4329-4310-83d7-fc2c1ef959e0"
      },
      "outputs": [
        {
          "output_type": "execute_result",
          "data": {
            "text/plain": [
              "(6525979, 45)"
            ]
          },
          "metadata": {},
          "execution_count": 11
        }
      ],
      "source": [
        "df_applprev_1_analysis.shape"
      ]
    },
    {
      "cell_type": "code",
      "source": [
        "df_applprev_1_analysis.head()"
      ],
      "metadata": {
        "colab": {
          "base_uri": "https://localhost:8080/",
          "height": 255
        },
        "id": "fE8L9d6p0-hc",
        "outputId": "a3fe2539-aea8-4939-9e94-6c928d33163a"
      },
      "execution_count": null,
      "outputs": [
        {
          "output_type": "execute_result",
          "data": {
            "text/plain": [
              "   case_id date_decision   MONTH  WEEK_NUM  target  actualdpd_943P  \\\n",
              "0        2    2019-01-04  201901         0       0             0.0   \n",
              "1        2    2019-01-04  201901         0       0             0.0   \n",
              "2        3    2019-01-03  201901         0       0             0.0   \n",
              "3        4    2019-01-04  201901         0       1             0.0   \n",
              "4        5    2019-01-02  201901         0       0             0.0   \n",
              "\n",
              "   annuity_853A approvaldate_319D  byoccupationinc_3656910L  \\\n",
              "0         640.2               NaN                       NaN   \n",
              "1        1682.4               NaN                       NaN   \n",
              "2        6140.0               NaN                       NaN   \n",
              "3        2556.6               NaN                       NaN   \n",
              "4           NaN               NaN                       NaN   \n",
              "\n",
              "  cancelreason_3545846M  ...  num_group1 outstandingdebt_522A  pmtnum_8L  \\\n",
              "0              a55475b1  ...           0                  NaN       24.0   \n",
              "1              a55475b1  ...           1                  NaN       12.0   \n",
              "2           P94_109_143  ...           0                  NaN       12.0   \n",
              "3             P24_27_36  ...           0                  NaN       24.0   \n",
              "4           P85_114_140  ...           0                  NaN        NaN   \n",
              "\n",
              "   postype_4733339M  profession_152M  rejectreason_755M  \\\n",
              "0          a55475b1         a55475b1           a55475b1   \n",
              "1          a55475b1         a55475b1           a55475b1   \n",
              "2          a55475b1         a55475b1        P94_109_143   \n",
              "3          a55475b1         a55475b1           a55475b1   \n",
              "4          a55475b1         a55475b1           a55475b1   \n",
              "\n",
              "  rejectreasonclient_4145042M  revolvingaccount_394A  status_219L tenor_203L  \n",
              "0                    a55475b1                    NaN            D       24.0  \n",
              "1                    a55475b1                    NaN            D       12.0  \n",
              "2                    a55475b1                    NaN            D       12.0  \n",
              "3                    a55475b1                    NaN            T       24.0  \n",
              "4                    a55475b1                    NaN            T        NaN  \n",
              "\n",
              "[5 rows x 45 columns]"
            ],
            "text/html": [
              "\n",
              "  <div id=\"df-01b92e1e-b495-4aa9-b41d-f9961c30712c\" class=\"colab-df-container\">\n",
              "    <div>\n",
              "<style scoped>\n",
              "    .dataframe tbody tr th:only-of-type {\n",
              "        vertical-align: middle;\n",
              "    }\n",
              "\n",
              "    .dataframe tbody tr th {\n",
              "        vertical-align: top;\n",
              "    }\n",
              "\n",
              "    .dataframe thead th {\n",
              "        text-align: right;\n",
              "    }\n",
              "</style>\n",
              "<table border=\"1\" class=\"dataframe\">\n",
              "  <thead>\n",
              "    <tr style=\"text-align: right;\">\n",
              "      <th></th>\n",
              "      <th>case_id</th>\n",
              "      <th>date_decision</th>\n",
              "      <th>MONTH</th>\n",
              "      <th>WEEK_NUM</th>\n",
              "      <th>target</th>\n",
              "      <th>actualdpd_943P</th>\n",
              "      <th>annuity_853A</th>\n",
              "      <th>approvaldate_319D</th>\n",
              "      <th>byoccupationinc_3656910L</th>\n",
              "      <th>cancelreason_3545846M</th>\n",
              "      <th>...</th>\n",
              "      <th>num_group1</th>\n",
              "      <th>outstandingdebt_522A</th>\n",
              "      <th>pmtnum_8L</th>\n",
              "      <th>postype_4733339M</th>\n",
              "      <th>profession_152M</th>\n",
              "      <th>rejectreason_755M</th>\n",
              "      <th>rejectreasonclient_4145042M</th>\n",
              "      <th>revolvingaccount_394A</th>\n",
              "      <th>status_219L</th>\n",
              "      <th>tenor_203L</th>\n",
              "    </tr>\n",
              "  </thead>\n",
              "  <tbody>\n",
              "    <tr>\n",
              "      <th>0</th>\n",
              "      <td>2</td>\n",
              "      <td>2019-01-04</td>\n",
              "      <td>201901</td>\n",
              "      <td>0</td>\n",
              "      <td>0</td>\n",
              "      <td>0.0</td>\n",
              "      <td>640.2</td>\n",
              "      <td>NaN</td>\n",
              "      <td>NaN</td>\n",
              "      <td>a55475b1</td>\n",
              "      <td>...</td>\n",
              "      <td>0</td>\n",
              "      <td>NaN</td>\n",
              "      <td>24.0</td>\n",
              "      <td>a55475b1</td>\n",
              "      <td>a55475b1</td>\n",
              "      <td>a55475b1</td>\n",
              "      <td>a55475b1</td>\n",
              "      <td>NaN</td>\n",
              "      <td>D</td>\n",
              "      <td>24.0</td>\n",
              "    </tr>\n",
              "    <tr>\n",
              "      <th>1</th>\n",
              "      <td>2</td>\n",
              "      <td>2019-01-04</td>\n",
              "      <td>201901</td>\n",
              "      <td>0</td>\n",
              "      <td>0</td>\n",
              "      <td>0.0</td>\n",
              "      <td>1682.4</td>\n",
              "      <td>NaN</td>\n",
              "      <td>NaN</td>\n",
              "      <td>a55475b1</td>\n",
              "      <td>...</td>\n",
              "      <td>1</td>\n",
              "      <td>NaN</td>\n",
              "      <td>12.0</td>\n",
              "      <td>a55475b1</td>\n",
              "      <td>a55475b1</td>\n",
              "      <td>a55475b1</td>\n",
              "      <td>a55475b1</td>\n",
              "      <td>NaN</td>\n",
              "      <td>D</td>\n",
              "      <td>12.0</td>\n",
              "    </tr>\n",
              "    <tr>\n",
              "      <th>2</th>\n",
              "      <td>3</td>\n",
              "      <td>2019-01-03</td>\n",
              "      <td>201901</td>\n",
              "      <td>0</td>\n",
              "      <td>0</td>\n",
              "      <td>0.0</td>\n",
              "      <td>6140.0</td>\n",
              "      <td>NaN</td>\n",
              "      <td>NaN</td>\n",
              "      <td>P94_109_143</td>\n",
              "      <td>...</td>\n",
              "      <td>0</td>\n",
              "      <td>NaN</td>\n",
              "      <td>12.0</td>\n",
              "      <td>a55475b1</td>\n",
              "      <td>a55475b1</td>\n",
              "      <td>P94_109_143</td>\n",
              "      <td>a55475b1</td>\n",
              "      <td>NaN</td>\n",
              "      <td>D</td>\n",
              "      <td>12.0</td>\n",
              "    </tr>\n",
              "    <tr>\n",
              "      <th>3</th>\n",
              "      <td>4</td>\n",
              "      <td>2019-01-04</td>\n",
              "      <td>201901</td>\n",
              "      <td>0</td>\n",
              "      <td>1</td>\n",
              "      <td>0.0</td>\n",
              "      <td>2556.6</td>\n",
              "      <td>NaN</td>\n",
              "      <td>NaN</td>\n",
              "      <td>P24_27_36</td>\n",
              "      <td>...</td>\n",
              "      <td>0</td>\n",
              "      <td>NaN</td>\n",
              "      <td>24.0</td>\n",
              "      <td>a55475b1</td>\n",
              "      <td>a55475b1</td>\n",
              "      <td>a55475b1</td>\n",
              "      <td>a55475b1</td>\n",
              "      <td>NaN</td>\n",
              "      <td>T</td>\n",
              "      <td>24.0</td>\n",
              "    </tr>\n",
              "    <tr>\n",
              "      <th>4</th>\n",
              "      <td>5</td>\n",
              "      <td>2019-01-02</td>\n",
              "      <td>201901</td>\n",
              "      <td>0</td>\n",
              "      <td>0</td>\n",
              "      <td>0.0</td>\n",
              "      <td>NaN</td>\n",
              "      <td>NaN</td>\n",
              "      <td>NaN</td>\n",
              "      <td>P85_114_140</td>\n",
              "      <td>...</td>\n",
              "      <td>0</td>\n",
              "      <td>NaN</td>\n",
              "      <td>NaN</td>\n",
              "      <td>a55475b1</td>\n",
              "      <td>a55475b1</td>\n",
              "      <td>a55475b1</td>\n",
              "      <td>a55475b1</td>\n",
              "      <td>NaN</td>\n",
              "      <td>T</td>\n",
              "      <td>NaN</td>\n",
              "    </tr>\n",
              "  </tbody>\n",
              "</table>\n",
              "<p>5 rows × 45 columns</p>\n",
              "</div>\n",
              "    <div class=\"colab-df-buttons\">\n",
              "\n",
              "  <div class=\"colab-df-container\">\n",
              "    <button class=\"colab-df-convert\" onclick=\"convertToInteractive('df-01b92e1e-b495-4aa9-b41d-f9961c30712c')\"\n",
              "            title=\"Convert this dataframe to an interactive table.\"\n",
              "            style=\"display:none;\">\n",
              "\n",
              "  <svg xmlns=\"http://www.w3.org/2000/svg\" height=\"24px\" viewBox=\"0 -960 960 960\">\n",
              "    <path d=\"M120-120v-720h720v720H120Zm60-500h600v-160H180v160Zm220 220h160v-160H400v160Zm0 220h160v-160H400v160ZM180-400h160v-160H180v160Zm440 0h160v-160H620v160ZM180-180h160v-160H180v160Zm440 0h160v-160H620v160Z\"/>\n",
              "  </svg>\n",
              "    </button>\n",
              "\n",
              "  <style>\n",
              "    .colab-df-container {\n",
              "      display:flex;\n",
              "      gap: 12px;\n",
              "    }\n",
              "\n",
              "    .colab-df-convert {\n",
              "      background-color: #E8F0FE;\n",
              "      border: none;\n",
              "      border-radius: 50%;\n",
              "      cursor: pointer;\n",
              "      display: none;\n",
              "      fill: #1967D2;\n",
              "      height: 32px;\n",
              "      padding: 0 0 0 0;\n",
              "      width: 32px;\n",
              "    }\n",
              "\n",
              "    .colab-df-convert:hover {\n",
              "      background-color: #E2EBFA;\n",
              "      box-shadow: 0px 1px 2px rgba(60, 64, 67, 0.3), 0px 1px 3px 1px rgba(60, 64, 67, 0.15);\n",
              "      fill: #174EA6;\n",
              "    }\n",
              "\n",
              "    .colab-df-buttons div {\n",
              "      margin-bottom: 4px;\n",
              "    }\n",
              "\n",
              "    [theme=dark] .colab-df-convert {\n",
              "      background-color: #3B4455;\n",
              "      fill: #D2E3FC;\n",
              "    }\n",
              "\n",
              "    [theme=dark] .colab-df-convert:hover {\n",
              "      background-color: #434B5C;\n",
              "      box-shadow: 0px 1px 3px 1px rgba(0, 0, 0, 0.15);\n",
              "      filter: drop-shadow(0px 1px 2px rgba(0, 0, 0, 0.3));\n",
              "      fill: #FFFFFF;\n",
              "    }\n",
              "  </style>\n",
              "\n",
              "    <script>\n",
              "      const buttonEl =\n",
              "        document.querySelector('#df-01b92e1e-b495-4aa9-b41d-f9961c30712c button.colab-df-convert');\n",
              "      buttonEl.style.display =\n",
              "        google.colab.kernel.accessAllowed ? 'block' : 'none';\n",
              "\n",
              "      async function convertToInteractive(key) {\n",
              "        const element = document.querySelector('#df-01b92e1e-b495-4aa9-b41d-f9961c30712c');\n",
              "        const dataTable =\n",
              "          await google.colab.kernel.invokeFunction('convertToInteractive',\n",
              "                                                    [key], {});\n",
              "        if (!dataTable) return;\n",
              "\n",
              "        const docLinkHtml = 'Like what you see? Visit the ' +\n",
              "          '<a target=\"_blank\" href=https://colab.research.google.com/notebooks/data_table.ipynb>data table notebook</a>'\n",
              "          + ' to learn more about interactive tables.';\n",
              "        element.innerHTML = '';\n",
              "        dataTable['output_type'] = 'display_data';\n",
              "        await google.colab.output.renderOutput(dataTable, element);\n",
              "        const docLink = document.createElement('div');\n",
              "        docLink.innerHTML = docLinkHtml;\n",
              "        element.appendChild(docLink);\n",
              "      }\n",
              "    </script>\n",
              "  </div>\n",
              "\n",
              "\n",
              "<div id=\"df-41292105-e148-494f-94da-53350122c0b0\">\n",
              "  <button class=\"colab-df-quickchart\" onclick=\"quickchart('df-41292105-e148-494f-94da-53350122c0b0')\"\n",
              "            title=\"Suggest charts\"\n",
              "            style=\"display:none;\">\n",
              "\n",
              "<svg xmlns=\"http://www.w3.org/2000/svg\" height=\"24px\"viewBox=\"0 0 24 24\"\n",
              "     width=\"24px\">\n",
              "    <g>\n",
              "        <path d=\"M19 3H5c-1.1 0-2 .9-2 2v14c0 1.1.9 2 2 2h14c1.1 0 2-.9 2-2V5c0-1.1-.9-2-2-2zM9 17H7v-7h2v7zm4 0h-2V7h2v10zm4 0h-2v-4h2v4z\"/>\n",
              "    </g>\n",
              "</svg>\n",
              "  </button>\n",
              "\n",
              "<style>\n",
              "  .colab-df-quickchart {\n",
              "      --bg-color: #E8F0FE;\n",
              "      --fill-color: #1967D2;\n",
              "      --hover-bg-color: #E2EBFA;\n",
              "      --hover-fill-color: #174EA6;\n",
              "      --disabled-fill-color: #AAA;\n",
              "      --disabled-bg-color: #DDD;\n",
              "  }\n",
              "\n",
              "  [theme=dark] .colab-df-quickchart {\n",
              "      --bg-color: #3B4455;\n",
              "      --fill-color: #D2E3FC;\n",
              "      --hover-bg-color: #434B5C;\n",
              "      --hover-fill-color: #FFFFFF;\n",
              "      --disabled-bg-color: #3B4455;\n",
              "      --disabled-fill-color: #666;\n",
              "  }\n",
              "\n",
              "  .colab-df-quickchart {\n",
              "    background-color: var(--bg-color);\n",
              "    border: none;\n",
              "    border-radius: 50%;\n",
              "    cursor: pointer;\n",
              "    display: none;\n",
              "    fill: var(--fill-color);\n",
              "    height: 32px;\n",
              "    padding: 0;\n",
              "    width: 32px;\n",
              "  }\n",
              "\n",
              "  .colab-df-quickchart:hover {\n",
              "    background-color: var(--hover-bg-color);\n",
              "    box-shadow: 0 1px 2px rgba(60, 64, 67, 0.3), 0 1px 3px 1px rgba(60, 64, 67, 0.15);\n",
              "    fill: var(--button-hover-fill-color);\n",
              "  }\n",
              "\n",
              "  .colab-df-quickchart-complete:disabled,\n",
              "  .colab-df-quickchart-complete:disabled:hover {\n",
              "    background-color: var(--disabled-bg-color);\n",
              "    fill: var(--disabled-fill-color);\n",
              "    box-shadow: none;\n",
              "  }\n",
              "\n",
              "  .colab-df-spinner {\n",
              "    border: 2px solid var(--fill-color);\n",
              "    border-color: transparent;\n",
              "    border-bottom-color: var(--fill-color);\n",
              "    animation:\n",
              "      spin 1s steps(1) infinite;\n",
              "  }\n",
              "\n",
              "  @keyframes spin {\n",
              "    0% {\n",
              "      border-color: transparent;\n",
              "      border-bottom-color: var(--fill-color);\n",
              "      border-left-color: var(--fill-color);\n",
              "    }\n",
              "    20% {\n",
              "      border-color: transparent;\n",
              "      border-left-color: var(--fill-color);\n",
              "      border-top-color: var(--fill-color);\n",
              "    }\n",
              "    30% {\n",
              "      border-color: transparent;\n",
              "      border-left-color: var(--fill-color);\n",
              "      border-top-color: var(--fill-color);\n",
              "      border-right-color: var(--fill-color);\n",
              "    }\n",
              "    40% {\n",
              "      border-color: transparent;\n",
              "      border-right-color: var(--fill-color);\n",
              "      border-top-color: var(--fill-color);\n",
              "    }\n",
              "    60% {\n",
              "      border-color: transparent;\n",
              "      border-right-color: var(--fill-color);\n",
              "    }\n",
              "    80% {\n",
              "      border-color: transparent;\n",
              "      border-right-color: var(--fill-color);\n",
              "      border-bottom-color: var(--fill-color);\n",
              "    }\n",
              "    90% {\n",
              "      border-color: transparent;\n",
              "      border-bottom-color: var(--fill-color);\n",
              "    }\n",
              "  }\n",
              "</style>\n",
              "\n",
              "  <script>\n",
              "    async function quickchart(key) {\n",
              "      const quickchartButtonEl =\n",
              "        document.querySelector('#' + key + ' button');\n",
              "      quickchartButtonEl.disabled = true;  // To prevent multiple clicks.\n",
              "      quickchartButtonEl.classList.add('colab-df-spinner');\n",
              "      try {\n",
              "        const charts = await google.colab.kernel.invokeFunction(\n",
              "            'suggestCharts', [key], {});\n",
              "      } catch (error) {\n",
              "        console.error('Error during call to suggestCharts:', error);\n",
              "      }\n",
              "      quickchartButtonEl.classList.remove('colab-df-spinner');\n",
              "      quickchartButtonEl.classList.add('colab-df-quickchart-complete');\n",
              "    }\n",
              "    (() => {\n",
              "      let quickchartButtonEl =\n",
              "        document.querySelector('#df-41292105-e148-494f-94da-53350122c0b0 button');\n",
              "      quickchartButtonEl.style.display =\n",
              "        google.colab.kernel.accessAllowed ? 'block' : 'none';\n",
              "    })();\n",
              "  </script>\n",
              "</div>\n",
              "    </div>\n",
              "  </div>\n"
            ],
            "application/vnd.google.colaboratory.intrinsic+json": {
              "type": "dataframe",
              "variable_name": "df_applprev_1_analysis"
            }
          },
          "metadata": {},
          "execution_count": 12
        }
      ]
    },
    {
      "cell_type": "code",
      "source": [
        "null_sum =df_applprev_1_analysis.isnull().sum()\n",
        "df_applprev_1_analysis.columns[null_sum<len(df_applprev_1_analysis)*0.3]"
      ],
      "metadata": {
        "colab": {
          "base_uri": "https://localhost:8080/"
        },
        "id": "D99ec5vE2SFz",
        "outputId": "c952cbcc-fdf4-4f46-8126-ef058f7b1f89"
      },
      "execution_count": null,
      "outputs": [
        {
          "output_type": "execute_result",
          "data": {
            "text/plain": [
              "Index(['case_id', 'date_decision', 'MONTH', 'WEEK_NUM', 'target',\n",
              "       'actualdpd_943P', 'annuity_853A', 'cancelreason_3545846M',\n",
              "       'creationdate_885D', 'credacc_credlmt_575A', 'credamount_590A',\n",
              "       'credtype_587L', 'district_544M', 'downpmt_134A', 'education_1138M',\n",
              "       'firstnonzeroinstldate_307D', 'inittransactioncode_279L',\n",
              "       'isbidproduct_390L', 'mainoccupationinc_437A', 'num_group1',\n",
              "       'pmtnum_8L', 'postype_4733339M', 'profession_152M', 'rejectreason_755M',\n",
              "       'rejectreasonclient_4145042M', 'status_219L', 'tenor_203L'],\n",
              "      dtype='object')"
            ]
          },
          "metadata": {},
          "execution_count": 13
        }
      ]
    },
    {
      "cell_type": "code",
      "source": [
        "df_applprev_1_analysis.drop(columns=df_applprev_1_analysis.columns[null_sum>len(df_applprev_1_analysis)*0.3],inplace=True)"
      ],
      "metadata": {
        "id": "Gpu4fWx33Amy"
      },
      "execution_count": null,
      "outputs": []
    },
    {
      "cell_type": "code",
      "source": [
        "df_applprev_1_analysis.dtypes"
      ],
      "metadata": {
        "colab": {
          "base_uri": "https://localhost:8080/"
        },
        "id": "5y0ficiJ35rD",
        "outputId": "d79be9f8-e78f-411a-fc16-441998543731"
      },
      "execution_count": null,
      "outputs": [
        {
          "output_type": "execute_result",
          "data": {
            "text/plain": [
              "case_id                          int64\n",
              "date_decision                   object\n",
              "MONTH                            int64\n",
              "WEEK_NUM                         int64\n",
              "target                           int64\n",
              "actualdpd_943P                 float64\n",
              "annuity_853A                   float64\n",
              "cancelreason_3545846M           object\n",
              "creationdate_885D               object\n",
              "credacc_credlmt_575A           float64\n",
              "credamount_590A                float64\n",
              "credtype_587L                   object\n",
              "district_544M                   object\n",
              "downpmt_134A                   float64\n",
              "education_1138M                 object\n",
              "firstnonzeroinstldate_307D      object\n",
              "inittransactioncode_279L        object\n",
              "isbidproduct_390L               object\n",
              "mainoccupationinc_437A         float64\n",
              "num_group1                       int64\n",
              "pmtnum_8L                      float64\n",
              "postype_4733339M                object\n",
              "profession_152M                 object\n",
              "rejectreason_755M               object\n",
              "rejectreasonclient_4145042M     object\n",
              "status_219L                     object\n",
              "tenor_203L                     float64\n",
              "dtype: object"
            ]
          },
          "metadata": {},
          "execution_count": 15
        }
      ]
    },
    {
      "cell_type": "code",
      "source": [
        "df_applprev_1_analysis['date_decision']=pd.to_datetime(df_applprev_1_analysis['date_decision'])"
      ],
      "metadata": {
        "id": "KzL4A3eo5qus"
      },
      "execution_count": null,
      "outputs": []
    },
    {
      "cell_type": "code",
      "source": [
        "df_applprev_1_analysis['creationdate_885D']=pd.to_datetime(df_applprev_1_analysis['creationdate_885D'])"
      ],
      "metadata": {
        "id": "GP9R1jWA6vjT"
      },
      "execution_count": null,
      "outputs": []
    },
    {
      "cell_type": "code",
      "source": [
        "df_applprev_1_analysis['firstnonzeroinstldate_307D']=pd.to_datetime(df_applprev_1_analysis['firstnonzeroinstldate_307D'])"
      ],
      "metadata": {
        "id": "HJARecvd621C"
      },
      "execution_count": null,
      "outputs": []
    },
    {
      "cell_type": "code",
      "source": [
        "df_applprev_1_analysis.dtypes"
      ],
      "metadata": {
        "colab": {
          "base_uri": "https://localhost:8080/"
        },
        "id": "kBH3RNiL7JkT",
        "outputId": "6089a453-f121-4e5f-f4c8-24abd3b0a637"
      },
      "execution_count": null,
      "outputs": [
        {
          "output_type": "execute_result",
          "data": {
            "text/plain": [
              "case_id                                 int64\n",
              "date_decision                  datetime64[ns]\n",
              "MONTH                                   int64\n",
              "WEEK_NUM                                int64\n",
              "target                                  int64\n",
              "actualdpd_943P                        float64\n",
              "annuity_853A                          float64\n",
              "cancelreason_3545846M                  object\n",
              "creationdate_885D              datetime64[ns]\n",
              "credacc_credlmt_575A                  float64\n",
              "credamount_590A                       float64\n",
              "credtype_587L                          object\n",
              "district_544M                          object\n",
              "downpmt_134A                          float64\n",
              "education_1138M                        object\n",
              "firstnonzeroinstldate_307D     datetime64[ns]\n",
              "inittransactioncode_279L               object\n",
              "isbidproduct_390L                      object\n",
              "mainoccupationinc_437A                float64\n",
              "num_group1                              int64\n",
              "pmtnum_8L                             float64\n",
              "postype_4733339M                       object\n",
              "profession_152M                        object\n",
              "rejectreason_755M                      object\n",
              "rejectreasonclient_4145042M            object\n",
              "status_219L                            object\n",
              "tenor_203L                            float64\n",
              "dtype: object"
            ]
          },
          "metadata": {},
          "execution_count": 19
        }
      ]
    },
    {
      "cell_type": "code",
      "source": [
        "df_applprev_1_analysis.describe()"
      ],
      "metadata": {
        "colab": {
          "base_uri": "https://localhost:8080/",
          "height": 320
        },
        "id": "fdsAfYAV8Shp",
        "outputId": "7c72e2bb-0983-4e8d-ce28-a4133c702d79"
      },
      "execution_count": null,
      "outputs": [
        {
          "output_type": "execute_result",
          "data": {
            "text/plain": [
              "            case_id         MONTH      WEEK_NUM        target  actualdpd_943P  \\\n",
              "count  6.525979e+06  6.525979e+06  6.525979e+06  6.525979e+06    6.523479e+06   \n",
              "mean   1.431941e+06  2.019426e+05  4.400120e+01  3.739791e-02    1.477770e-02   \n",
              "std    7.871913e+05  4.702053e+01  2.461334e+01  1.897349e-01    4.644273e+00   \n",
              "min    2.000000e+00  2.019010e+05  0.000000e+00  0.000000e+00    0.000000e+00   \n",
              "25%    9.586575e+05  2.019060e+05  2.500000e+01  0.000000e+00    0.000000e+00   \n",
              "50%    1.555975e+06  2.019110e+05  4.400000e+01  0.000000e+00    0.000000e+00   \n",
              "75%    1.853312e+06  2.020020e+05  6.000000e+01  0.000000e+00    0.000000e+00   \n",
              "max    2.703454e+06  2.020100e+05  9.100000e+01  1.000000e+00    4.206000e+03   \n",
              "\n",
              "       annuity_853A  credacc_credlmt_575A  credamount_590A  downpmt_134A  \\\n",
              "count  6.275243e+06          6.331847e+06     6.323781e+06  6.323781e+06   \n",
              "mean   3.449518e+03          3.397954e+03     4.040936e+04  4.300034e+02   \n",
              "std    2.884078e+03          1.510040e+04     4.113942e+04  2.664322e+03   \n",
              "min    0.000000e+00          0.000000e+00     0.000000e+00  0.000000e+00   \n",
              "25%    1.711000e+03          0.000000e+00     1.400000e+04  0.000000e+00   \n",
              "50%    2.787000e+03          0.000000e+00     2.800000e+04  0.000000e+00   \n",
              "75%    4.482600e+03          0.000000e+00     5.279200e+04  0.000000e+00   \n",
              "max    1.051302e+05          4.000000e+05     1.000000e+06  4.204000e+05   \n",
              "\n",
              "       mainoccupationinc_437A    num_group1     pmtnum_8L    tenor_203L  \n",
              "count            6.423996e+06  6.525979e+06  5.974159e+06  5.974159e+06  \n",
              "mean             4.123782e+04  4.194368e+00  1.621421e+01  1.621421e+01  \n",
              "std              3.189772e+04  4.274768e+00  1.079898e+01  1.079898e+01  \n",
              "min              0.000000e+00  0.000000e+00  3.000000e+00  3.000000e+00  \n",
              "25%              1.880000e+04  1.000000e+00  8.000000e+00  8.000000e+00  \n",
              "50%              3.600000e+04  3.000000e+00  1.200000e+01  1.200000e+01  \n",
              "75%              5.600000e+04  6.000000e+00  2.400000e+01  2.400000e+01  \n",
              "max              1.996000e+05  1.900000e+01  6.300000e+01  6.300000e+01  "
            ],
            "text/html": [
              "\n",
              "  <div id=\"df-c0b7bfc3-6d4d-40b5-882a-f7a4069e433c\" class=\"colab-df-container\">\n",
              "    <div>\n",
              "<style scoped>\n",
              "    .dataframe tbody tr th:only-of-type {\n",
              "        vertical-align: middle;\n",
              "    }\n",
              "\n",
              "    .dataframe tbody tr th {\n",
              "        vertical-align: top;\n",
              "    }\n",
              "\n",
              "    .dataframe thead th {\n",
              "        text-align: right;\n",
              "    }\n",
              "</style>\n",
              "<table border=\"1\" class=\"dataframe\">\n",
              "  <thead>\n",
              "    <tr style=\"text-align: right;\">\n",
              "      <th></th>\n",
              "      <th>case_id</th>\n",
              "      <th>MONTH</th>\n",
              "      <th>WEEK_NUM</th>\n",
              "      <th>target</th>\n",
              "      <th>actualdpd_943P</th>\n",
              "      <th>annuity_853A</th>\n",
              "      <th>credacc_credlmt_575A</th>\n",
              "      <th>credamount_590A</th>\n",
              "      <th>downpmt_134A</th>\n",
              "      <th>mainoccupationinc_437A</th>\n",
              "      <th>num_group1</th>\n",
              "      <th>pmtnum_8L</th>\n",
              "      <th>tenor_203L</th>\n",
              "    </tr>\n",
              "  </thead>\n",
              "  <tbody>\n",
              "    <tr>\n",
              "      <th>count</th>\n",
              "      <td>6.525979e+06</td>\n",
              "      <td>6.525979e+06</td>\n",
              "      <td>6.525979e+06</td>\n",
              "      <td>6.525979e+06</td>\n",
              "      <td>6.523479e+06</td>\n",
              "      <td>6.275243e+06</td>\n",
              "      <td>6.331847e+06</td>\n",
              "      <td>6.323781e+06</td>\n",
              "      <td>6.323781e+06</td>\n",
              "      <td>6.423996e+06</td>\n",
              "      <td>6.525979e+06</td>\n",
              "      <td>5.974159e+06</td>\n",
              "      <td>5.974159e+06</td>\n",
              "    </tr>\n",
              "    <tr>\n",
              "      <th>mean</th>\n",
              "      <td>1.431941e+06</td>\n",
              "      <td>2.019426e+05</td>\n",
              "      <td>4.400120e+01</td>\n",
              "      <td>3.739791e-02</td>\n",
              "      <td>1.477770e-02</td>\n",
              "      <td>3.449518e+03</td>\n",
              "      <td>3.397954e+03</td>\n",
              "      <td>4.040936e+04</td>\n",
              "      <td>4.300034e+02</td>\n",
              "      <td>4.123782e+04</td>\n",
              "      <td>4.194368e+00</td>\n",
              "      <td>1.621421e+01</td>\n",
              "      <td>1.621421e+01</td>\n",
              "    </tr>\n",
              "    <tr>\n",
              "      <th>std</th>\n",
              "      <td>7.871913e+05</td>\n",
              "      <td>4.702053e+01</td>\n",
              "      <td>2.461334e+01</td>\n",
              "      <td>1.897349e-01</td>\n",
              "      <td>4.644273e+00</td>\n",
              "      <td>2.884078e+03</td>\n",
              "      <td>1.510040e+04</td>\n",
              "      <td>4.113942e+04</td>\n",
              "      <td>2.664322e+03</td>\n",
              "      <td>3.189772e+04</td>\n",
              "      <td>4.274768e+00</td>\n",
              "      <td>1.079898e+01</td>\n",
              "      <td>1.079898e+01</td>\n",
              "    </tr>\n",
              "    <tr>\n",
              "      <th>min</th>\n",
              "      <td>2.000000e+00</td>\n",
              "      <td>2.019010e+05</td>\n",
              "      <td>0.000000e+00</td>\n",
              "      <td>0.000000e+00</td>\n",
              "      <td>0.000000e+00</td>\n",
              "      <td>0.000000e+00</td>\n",
              "      <td>0.000000e+00</td>\n",
              "      <td>0.000000e+00</td>\n",
              "      <td>0.000000e+00</td>\n",
              "      <td>0.000000e+00</td>\n",
              "      <td>0.000000e+00</td>\n",
              "      <td>3.000000e+00</td>\n",
              "      <td>3.000000e+00</td>\n",
              "    </tr>\n",
              "    <tr>\n",
              "      <th>25%</th>\n",
              "      <td>9.586575e+05</td>\n",
              "      <td>2.019060e+05</td>\n",
              "      <td>2.500000e+01</td>\n",
              "      <td>0.000000e+00</td>\n",
              "      <td>0.000000e+00</td>\n",
              "      <td>1.711000e+03</td>\n",
              "      <td>0.000000e+00</td>\n",
              "      <td>1.400000e+04</td>\n",
              "      <td>0.000000e+00</td>\n",
              "      <td>1.880000e+04</td>\n",
              "      <td>1.000000e+00</td>\n",
              "      <td>8.000000e+00</td>\n",
              "      <td>8.000000e+00</td>\n",
              "    </tr>\n",
              "    <tr>\n",
              "      <th>50%</th>\n",
              "      <td>1.555975e+06</td>\n",
              "      <td>2.019110e+05</td>\n",
              "      <td>4.400000e+01</td>\n",
              "      <td>0.000000e+00</td>\n",
              "      <td>0.000000e+00</td>\n",
              "      <td>2.787000e+03</td>\n",
              "      <td>0.000000e+00</td>\n",
              "      <td>2.800000e+04</td>\n",
              "      <td>0.000000e+00</td>\n",
              "      <td>3.600000e+04</td>\n",
              "      <td>3.000000e+00</td>\n",
              "      <td>1.200000e+01</td>\n",
              "      <td>1.200000e+01</td>\n",
              "    </tr>\n",
              "    <tr>\n",
              "      <th>75%</th>\n",
              "      <td>1.853312e+06</td>\n",
              "      <td>2.020020e+05</td>\n",
              "      <td>6.000000e+01</td>\n",
              "      <td>0.000000e+00</td>\n",
              "      <td>0.000000e+00</td>\n",
              "      <td>4.482600e+03</td>\n",
              "      <td>0.000000e+00</td>\n",
              "      <td>5.279200e+04</td>\n",
              "      <td>0.000000e+00</td>\n",
              "      <td>5.600000e+04</td>\n",
              "      <td>6.000000e+00</td>\n",
              "      <td>2.400000e+01</td>\n",
              "      <td>2.400000e+01</td>\n",
              "    </tr>\n",
              "    <tr>\n",
              "      <th>max</th>\n",
              "      <td>2.703454e+06</td>\n",
              "      <td>2.020100e+05</td>\n",
              "      <td>9.100000e+01</td>\n",
              "      <td>1.000000e+00</td>\n",
              "      <td>4.206000e+03</td>\n",
              "      <td>1.051302e+05</td>\n",
              "      <td>4.000000e+05</td>\n",
              "      <td>1.000000e+06</td>\n",
              "      <td>4.204000e+05</td>\n",
              "      <td>1.996000e+05</td>\n",
              "      <td>1.900000e+01</td>\n",
              "      <td>6.300000e+01</td>\n",
              "      <td>6.300000e+01</td>\n",
              "    </tr>\n",
              "  </tbody>\n",
              "</table>\n",
              "</div>\n",
              "    <div class=\"colab-df-buttons\">\n",
              "\n",
              "  <div class=\"colab-df-container\">\n",
              "    <button class=\"colab-df-convert\" onclick=\"convertToInteractive('df-c0b7bfc3-6d4d-40b5-882a-f7a4069e433c')\"\n",
              "            title=\"Convert this dataframe to an interactive table.\"\n",
              "            style=\"display:none;\">\n",
              "\n",
              "  <svg xmlns=\"http://www.w3.org/2000/svg\" height=\"24px\" viewBox=\"0 -960 960 960\">\n",
              "    <path d=\"M120-120v-720h720v720H120Zm60-500h600v-160H180v160Zm220 220h160v-160H400v160Zm0 220h160v-160H400v160ZM180-400h160v-160H180v160Zm440 0h160v-160H620v160ZM180-180h160v-160H180v160Zm440 0h160v-160H620v160Z\"/>\n",
              "  </svg>\n",
              "    </button>\n",
              "\n",
              "  <style>\n",
              "    .colab-df-container {\n",
              "      display:flex;\n",
              "      gap: 12px;\n",
              "    }\n",
              "\n",
              "    .colab-df-convert {\n",
              "      background-color: #E8F0FE;\n",
              "      border: none;\n",
              "      border-radius: 50%;\n",
              "      cursor: pointer;\n",
              "      display: none;\n",
              "      fill: #1967D2;\n",
              "      height: 32px;\n",
              "      padding: 0 0 0 0;\n",
              "      width: 32px;\n",
              "    }\n",
              "\n",
              "    .colab-df-convert:hover {\n",
              "      background-color: #E2EBFA;\n",
              "      box-shadow: 0px 1px 2px rgba(60, 64, 67, 0.3), 0px 1px 3px 1px rgba(60, 64, 67, 0.15);\n",
              "      fill: #174EA6;\n",
              "    }\n",
              "\n",
              "    .colab-df-buttons div {\n",
              "      margin-bottom: 4px;\n",
              "    }\n",
              "\n",
              "    [theme=dark] .colab-df-convert {\n",
              "      background-color: #3B4455;\n",
              "      fill: #D2E3FC;\n",
              "    }\n",
              "\n",
              "    [theme=dark] .colab-df-convert:hover {\n",
              "      background-color: #434B5C;\n",
              "      box-shadow: 0px 1px 3px 1px rgba(0, 0, 0, 0.15);\n",
              "      filter: drop-shadow(0px 1px 2px rgba(0, 0, 0, 0.3));\n",
              "      fill: #FFFFFF;\n",
              "    }\n",
              "  </style>\n",
              "\n",
              "    <script>\n",
              "      const buttonEl =\n",
              "        document.querySelector('#df-c0b7bfc3-6d4d-40b5-882a-f7a4069e433c button.colab-df-convert');\n",
              "      buttonEl.style.display =\n",
              "        google.colab.kernel.accessAllowed ? 'block' : 'none';\n",
              "\n",
              "      async function convertToInteractive(key) {\n",
              "        const element = document.querySelector('#df-c0b7bfc3-6d4d-40b5-882a-f7a4069e433c');\n",
              "        const dataTable =\n",
              "          await google.colab.kernel.invokeFunction('convertToInteractive',\n",
              "                                                    [key], {});\n",
              "        if (!dataTable) return;\n",
              "\n",
              "        const docLinkHtml = 'Like what you see? Visit the ' +\n",
              "          '<a target=\"_blank\" href=https://colab.research.google.com/notebooks/data_table.ipynb>data table notebook</a>'\n",
              "          + ' to learn more about interactive tables.';\n",
              "        element.innerHTML = '';\n",
              "        dataTable['output_type'] = 'display_data';\n",
              "        await google.colab.output.renderOutput(dataTable, element);\n",
              "        const docLink = document.createElement('div');\n",
              "        docLink.innerHTML = docLinkHtml;\n",
              "        element.appendChild(docLink);\n",
              "      }\n",
              "    </script>\n",
              "  </div>\n",
              "\n",
              "\n",
              "<div id=\"df-47ca33fd-189e-48f1-948c-df7cafdc8f7d\">\n",
              "  <button class=\"colab-df-quickchart\" onclick=\"quickchart('df-47ca33fd-189e-48f1-948c-df7cafdc8f7d')\"\n",
              "            title=\"Suggest charts\"\n",
              "            style=\"display:none;\">\n",
              "\n",
              "<svg xmlns=\"http://www.w3.org/2000/svg\" height=\"24px\"viewBox=\"0 0 24 24\"\n",
              "     width=\"24px\">\n",
              "    <g>\n",
              "        <path d=\"M19 3H5c-1.1 0-2 .9-2 2v14c0 1.1.9 2 2 2h14c1.1 0 2-.9 2-2V5c0-1.1-.9-2-2-2zM9 17H7v-7h2v7zm4 0h-2V7h2v10zm4 0h-2v-4h2v4z\"/>\n",
              "    </g>\n",
              "</svg>\n",
              "  </button>\n",
              "\n",
              "<style>\n",
              "  .colab-df-quickchart {\n",
              "      --bg-color: #E8F0FE;\n",
              "      --fill-color: #1967D2;\n",
              "      --hover-bg-color: #E2EBFA;\n",
              "      --hover-fill-color: #174EA6;\n",
              "      --disabled-fill-color: #AAA;\n",
              "      --disabled-bg-color: #DDD;\n",
              "  }\n",
              "\n",
              "  [theme=dark] .colab-df-quickchart {\n",
              "      --bg-color: #3B4455;\n",
              "      --fill-color: #D2E3FC;\n",
              "      --hover-bg-color: #434B5C;\n",
              "      --hover-fill-color: #FFFFFF;\n",
              "      --disabled-bg-color: #3B4455;\n",
              "      --disabled-fill-color: #666;\n",
              "  }\n",
              "\n",
              "  .colab-df-quickchart {\n",
              "    background-color: var(--bg-color);\n",
              "    border: none;\n",
              "    border-radius: 50%;\n",
              "    cursor: pointer;\n",
              "    display: none;\n",
              "    fill: var(--fill-color);\n",
              "    height: 32px;\n",
              "    padding: 0;\n",
              "    width: 32px;\n",
              "  }\n",
              "\n",
              "  .colab-df-quickchart:hover {\n",
              "    background-color: var(--hover-bg-color);\n",
              "    box-shadow: 0 1px 2px rgba(60, 64, 67, 0.3), 0 1px 3px 1px rgba(60, 64, 67, 0.15);\n",
              "    fill: var(--button-hover-fill-color);\n",
              "  }\n",
              "\n",
              "  .colab-df-quickchart-complete:disabled,\n",
              "  .colab-df-quickchart-complete:disabled:hover {\n",
              "    background-color: var(--disabled-bg-color);\n",
              "    fill: var(--disabled-fill-color);\n",
              "    box-shadow: none;\n",
              "  }\n",
              "\n",
              "  .colab-df-spinner {\n",
              "    border: 2px solid var(--fill-color);\n",
              "    border-color: transparent;\n",
              "    border-bottom-color: var(--fill-color);\n",
              "    animation:\n",
              "      spin 1s steps(1) infinite;\n",
              "  }\n",
              "\n",
              "  @keyframes spin {\n",
              "    0% {\n",
              "      border-color: transparent;\n",
              "      border-bottom-color: var(--fill-color);\n",
              "      border-left-color: var(--fill-color);\n",
              "    }\n",
              "    20% {\n",
              "      border-color: transparent;\n",
              "      border-left-color: var(--fill-color);\n",
              "      border-top-color: var(--fill-color);\n",
              "    }\n",
              "    30% {\n",
              "      border-color: transparent;\n",
              "      border-left-color: var(--fill-color);\n",
              "      border-top-color: var(--fill-color);\n",
              "      border-right-color: var(--fill-color);\n",
              "    }\n",
              "    40% {\n",
              "      border-color: transparent;\n",
              "      border-right-color: var(--fill-color);\n",
              "      border-top-color: var(--fill-color);\n",
              "    }\n",
              "    60% {\n",
              "      border-color: transparent;\n",
              "      border-right-color: var(--fill-color);\n",
              "    }\n",
              "    80% {\n",
              "      border-color: transparent;\n",
              "      border-right-color: var(--fill-color);\n",
              "      border-bottom-color: var(--fill-color);\n",
              "    }\n",
              "    90% {\n",
              "      border-color: transparent;\n",
              "      border-bottom-color: var(--fill-color);\n",
              "    }\n",
              "  }\n",
              "</style>\n",
              "\n",
              "  <script>\n",
              "    async function quickchart(key) {\n",
              "      const quickchartButtonEl =\n",
              "        document.querySelector('#' + key + ' button');\n",
              "      quickchartButtonEl.disabled = true;  // To prevent multiple clicks.\n",
              "      quickchartButtonEl.classList.add('colab-df-spinner');\n",
              "      try {\n",
              "        const charts = await google.colab.kernel.invokeFunction(\n",
              "            'suggestCharts', [key], {});\n",
              "      } catch (error) {\n",
              "        console.error('Error during call to suggestCharts:', error);\n",
              "      }\n",
              "      quickchartButtonEl.classList.remove('colab-df-spinner');\n",
              "      quickchartButtonEl.classList.add('colab-df-quickchart-complete');\n",
              "    }\n",
              "    (() => {\n",
              "      let quickchartButtonEl =\n",
              "        document.querySelector('#df-47ca33fd-189e-48f1-948c-df7cafdc8f7d button');\n",
              "      quickchartButtonEl.style.display =\n",
              "        google.colab.kernel.accessAllowed ? 'block' : 'none';\n",
              "    })();\n",
              "  </script>\n",
              "</div>\n",
              "    </div>\n",
              "  </div>\n"
            ],
            "application/vnd.google.colaboratory.intrinsic+json": {
              "type": "dataframe",
              "summary": "{\n  \"name\": \"df_applprev_1_analysis\",\n  \"rows\": 8,\n  \"fields\": [\n    {\n      \"column\": \"case_id\",\n      \"properties\": {\n        \"dtype\": \"number\",\n        \"std\": 2002562.0295450133,\n        \"min\": 2.0,\n        \"max\": 6525979.0,\n        \"num_unique_values\": 8,\n        \"samples\": [\n          1431940.9430594244,\n          1555975.0,\n          6525979.0\n        ],\n        \"semantic_type\": \"\",\n        \"description\": \"\"\n      }\n    },\n    {\n      \"column\": \"MONTH\",\n      \"properties\": {\n        \"dtype\": \"number\",\n        \"std\": 2247191.775689569,\n        \"min\": 47.0205270189881,\n        \"max\": 6525979.0,\n        \"num_unique_values\": 8,\n        \"samples\": [\n          201942.6268909232,\n          201911.0,\n          6525979.0\n        ],\n        \"semantic_type\": \"\",\n        \"description\": \"\"\n      }\n    },\n    {\n      \"column\": \"WEEK_NUM\",\n      \"properties\": {\n        \"dtype\": \"number\",\n        \"std\": 2307267.4253124506,\n        \"min\": 0.0,\n        \"max\": 6525979.0,\n        \"num_unique_values\": 8,\n        \"samples\": [\n          44.00119798117647,\n          44.0,\n          6525979.0\n        ],\n        \"semantic_type\": \"\",\n        \"description\": \"\"\n      }\n    },\n    {\n      \"column\": \"target\",\n      \"properties\": {\n        \"dtype\": \"number\",\n        \"std\": 2307281.9404109633,\n        \"min\": 0.0,\n        \"max\": 6525979.0,\n        \"num_unique_values\": 5,\n        \"samples\": [\n          0.037397913784276655,\n          1.0,\n          0.18973485537762746\n        ],\n        \"semantic_type\": \"\",\n        \"description\": \"\"\n      }\n    },\n    {\n      \"column\": \"actualdpd_943P\",\n      \"properties\": {\n        \"dtype\": \"number\",\n        \"std\": 2306185.9179881583,\n        \"min\": 0.0,\n        \"max\": 6523479.0,\n        \"num_unique_values\": 5,\n        \"samples\": [\n          0.014777697605832717,\n          4206.0,\n          4.644273429071849\n        ],\n        \"semantic_type\": \"\",\n        \"description\": \"\"\n      }\n    },\n    {\n      \"column\": \"annuity_853A\",\n      \"properties\": {\n        \"dtype\": \"number\",\n        \"std\": 2212841.609303953,\n        \"min\": 0.0,\n        \"max\": 6275243.0,\n        \"num_unique_values\": 8,\n        \"samples\": [\n          3449.5178381321007,\n          2787.0,\n          6275243.0\n        ],\n        \"semantic_type\": \"\",\n        \"description\": \"\"\n      }\n    },\n    {\n      \"column\": \"credacc_credlmt_575A\",\n      \"properties\": {\n        \"dtype\": \"number\",\n        \"std\": 2221859.92562729,\n        \"min\": 0.0,\n        \"max\": 6331847.0,\n        \"num_unique_values\": 5,\n        \"samples\": [\n          3397.95366443857,\n          400000.0,\n          15100.397949386906\n        ],\n        \"semantic_type\": \"\",\n        \"description\": \"\"\n      }\n    },\n    {\n      \"column\": \"credamount_590A\",\n      \"properties\": {\n        \"dtype\": \"number\",\n        \"std\": 2202784.606725993,\n        \"min\": 0.0,\n        \"max\": 6323781.0,\n        \"num_unique_values\": 8,\n        \"samples\": [\n          40409.35835746277,\n          28000.0,\n          6323781.0\n        ],\n        \"semantic_type\": \"\",\n        \"description\": \"\"\n      }\n    },\n    {\n      \"column\": \"downpmt_134A\",\n      \"properties\": {\n        \"dtype\": \"number\",\n        \"std\": 2219273.820762714,\n        \"min\": 0.0,\n        \"max\": 6323781.0,\n        \"num_unique_values\": 5,\n        \"samples\": [\n          430.0033935582089,\n          420400.0,\n          2664.3215440953536\n        ],\n        \"semantic_type\": \"\",\n        \"description\": \"\"\n      }\n    },\n    {\n      \"column\": \"mainoccupationinc_437A\",\n      \"properties\": {\n        \"dtype\": \"number\",\n        \"std\": 2252689.107759243,\n        \"min\": 0.0,\n        \"max\": 6423996.0,\n        \"num_unique_values\": 8,\n        \"samples\": [\n          41237.82411105757,\n          36000.0,\n          6423996.0\n        ],\n        \"semantic_type\": \"\",\n        \"description\": \"\"\n      }\n    },\n    {\n      \"column\": \"num_group1\",\n      \"properties\": {\n        \"dtype\": \"number\",\n        \"std\": 2307280.1099208533,\n        \"min\": 0.0,\n        \"max\": 6525979.0,\n        \"num_unique_values\": 8,\n        \"samples\": [\n          4.194368385187878,\n          3.0,\n          6525979.0\n        ],\n        \"semantic_type\": \"\",\n        \"description\": \"\"\n      }\n    },\n    {\n      \"column\": \"pmtnum_8L\",\n      \"properties\": {\n        \"dtype\": \"number\",\n        \"std\": 2112177.2502652323,\n        \"min\": 3.0,\n        \"max\": 5974159.0,\n        \"num_unique_values\": 8,\n        \"samples\": [\n          16.214212075708062,\n          12.0,\n          5974159.0\n        ],\n        \"semantic_type\": \"\",\n        \"description\": \"\"\n      }\n    },\n    {\n      \"column\": \"tenor_203L\",\n      \"properties\": {\n        \"dtype\": \"number\",\n        \"std\": 2112177.2502652323,\n        \"min\": 3.0,\n        \"max\": 5974159.0,\n        \"num_unique_values\": 8,\n        \"samples\": [\n          16.214212075708062,\n          12.0,\n          5974159.0\n        ],\n        \"semantic_type\": \"\",\n        \"description\": \"\"\n      }\n    }\n  ]\n}"
            }
          },
          "metadata": {},
          "execution_count": 20
        }
      ]
    },
    {
      "cell_type": "code",
      "source": [
        "import numpy as np\n",
        "import matplotlib.pyplot as plt\n",
        "import seaborn as sns\n",
        "from IPython import display\n",
        "display.set_matplotlib_formats('svg')"
      ],
      "metadata": {
        "colab": {
          "base_uri": "https://localhost:8080/"
        },
        "id": "qT8hfWQvAu-a",
        "outputId": "9b6823fb-97f3-463f-faf0-d079d9c1e142"
      },
      "execution_count": null,
      "outputs": [
        {
          "output_type": "stream",
          "name": "stderr",
          "text": [
            "<ipython-input-21-98e1c9d3366c>:5: DeprecationWarning: `set_matplotlib_formats` is deprecated since IPython 7.23, directly use `matplotlib_inline.backend_inline.set_matplotlib_formats()`\n",
            "  display.set_matplotlib_formats('svg')\n"
          ]
        }
      ]
    },
    {
      "cell_type": "code",
      "source": [
        "ax = sns.histplot(np.log10(df_applprev_1_analysis['credamount_590A']))\n",
        "ax.set_xlim([3,8])\n",
        "ax.set_xticks(range(3,9))\n",
        "ax.set_xticklabels(['%.0e'%a for a in 10**ax.get_xticks()])"
      ],
      "metadata": {
        "colab": {
          "base_uri": "https://localhost:8080/",
          "height": 580
        },
        "id": "TW-CUw1HAaHT",
        "outputId": "c918e56a-00a7-4c21-9a0b-738a46e1b8e6"
      },
      "execution_count": null,
      "outputs": [
        {
          "output_type": "stream",
          "name": "stderr",
          "text": [
            "/usr/local/lib/python3.10/dist-packages/pandas/core/arraylike.py:402: RuntimeWarning: divide by zero encountered in log10\n",
            "  result = getattr(ufunc, method)(*inputs, **kwargs)\n"
          ]
        },
        {
          "output_type": "execute_result",
          "data": {
            "text/plain": [
              "[Text(3, 0, '1e+03'),\n",
              " Text(4, 0, '1e+04'),\n",
              " Text(5, 0, '1e+05'),\n",
              " Text(6, 0, '1e+06'),\n",
              " Text(7, 0, '1e+07'),\n",
              " Text(8, 0, '1e+08')]"
            ]
          },
          "metadata": {},
          "execution_count": 23
        },
        {
          "output_type": "display_data",
          "data": {
            "text/plain": [
              "<Figure size 640x480 with 1 Axes>"
            ],
            "image/svg+xml": "<?xml version=\"1.0\" encoding=\"utf-8\" standalone=\"no\"?>\n<!DOCTYPE svg PUBLIC \"-//W3C//DTD SVG 1.1//EN\"\n  \"http://www.w3.org/Graphics/SVG/1.1/DTD/svg11.dtd\">\n<svg xmlns:xlink=\"http://www.w3.org/1999/xlink\" width=\"447.183281pt\" height=\"311.505381pt\" viewBox=\"0 0 447.183281 311.505381\" xmlns=\"http://www.w3.org/2000/svg\" version=\"1.1\">\n <metadata>\n  <rdf:RDF xmlns:dc=\"http://purl.org/dc/elements/1.1/\" xmlns:cc=\"http://creativecommons.org/ns#\" xmlns:rdf=\"http://www.w3.org/1999/02/22-rdf-syntax-ns#\">\n   <cc:Work>\n    <dc:type rdf:resource=\"http://purl.org/dc/dcmitype/StillImage\"/>\n    <dc:date>2024-03-10T15:46:39.037346</dc:date>\n    <dc:format>image/svg+xml</dc:format>\n    <dc:creator>\n     <cc:Agent>\n      <dc:title>Matplotlib v3.7.1, https://matplotlib.org/</dc:title>\n     </cc:Agent>\n    </dc:creator>\n   </cc:Work>\n  </rdf:RDF>\n </metadata>\n <defs>\n  <style type=\"text/css\">*{stroke-linejoin: round; stroke-linecap: butt}</style>\n </defs>\n <g id=\"figure_1\">\n  <g id=\"patch_1\">\n   <path d=\"M 0 311.505381 \nL 447.183281 311.505381 \nL 447.183281 0 \nL 0 0 \nz\n\" style=\"fill: #ffffff\"/>\n  </g>\n  <g id=\"axes_1\">\n   <g id=\"patch_2\">\n    <path d=\"M 66.053125 273.671006 \nL 423.173125 273.671006 \nL 423.173125 7.559006 \nL 66.053125 7.559006 \nz\n\" style=\"fill: #ffffff\"/>\n   </g>\n   <g id=\"patch_3\">\n    <path d=\"M -198.142109 273.671006 \nL -197.705152 273.671006 \nL -197.705152 272.856724 \nL -198.142109 272.856724 \nz\n\" clip-path=\"url(#pae04297fc5)\" style=\"fill: #1f77b4; fill-opacity: 0.75; stroke: #000000; stroke-width: 0.029649; stroke-linejoin: miter\"/>\n   </g>\n   <g id=\"patch_4\">\n    <path d=\"M -197.705152 273.671006 \nL -197.268196 273.671006 \nL -197.268196 273.671006 \nL -197.705152 273.671006 \nz\n\" clip-path=\"url(#pae04297fc5)\" style=\"fill: #1f77b4; fill-opacity: 0.75; stroke: #000000; stroke-width: 0.029649; stroke-linejoin: miter\"/>\n   </g>\n   <g id=\"patch_5\">\n    <path d=\"M -197.268196 273.671006 \nL -196.831239 273.671006 \nL -196.831239 273.671006 \nL -197.268196 273.671006 \nz\n\" clip-path=\"url(#pae04297fc5)\" style=\"fill: #1f77b4; fill-opacity: 0.75; stroke: #000000; stroke-width: 0.029649; stroke-linejoin: miter\"/>\n   </g>\n   <g id=\"patch_6\">\n    <path d=\"M -196.831239 273.671006 \nL -196.394283 273.671006 \nL -196.394283 273.671006 \nL -196.831239 273.671006 \nz\n\" clip-path=\"url(#pae04297fc5)\" style=\"fill: #1f77b4; fill-opacity: 0.75; stroke: #000000; stroke-width: 0.029649; stroke-linejoin: miter\"/>\n   </g>\n   <g id=\"patch_7\">\n    <path d=\"M -196.394283 273.671006 \nL -195.957327 273.671006 \nL -195.957327 273.671006 \nL -196.394283 273.671006 \nz\n\" clip-path=\"url(#pae04297fc5)\" style=\"fill: #1f77b4; fill-opacity: 0.75; stroke: #000000; stroke-width: 0.029649; stroke-linejoin: miter\"/>\n   </g>\n   <g id=\"patch_8\">\n    <path d=\"M -195.957327 273.671006 \nL -195.52037 273.671006 \nL -195.52037 273.671006 \nL -195.957327 273.671006 \nz\n\" clip-path=\"url(#pae04297fc5)\" style=\"fill: #1f77b4; fill-opacity: 0.75; stroke: #000000; stroke-width: 0.029649; stroke-linejoin: miter\"/>\n   </g>\n   <g id=\"patch_9\">\n    <path d=\"M -195.52037 273.671006 \nL -195.083414 273.671006 \nL -195.083414 273.671006 \nL -195.52037 273.671006 \nz\n\" clip-path=\"url(#pae04297fc5)\" style=\"fill: #1f77b4; fill-opacity: 0.75; stroke: #000000; stroke-width: 0.029649; stroke-linejoin: miter\"/>\n   </g>\n   <g id=\"patch_10\">\n    <path d=\"M -195.083414 273.671006 \nL -194.646458 273.671006 \nL -194.646458 273.671006 \nL -195.083414 273.671006 \nz\n\" clip-path=\"url(#pae04297fc5)\" style=\"fill: #1f77b4; fill-opacity: 0.75; stroke: #000000; stroke-width: 0.029649; stroke-linejoin: miter\"/>\n   </g>\n   <g id=\"patch_11\">\n    <path d=\"M -194.646458 273.671006 \nL -194.209501 273.671006 \nL -194.209501 273.671006 \nL -194.646458 273.671006 \nz\n\" clip-path=\"url(#pae04297fc5)\" style=\"fill: #1f77b4; fill-opacity: 0.75; stroke: #000000; stroke-width: 0.029649; stroke-linejoin: miter\"/>\n   </g>\n   <g id=\"patch_12\">\n    <path d=\"M -194.209501 273.671006 \nL -193.772545 273.671006 \nL -193.772545 273.671006 \nL -194.209501 273.671006 \nz\n\" clip-path=\"url(#pae04297fc5)\" style=\"fill: #1f77b4; fill-opacity: 0.75; stroke: #000000; stroke-width: 0.029649; stroke-linejoin: miter\"/>\n   </g>\n   <g id=\"patch_13\">\n    <path d=\"M -193.772545 273.671006 \nL -193.335588 273.671006 \nL -193.335588 273.671006 \nL -193.772545 273.671006 \nz\n\" clip-path=\"url(#pae04297fc5)\" style=\"fill: #1f77b4; fill-opacity: 0.75; stroke: #000000; stroke-width: 0.029649; stroke-linejoin: miter\"/>\n   </g>\n   <g id=\"patch_14\">\n    <path d=\"M -193.335588 273.671006 \nL -192.898632 273.671006 \nL -192.898632 273.671006 \nL -193.335588 273.671006 \nz\n\" clip-path=\"url(#pae04297fc5)\" style=\"fill: #1f77b4; fill-opacity: 0.75; stroke: #000000; stroke-width: 0.029649; stroke-linejoin: miter\"/>\n   </g>\n   <g id=\"patch_15\">\n    <path d=\"M -192.898632 273.671006 \nL -192.461676 273.671006 \nL -192.461676 273.671006 \nL -192.898632 273.671006 \nz\n\" clip-path=\"url(#pae04297fc5)\" style=\"fill: #1f77b4; fill-opacity: 0.75; stroke: #000000; stroke-width: 0.029649; stroke-linejoin: miter\"/>\n   </g>\n   <g id=\"patch_16\">\n    <path d=\"M -192.461676 273.671006 \nL -192.024719 273.671006 \nL -192.024719 273.671006 \nL -192.461676 273.671006 \nz\n\" clip-path=\"url(#pae04297fc5)\" style=\"fill: #1f77b4; fill-opacity: 0.75; stroke: #000000; stroke-width: 0.029649; stroke-linejoin: miter\"/>\n   </g>\n   <g id=\"patch_17\">\n    <path d=\"M -192.024719 273.671006 \nL -191.587763 273.671006 \nL -191.587763 273.671006 \nL -192.024719 273.671006 \nz\n\" clip-path=\"url(#pae04297fc5)\" style=\"fill: #1f77b4; fill-opacity: 0.75; stroke: #000000; stroke-width: 0.029649; stroke-linejoin: miter\"/>\n   </g>\n   <g id=\"patch_18\">\n    <path d=\"M -191.587763 273.671006 \nL -191.150807 273.671006 \nL -191.150807 273.671006 \nL -191.587763 273.671006 \nz\n\" clip-path=\"url(#pae04297fc5)\" style=\"fill: #1f77b4; fill-opacity: 0.75; stroke: #000000; stroke-width: 0.029649; stroke-linejoin: miter\"/>\n   </g>\n   <g id=\"patch_19\">\n    <path d=\"M -191.150807 273.671006 \nL -190.71385 273.671006 \nL -190.71385 273.671006 \nL -191.150807 273.671006 \nz\n\" clip-path=\"url(#pae04297fc5)\" style=\"fill: #1f77b4; fill-opacity: 0.75; stroke: #000000; stroke-width: 0.029649; stroke-linejoin: miter\"/>\n   </g>\n   <g id=\"patch_20\">\n    <path d=\"M -190.71385 273.671006 \nL -190.276894 273.671006 \nL -190.276894 273.671006 \nL -190.71385 273.671006 \nz\n\" clip-path=\"url(#pae04297fc5)\" style=\"fill: #1f77b4; fill-opacity: 0.75; stroke: #000000; stroke-width: 0.029649; stroke-linejoin: miter\"/>\n   </g>\n   <g id=\"patch_21\">\n    <path d=\"M -190.276894 273.671006 \nL -189.839937 273.671006 \nL -189.839937 273.671006 \nL -190.276894 273.671006 \nz\n\" clip-path=\"url(#pae04297fc5)\" style=\"fill: #1f77b4; fill-opacity: 0.75; stroke: #000000; stroke-width: 0.029649; stroke-linejoin: miter\"/>\n   </g>\n   <g id=\"patch_22\">\n    <path d=\"M -189.839937 273.671006 \nL -189.402981 273.671006 \nL -189.402981 273.671006 \nL -189.839937 273.671006 \nz\n\" clip-path=\"url(#pae04297fc5)\" style=\"fill: #1f77b4; fill-opacity: 0.75; stroke: #000000; stroke-width: 0.029649; stroke-linejoin: miter\"/>\n   </g>\n   <g id=\"patch_23\">\n    <path d=\"M -189.402981 273.671006 \nL -188.966025 273.671006 \nL -188.966025 273.671006 \nL -189.402981 273.671006 \nz\n\" clip-path=\"url(#pae04297fc5)\" style=\"fill: #1f77b4; fill-opacity: 0.75; stroke: #000000; stroke-width: 0.029649; stroke-linejoin: miter\"/>\n   </g>\n   <g id=\"patch_24\">\n    <path d=\"M -188.966025 273.671006 \nL -188.529068 273.671006 \nL -188.529068 273.671006 \nL -188.966025 273.671006 \nz\n\" clip-path=\"url(#pae04297fc5)\" style=\"fill: #1f77b4; fill-opacity: 0.75; stroke: #000000; stroke-width: 0.029649; stroke-linejoin: miter\"/>\n   </g>\n   <g id=\"patch_25\">\n    <path d=\"M -188.529068 273.671006 \nL -188.092112 273.671006 \nL -188.092112 273.671006 \nL -188.529068 273.671006 \nz\n\" clip-path=\"url(#pae04297fc5)\" style=\"fill: #1f77b4; fill-opacity: 0.75; stroke: #000000; stroke-width: 0.029649; stroke-linejoin: miter\"/>\n   </g>\n   <g id=\"patch_26\">\n    <path d=\"M -188.092112 273.671006 \nL -187.655156 273.671006 \nL -187.655156 273.671006 \nL -188.092112 273.671006 \nz\n\" clip-path=\"url(#pae04297fc5)\" style=\"fill: #1f77b4; fill-opacity: 0.75; stroke: #000000; stroke-width: 0.029649; stroke-linejoin: miter\"/>\n   </g>\n   <g id=\"patch_27\">\n    <path d=\"M -187.655156 273.671006 \nL -187.218199 273.671006 \nL -187.218199 273.671006 \nL -187.655156 273.671006 \nz\n\" clip-path=\"url(#pae04297fc5)\" style=\"fill: #1f77b4; fill-opacity: 0.75; stroke: #000000; stroke-width: 0.029649; stroke-linejoin: miter\"/>\n   </g>\n   <g id=\"patch_28\">\n    <path d=\"M -187.218199 273.671006 \nL -186.781243 273.671006 \nL -186.781243 273.671006 \nL -187.218199 273.671006 \nz\n\" clip-path=\"url(#pae04297fc5)\" style=\"fill: #1f77b4; fill-opacity: 0.75; stroke: #000000; stroke-width: 0.029649; stroke-linejoin: miter\"/>\n   </g>\n   <g id=\"patch_29\">\n    <path d=\"M -186.781243 273.671006 \nL -186.344286 273.671006 \nL -186.344286 273.671006 \nL -186.781243 273.671006 \nz\n\" clip-path=\"url(#pae04297fc5)\" style=\"fill: #1f77b4; fill-opacity: 0.75; stroke: #000000; stroke-width: 0.029649; stroke-linejoin: miter\"/>\n   </g>\n   <g id=\"patch_30\">\n    <path d=\"M -186.344286 273.671006 \nL -185.90733 273.671006 \nL -185.90733 273.671006 \nL -186.344286 273.671006 \nz\n\" clip-path=\"url(#pae04297fc5)\" style=\"fill: #1f77b4; fill-opacity: 0.75; stroke: #000000; stroke-width: 0.029649; stroke-linejoin: miter\"/>\n   </g>\n   <g id=\"patch_31\">\n    <path d=\"M -185.90733 273.671006 \nL -185.470374 273.671006 \nL -185.470374 273.671006 \nL -185.90733 273.671006 \nz\n\" clip-path=\"url(#pae04297fc5)\" style=\"fill: #1f77b4; fill-opacity: 0.75; stroke: #000000; stroke-width: 0.029649; stroke-linejoin: miter\"/>\n   </g>\n   <g id=\"patch_32\">\n    <path d=\"M -185.470374 273.671006 \nL -185.033417 273.671006 \nL -185.033417 273.671006 \nL -185.470374 273.671006 \nz\n\" clip-path=\"url(#pae04297fc5)\" style=\"fill: #1f77b4; fill-opacity: 0.75; stroke: #000000; stroke-width: 0.029649; stroke-linejoin: miter\"/>\n   </g>\n   <g id=\"patch_33\">\n    <path d=\"M -185.033417 273.671006 \nL -184.596461 273.671006 \nL -184.596461 273.671006 \nL -185.033417 273.671006 \nz\n\" clip-path=\"url(#pae04297fc5)\" style=\"fill: #1f77b4; fill-opacity: 0.75; stroke: #000000; stroke-width: 0.029649; stroke-linejoin: miter\"/>\n   </g>\n   <g id=\"patch_34\">\n    <path d=\"M -184.596461 273.671006 \nL -184.159505 273.671006 \nL -184.159505 273.671006 \nL -184.596461 273.671006 \nz\n\" clip-path=\"url(#pae04297fc5)\" style=\"fill: #1f77b4; fill-opacity: 0.75; stroke: #000000; stroke-width: 0.029649; stroke-linejoin: miter\"/>\n   </g>\n   <g id=\"patch_35\">\n    <path d=\"M -184.159505 273.671006 \nL -183.722548 273.671006 \nL -183.722548 273.671006 \nL -184.159505 273.671006 \nz\n\" clip-path=\"url(#pae04297fc5)\" style=\"fill: #1f77b4; fill-opacity: 0.75; stroke: #000000; stroke-width: 0.029649; stroke-linejoin: miter\"/>\n   </g>\n   <g id=\"patch_36\">\n    <path d=\"M -183.722548 273.671006 \nL -183.285592 273.671006 \nL -183.285592 273.671006 \nL -183.722548 273.671006 \nz\n\" clip-path=\"url(#pae04297fc5)\" style=\"fill: #1f77b4; fill-opacity: 0.75; stroke: #000000; stroke-width: 0.029649; stroke-linejoin: miter\"/>\n   </g>\n   <g id=\"patch_37\">\n    <path d=\"M -183.285592 273.671006 \nL -182.848635 273.671006 \nL -182.848635 273.671006 \nL -183.285592 273.671006 \nz\n\" clip-path=\"url(#pae04297fc5)\" style=\"fill: #1f77b4; fill-opacity: 0.75; stroke: #000000; stroke-width: 0.029649; stroke-linejoin: miter\"/>\n   </g>\n   <g id=\"patch_38\">\n    <path d=\"M -182.848635 273.671006 \nL -182.411679 273.671006 \nL -182.411679 273.671006 \nL -182.848635 273.671006 \nz\n\" clip-path=\"url(#pae04297fc5)\" style=\"fill: #1f77b4; fill-opacity: 0.75; stroke: #000000; stroke-width: 0.029649; stroke-linejoin: miter\"/>\n   </g>\n   <g id=\"patch_39\">\n    <path d=\"M -182.411679 273.671006 \nL -181.974723 273.671006 \nL -181.974723 273.671006 \nL -182.411679 273.671006 \nz\n\" clip-path=\"url(#pae04297fc5)\" style=\"fill: #1f77b4; fill-opacity: 0.75; stroke: #000000; stroke-width: 0.029649; stroke-linejoin: miter\"/>\n   </g>\n   <g id=\"patch_40\">\n    <path d=\"M -181.974723 273.671006 \nL -181.537766 273.671006 \nL -181.537766 273.671006 \nL -181.974723 273.671006 \nz\n\" clip-path=\"url(#pae04297fc5)\" style=\"fill: #1f77b4; fill-opacity: 0.75; stroke: #000000; stroke-width: 0.029649; stroke-linejoin: miter\"/>\n   </g>\n   <g id=\"patch_41\">\n    <path d=\"M -181.537766 273.671006 \nL -181.10081 273.671006 \nL -181.10081 273.671006 \nL -181.537766 273.671006 \nz\n\" clip-path=\"url(#pae04297fc5)\" style=\"fill: #1f77b4; fill-opacity: 0.75; stroke: #000000; stroke-width: 0.029649; stroke-linejoin: miter\"/>\n   </g>\n   <g id=\"patch_42\">\n    <path d=\"M -181.10081 273.671006 \nL -180.663853 273.671006 \nL -180.663853 273.671006 \nL -181.10081 273.671006 \nz\n\" clip-path=\"url(#pae04297fc5)\" style=\"fill: #1f77b4; fill-opacity: 0.75; stroke: #000000; stroke-width: 0.029649; stroke-linejoin: miter\"/>\n   </g>\n   <g id=\"patch_43\">\n    <path d=\"M -180.663853 273.671006 \nL -180.226897 273.671006 \nL -180.226897 273.671006 \nL -180.663853 273.671006 \nz\n\" clip-path=\"url(#pae04297fc5)\" style=\"fill: #1f77b4; fill-opacity: 0.75; stroke: #000000; stroke-width: 0.029649; stroke-linejoin: miter\"/>\n   </g>\n   <g id=\"patch_44\">\n    <path d=\"M -180.226897 273.671006 \nL -179.789941 273.671006 \nL -179.789941 273.671006 \nL -180.226897 273.671006 \nz\n\" clip-path=\"url(#pae04297fc5)\" style=\"fill: #1f77b4; fill-opacity: 0.75; stroke: #000000; stroke-width: 0.029649; stroke-linejoin: miter\"/>\n   </g>\n   <g id=\"patch_45\">\n    <path d=\"M -179.789941 273.671006 \nL -179.352984 273.671006 \nL -179.352984 273.671006 \nL -179.789941 273.671006 \nz\n\" clip-path=\"url(#pae04297fc5)\" style=\"fill: #1f77b4; fill-opacity: 0.75; stroke: #000000; stroke-width: 0.029649; stroke-linejoin: miter\"/>\n   </g>\n   <g id=\"patch_46\">\n    <path d=\"M -179.352984 273.671006 \nL -178.916028 273.671006 \nL -178.916028 273.671006 \nL -179.352984 273.671006 \nz\n\" clip-path=\"url(#pae04297fc5)\" style=\"fill: #1f77b4; fill-opacity: 0.75; stroke: #000000; stroke-width: 0.029649; stroke-linejoin: miter\"/>\n   </g>\n   <g id=\"patch_47\">\n    <path d=\"M -178.916028 273.671006 \nL -178.479072 273.671006 \nL -178.479072 273.671006 \nL -178.916028 273.671006 \nz\n\" clip-path=\"url(#pae04297fc5)\" style=\"fill: #1f77b4; fill-opacity: 0.75; stroke: #000000; stroke-width: 0.029649; stroke-linejoin: miter\"/>\n   </g>\n   <g id=\"patch_48\">\n    <path d=\"M -178.479072 273.671006 \nL -178.042115 273.671006 \nL -178.042115 273.671006 \nL -178.479072 273.671006 \nz\n\" clip-path=\"url(#pae04297fc5)\" style=\"fill: #1f77b4; fill-opacity: 0.75; stroke: #000000; stroke-width: 0.029649; stroke-linejoin: miter\"/>\n   </g>\n   <g id=\"patch_49\">\n    <path d=\"M -178.042115 273.671006 \nL -177.605159 273.671006 \nL -177.605159 273.671006 \nL -178.042115 273.671006 \nz\n\" clip-path=\"url(#pae04297fc5)\" style=\"fill: #1f77b4; fill-opacity: 0.75; stroke: #000000; stroke-width: 0.029649; stroke-linejoin: miter\"/>\n   </g>\n   <g id=\"patch_50\">\n    <path d=\"M -177.605159 273.671006 \nL -177.168202 273.671006 \nL -177.168202 273.671006 \nL -177.605159 273.671006 \nz\n\" clip-path=\"url(#pae04297fc5)\" style=\"fill: #1f77b4; fill-opacity: 0.75; stroke: #000000; stroke-width: 0.029649; stroke-linejoin: miter\"/>\n   </g>\n   <g id=\"patch_51\">\n    <path d=\"M -177.168202 273.671006 \nL -176.731246 273.671006 \nL -176.731246 273.671006 \nL -177.168202 273.671006 \nz\n\" clip-path=\"url(#pae04297fc5)\" style=\"fill: #1f77b4; fill-opacity: 0.75; stroke: #000000; stroke-width: 0.029649; stroke-linejoin: miter\"/>\n   </g>\n   <g id=\"patch_52\">\n    <path d=\"M -176.731246 273.671006 \nL -176.29429 273.671006 \nL -176.29429 273.671006 \nL -176.731246 273.671006 \nz\n\" clip-path=\"url(#pae04297fc5)\" style=\"fill: #1f77b4; fill-opacity: 0.75; stroke: #000000; stroke-width: 0.029649; stroke-linejoin: miter\"/>\n   </g>\n   <g id=\"patch_53\">\n    <path d=\"M -176.29429 273.671006 \nL -175.857333 273.671006 \nL -175.857333 273.671006 \nL -176.29429 273.671006 \nz\n\" clip-path=\"url(#pae04297fc5)\" style=\"fill: #1f77b4; fill-opacity: 0.75; stroke: #000000; stroke-width: 0.029649; stroke-linejoin: miter\"/>\n   </g>\n   <g id=\"patch_54\">\n    <path d=\"M -175.857333 273.671006 \nL -175.420377 273.671006 \nL -175.420377 273.671006 \nL -175.857333 273.671006 \nz\n\" clip-path=\"url(#pae04297fc5)\" style=\"fill: #1f77b4; fill-opacity: 0.75; stroke: #000000; stroke-width: 0.029649; stroke-linejoin: miter\"/>\n   </g>\n   <g id=\"patch_55\">\n    <path d=\"M -175.420377 273.671006 \nL -174.983421 273.671006 \nL -174.983421 273.671006 \nL -175.420377 273.671006 \nz\n\" clip-path=\"url(#pae04297fc5)\" style=\"fill: #1f77b4; fill-opacity: 0.75; stroke: #000000; stroke-width: 0.029649; stroke-linejoin: miter\"/>\n   </g>\n   <g id=\"patch_56\">\n    <path d=\"M -174.983421 273.671006 \nL -174.546464 273.671006 \nL -174.546464 273.671006 \nL -174.983421 273.671006 \nz\n\" clip-path=\"url(#pae04297fc5)\" style=\"fill: #1f77b4; fill-opacity: 0.75; stroke: #000000; stroke-width: 0.029649; stroke-linejoin: miter\"/>\n   </g>\n   <g id=\"patch_57\">\n    <path d=\"M -174.546464 273.671006 \nL -174.109508 273.671006 \nL -174.109508 273.671006 \nL -174.546464 273.671006 \nz\n\" clip-path=\"url(#pae04297fc5)\" style=\"fill: #1f77b4; fill-opacity: 0.75; stroke: #000000; stroke-width: 0.029649; stroke-linejoin: miter\"/>\n   </g>\n   <g id=\"patch_58\">\n    <path d=\"M -174.109508 273.671006 \nL -173.672551 273.671006 \nL -173.672551 273.671006 \nL -174.109508 273.671006 \nz\n\" clip-path=\"url(#pae04297fc5)\" style=\"fill: #1f77b4; fill-opacity: 0.75; stroke: #000000; stroke-width: 0.029649; stroke-linejoin: miter\"/>\n   </g>\n   <g id=\"patch_59\">\n    <path d=\"M -173.672551 273.671006 \nL -173.235595 273.671006 \nL -173.235595 273.671006 \nL -173.672551 273.671006 \nz\n\" clip-path=\"url(#pae04297fc5)\" style=\"fill: #1f77b4; fill-opacity: 0.75; stroke: #000000; stroke-width: 0.029649; stroke-linejoin: miter\"/>\n   </g>\n   <g id=\"patch_60\">\n    <path d=\"M -173.235595 273.671006 \nL -172.798639 273.671006 \nL -172.798639 273.671006 \nL -173.235595 273.671006 \nz\n\" clip-path=\"url(#pae04297fc5)\" style=\"fill: #1f77b4; fill-opacity: 0.75; stroke: #000000; stroke-width: 0.029649; stroke-linejoin: miter\"/>\n   </g>\n   <g id=\"patch_61\">\n    <path d=\"M -172.798639 273.671006 \nL -172.361682 273.671006 \nL -172.361682 273.671006 \nL -172.798639 273.671006 \nz\n\" clip-path=\"url(#pae04297fc5)\" style=\"fill: #1f77b4; fill-opacity: 0.75; stroke: #000000; stroke-width: 0.029649; stroke-linejoin: miter\"/>\n   </g>\n   <g id=\"patch_62\">\n    <path d=\"M -172.361682 273.671006 \nL -171.924726 273.671006 \nL -171.924726 273.671006 \nL -172.361682 273.671006 \nz\n\" clip-path=\"url(#pae04297fc5)\" style=\"fill: #1f77b4; fill-opacity: 0.75; stroke: #000000; stroke-width: 0.029649; stroke-linejoin: miter\"/>\n   </g>\n   <g id=\"patch_63\">\n    <path d=\"M -171.924726 273.671006 \nL -171.48777 273.671006 \nL -171.48777 273.671006 \nL -171.924726 273.671006 \nz\n\" clip-path=\"url(#pae04297fc5)\" style=\"fill: #1f77b4; fill-opacity: 0.75; stroke: #000000; stroke-width: 0.029649; stroke-linejoin: miter\"/>\n   </g>\n   <g id=\"patch_64\">\n    <path d=\"M -171.48777 273.671006 \nL -171.050813 273.671006 \nL -171.050813 273.671006 \nL -171.48777 273.671006 \nz\n\" clip-path=\"url(#pae04297fc5)\" style=\"fill: #1f77b4; fill-opacity: 0.75; stroke: #000000; stroke-width: 0.029649; stroke-linejoin: miter\"/>\n   </g>\n   <g id=\"patch_65\">\n    <path d=\"M -171.050813 273.671006 \nL -170.613857 273.671006 \nL -170.613857 273.671006 \nL -171.050813 273.671006 \nz\n\" clip-path=\"url(#pae04297fc5)\" style=\"fill: #1f77b4; fill-opacity: 0.75; stroke: #000000; stroke-width: 0.029649; stroke-linejoin: miter\"/>\n   </g>\n   <g id=\"patch_66\">\n    <path d=\"M -170.613857 273.671006 \nL -170.1769 273.671006 \nL -170.1769 273.671006 \nL -170.613857 273.671006 \nz\n\" clip-path=\"url(#pae04297fc5)\" style=\"fill: #1f77b4; fill-opacity: 0.75; stroke: #000000; stroke-width: 0.029649; stroke-linejoin: miter\"/>\n   </g>\n   <g id=\"patch_67\">\n    <path d=\"M -170.1769 273.671006 \nL -169.739944 273.671006 \nL -169.739944 273.671006 \nL -170.1769 273.671006 \nz\n\" clip-path=\"url(#pae04297fc5)\" style=\"fill: #1f77b4; fill-opacity: 0.75; stroke: #000000; stroke-width: 0.029649; stroke-linejoin: miter\"/>\n   </g>\n   <g id=\"patch_68\">\n    <path d=\"M -169.739944 273.671006 \nL -169.302988 273.671006 \nL -169.302988 273.671006 \nL -169.739944 273.671006 \nz\n\" clip-path=\"url(#pae04297fc5)\" style=\"fill: #1f77b4; fill-opacity: 0.75; stroke: #000000; stroke-width: 0.029649; stroke-linejoin: miter\"/>\n   </g>\n   <g id=\"patch_69\">\n    <path d=\"M -169.302988 273.671006 \nL -168.866031 273.671006 \nL -168.866031 273.671006 \nL -169.302988 273.671006 \nz\n\" clip-path=\"url(#pae04297fc5)\" style=\"fill: #1f77b4; fill-opacity: 0.75; stroke: #000000; stroke-width: 0.029649; stroke-linejoin: miter\"/>\n   </g>\n   <g id=\"patch_70\">\n    <path d=\"M -168.866031 273.671006 \nL -168.429075 273.671006 \nL -168.429075 273.671006 \nL -168.866031 273.671006 \nz\n\" clip-path=\"url(#pae04297fc5)\" style=\"fill: #1f77b4; fill-opacity: 0.75; stroke: #000000; stroke-width: 0.029649; stroke-linejoin: miter\"/>\n   </g>\n   <g id=\"patch_71\">\n    <path d=\"M -168.429075 273.671006 \nL -167.992119 273.671006 \nL -167.992119 273.671006 \nL -168.429075 273.671006 \nz\n\" clip-path=\"url(#pae04297fc5)\" style=\"fill: #1f77b4; fill-opacity: 0.75; stroke: #000000; stroke-width: 0.029649; stroke-linejoin: miter\"/>\n   </g>\n   <g id=\"patch_72\">\n    <path d=\"M -167.992119 273.671006 \nL -167.555162 273.671006 \nL -167.555162 273.671006 \nL -167.992119 273.671006 \nz\n\" clip-path=\"url(#pae04297fc5)\" style=\"fill: #1f77b4; fill-opacity: 0.75; stroke: #000000; stroke-width: 0.029649; stroke-linejoin: miter\"/>\n   </g>\n   <g id=\"patch_73\">\n    <path d=\"M -167.555162 273.671006 \nL -167.118206 273.671006 \nL -167.118206 273.671006 \nL -167.555162 273.671006 \nz\n\" clip-path=\"url(#pae04297fc5)\" style=\"fill: #1f77b4; fill-opacity: 0.75; stroke: #000000; stroke-width: 0.029649; stroke-linejoin: miter\"/>\n   </g>\n   <g id=\"patch_74\">\n    <path d=\"M -167.118206 273.671006 \nL -166.681249 273.671006 \nL -166.681249 273.671006 \nL -167.118206 273.671006 \nz\n\" clip-path=\"url(#pae04297fc5)\" style=\"fill: #1f77b4; fill-opacity: 0.75; stroke: #000000; stroke-width: 0.029649; stroke-linejoin: miter\"/>\n   </g>\n   <g id=\"patch_75\">\n    <path d=\"M -166.681249 273.671006 \nL -166.244293 273.671006 \nL -166.244293 273.671006 \nL -166.681249 273.671006 \nz\n\" clip-path=\"url(#pae04297fc5)\" style=\"fill: #1f77b4; fill-opacity: 0.75; stroke: #000000; stroke-width: 0.029649; stroke-linejoin: miter\"/>\n   </g>\n   <g id=\"patch_76\">\n    <path d=\"M -166.244293 273.671006 \nL -165.807337 273.671006 \nL -165.807337 273.671006 \nL -166.244293 273.671006 \nz\n\" clip-path=\"url(#pae04297fc5)\" style=\"fill: #1f77b4; fill-opacity: 0.75; stroke: #000000; stroke-width: 0.029649; stroke-linejoin: miter\"/>\n   </g>\n   <g id=\"patch_77\">\n    <path d=\"M -165.807337 273.671006 \nL -165.37038 273.671006 \nL -165.37038 273.671006 \nL -165.807337 273.671006 \nz\n\" clip-path=\"url(#pae04297fc5)\" style=\"fill: #1f77b4; fill-opacity: 0.75; stroke: #000000; stroke-width: 0.029649; stroke-linejoin: miter\"/>\n   </g>\n   <g id=\"patch_78\">\n    <path d=\"M -165.37038 273.671006 \nL -164.933424 273.671006 \nL -164.933424 273.671006 \nL -165.37038 273.671006 \nz\n\" clip-path=\"url(#pae04297fc5)\" style=\"fill: #1f77b4; fill-opacity: 0.75; stroke: #000000; stroke-width: 0.029649; stroke-linejoin: miter\"/>\n   </g>\n   <g id=\"patch_79\">\n    <path d=\"M -164.933424 273.671006 \nL -164.496468 273.671006 \nL -164.496468 273.671006 \nL -164.933424 273.671006 \nz\n\" clip-path=\"url(#pae04297fc5)\" style=\"fill: #1f77b4; fill-opacity: 0.75; stroke: #000000; stroke-width: 0.029649; stroke-linejoin: miter\"/>\n   </g>\n   <g id=\"patch_80\">\n    <path d=\"M -164.496468 273.671006 \nL -164.059511 273.671006 \nL -164.059511 273.670256 \nL -164.496468 273.670256 \nz\n\" clip-path=\"url(#pae04297fc5)\" style=\"fill: #1f77b4; fill-opacity: 0.75; stroke: #000000; stroke-width: 0.029649; stroke-linejoin: miter\"/>\n   </g>\n   <g id=\"patch_81\">\n    <path d=\"M -164.059511 273.671006 \nL -163.622555 273.671006 \nL -163.622555 273.671006 \nL -164.059511 273.671006 \nz\n\" clip-path=\"url(#pae04297fc5)\" style=\"fill: #1f77b4; fill-opacity: 0.75; stroke: #000000; stroke-width: 0.029649; stroke-linejoin: miter\"/>\n   </g>\n   <g id=\"patch_82\">\n    <path d=\"M -163.622555 273.671006 \nL -163.185598 273.671006 \nL -163.185598 273.671006 \nL -163.622555 273.671006 \nz\n\" clip-path=\"url(#pae04297fc5)\" style=\"fill: #1f77b4; fill-opacity: 0.75; stroke: #000000; stroke-width: 0.029649; stroke-linejoin: miter\"/>\n   </g>\n   <g id=\"patch_83\">\n    <path d=\"M -163.185598 273.671006 \nL -162.748642 273.671006 \nL -162.748642 273.671006 \nL -163.185598 273.671006 \nz\n\" clip-path=\"url(#pae04297fc5)\" style=\"fill: #1f77b4; fill-opacity: 0.75; stroke: #000000; stroke-width: 0.029649; stroke-linejoin: miter\"/>\n   </g>\n   <g id=\"patch_84\">\n    <path d=\"M -162.748642 273.671006 \nL -162.311686 273.671006 \nL -162.311686 273.671006 \nL -162.748642 273.671006 \nz\n\" clip-path=\"url(#pae04297fc5)\" style=\"fill: #1f77b4; fill-opacity: 0.75; stroke: #000000; stroke-width: 0.029649; stroke-linejoin: miter\"/>\n   </g>\n   <g id=\"patch_85\">\n    <path d=\"M -162.311686 273.671006 \nL -161.874729 273.671006 \nL -161.874729 273.671006 \nL -162.311686 273.671006 \nz\n\" clip-path=\"url(#pae04297fc5)\" style=\"fill: #1f77b4; fill-opacity: 0.75; stroke: #000000; stroke-width: 0.029649; stroke-linejoin: miter\"/>\n   </g>\n   <g id=\"patch_86\">\n    <path d=\"M -161.874729 273.671006 \nL -161.437773 273.671006 \nL -161.437773 273.671006 \nL -161.874729 273.671006 \nz\n\" clip-path=\"url(#pae04297fc5)\" style=\"fill: #1f77b4; fill-opacity: 0.75; stroke: #000000; stroke-width: 0.029649; stroke-linejoin: miter\"/>\n   </g>\n   <g id=\"patch_87\">\n    <path d=\"M -161.437773 273.671006 \nL -161.000816 273.671006 \nL -161.000816 273.671006 \nL -161.437773 273.671006 \nz\n\" clip-path=\"url(#pae04297fc5)\" style=\"fill: #1f77b4; fill-opacity: 0.75; stroke: #000000; stroke-width: 0.029649; stroke-linejoin: miter\"/>\n   </g>\n   <g id=\"patch_88\">\n    <path d=\"M -161.000816 273.671006 \nL -160.56386 273.671006 \nL -160.56386 273.671006 \nL -161.000816 273.671006 \nz\n\" clip-path=\"url(#pae04297fc5)\" style=\"fill: #1f77b4; fill-opacity: 0.75; stroke: #000000; stroke-width: 0.029649; stroke-linejoin: miter\"/>\n   </g>\n   <g id=\"patch_89\">\n    <path d=\"M -160.56386 273.671006 \nL -160.126904 273.671006 \nL -160.126904 273.671006 \nL -160.56386 273.671006 \nz\n\" clip-path=\"url(#pae04297fc5)\" style=\"fill: #1f77b4; fill-opacity: 0.75; stroke: #000000; stroke-width: 0.029649; stroke-linejoin: miter\"/>\n   </g>\n   <g id=\"patch_90\">\n    <path d=\"M -160.126904 273.671006 \nL -159.689947 273.671006 \nL -159.689947 273.671006 \nL -160.126904 273.671006 \nz\n\" clip-path=\"url(#pae04297fc5)\" style=\"fill: #1f77b4; fill-opacity: 0.75; stroke: #000000; stroke-width: 0.029649; stroke-linejoin: miter\"/>\n   </g>\n   <g id=\"patch_91\">\n    <path d=\"M -159.689947 273.671006 \nL -159.252991 273.671006 \nL -159.252991 273.671006 \nL -159.689947 273.671006 \nz\n\" clip-path=\"url(#pae04297fc5)\" style=\"fill: #1f77b4; fill-opacity: 0.75; stroke: #000000; stroke-width: 0.029649; stroke-linejoin: miter\"/>\n   </g>\n   <g id=\"patch_92\">\n    <path d=\"M -159.252991 273.671006 \nL -158.816035 273.671006 \nL -158.816035 273.671006 \nL -159.252991 273.671006 \nz\n\" clip-path=\"url(#pae04297fc5)\" style=\"fill: #1f77b4; fill-opacity: 0.75; stroke: #000000; stroke-width: 0.029649; stroke-linejoin: miter\"/>\n   </g>\n   <g id=\"patch_93\">\n    <path d=\"M -158.816035 273.671006 \nL -158.379078 273.671006 \nL -158.379078 273.671006 \nL -158.816035 273.671006 \nz\n\" clip-path=\"url(#pae04297fc5)\" style=\"fill: #1f77b4; fill-opacity: 0.75; stroke: #000000; stroke-width: 0.029649; stroke-linejoin: miter\"/>\n   </g>\n   <g id=\"patch_94\">\n    <path d=\"M -158.379078 273.671006 \nL -157.942122 273.671006 \nL -157.942122 273.671006 \nL -158.379078 273.671006 \nz\n\" clip-path=\"url(#pae04297fc5)\" style=\"fill: #1f77b4; fill-opacity: 0.75; stroke: #000000; stroke-width: 0.029649; stroke-linejoin: miter\"/>\n   </g>\n   <g id=\"patch_95\">\n    <path d=\"M -157.942122 273.671006 \nL -157.505165 273.671006 \nL -157.505165 273.671006 \nL -157.942122 273.671006 \nz\n\" clip-path=\"url(#pae04297fc5)\" style=\"fill: #1f77b4; fill-opacity: 0.75; stroke: #000000; stroke-width: 0.029649; stroke-linejoin: miter\"/>\n   </g>\n   <g id=\"patch_96\">\n    <path d=\"M -157.505165 273.671006 \nL -157.068209 273.671006 \nL -157.068209 273.671006 \nL -157.505165 273.671006 \nz\n\" clip-path=\"url(#pae04297fc5)\" style=\"fill: #1f77b4; fill-opacity: 0.75; stroke: #000000; stroke-width: 0.029649; stroke-linejoin: miter\"/>\n   </g>\n   <g id=\"patch_97\">\n    <path d=\"M -157.068209 273.671006 \nL -156.631253 273.671006 \nL -156.631253 273.671006 \nL -157.068209 273.671006 \nz\n\" clip-path=\"url(#pae04297fc5)\" style=\"fill: #1f77b4; fill-opacity: 0.75; stroke: #000000; stroke-width: 0.029649; stroke-linejoin: miter\"/>\n   </g>\n   <g id=\"patch_98\">\n    <path d=\"M -156.631253 273.671006 \nL -156.194296 273.671006 \nL -156.194296 273.671006 \nL -156.631253 273.671006 \nz\n\" clip-path=\"url(#pae04297fc5)\" style=\"fill: #1f77b4; fill-opacity: 0.75; stroke: #000000; stroke-width: 0.029649; stroke-linejoin: miter\"/>\n   </g>\n   <g id=\"patch_99\">\n    <path d=\"M -156.194296 273.671006 \nL -155.75734 273.671006 \nL -155.75734 273.671006 \nL -156.194296 273.671006 \nz\n\" clip-path=\"url(#pae04297fc5)\" style=\"fill: #1f77b4; fill-opacity: 0.75; stroke: #000000; stroke-width: 0.029649; stroke-linejoin: miter\"/>\n   </g>\n   <g id=\"patch_100\">\n    <path d=\"M -155.75734 273.671006 \nL -155.320384 273.671006 \nL -155.320384 273.671006 \nL -155.75734 273.671006 \nz\n\" clip-path=\"url(#pae04297fc5)\" style=\"fill: #1f77b4; fill-opacity: 0.75; stroke: #000000; stroke-width: 0.029649; stroke-linejoin: miter\"/>\n   </g>\n   <g id=\"patch_101\">\n    <path d=\"M -155.320384 273.671006 \nL -154.883427 273.671006 \nL -154.883427 273.669505 \nL -155.320384 273.669505 \nz\n\" clip-path=\"url(#pae04297fc5)\" style=\"fill: #1f77b4; fill-opacity: 0.75; stroke: #000000; stroke-width: 0.029649; stroke-linejoin: miter\"/>\n   </g>\n   <g id=\"patch_102\">\n    <path d=\"M -154.883427 273.671006 \nL -154.446471 273.671006 \nL -154.446471 273.671006 \nL -154.883427 273.671006 \nz\n\" clip-path=\"url(#pae04297fc5)\" style=\"fill: #1f77b4; fill-opacity: 0.75; stroke: #000000; stroke-width: 0.029649; stroke-linejoin: miter\"/>\n   </g>\n   <g id=\"patch_103\">\n    <path d=\"M -154.446471 273.671006 \nL -154.009514 273.671006 \nL -154.009514 273.671006 \nL -154.446471 273.671006 \nz\n\" clip-path=\"url(#pae04297fc5)\" style=\"fill: #1f77b4; fill-opacity: 0.75; stroke: #000000; stroke-width: 0.029649; stroke-linejoin: miter\"/>\n   </g>\n   <g id=\"patch_104\">\n    <path d=\"M -154.009514 273.671006 \nL -153.572558 273.671006 \nL -153.572558 273.671006 \nL -154.009514 273.671006 \nz\n\" clip-path=\"url(#pae04297fc5)\" style=\"fill: #1f77b4; fill-opacity: 0.75; stroke: #000000; stroke-width: 0.029649; stroke-linejoin: miter\"/>\n   </g>\n   <g id=\"patch_105\">\n    <path d=\"M -153.572558 273.671006 \nL -153.135602 273.671006 \nL -153.135602 273.671006 \nL -153.572558 273.671006 \nz\n\" clip-path=\"url(#pae04297fc5)\" style=\"fill: #1f77b4; fill-opacity: 0.75; stroke: #000000; stroke-width: 0.029649; stroke-linejoin: miter\"/>\n   </g>\n   <g id=\"patch_106\">\n    <path d=\"M -153.135602 273.671006 \nL -152.698645 273.671006 \nL -152.698645 273.671006 \nL -153.135602 273.671006 \nz\n\" clip-path=\"url(#pae04297fc5)\" style=\"fill: #1f77b4; fill-opacity: 0.75; stroke: #000000; stroke-width: 0.029649; stroke-linejoin: miter\"/>\n   </g>\n   <g id=\"patch_107\">\n    <path d=\"M -152.698645 273.671006 \nL -152.261689 273.671006 \nL -152.261689 273.671006 \nL -152.698645 273.671006 \nz\n\" clip-path=\"url(#pae04297fc5)\" style=\"fill: #1f77b4; fill-opacity: 0.75; stroke: #000000; stroke-width: 0.029649; stroke-linejoin: miter\"/>\n   </g>\n   <g id=\"patch_108\">\n    <path d=\"M -152.261689 273.671006 \nL -151.824733 273.671006 \nL -151.824733 273.671006 \nL -152.261689 273.671006 \nz\n\" clip-path=\"url(#pae04297fc5)\" style=\"fill: #1f77b4; fill-opacity: 0.75; stroke: #000000; stroke-width: 0.029649; stroke-linejoin: miter\"/>\n   </g>\n   <g id=\"patch_109\">\n    <path d=\"M -151.824733 273.671006 \nL -151.387776 273.671006 \nL -151.387776 273.671006 \nL -151.824733 273.671006 \nz\n\" clip-path=\"url(#pae04297fc5)\" style=\"fill: #1f77b4; fill-opacity: 0.75; stroke: #000000; stroke-width: 0.029649; stroke-linejoin: miter\"/>\n   </g>\n   <g id=\"patch_110\">\n    <path d=\"M -151.387776 273.671006 \nL -150.95082 273.671006 \nL -150.95082 273.671006 \nL -151.387776 273.671006 \nz\n\" clip-path=\"url(#pae04297fc5)\" style=\"fill: #1f77b4; fill-opacity: 0.75; stroke: #000000; stroke-width: 0.029649; stroke-linejoin: miter\"/>\n   </g>\n   <g id=\"patch_111\">\n    <path d=\"M -150.95082 273.671006 \nL -150.513863 273.671006 \nL -150.513863 273.671006 \nL -150.95082 273.671006 \nz\n\" clip-path=\"url(#pae04297fc5)\" style=\"fill: #1f77b4; fill-opacity: 0.75; stroke: #000000; stroke-width: 0.029649; stroke-linejoin: miter\"/>\n   </g>\n   <g id=\"patch_112\">\n    <path d=\"M -150.513863 273.671006 \nL -150.076907 273.671006 \nL -150.076907 273.671006 \nL -150.513863 273.671006 \nz\n\" clip-path=\"url(#pae04297fc5)\" style=\"fill: #1f77b4; fill-opacity: 0.75; stroke: #000000; stroke-width: 0.029649; stroke-linejoin: miter\"/>\n   </g>\n   <g id=\"patch_113\">\n    <path d=\"M -150.076907 273.671006 \nL -149.639951 273.671006 \nL -149.639951 273.671006 \nL -150.076907 273.671006 \nz\n\" clip-path=\"url(#pae04297fc5)\" style=\"fill: #1f77b4; fill-opacity: 0.75; stroke: #000000; stroke-width: 0.029649; stroke-linejoin: miter\"/>\n   </g>\n   <g id=\"patch_114\">\n    <path d=\"M -149.639951 273.671006 \nL -149.202994 273.671006 \nL -149.202994 273.671006 \nL -149.639951 273.671006 \nz\n\" clip-path=\"url(#pae04297fc5)\" style=\"fill: #1f77b4; fill-opacity: 0.75; stroke: #000000; stroke-width: 0.029649; stroke-linejoin: miter\"/>\n   </g>\n   <g id=\"patch_115\">\n    <path d=\"M -149.202994 273.671006 \nL -148.766038 273.671006 \nL -148.766038 273.671006 \nL -149.202994 273.671006 \nz\n\" clip-path=\"url(#pae04297fc5)\" style=\"fill: #1f77b4; fill-opacity: 0.75; stroke: #000000; stroke-width: 0.029649; stroke-linejoin: miter\"/>\n   </g>\n   <g id=\"patch_116\">\n    <path d=\"M -148.766038 273.671006 \nL -148.329082 273.671006 \nL -148.329082 273.671006 \nL -148.766038 273.671006 \nz\n\" clip-path=\"url(#pae04297fc5)\" style=\"fill: #1f77b4; fill-opacity: 0.75; stroke: #000000; stroke-width: 0.029649; stroke-linejoin: miter\"/>\n   </g>\n   <g id=\"patch_117\">\n    <path d=\"M -148.329082 273.671006 \nL -147.892125 273.671006 \nL -147.892125 273.671006 \nL -148.329082 273.671006 \nz\n\" clip-path=\"url(#pae04297fc5)\" style=\"fill: #1f77b4; fill-opacity: 0.75; stroke: #000000; stroke-width: 0.029649; stroke-linejoin: miter\"/>\n   </g>\n   <g id=\"patch_118\">\n    <path d=\"M -147.892125 273.671006 \nL -147.455169 273.671006 \nL -147.455169 273.671006 \nL -147.892125 273.671006 \nz\n\" clip-path=\"url(#pae04297fc5)\" style=\"fill: #1f77b4; fill-opacity: 0.75; stroke: #000000; stroke-width: 0.029649; stroke-linejoin: miter\"/>\n   </g>\n   <g id=\"patch_119\">\n    <path d=\"M -147.455169 273.671006 \nL -147.018212 273.671006 \nL -147.018212 273.671006 \nL -147.455169 273.671006 \nz\n\" clip-path=\"url(#pae04297fc5)\" style=\"fill: #1f77b4; fill-opacity: 0.75; stroke: #000000; stroke-width: 0.029649; stroke-linejoin: miter\"/>\n   </g>\n   <g id=\"patch_120\">\n    <path d=\"M -147.018212 273.671006 \nL -146.581256 273.671006 \nL -146.581256 273.671006 \nL -147.018212 273.671006 \nz\n\" clip-path=\"url(#pae04297fc5)\" style=\"fill: #1f77b4; fill-opacity: 0.75; stroke: #000000; stroke-width: 0.029649; stroke-linejoin: miter\"/>\n   </g>\n   <g id=\"patch_121\">\n    <path d=\"M -146.581256 273.671006 \nL -146.1443 273.671006 \nL -146.1443 273.671006 \nL -146.581256 273.671006 \nz\n\" clip-path=\"url(#pae04297fc5)\" style=\"fill: #1f77b4; fill-opacity: 0.75; stroke: #000000; stroke-width: 0.029649; stroke-linejoin: miter\"/>\n   </g>\n   <g id=\"patch_122\">\n    <path d=\"M -146.1443 273.671006 \nL -145.707343 273.671006 \nL -145.707343 273.671006 \nL -146.1443 273.671006 \nz\n\" clip-path=\"url(#pae04297fc5)\" style=\"fill: #1f77b4; fill-opacity: 0.75; stroke: #000000; stroke-width: 0.029649; stroke-linejoin: miter\"/>\n   </g>\n   <g id=\"patch_123\">\n    <path d=\"M -145.707343 273.671006 \nL -145.270387 273.671006 \nL -145.270387 273.671006 \nL -145.707343 273.671006 \nz\n\" clip-path=\"url(#pae04297fc5)\" style=\"fill: #1f77b4; fill-opacity: 0.75; stroke: #000000; stroke-width: 0.029649; stroke-linejoin: miter\"/>\n   </g>\n   <g id=\"patch_124\">\n    <path d=\"M -145.270387 273.671006 \nL -144.833431 273.671006 \nL -144.833431 273.671006 \nL -145.270387 273.671006 \nz\n\" clip-path=\"url(#pae04297fc5)\" style=\"fill: #1f77b4; fill-opacity: 0.75; stroke: #000000; stroke-width: 0.029649; stroke-linejoin: miter\"/>\n   </g>\n   <g id=\"patch_125\">\n    <path d=\"M -144.833431 273.671006 \nL -144.396474 273.671006 \nL -144.396474 273.671006 \nL -144.833431 273.671006 \nz\n\" clip-path=\"url(#pae04297fc5)\" style=\"fill: #1f77b4; fill-opacity: 0.75; stroke: #000000; stroke-width: 0.029649; stroke-linejoin: miter\"/>\n   </g>\n   <g id=\"patch_126\">\n    <path d=\"M -144.396474 273.671006 \nL -143.959518 273.671006 \nL -143.959518 273.671006 \nL -144.396474 273.671006 \nz\n\" clip-path=\"url(#pae04297fc5)\" style=\"fill: #1f77b4; fill-opacity: 0.75; stroke: #000000; stroke-width: 0.029649; stroke-linejoin: miter\"/>\n   </g>\n   <g id=\"patch_127\">\n    <path d=\"M -143.959518 273.671006 \nL -143.522561 273.671006 \nL -143.522561 273.671006 \nL -143.959518 273.671006 \nz\n\" clip-path=\"url(#pae04297fc5)\" style=\"fill: #1f77b4; fill-opacity: 0.75; stroke: #000000; stroke-width: 0.029649; stroke-linejoin: miter\"/>\n   </g>\n   <g id=\"patch_128\">\n    <path d=\"M -143.522561 273.671006 \nL -143.085605 273.671006 \nL -143.085605 273.671006 \nL -143.522561 273.671006 \nz\n\" clip-path=\"url(#pae04297fc5)\" style=\"fill: #1f77b4; fill-opacity: 0.75; stroke: #000000; stroke-width: 0.029649; stroke-linejoin: miter\"/>\n   </g>\n   <g id=\"patch_129\">\n    <path d=\"M -143.085605 273.671006 \nL -142.648649 273.671006 \nL -142.648649 273.671006 \nL -143.085605 273.671006 \nz\n\" clip-path=\"url(#pae04297fc5)\" style=\"fill: #1f77b4; fill-opacity: 0.75; stroke: #000000; stroke-width: 0.029649; stroke-linejoin: miter\"/>\n   </g>\n   <g id=\"patch_130\">\n    <path d=\"M -142.648649 273.671006 \nL -142.211692 273.671006 \nL -142.211692 273.670256 \nL -142.648649 273.670256 \nz\n\" clip-path=\"url(#pae04297fc5)\" style=\"fill: #1f77b4; fill-opacity: 0.75; stroke: #000000; stroke-width: 0.029649; stroke-linejoin: miter\"/>\n   </g>\n   <g id=\"patch_131\">\n    <path d=\"M -142.211692 273.671006 \nL -141.774736 273.671006 \nL -141.774736 273.671006 \nL -142.211692 273.671006 \nz\n\" clip-path=\"url(#pae04297fc5)\" style=\"fill: #1f77b4; fill-opacity: 0.75; stroke: #000000; stroke-width: 0.029649; stroke-linejoin: miter\"/>\n   </g>\n   <g id=\"patch_132\">\n    <path d=\"M -141.774736 273.671006 \nL -141.337779 273.671006 \nL -141.337779 273.671006 \nL -141.774736 273.671006 \nz\n\" clip-path=\"url(#pae04297fc5)\" style=\"fill: #1f77b4; fill-opacity: 0.75; stroke: #000000; stroke-width: 0.029649; stroke-linejoin: miter\"/>\n   </g>\n   <g id=\"patch_133\">\n    <path d=\"M -141.337779 273.671006 \nL -140.900823 273.671006 \nL -140.900823 273.671006 \nL -141.337779 273.671006 \nz\n\" clip-path=\"url(#pae04297fc5)\" style=\"fill: #1f77b4; fill-opacity: 0.75; stroke: #000000; stroke-width: 0.029649; stroke-linejoin: miter\"/>\n   </g>\n   <g id=\"patch_134\">\n    <path d=\"M -140.900823 273.671006 \nL -140.463867 273.671006 \nL -140.463867 273.671006 \nL -140.900823 273.671006 \nz\n\" clip-path=\"url(#pae04297fc5)\" style=\"fill: #1f77b4; fill-opacity: 0.75; stroke: #000000; stroke-width: 0.029649; stroke-linejoin: miter\"/>\n   </g>\n   <g id=\"patch_135\">\n    <path d=\"M -140.463867 273.671006 \nL -140.02691 273.671006 \nL -140.02691 273.671006 \nL -140.463867 273.671006 \nz\n\" clip-path=\"url(#pae04297fc5)\" style=\"fill: #1f77b4; fill-opacity: 0.75; stroke: #000000; stroke-width: 0.029649; stroke-linejoin: miter\"/>\n   </g>\n   <g id=\"patch_136\">\n    <path d=\"M -140.02691 273.671006 \nL -139.589954 273.671006 \nL -139.589954 273.671006 \nL -140.02691 273.671006 \nz\n\" clip-path=\"url(#pae04297fc5)\" style=\"fill: #1f77b4; fill-opacity: 0.75; stroke: #000000; stroke-width: 0.029649; stroke-linejoin: miter\"/>\n   </g>\n   <g id=\"patch_137\">\n    <path d=\"M -139.589954 273.671006 \nL -139.152998 273.671006 \nL -139.152998 273.671006 \nL -139.589954 273.671006 \nz\n\" clip-path=\"url(#pae04297fc5)\" style=\"fill: #1f77b4; fill-opacity: 0.75; stroke: #000000; stroke-width: 0.029649; stroke-linejoin: miter\"/>\n   </g>\n   <g id=\"patch_138\">\n    <path d=\"M -139.152998 273.671006 \nL -138.716041 273.671006 \nL -138.716041 273.671006 \nL -139.152998 273.671006 \nz\n\" clip-path=\"url(#pae04297fc5)\" style=\"fill: #1f77b4; fill-opacity: 0.75; stroke: #000000; stroke-width: 0.029649; stroke-linejoin: miter\"/>\n   </g>\n   <g id=\"patch_139\">\n    <path d=\"M -138.716041 273.671006 \nL -138.279085 273.671006 \nL -138.279085 273.671006 \nL -138.716041 273.671006 \nz\n\" clip-path=\"url(#pae04297fc5)\" style=\"fill: #1f77b4; fill-opacity: 0.75; stroke: #000000; stroke-width: 0.029649; stroke-linejoin: miter\"/>\n   </g>\n   <g id=\"patch_140\">\n    <path d=\"M -138.279085 273.671006 \nL -137.842128 273.671006 \nL -137.842128 273.671006 \nL -138.279085 273.671006 \nz\n\" clip-path=\"url(#pae04297fc5)\" style=\"fill: #1f77b4; fill-opacity: 0.75; stroke: #000000; stroke-width: 0.029649; stroke-linejoin: miter\"/>\n   </g>\n   <g id=\"patch_141\">\n    <path d=\"M -137.842128 273.671006 \nL -137.405172 273.671006 \nL -137.405172 273.671006 \nL -137.842128 273.671006 \nz\n\" clip-path=\"url(#pae04297fc5)\" style=\"fill: #1f77b4; fill-opacity: 0.75; stroke: #000000; stroke-width: 0.029649; stroke-linejoin: miter\"/>\n   </g>\n   <g id=\"patch_142\">\n    <path d=\"M -137.405172 273.671006 \nL -136.968216 273.671006 \nL -136.968216 273.671006 \nL -137.405172 273.671006 \nz\n\" clip-path=\"url(#pae04297fc5)\" style=\"fill: #1f77b4; fill-opacity: 0.75; stroke: #000000; stroke-width: 0.029649; stroke-linejoin: miter\"/>\n   </g>\n   <g id=\"patch_143\">\n    <path d=\"M -136.968216 273.671006 \nL -136.531259 273.671006 \nL -136.531259 273.671006 \nL -136.968216 273.671006 \nz\n\" clip-path=\"url(#pae04297fc5)\" style=\"fill: #1f77b4; fill-opacity: 0.75; stroke: #000000; stroke-width: 0.029649; stroke-linejoin: miter\"/>\n   </g>\n   <g id=\"patch_144\">\n    <path d=\"M -136.531259 273.671006 \nL -136.094303 273.671006 \nL -136.094303 273.671006 \nL -136.531259 273.671006 \nz\n\" clip-path=\"url(#pae04297fc5)\" style=\"fill: #1f77b4; fill-opacity: 0.75; stroke: #000000; stroke-width: 0.029649; stroke-linejoin: miter\"/>\n   </g>\n   <g id=\"patch_145\">\n    <path d=\"M -136.094303 273.671006 \nL -135.657347 273.671006 \nL -135.657347 273.671006 \nL -136.094303 273.671006 \nz\n\" clip-path=\"url(#pae04297fc5)\" style=\"fill: #1f77b4; fill-opacity: 0.75; stroke: #000000; stroke-width: 0.029649; stroke-linejoin: miter\"/>\n   </g>\n   <g id=\"patch_146\">\n    <path d=\"M -135.657347 273.671006 \nL -135.22039 273.671006 \nL -135.22039 273.671006 \nL -135.657347 273.671006 \nz\n\" clip-path=\"url(#pae04297fc5)\" style=\"fill: #1f77b4; fill-opacity: 0.75; stroke: #000000; stroke-width: 0.029649; stroke-linejoin: miter\"/>\n   </g>\n   <g id=\"patch_147\">\n    <path d=\"M -135.22039 273.671006 \nL -134.783434 273.671006 \nL -134.783434 273.671006 \nL -135.22039 273.671006 \nz\n\" clip-path=\"url(#pae04297fc5)\" style=\"fill: #1f77b4; fill-opacity: 0.75; stroke: #000000; stroke-width: 0.029649; stroke-linejoin: miter\"/>\n   </g>\n   <g id=\"patch_148\">\n    <path d=\"M -134.783434 273.671006 \nL -134.346477 273.671006 \nL -134.346477 273.671006 \nL -134.783434 273.671006 \nz\n\" clip-path=\"url(#pae04297fc5)\" style=\"fill: #1f77b4; fill-opacity: 0.75; stroke: #000000; stroke-width: 0.029649; stroke-linejoin: miter\"/>\n   </g>\n   <g id=\"patch_149\">\n    <path d=\"M -134.346477 273.671006 \nL -133.909521 273.671006 \nL -133.909521 273.671006 \nL -134.346477 273.671006 \nz\n\" clip-path=\"url(#pae04297fc5)\" style=\"fill: #1f77b4; fill-opacity: 0.75; stroke: #000000; stroke-width: 0.029649; stroke-linejoin: miter\"/>\n   </g>\n   <g id=\"patch_150\">\n    <path d=\"M -133.909521 273.671006 \nL -133.472565 273.671006 \nL -133.472565 273.671006 \nL -133.909521 273.671006 \nz\n\" clip-path=\"url(#pae04297fc5)\" style=\"fill: #1f77b4; fill-opacity: 0.75; stroke: #000000; stroke-width: 0.029649; stroke-linejoin: miter\"/>\n   </g>\n   <g id=\"patch_151\">\n    <path d=\"M -133.472565 273.671006 \nL -133.035608 273.671006 \nL -133.035608 273.671006 \nL -133.472565 273.671006 \nz\n\" clip-path=\"url(#pae04297fc5)\" style=\"fill: #1f77b4; fill-opacity: 0.75; stroke: #000000; stroke-width: 0.029649; stroke-linejoin: miter\"/>\n   </g>\n   <g id=\"patch_152\">\n    <path d=\"M -133.035608 273.671006 \nL -132.598652 273.671006 \nL -132.598652 273.671006 \nL -133.035608 273.671006 \nz\n\" clip-path=\"url(#pae04297fc5)\" style=\"fill: #1f77b4; fill-opacity: 0.75; stroke: #000000; stroke-width: 0.029649; stroke-linejoin: miter\"/>\n   </g>\n   <g id=\"patch_153\">\n    <path d=\"M -132.598652 273.671006 \nL -132.161696 273.671006 \nL -132.161696 273.671006 \nL -132.598652 273.671006 \nz\n\" clip-path=\"url(#pae04297fc5)\" style=\"fill: #1f77b4; fill-opacity: 0.75; stroke: #000000; stroke-width: 0.029649; stroke-linejoin: miter\"/>\n   </g>\n   <g id=\"patch_154\">\n    <path d=\"M -132.161696 273.671006 \nL -131.724739 273.671006 \nL -131.724739 273.671006 \nL -132.161696 273.671006 \nz\n\" clip-path=\"url(#pae04297fc5)\" style=\"fill: #1f77b4; fill-opacity: 0.75; stroke: #000000; stroke-width: 0.029649; stroke-linejoin: miter\"/>\n   </g>\n   <g id=\"patch_155\">\n    <path d=\"M -131.724739 273.671006 \nL -131.287783 273.671006 \nL -131.287783 273.671006 \nL -131.724739 273.671006 \nz\n\" clip-path=\"url(#pae04297fc5)\" style=\"fill: #1f77b4; fill-opacity: 0.75; stroke: #000000; stroke-width: 0.029649; stroke-linejoin: miter\"/>\n   </g>\n   <g id=\"patch_156\">\n    <path d=\"M -131.287783 273.671006 \nL -130.850826 273.671006 \nL -130.850826 273.671006 \nL -131.287783 273.671006 \nz\n\" clip-path=\"url(#pae04297fc5)\" style=\"fill: #1f77b4; fill-opacity: 0.75; stroke: #000000; stroke-width: 0.029649; stroke-linejoin: miter\"/>\n   </g>\n   <g id=\"patch_157\">\n    <path d=\"M -130.850826 273.671006 \nL -130.41387 273.671006 \nL -130.41387 273.671006 \nL -130.850826 273.671006 \nz\n\" clip-path=\"url(#pae04297fc5)\" style=\"fill: #1f77b4; fill-opacity: 0.75; stroke: #000000; stroke-width: 0.029649; stroke-linejoin: miter\"/>\n   </g>\n   <g id=\"patch_158\">\n    <path d=\"M -130.41387 273.671006 \nL -129.976914 273.671006 \nL -129.976914 273.671006 \nL -130.41387 273.671006 \nz\n\" clip-path=\"url(#pae04297fc5)\" style=\"fill: #1f77b4; fill-opacity: 0.75; stroke: #000000; stroke-width: 0.029649; stroke-linejoin: miter\"/>\n   </g>\n   <g id=\"patch_159\">\n    <path d=\"M -129.976914 273.671006 \nL -129.539957 273.671006 \nL -129.539957 273.671006 \nL -129.976914 273.671006 \nz\n\" clip-path=\"url(#pae04297fc5)\" style=\"fill: #1f77b4; fill-opacity: 0.75; stroke: #000000; stroke-width: 0.029649; stroke-linejoin: miter\"/>\n   </g>\n   <g id=\"patch_160\">\n    <path d=\"M -129.539957 273.671006 \nL -129.103001 273.671006 \nL -129.103001 273.671006 \nL -129.539957 273.671006 \nz\n\" clip-path=\"url(#pae04297fc5)\" style=\"fill: #1f77b4; fill-opacity: 0.75; stroke: #000000; stroke-width: 0.029649; stroke-linejoin: miter\"/>\n   </g>\n   <g id=\"patch_161\">\n    <path d=\"M -129.103001 273.671006 \nL -128.666045 273.671006 \nL -128.666045 273.671006 \nL -129.103001 273.671006 \nz\n\" clip-path=\"url(#pae04297fc5)\" style=\"fill: #1f77b4; fill-opacity: 0.75; stroke: #000000; stroke-width: 0.029649; stroke-linejoin: miter\"/>\n   </g>\n   <g id=\"patch_162\">\n    <path d=\"M -128.666045 273.671006 \nL -128.229088 273.671006 \nL -128.229088 273.671006 \nL -128.666045 273.671006 \nz\n\" clip-path=\"url(#pae04297fc5)\" style=\"fill: #1f77b4; fill-opacity: 0.75; stroke: #000000; stroke-width: 0.029649; stroke-linejoin: miter\"/>\n   </g>\n   <g id=\"patch_163\">\n    <path d=\"M -128.229088 273.671006 \nL -127.792132 273.671006 \nL -127.792132 273.671006 \nL -128.229088 273.671006 \nz\n\" clip-path=\"url(#pae04297fc5)\" style=\"fill: #1f77b4; fill-opacity: 0.75; stroke: #000000; stroke-width: 0.029649; stroke-linejoin: miter\"/>\n   </g>\n   <g id=\"patch_164\">\n    <path d=\"M -127.792132 273.671006 \nL -127.355175 273.671006 \nL -127.355175 273.671006 \nL -127.792132 273.671006 \nz\n\" clip-path=\"url(#pae04297fc5)\" style=\"fill: #1f77b4; fill-opacity: 0.75; stroke: #000000; stroke-width: 0.029649; stroke-linejoin: miter\"/>\n   </g>\n   <g id=\"patch_165\">\n    <path d=\"M -127.355175 273.671006 \nL -126.918219 273.671006 \nL -126.918219 273.671006 \nL -127.355175 273.671006 \nz\n\" clip-path=\"url(#pae04297fc5)\" style=\"fill: #1f77b4; fill-opacity: 0.75; stroke: #000000; stroke-width: 0.029649; stroke-linejoin: miter\"/>\n   </g>\n   <g id=\"patch_166\">\n    <path d=\"M -126.918219 273.671006 \nL -126.481263 273.671006 \nL -126.481263 273.671006 \nL -126.918219 273.671006 \nz\n\" clip-path=\"url(#pae04297fc5)\" style=\"fill: #1f77b4; fill-opacity: 0.75; stroke: #000000; stroke-width: 0.029649; stroke-linejoin: miter\"/>\n   </g>\n   <g id=\"patch_167\">\n    <path d=\"M -126.481263 273.671006 \nL -126.044306 273.671006 \nL -126.044306 273.671006 \nL -126.481263 273.671006 \nz\n\" clip-path=\"url(#pae04297fc5)\" style=\"fill: #1f77b4; fill-opacity: 0.75; stroke: #000000; stroke-width: 0.029649; stroke-linejoin: miter\"/>\n   </g>\n   <g id=\"patch_168\">\n    <path d=\"M -126.044306 273.671006 \nL -125.60735 273.671006 \nL -125.60735 273.671006 \nL -126.044306 273.671006 \nz\n\" clip-path=\"url(#pae04297fc5)\" style=\"fill: #1f77b4; fill-opacity: 0.75; stroke: #000000; stroke-width: 0.029649; stroke-linejoin: miter\"/>\n   </g>\n   <g id=\"patch_169\">\n    <path d=\"M -125.60735 273.671006 \nL -125.170394 273.671006 \nL -125.170394 273.671006 \nL -125.60735 273.671006 \nz\n\" clip-path=\"url(#pae04297fc5)\" style=\"fill: #1f77b4; fill-opacity: 0.75; stroke: #000000; stroke-width: 0.029649; stroke-linejoin: miter\"/>\n   </g>\n   <g id=\"patch_170\">\n    <path d=\"M -125.170394 273.671006 \nL -124.733437 273.671006 \nL -124.733437 273.671006 \nL -125.170394 273.671006 \nz\n\" clip-path=\"url(#pae04297fc5)\" style=\"fill: #1f77b4; fill-opacity: 0.75; stroke: #000000; stroke-width: 0.029649; stroke-linejoin: miter\"/>\n   </g>\n   <g id=\"patch_171\">\n    <path d=\"M -124.733437 273.671006 \nL -124.296481 273.671006 \nL -124.296481 273.671006 \nL -124.733437 273.671006 \nz\n\" clip-path=\"url(#pae04297fc5)\" style=\"fill: #1f77b4; fill-opacity: 0.75; stroke: #000000; stroke-width: 0.029649; stroke-linejoin: miter\"/>\n   </g>\n   <g id=\"patch_172\">\n    <path d=\"M -124.296481 273.671006 \nL -123.859524 273.671006 \nL -123.859524 273.671006 \nL -124.296481 273.671006 \nz\n\" clip-path=\"url(#pae04297fc5)\" style=\"fill: #1f77b4; fill-opacity: 0.75; stroke: #000000; stroke-width: 0.029649; stroke-linejoin: miter\"/>\n   </g>\n   <g id=\"patch_173\">\n    <path d=\"M -123.859524 273.671006 \nL -123.422568 273.671006 \nL -123.422568 273.671006 \nL -123.859524 273.671006 \nz\n\" clip-path=\"url(#pae04297fc5)\" style=\"fill: #1f77b4; fill-opacity: 0.75; stroke: #000000; stroke-width: 0.029649; stroke-linejoin: miter\"/>\n   </g>\n   <g id=\"patch_174\">\n    <path d=\"M -123.422568 273.671006 \nL -122.985612 273.671006 \nL -122.985612 273.671006 \nL -123.422568 273.671006 \nz\n\" clip-path=\"url(#pae04297fc5)\" style=\"fill: #1f77b4; fill-opacity: 0.75; stroke: #000000; stroke-width: 0.029649; stroke-linejoin: miter\"/>\n   </g>\n   <g id=\"patch_175\">\n    <path d=\"M -122.985612 273.671006 \nL -122.548655 273.671006 \nL -122.548655 273.671006 \nL -122.985612 273.671006 \nz\n\" clip-path=\"url(#pae04297fc5)\" style=\"fill: #1f77b4; fill-opacity: 0.75; stroke: #000000; stroke-width: 0.029649; stroke-linejoin: miter\"/>\n   </g>\n   <g id=\"patch_176\">\n    <path d=\"M -122.548655 273.671006 \nL -122.111699 273.671006 \nL -122.111699 273.671006 \nL -122.548655 273.671006 \nz\n\" clip-path=\"url(#pae04297fc5)\" style=\"fill: #1f77b4; fill-opacity: 0.75; stroke: #000000; stroke-width: 0.029649; stroke-linejoin: miter\"/>\n   </g>\n   <g id=\"patch_177\">\n    <path d=\"M -122.111699 273.671006 \nL -121.674742 273.671006 \nL -121.674742 273.671006 \nL -122.111699 273.671006 \nz\n\" clip-path=\"url(#pae04297fc5)\" style=\"fill: #1f77b4; fill-opacity: 0.75; stroke: #000000; stroke-width: 0.029649; stroke-linejoin: miter\"/>\n   </g>\n   <g id=\"patch_178\">\n    <path d=\"M -121.674742 273.671006 \nL -121.237786 273.671006 \nL -121.237786 273.671006 \nL -121.674742 273.671006 \nz\n\" clip-path=\"url(#pae04297fc5)\" style=\"fill: #1f77b4; fill-opacity: 0.75; stroke: #000000; stroke-width: 0.029649; stroke-linejoin: miter\"/>\n   </g>\n   <g id=\"patch_179\">\n    <path d=\"M -121.237786 273.671006 \nL -120.80083 273.671006 \nL -120.80083 273.671006 \nL -121.237786 273.671006 \nz\n\" clip-path=\"url(#pae04297fc5)\" style=\"fill: #1f77b4; fill-opacity: 0.75; stroke: #000000; stroke-width: 0.029649; stroke-linejoin: miter\"/>\n   </g>\n   <g id=\"patch_180\">\n    <path d=\"M -120.80083 273.671006 \nL -120.363873 273.671006 \nL -120.363873 273.671006 \nL -120.80083 273.671006 \nz\n\" clip-path=\"url(#pae04297fc5)\" style=\"fill: #1f77b4; fill-opacity: 0.75; stroke: #000000; stroke-width: 0.029649; stroke-linejoin: miter\"/>\n   </g>\n   <g id=\"patch_181\">\n    <path d=\"M -120.363873 273.671006 \nL -119.926917 273.671006 \nL -119.926917 273.671006 \nL -120.363873 273.671006 \nz\n\" clip-path=\"url(#pae04297fc5)\" style=\"fill: #1f77b4; fill-opacity: 0.75; stroke: #000000; stroke-width: 0.029649; stroke-linejoin: miter\"/>\n   </g>\n   <g id=\"patch_182\">\n    <path d=\"M -119.926917 273.671006 \nL -119.489961 273.671006 \nL -119.489961 273.671006 \nL -119.926917 273.671006 \nz\n\" clip-path=\"url(#pae04297fc5)\" style=\"fill: #1f77b4; fill-opacity: 0.75; stroke: #000000; stroke-width: 0.029649; stroke-linejoin: miter\"/>\n   </g>\n   <g id=\"patch_183\">\n    <path d=\"M -119.489961 273.671006 \nL -119.053004 273.671006 \nL -119.053004 273.671006 \nL -119.489961 273.671006 \nz\n\" clip-path=\"url(#pae04297fc5)\" style=\"fill: #1f77b4; fill-opacity: 0.75; stroke: #000000; stroke-width: 0.029649; stroke-linejoin: miter\"/>\n   </g>\n   <g id=\"patch_184\">\n    <path d=\"M -119.053004 273.671006 \nL -118.616048 273.671006 \nL -118.616048 273.671006 \nL -119.053004 273.671006 \nz\n\" clip-path=\"url(#pae04297fc5)\" style=\"fill: #1f77b4; fill-opacity: 0.75; stroke: #000000; stroke-width: 0.029649; stroke-linejoin: miter\"/>\n   </g>\n   <g id=\"patch_185\">\n    <path d=\"M -118.616048 273.671006 \nL -118.179091 273.671006 \nL -118.179091 273.671006 \nL -118.616048 273.671006 \nz\n\" clip-path=\"url(#pae04297fc5)\" style=\"fill: #1f77b4; fill-opacity: 0.75; stroke: #000000; stroke-width: 0.029649; stroke-linejoin: miter\"/>\n   </g>\n   <g id=\"patch_186\">\n    <path d=\"M -118.179091 273.671006 \nL -117.742135 273.671006 \nL -117.742135 273.671006 \nL -118.179091 273.671006 \nz\n\" clip-path=\"url(#pae04297fc5)\" style=\"fill: #1f77b4; fill-opacity: 0.75; stroke: #000000; stroke-width: 0.029649; stroke-linejoin: miter\"/>\n   </g>\n   <g id=\"patch_187\">\n    <path d=\"M -117.742135 273.671006 \nL -117.305179 273.671006 \nL -117.305179 273.671006 \nL -117.742135 273.671006 \nz\n\" clip-path=\"url(#pae04297fc5)\" style=\"fill: #1f77b4; fill-opacity: 0.75; stroke: #000000; stroke-width: 0.029649; stroke-linejoin: miter\"/>\n   </g>\n   <g id=\"patch_188\">\n    <path d=\"M -117.305179 273.671006 \nL -116.868222 273.671006 \nL -116.868222 273.671006 \nL -117.305179 273.671006 \nz\n\" clip-path=\"url(#pae04297fc5)\" style=\"fill: #1f77b4; fill-opacity: 0.75; stroke: #000000; stroke-width: 0.029649; stroke-linejoin: miter\"/>\n   </g>\n   <g id=\"patch_189\">\n    <path d=\"M -116.868222 273.671006 \nL -116.431266 273.671006 \nL -116.431266 273.671006 \nL -116.868222 273.671006 \nz\n\" clip-path=\"url(#pae04297fc5)\" style=\"fill: #1f77b4; fill-opacity: 0.75; stroke: #000000; stroke-width: 0.029649; stroke-linejoin: miter\"/>\n   </g>\n   <g id=\"patch_190\">\n    <path d=\"M -116.431266 273.671006 \nL -115.99431 273.671006 \nL -115.99431 273.671006 \nL -116.431266 273.671006 \nz\n\" clip-path=\"url(#pae04297fc5)\" style=\"fill: #1f77b4; fill-opacity: 0.75; stroke: #000000; stroke-width: 0.029649; stroke-linejoin: miter\"/>\n   </g>\n   <g id=\"patch_191\">\n    <path d=\"M -115.99431 273.671006 \nL -115.557353 273.671006 \nL -115.557353 273.671006 \nL -115.99431 273.671006 \nz\n\" clip-path=\"url(#pae04297fc5)\" style=\"fill: #1f77b4; fill-opacity: 0.75; stroke: #000000; stroke-width: 0.029649; stroke-linejoin: miter\"/>\n   </g>\n   <g id=\"patch_192\">\n    <path d=\"M -115.557353 273.671006 \nL -115.120397 273.671006 \nL -115.120397 273.671006 \nL -115.557353 273.671006 \nz\n\" clip-path=\"url(#pae04297fc5)\" style=\"fill: #1f77b4; fill-opacity: 0.75; stroke: #000000; stroke-width: 0.029649; stroke-linejoin: miter\"/>\n   </g>\n   <g id=\"patch_193\">\n    <path d=\"M -115.120397 273.671006 \nL -114.68344 273.671006 \nL -114.68344 273.671006 \nL -115.120397 273.671006 \nz\n\" clip-path=\"url(#pae04297fc5)\" style=\"fill: #1f77b4; fill-opacity: 0.75; stroke: #000000; stroke-width: 0.029649; stroke-linejoin: miter\"/>\n   </g>\n   <g id=\"patch_194\">\n    <path d=\"M -114.68344 273.671006 \nL -114.246484 273.671006 \nL -114.246484 273.671006 \nL -114.68344 273.671006 \nz\n\" clip-path=\"url(#pae04297fc5)\" style=\"fill: #1f77b4; fill-opacity: 0.75; stroke: #000000; stroke-width: 0.029649; stroke-linejoin: miter\"/>\n   </g>\n   <g id=\"patch_195\">\n    <path d=\"M -114.246484 273.671006 \nL -113.809528 273.671006 \nL -113.809528 273.670256 \nL -114.246484 273.670256 \nz\n\" clip-path=\"url(#pae04297fc5)\" style=\"fill: #1f77b4; fill-opacity: 0.75; stroke: #000000; stroke-width: 0.029649; stroke-linejoin: miter\"/>\n   </g>\n   <g id=\"patch_196\">\n    <path d=\"M -113.809528 273.671006 \nL -113.372571 273.671006 \nL -113.372571 273.671006 \nL -113.809528 273.671006 \nz\n\" clip-path=\"url(#pae04297fc5)\" style=\"fill: #1f77b4; fill-opacity: 0.75; stroke: #000000; stroke-width: 0.029649; stroke-linejoin: miter\"/>\n   </g>\n   <g id=\"patch_197\">\n    <path d=\"M -113.372571 273.671006 \nL -112.935615 273.671006 \nL -112.935615 273.671006 \nL -113.372571 273.671006 \nz\n\" clip-path=\"url(#pae04297fc5)\" style=\"fill: #1f77b4; fill-opacity: 0.75; stroke: #000000; stroke-width: 0.029649; stroke-linejoin: miter\"/>\n   </g>\n   <g id=\"patch_198\">\n    <path d=\"M -112.935615 273.671006 \nL -112.498659 273.671006 \nL -112.498659 273.671006 \nL -112.935615 273.671006 \nz\n\" clip-path=\"url(#pae04297fc5)\" style=\"fill: #1f77b4; fill-opacity: 0.75; stroke: #000000; stroke-width: 0.029649; stroke-linejoin: miter\"/>\n   </g>\n   <g id=\"patch_199\">\n    <path d=\"M -112.498659 273.671006 \nL -112.061702 273.671006 \nL -112.061702 273.671006 \nL -112.498659 273.671006 \nz\n\" clip-path=\"url(#pae04297fc5)\" style=\"fill: #1f77b4; fill-opacity: 0.75; stroke: #000000; stroke-width: 0.029649; stroke-linejoin: miter\"/>\n   </g>\n   <g id=\"patch_200\">\n    <path d=\"M -112.061702 273.671006 \nL -111.624746 273.671006 \nL -111.624746 273.671006 \nL -112.061702 273.671006 \nz\n\" clip-path=\"url(#pae04297fc5)\" style=\"fill: #1f77b4; fill-opacity: 0.75; stroke: #000000; stroke-width: 0.029649; stroke-linejoin: miter\"/>\n   </g>\n   <g id=\"patch_201\">\n    <path d=\"M -111.624746 273.671006 \nL -111.187789 273.671006 \nL -111.187789 273.671006 \nL -111.624746 273.671006 \nz\n\" clip-path=\"url(#pae04297fc5)\" style=\"fill: #1f77b4; fill-opacity: 0.75; stroke: #000000; stroke-width: 0.029649; stroke-linejoin: miter\"/>\n   </g>\n   <g id=\"patch_202\">\n    <path d=\"M -111.187789 273.671006 \nL -110.750833 273.671006 \nL -110.750833 273.671006 \nL -111.187789 273.671006 \nz\n\" clip-path=\"url(#pae04297fc5)\" style=\"fill: #1f77b4; fill-opacity: 0.75; stroke: #000000; stroke-width: 0.029649; stroke-linejoin: miter\"/>\n   </g>\n   <g id=\"patch_203\">\n    <path d=\"M -110.750833 273.671006 \nL -110.313877 273.671006 \nL -110.313877 273.671006 \nL -110.750833 273.671006 \nz\n\" clip-path=\"url(#pae04297fc5)\" style=\"fill: #1f77b4; fill-opacity: 0.75; stroke: #000000; stroke-width: 0.029649; stroke-linejoin: miter\"/>\n   </g>\n   <g id=\"patch_204\">\n    <path d=\"M -110.313877 273.671006 \nL -109.87692 273.671006 \nL -109.87692 273.671006 \nL -110.313877 273.671006 \nz\n\" clip-path=\"url(#pae04297fc5)\" style=\"fill: #1f77b4; fill-opacity: 0.75; stroke: #000000; stroke-width: 0.029649; stroke-linejoin: miter\"/>\n   </g>\n   <g id=\"patch_205\">\n    <path d=\"M -109.87692 273.671006 \nL -109.439964 273.671006 \nL -109.439964 273.671006 \nL -109.87692 273.671006 \nz\n\" clip-path=\"url(#pae04297fc5)\" style=\"fill: #1f77b4; fill-opacity: 0.75; stroke: #000000; stroke-width: 0.029649; stroke-linejoin: miter\"/>\n   </g>\n   <g id=\"patch_206\">\n    <path d=\"M -109.439964 273.671006 \nL -109.003008 273.671006 \nL -109.003008 273.671006 \nL -109.439964 273.671006 \nz\n\" clip-path=\"url(#pae04297fc5)\" style=\"fill: #1f77b4; fill-opacity: 0.75; stroke: #000000; stroke-width: 0.029649; stroke-linejoin: miter\"/>\n   </g>\n   <g id=\"patch_207\">\n    <path d=\"M -109.003008 273.671006 \nL -108.566051 273.671006 \nL -108.566051 273.671006 \nL -109.003008 273.671006 \nz\n\" clip-path=\"url(#pae04297fc5)\" style=\"fill: #1f77b4; fill-opacity: 0.75; stroke: #000000; stroke-width: 0.029649; stroke-linejoin: miter\"/>\n   </g>\n   <g id=\"patch_208\">\n    <path d=\"M -108.566051 273.671006 \nL -108.129095 273.671006 \nL -108.129095 273.670256 \nL -108.566051 273.670256 \nz\n\" clip-path=\"url(#pae04297fc5)\" style=\"fill: #1f77b4; fill-opacity: 0.75; stroke: #000000; stroke-width: 0.029649; stroke-linejoin: miter\"/>\n   </g>\n   <g id=\"patch_209\">\n    <path d=\"M -108.129095 273.671006 \nL -107.692138 273.671006 \nL -107.692138 273.671006 \nL -108.129095 273.671006 \nz\n\" clip-path=\"url(#pae04297fc5)\" style=\"fill: #1f77b4; fill-opacity: 0.75; stroke: #000000; stroke-width: 0.029649; stroke-linejoin: miter\"/>\n   </g>\n   <g id=\"patch_210\">\n    <path d=\"M -107.692138 273.671006 \nL -107.255182 273.671006 \nL -107.255182 273.671006 \nL -107.692138 273.671006 \nz\n\" clip-path=\"url(#pae04297fc5)\" style=\"fill: #1f77b4; fill-opacity: 0.75; stroke: #000000; stroke-width: 0.029649; stroke-linejoin: miter\"/>\n   </g>\n   <g id=\"patch_211\">\n    <path d=\"M -107.255182 273.671006 \nL -106.818226 273.671006 \nL -106.818226 273.671006 \nL -107.255182 273.671006 \nz\n\" clip-path=\"url(#pae04297fc5)\" style=\"fill: #1f77b4; fill-opacity: 0.75; stroke: #000000; stroke-width: 0.029649; stroke-linejoin: miter\"/>\n   </g>\n   <g id=\"patch_212\">\n    <path d=\"M -106.818226 273.671006 \nL -106.381269 273.671006 \nL -106.381269 273.671006 \nL -106.818226 273.671006 \nz\n\" clip-path=\"url(#pae04297fc5)\" style=\"fill: #1f77b4; fill-opacity: 0.75; stroke: #000000; stroke-width: 0.029649; stroke-linejoin: miter\"/>\n   </g>\n   <g id=\"patch_213\">\n    <path d=\"M -106.381269 273.671006 \nL -105.944313 273.671006 \nL -105.944313 273.671006 \nL -106.381269 273.671006 \nz\n\" clip-path=\"url(#pae04297fc5)\" style=\"fill: #1f77b4; fill-opacity: 0.75; stroke: #000000; stroke-width: 0.029649; stroke-linejoin: miter\"/>\n   </g>\n   <g id=\"patch_214\">\n    <path d=\"M -105.944313 273.671006 \nL -105.507357 273.671006 \nL -105.507357 273.671006 \nL -105.944313 273.671006 \nz\n\" clip-path=\"url(#pae04297fc5)\" style=\"fill: #1f77b4; fill-opacity: 0.75; stroke: #000000; stroke-width: 0.029649; stroke-linejoin: miter\"/>\n   </g>\n   <g id=\"patch_215\">\n    <path d=\"M -105.507357 273.671006 \nL -105.0704 273.671006 \nL -105.0704 273.671006 \nL -105.507357 273.671006 \nz\n\" clip-path=\"url(#pae04297fc5)\" style=\"fill: #1f77b4; fill-opacity: 0.75; stroke: #000000; stroke-width: 0.029649; stroke-linejoin: miter\"/>\n   </g>\n   <g id=\"patch_216\">\n    <path d=\"M -105.0704 273.671006 \nL -104.633444 273.671006 \nL -104.633444 273.671006 \nL -105.0704 273.671006 \nz\n\" clip-path=\"url(#pae04297fc5)\" style=\"fill: #1f77b4; fill-opacity: 0.75; stroke: #000000; stroke-width: 0.029649; stroke-linejoin: miter\"/>\n   </g>\n   <g id=\"patch_217\">\n    <path d=\"M -104.633444 273.671006 \nL -104.196487 273.671006 \nL -104.196487 273.671006 \nL -104.633444 273.671006 \nz\n\" clip-path=\"url(#pae04297fc5)\" style=\"fill: #1f77b4; fill-opacity: 0.75; stroke: #000000; stroke-width: 0.029649; stroke-linejoin: miter\"/>\n   </g>\n   <g id=\"patch_218\">\n    <path d=\"M -104.196487 273.671006 \nL -103.759531 273.671006 \nL -103.759531 273.671006 \nL -104.196487 273.671006 \nz\n\" clip-path=\"url(#pae04297fc5)\" style=\"fill: #1f77b4; fill-opacity: 0.75; stroke: #000000; stroke-width: 0.029649; stroke-linejoin: miter\"/>\n   </g>\n   <g id=\"patch_219\">\n    <path d=\"M -103.759531 273.671006 \nL -103.322575 273.671006 \nL -103.322575 273.670256 \nL -103.759531 273.670256 \nz\n\" clip-path=\"url(#pae04297fc5)\" style=\"fill: #1f77b4; fill-opacity: 0.75; stroke: #000000; stroke-width: 0.029649; stroke-linejoin: miter\"/>\n   </g>\n   <g id=\"patch_220\">\n    <path d=\"M -103.322575 273.671006 \nL -102.885618 273.671006 \nL -102.885618 273.671006 \nL -103.322575 273.671006 \nz\n\" clip-path=\"url(#pae04297fc5)\" style=\"fill: #1f77b4; fill-opacity: 0.75; stroke: #000000; stroke-width: 0.029649; stroke-linejoin: miter\"/>\n   </g>\n   <g id=\"patch_221\">\n    <path d=\"M -102.885618 273.671006 \nL -102.448662 273.671006 \nL -102.448662 273.671006 \nL -102.885618 273.671006 \nz\n\" clip-path=\"url(#pae04297fc5)\" style=\"fill: #1f77b4; fill-opacity: 0.75; stroke: #000000; stroke-width: 0.029649; stroke-linejoin: miter\"/>\n   </g>\n   <g id=\"patch_222\">\n    <path d=\"M -102.448662 273.671006 \nL -102.011705 273.671006 \nL -102.011705 273.671006 \nL -102.448662 273.671006 \nz\n\" clip-path=\"url(#pae04297fc5)\" style=\"fill: #1f77b4; fill-opacity: 0.75; stroke: #000000; stroke-width: 0.029649; stroke-linejoin: miter\"/>\n   </g>\n   <g id=\"patch_223\">\n    <path d=\"M -102.011705 273.671006 \nL -101.574749 273.671006 \nL -101.574749 273.671006 \nL -102.011705 273.671006 \nz\n\" clip-path=\"url(#pae04297fc5)\" style=\"fill: #1f77b4; fill-opacity: 0.75; stroke: #000000; stroke-width: 0.029649; stroke-linejoin: miter\"/>\n   </g>\n   <g id=\"patch_224\">\n    <path d=\"M -101.574749 273.671006 \nL -101.137793 273.671006 \nL -101.137793 273.671006 \nL -101.574749 273.671006 \nz\n\" clip-path=\"url(#pae04297fc5)\" style=\"fill: #1f77b4; fill-opacity: 0.75; stroke: #000000; stroke-width: 0.029649; stroke-linejoin: miter\"/>\n   </g>\n   <g id=\"patch_225\">\n    <path d=\"M -101.137793 273.671006 \nL -100.700836 273.671006 \nL -100.700836 273.671006 \nL -101.137793 273.671006 \nz\n\" clip-path=\"url(#pae04297fc5)\" style=\"fill: #1f77b4; fill-opacity: 0.75; stroke: #000000; stroke-width: 0.029649; stroke-linejoin: miter\"/>\n   </g>\n   <g id=\"patch_226\">\n    <path d=\"M -100.700836 273.671006 \nL -100.26388 273.671006 \nL -100.26388 273.671006 \nL -100.700836 273.671006 \nz\n\" clip-path=\"url(#pae04297fc5)\" style=\"fill: #1f77b4; fill-opacity: 0.75; stroke: #000000; stroke-width: 0.029649; stroke-linejoin: miter\"/>\n   </g>\n   <g id=\"patch_227\">\n    <path d=\"M -100.26388 273.671006 \nL -99.826924 273.671006 \nL -99.826924 273.671006 \nL -100.26388 273.671006 \nz\n\" clip-path=\"url(#pae04297fc5)\" style=\"fill: #1f77b4; fill-opacity: 0.75; stroke: #000000; stroke-width: 0.029649; stroke-linejoin: miter\"/>\n   </g>\n   <g id=\"patch_228\">\n    <path d=\"M -99.826924 273.671006 \nL -99.389967 273.671006 \nL -99.389967 273.671006 \nL -99.826924 273.671006 \nz\n\" clip-path=\"url(#pae04297fc5)\" style=\"fill: #1f77b4; fill-opacity: 0.75; stroke: #000000; stroke-width: 0.029649; stroke-linejoin: miter\"/>\n   </g>\n   <g id=\"patch_229\">\n    <path d=\"M -99.389967 273.671006 \nL -98.953011 273.671006 \nL -98.953011 273.671006 \nL -99.389967 273.671006 \nz\n\" clip-path=\"url(#pae04297fc5)\" style=\"fill: #1f77b4; fill-opacity: 0.75; stroke: #000000; stroke-width: 0.029649; stroke-linejoin: miter\"/>\n   </g>\n   <g id=\"patch_230\">\n    <path d=\"M -98.953011 273.671006 \nL -98.516054 273.671006 \nL -98.516054 273.671006 \nL -98.953011 273.671006 \nz\n\" clip-path=\"url(#pae04297fc5)\" style=\"fill: #1f77b4; fill-opacity: 0.75; stroke: #000000; stroke-width: 0.029649; stroke-linejoin: miter\"/>\n   </g>\n   <g id=\"patch_231\">\n    <path d=\"M -98.516054 273.671006 \nL -98.079098 273.671006 \nL -98.079098 273.671006 \nL -98.516054 273.671006 \nz\n\" clip-path=\"url(#pae04297fc5)\" style=\"fill: #1f77b4; fill-opacity: 0.75; stroke: #000000; stroke-width: 0.029649; stroke-linejoin: miter\"/>\n   </g>\n   <g id=\"patch_232\">\n    <path d=\"M -98.079098 273.671006 \nL -97.642142 273.671006 \nL -97.642142 273.671006 \nL -98.079098 273.671006 \nz\n\" clip-path=\"url(#pae04297fc5)\" style=\"fill: #1f77b4; fill-opacity: 0.75; stroke: #000000; stroke-width: 0.029649; stroke-linejoin: miter\"/>\n   </g>\n   <g id=\"patch_233\">\n    <path d=\"M -97.642142 273.671006 \nL -97.205185 273.671006 \nL -97.205185 273.671006 \nL -97.642142 273.671006 \nz\n\" clip-path=\"url(#pae04297fc5)\" style=\"fill: #1f77b4; fill-opacity: 0.75; stroke: #000000; stroke-width: 0.029649; stroke-linejoin: miter\"/>\n   </g>\n   <g id=\"patch_234\">\n    <path d=\"M -97.205185 273.671006 \nL -96.768229 273.671006 \nL -96.768229 273.671006 \nL -97.205185 273.671006 \nz\n\" clip-path=\"url(#pae04297fc5)\" style=\"fill: #1f77b4; fill-opacity: 0.75; stroke: #000000; stroke-width: 0.029649; stroke-linejoin: miter\"/>\n   </g>\n   <g id=\"patch_235\">\n    <path d=\"M -96.768229 273.671006 \nL -96.331273 273.671006 \nL -96.331273 273.671006 \nL -96.768229 273.671006 \nz\n\" clip-path=\"url(#pae04297fc5)\" style=\"fill: #1f77b4; fill-opacity: 0.75; stroke: #000000; stroke-width: 0.029649; stroke-linejoin: miter\"/>\n   </g>\n   <g id=\"patch_236\">\n    <path d=\"M -96.331273 273.671006 \nL -95.894316 273.671006 \nL -95.894316 273.671006 \nL -96.331273 273.671006 \nz\n\" clip-path=\"url(#pae04297fc5)\" style=\"fill: #1f77b4; fill-opacity: 0.75; stroke: #000000; stroke-width: 0.029649; stroke-linejoin: miter\"/>\n   </g>\n   <g id=\"patch_237\">\n    <path d=\"M -95.894316 273.671006 \nL -95.45736 273.671006 \nL -95.45736 273.671006 \nL -95.894316 273.671006 \nz\n\" clip-path=\"url(#pae04297fc5)\" style=\"fill: #1f77b4; fill-opacity: 0.75; stroke: #000000; stroke-width: 0.029649; stroke-linejoin: miter\"/>\n   </g>\n   <g id=\"patch_238\">\n    <path d=\"M -95.45736 273.671006 \nL -95.020403 273.671006 \nL -95.020403 273.671006 \nL -95.45736 273.671006 \nz\n\" clip-path=\"url(#pae04297fc5)\" style=\"fill: #1f77b4; fill-opacity: 0.75; stroke: #000000; stroke-width: 0.029649; stroke-linejoin: miter\"/>\n   </g>\n   <g id=\"patch_239\">\n    <path d=\"M -95.020403 273.671006 \nL -94.583447 273.671006 \nL -94.583447 273.671006 \nL -95.020403 273.671006 \nz\n\" clip-path=\"url(#pae04297fc5)\" style=\"fill: #1f77b4; fill-opacity: 0.75; stroke: #000000; stroke-width: 0.029649; stroke-linejoin: miter\"/>\n   </g>\n   <g id=\"patch_240\">\n    <path d=\"M -94.583447 273.671006 \nL -94.146491 273.671006 \nL -94.146491 273.671006 \nL -94.583447 273.671006 \nz\n\" clip-path=\"url(#pae04297fc5)\" style=\"fill: #1f77b4; fill-opacity: 0.75; stroke: #000000; stroke-width: 0.029649; stroke-linejoin: miter\"/>\n   </g>\n   <g id=\"patch_241\">\n    <path d=\"M -94.146491 273.671006 \nL -93.709534 273.671006 \nL -93.709534 273.671006 \nL -94.146491 273.671006 \nz\n\" clip-path=\"url(#pae04297fc5)\" style=\"fill: #1f77b4; fill-opacity: 0.75; stroke: #000000; stroke-width: 0.029649; stroke-linejoin: miter\"/>\n   </g>\n   <g id=\"patch_242\">\n    <path d=\"M -93.709534 273.671006 \nL -93.272578 273.671006 \nL -93.272578 273.671006 \nL -93.709534 273.671006 \nz\n\" clip-path=\"url(#pae04297fc5)\" style=\"fill: #1f77b4; fill-opacity: 0.75; stroke: #000000; stroke-width: 0.029649; stroke-linejoin: miter\"/>\n   </g>\n   <g id=\"patch_243\">\n    <path d=\"M -93.272578 273.671006 \nL -92.835622 273.671006 \nL -92.835622 273.671006 \nL -93.272578 273.671006 \nz\n\" clip-path=\"url(#pae04297fc5)\" style=\"fill: #1f77b4; fill-opacity: 0.75; stroke: #000000; stroke-width: 0.029649; stroke-linejoin: miter\"/>\n   </g>\n   <g id=\"patch_244\">\n    <path d=\"M -92.835622 273.671006 \nL -92.398665 273.671006 \nL -92.398665 273.671006 \nL -92.835622 273.671006 \nz\n\" clip-path=\"url(#pae04297fc5)\" style=\"fill: #1f77b4; fill-opacity: 0.75; stroke: #000000; stroke-width: 0.029649; stroke-linejoin: miter\"/>\n   </g>\n   <g id=\"patch_245\">\n    <path d=\"M -92.398665 273.671006 \nL -91.961709 273.671006 \nL -91.961709 273.671006 \nL -92.398665 273.671006 \nz\n\" clip-path=\"url(#pae04297fc5)\" style=\"fill: #1f77b4; fill-opacity: 0.75; stroke: #000000; stroke-width: 0.029649; stroke-linejoin: miter\"/>\n   </g>\n   <g id=\"patch_246\">\n    <path d=\"M -91.961709 273.671006 \nL -91.524752 273.671006 \nL -91.524752 273.671006 \nL -91.961709 273.671006 \nz\n\" clip-path=\"url(#pae04297fc5)\" style=\"fill: #1f77b4; fill-opacity: 0.75; stroke: #000000; stroke-width: 0.029649; stroke-linejoin: miter\"/>\n   </g>\n   <g id=\"patch_247\">\n    <path d=\"M -91.524752 273.671006 \nL -91.087796 273.671006 \nL -91.087796 273.671006 \nL -91.524752 273.671006 \nz\n\" clip-path=\"url(#pae04297fc5)\" style=\"fill: #1f77b4; fill-opacity: 0.75; stroke: #000000; stroke-width: 0.029649; stroke-linejoin: miter\"/>\n   </g>\n   <g id=\"patch_248\">\n    <path d=\"M -91.087796 273.671006 \nL -90.65084 273.671006 \nL -90.65084 273.671006 \nL -91.087796 273.671006 \nz\n\" clip-path=\"url(#pae04297fc5)\" style=\"fill: #1f77b4; fill-opacity: 0.75; stroke: #000000; stroke-width: 0.029649; stroke-linejoin: miter\"/>\n   </g>\n   <g id=\"patch_249\">\n    <path d=\"M -90.65084 273.671006 \nL -90.213883 273.671006 \nL -90.213883 273.671006 \nL -90.65084 273.671006 \nz\n\" clip-path=\"url(#pae04297fc5)\" style=\"fill: #1f77b4; fill-opacity: 0.75; stroke: #000000; stroke-width: 0.029649; stroke-linejoin: miter\"/>\n   </g>\n   <g id=\"patch_250\">\n    <path d=\"M -90.213883 273.671006 \nL -89.776927 273.671006 \nL -89.776927 273.671006 \nL -90.213883 273.671006 \nz\n\" clip-path=\"url(#pae04297fc5)\" style=\"fill: #1f77b4; fill-opacity: 0.75; stroke: #000000; stroke-width: 0.029649; stroke-linejoin: miter\"/>\n   </g>\n   <g id=\"patch_251\">\n    <path d=\"M -89.776927 273.671006 \nL -89.339971 273.671006 \nL -89.339971 273.671006 \nL -89.776927 273.671006 \nz\n\" clip-path=\"url(#pae04297fc5)\" style=\"fill: #1f77b4; fill-opacity: 0.75; stroke: #000000; stroke-width: 0.029649; stroke-linejoin: miter\"/>\n   </g>\n   <g id=\"patch_252\">\n    <path d=\"M -89.339971 273.671006 \nL -88.903014 273.671006 \nL -88.903014 273.671006 \nL -89.339971 273.671006 \nz\n\" clip-path=\"url(#pae04297fc5)\" style=\"fill: #1f77b4; fill-opacity: 0.75; stroke: #000000; stroke-width: 0.029649; stroke-linejoin: miter\"/>\n   </g>\n   <g id=\"patch_253\">\n    <path d=\"M -88.903014 273.671006 \nL -88.466058 273.671006 \nL -88.466058 273.671006 \nL -88.903014 273.671006 \nz\n\" clip-path=\"url(#pae04297fc5)\" style=\"fill: #1f77b4; fill-opacity: 0.75; stroke: #000000; stroke-width: 0.029649; stroke-linejoin: miter\"/>\n   </g>\n   <g id=\"patch_254\">\n    <path d=\"M -88.466058 273.671006 \nL -88.029101 273.671006 \nL -88.029101 273.671006 \nL -88.466058 273.671006 \nz\n\" clip-path=\"url(#pae04297fc5)\" style=\"fill: #1f77b4; fill-opacity: 0.75; stroke: #000000; stroke-width: 0.029649; stroke-linejoin: miter\"/>\n   </g>\n   <g id=\"patch_255\">\n    <path d=\"M -88.029101 273.671006 \nL -87.592145 273.671006 \nL -87.592145 273.671006 \nL -88.029101 273.671006 \nz\n\" clip-path=\"url(#pae04297fc5)\" style=\"fill: #1f77b4; fill-opacity: 0.75; stroke: #000000; stroke-width: 0.029649; stroke-linejoin: miter\"/>\n   </g>\n   <g id=\"patch_256\">\n    <path d=\"M -87.592145 273.671006 \nL -87.155189 273.671006 \nL -87.155189 273.671006 \nL -87.592145 273.671006 \nz\n\" clip-path=\"url(#pae04297fc5)\" style=\"fill: #1f77b4; fill-opacity: 0.75; stroke: #000000; stroke-width: 0.029649; stroke-linejoin: miter\"/>\n   </g>\n   <g id=\"patch_257\">\n    <path d=\"M -87.155189 273.671006 \nL -86.718232 273.671006 \nL -86.718232 273.671006 \nL -87.155189 273.671006 \nz\n\" clip-path=\"url(#pae04297fc5)\" style=\"fill: #1f77b4; fill-opacity: 0.75; stroke: #000000; stroke-width: 0.029649; stroke-linejoin: miter\"/>\n   </g>\n   <g id=\"patch_258\">\n    <path d=\"M -86.718232 273.671006 \nL -86.281276 273.671006 \nL -86.281276 273.671006 \nL -86.718232 273.671006 \nz\n\" clip-path=\"url(#pae04297fc5)\" style=\"fill: #1f77b4; fill-opacity: 0.75; stroke: #000000; stroke-width: 0.029649; stroke-linejoin: miter\"/>\n   </g>\n   <g id=\"patch_259\">\n    <path d=\"M -86.281276 273.671006 \nL -85.84432 273.671006 \nL -85.84432 273.671006 \nL -86.281276 273.671006 \nz\n\" clip-path=\"url(#pae04297fc5)\" style=\"fill: #1f77b4; fill-opacity: 0.75; stroke: #000000; stroke-width: 0.029649; stroke-linejoin: miter\"/>\n   </g>\n   <g id=\"patch_260\">\n    <path d=\"M -85.84432 273.671006 \nL -85.407363 273.671006 \nL -85.407363 273.671006 \nL -85.84432 273.671006 \nz\n\" clip-path=\"url(#pae04297fc5)\" style=\"fill: #1f77b4; fill-opacity: 0.75; stroke: #000000; stroke-width: 0.029649; stroke-linejoin: miter\"/>\n   </g>\n   <g id=\"patch_261\">\n    <path d=\"M -85.407363 273.671006 \nL -84.970407 273.671006 \nL -84.970407 273.671006 \nL -85.407363 273.671006 \nz\n\" clip-path=\"url(#pae04297fc5)\" style=\"fill: #1f77b4; fill-opacity: 0.75; stroke: #000000; stroke-width: 0.029649; stroke-linejoin: miter\"/>\n   </g>\n   <g id=\"patch_262\">\n    <path d=\"M -84.970407 273.671006 \nL -84.53345 273.671006 \nL -84.53345 273.671006 \nL -84.970407 273.671006 \nz\n\" clip-path=\"url(#pae04297fc5)\" style=\"fill: #1f77b4; fill-opacity: 0.75; stroke: #000000; stroke-width: 0.029649; stroke-linejoin: miter\"/>\n   </g>\n   <g id=\"patch_263\">\n    <path d=\"M -84.53345 273.671006 \nL -84.096494 273.671006 \nL -84.096494 273.671006 \nL -84.53345 273.671006 \nz\n\" clip-path=\"url(#pae04297fc5)\" style=\"fill: #1f77b4; fill-opacity: 0.75; stroke: #000000; stroke-width: 0.029649; stroke-linejoin: miter\"/>\n   </g>\n   <g id=\"patch_264\">\n    <path d=\"M -84.096494 273.671006 \nL -83.659538 273.671006 \nL -83.659538 273.671006 \nL -84.096494 273.671006 \nz\n\" clip-path=\"url(#pae04297fc5)\" style=\"fill: #1f77b4; fill-opacity: 0.75; stroke: #000000; stroke-width: 0.029649; stroke-linejoin: miter\"/>\n   </g>\n   <g id=\"patch_265\">\n    <path d=\"M -83.659538 273.671006 \nL -83.222581 273.671006 \nL -83.222581 273.671006 \nL -83.659538 273.671006 \nz\n\" clip-path=\"url(#pae04297fc5)\" style=\"fill: #1f77b4; fill-opacity: 0.75; stroke: #000000; stroke-width: 0.029649; stroke-linejoin: miter\"/>\n   </g>\n   <g id=\"patch_266\">\n    <path d=\"M -83.222581 273.671006 \nL -82.785625 273.671006 \nL -82.785625 273.671006 \nL -83.222581 273.671006 \nz\n\" clip-path=\"url(#pae04297fc5)\" style=\"fill: #1f77b4; fill-opacity: 0.75; stroke: #000000; stroke-width: 0.029649; stroke-linejoin: miter\"/>\n   </g>\n   <g id=\"patch_267\">\n    <path d=\"M -82.785625 273.671006 \nL -82.348668 273.671006 \nL -82.348668 273.671006 \nL -82.785625 273.671006 \nz\n\" clip-path=\"url(#pae04297fc5)\" style=\"fill: #1f77b4; fill-opacity: 0.75; stroke: #000000; stroke-width: 0.029649; stroke-linejoin: miter\"/>\n   </g>\n   <g id=\"patch_268\">\n    <path d=\"M -82.348668 273.671006 \nL -81.911712 273.671006 \nL -81.911712 273.671006 \nL -82.348668 273.671006 \nz\n\" clip-path=\"url(#pae04297fc5)\" style=\"fill: #1f77b4; fill-opacity: 0.75; stroke: #000000; stroke-width: 0.029649; stroke-linejoin: miter\"/>\n   </g>\n   <g id=\"patch_269\">\n    <path d=\"M -81.911712 273.671006 \nL -81.474756 273.671006 \nL -81.474756 273.671006 \nL -81.911712 273.671006 \nz\n\" clip-path=\"url(#pae04297fc5)\" style=\"fill: #1f77b4; fill-opacity: 0.75; stroke: #000000; stroke-width: 0.029649; stroke-linejoin: miter\"/>\n   </g>\n   <g id=\"patch_270\">\n    <path d=\"M -81.474756 273.671006 \nL -81.037799 273.671006 \nL -81.037799 273.671006 \nL -81.474756 273.671006 \nz\n\" clip-path=\"url(#pae04297fc5)\" style=\"fill: #1f77b4; fill-opacity: 0.75; stroke: #000000; stroke-width: 0.029649; stroke-linejoin: miter\"/>\n   </g>\n   <g id=\"patch_271\">\n    <path d=\"M -81.037799 273.671006 \nL -80.600843 273.671006 \nL -80.600843 273.671006 \nL -81.037799 273.671006 \nz\n\" clip-path=\"url(#pae04297fc5)\" style=\"fill: #1f77b4; fill-opacity: 0.75; stroke: #000000; stroke-width: 0.029649; stroke-linejoin: miter\"/>\n   </g>\n   <g id=\"patch_272\">\n    <path d=\"M -80.600843 273.671006 \nL -80.163887 273.671006 \nL -80.163887 273.671006 \nL -80.600843 273.671006 \nz\n\" clip-path=\"url(#pae04297fc5)\" style=\"fill: #1f77b4; fill-opacity: 0.75; stroke: #000000; stroke-width: 0.029649; stroke-linejoin: miter\"/>\n   </g>\n   <g id=\"patch_273\">\n    <path d=\"M -80.163887 273.671006 \nL -79.72693 273.671006 \nL -79.72693 273.671006 \nL -80.163887 273.671006 \nz\n\" clip-path=\"url(#pae04297fc5)\" style=\"fill: #1f77b4; fill-opacity: 0.75; stroke: #000000; stroke-width: 0.029649; stroke-linejoin: miter\"/>\n   </g>\n   <g id=\"patch_274\">\n    <path d=\"M -79.72693 273.671006 \nL -79.289974 273.671006 \nL -79.289974 273.671006 \nL -79.72693 273.671006 \nz\n\" clip-path=\"url(#pae04297fc5)\" style=\"fill: #1f77b4; fill-opacity: 0.75; stroke: #000000; stroke-width: 0.029649; stroke-linejoin: miter\"/>\n   </g>\n   <g id=\"patch_275\">\n    <path d=\"M -79.289974 273.671006 \nL -78.853017 273.671006 \nL -78.853017 273.671006 \nL -79.289974 273.671006 \nz\n\" clip-path=\"url(#pae04297fc5)\" style=\"fill: #1f77b4; fill-opacity: 0.75; stroke: #000000; stroke-width: 0.029649; stroke-linejoin: miter\"/>\n   </g>\n   <g id=\"patch_276\">\n    <path d=\"M -78.853017 273.671006 \nL -78.416061 273.671006 \nL -78.416061 273.671006 \nL -78.853017 273.671006 \nz\n\" clip-path=\"url(#pae04297fc5)\" style=\"fill: #1f77b4; fill-opacity: 0.75; stroke: #000000; stroke-width: 0.029649; stroke-linejoin: miter\"/>\n   </g>\n   <g id=\"patch_277\">\n    <path d=\"M -78.416061 273.671006 \nL -77.979105 273.671006 \nL -77.979105 273.671006 \nL -78.416061 273.671006 \nz\n\" clip-path=\"url(#pae04297fc5)\" style=\"fill: #1f77b4; fill-opacity: 0.75; stroke: #000000; stroke-width: 0.029649; stroke-linejoin: miter\"/>\n   </g>\n   <g id=\"patch_278\">\n    <path d=\"M -77.979105 273.671006 \nL -77.542148 273.671006 \nL -77.542148 273.671006 \nL -77.979105 273.671006 \nz\n\" clip-path=\"url(#pae04297fc5)\" style=\"fill: #1f77b4; fill-opacity: 0.75; stroke: #000000; stroke-width: 0.029649; stroke-linejoin: miter\"/>\n   </g>\n   <g id=\"patch_279\">\n    <path d=\"M -77.542148 273.671006 \nL -77.105192 273.671006 \nL -77.105192 273.671006 \nL -77.542148 273.671006 \nz\n\" clip-path=\"url(#pae04297fc5)\" style=\"fill: #1f77b4; fill-opacity: 0.75; stroke: #000000; stroke-width: 0.029649; stroke-linejoin: miter\"/>\n   </g>\n   <g id=\"patch_280\">\n    <path d=\"M -77.105192 273.671006 \nL -76.668236 273.671006 \nL -76.668236 273.670256 \nL -77.105192 273.670256 \nz\n\" clip-path=\"url(#pae04297fc5)\" style=\"fill: #1f77b4; fill-opacity: 0.75; stroke: #000000; stroke-width: 0.029649; stroke-linejoin: miter\"/>\n   </g>\n   <g id=\"patch_281\">\n    <path d=\"M -76.668236 273.671006 \nL -76.231279 273.671006 \nL -76.231279 273.671006 \nL -76.668236 273.671006 \nz\n\" clip-path=\"url(#pae04297fc5)\" style=\"fill: #1f77b4; fill-opacity: 0.75; stroke: #000000; stroke-width: 0.029649; stroke-linejoin: miter\"/>\n   </g>\n   <g id=\"patch_282\">\n    <path d=\"M -76.231279 273.671006 \nL -75.794323 273.671006 \nL -75.794323 273.671006 \nL -76.231279 273.671006 \nz\n\" clip-path=\"url(#pae04297fc5)\" style=\"fill: #1f77b4; fill-opacity: 0.75; stroke: #000000; stroke-width: 0.029649; stroke-linejoin: miter\"/>\n   </g>\n   <g id=\"patch_283\">\n    <path d=\"M -75.794323 273.671006 \nL -75.357366 273.671006 \nL -75.357366 273.670256 \nL -75.794323 273.670256 \nz\n\" clip-path=\"url(#pae04297fc5)\" style=\"fill: #1f77b4; fill-opacity: 0.75; stroke: #000000; stroke-width: 0.029649; stroke-linejoin: miter\"/>\n   </g>\n   <g id=\"patch_284\">\n    <path d=\"M -75.357366 273.671006 \nL -74.92041 273.671006 \nL -74.92041 273.669505 \nL -75.357366 273.669505 \nz\n\" clip-path=\"url(#pae04297fc5)\" style=\"fill: #1f77b4; fill-opacity: 0.75; stroke: #000000; stroke-width: 0.029649; stroke-linejoin: miter\"/>\n   </g>\n   <g id=\"patch_285\">\n    <path d=\"M -74.92041 273.671006 \nL -74.483454 273.671006 \nL -74.483454 273.671006 \nL -74.92041 273.671006 \nz\n\" clip-path=\"url(#pae04297fc5)\" style=\"fill: #1f77b4; fill-opacity: 0.75; stroke: #000000; stroke-width: 0.029649; stroke-linejoin: miter\"/>\n   </g>\n   <g id=\"patch_286\">\n    <path d=\"M -74.483454 273.671006 \nL -74.046497 273.671006 \nL -74.046497 273.671006 \nL -74.483454 273.671006 \nz\n\" clip-path=\"url(#pae04297fc5)\" style=\"fill: #1f77b4; fill-opacity: 0.75; stroke: #000000; stroke-width: 0.029649; stroke-linejoin: miter\"/>\n   </g>\n   <g id=\"patch_287\">\n    <path d=\"M -74.046497 273.671006 \nL -73.609541 273.671006 \nL -73.609541 273.671006 \nL -74.046497 273.671006 \nz\n\" clip-path=\"url(#pae04297fc5)\" style=\"fill: #1f77b4; fill-opacity: 0.75; stroke: #000000; stroke-width: 0.029649; stroke-linejoin: miter\"/>\n   </g>\n   <g id=\"patch_288\">\n    <path d=\"M -73.609541 273.671006 \nL -73.172585 273.671006 \nL -73.172585 273.671006 \nL -73.609541 273.671006 \nz\n\" clip-path=\"url(#pae04297fc5)\" style=\"fill: #1f77b4; fill-opacity: 0.75; stroke: #000000; stroke-width: 0.029649; stroke-linejoin: miter\"/>\n   </g>\n   <g id=\"patch_289\">\n    <path d=\"M -73.172585 273.671006 \nL -72.735628 273.671006 \nL -72.735628 273.671006 \nL -73.172585 273.671006 \nz\n\" clip-path=\"url(#pae04297fc5)\" style=\"fill: #1f77b4; fill-opacity: 0.75; stroke: #000000; stroke-width: 0.029649; stroke-linejoin: miter\"/>\n   </g>\n   <g id=\"patch_290\">\n    <path d=\"M -72.735628 273.671006 \nL -72.298672 273.671006 \nL -72.298672 273.671006 \nL -72.735628 273.671006 \nz\n\" clip-path=\"url(#pae04297fc5)\" style=\"fill: #1f77b4; fill-opacity: 0.75; stroke: #000000; stroke-width: 0.029649; stroke-linejoin: miter\"/>\n   </g>\n   <g id=\"patch_291\">\n    <path d=\"M -72.298672 273.671006 \nL -71.861715 273.671006 \nL -71.861715 273.671006 \nL -72.298672 273.671006 \nz\n\" clip-path=\"url(#pae04297fc5)\" style=\"fill: #1f77b4; fill-opacity: 0.75; stroke: #000000; stroke-width: 0.029649; stroke-linejoin: miter\"/>\n   </g>\n   <g id=\"patch_292\">\n    <path d=\"M -71.861715 273.671006 \nL -71.424759 273.671006 \nL -71.424759 273.671006 \nL -71.861715 273.671006 \nz\n\" clip-path=\"url(#pae04297fc5)\" style=\"fill: #1f77b4; fill-opacity: 0.75; stroke: #000000; stroke-width: 0.029649; stroke-linejoin: miter\"/>\n   </g>\n   <g id=\"patch_293\">\n    <path d=\"M -71.424759 273.671006 \nL -70.987803 273.671006 \nL -70.987803 273.671006 \nL -71.424759 273.671006 \nz\n\" clip-path=\"url(#pae04297fc5)\" style=\"fill: #1f77b4; fill-opacity: 0.75; stroke: #000000; stroke-width: 0.029649; stroke-linejoin: miter\"/>\n   </g>\n   <g id=\"patch_294\">\n    <path d=\"M -70.987803 273.671006 \nL -70.550846 273.671006 \nL -70.550846 273.670256 \nL -70.987803 273.670256 \nz\n\" clip-path=\"url(#pae04297fc5)\" style=\"fill: #1f77b4; fill-opacity: 0.75; stroke: #000000; stroke-width: 0.029649; stroke-linejoin: miter\"/>\n   </g>\n   <g id=\"patch_295\">\n    <path d=\"M -70.550846 273.671006 \nL -70.11389 273.671006 \nL -70.11389 273.671006 \nL -70.550846 273.671006 \nz\n\" clip-path=\"url(#pae04297fc5)\" style=\"fill: #1f77b4; fill-opacity: 0.75; stroke: #000000; stroke-width: 0.029649; stroke-linejoin: miter\"/>\n   </g>\n   <g id=\"patch_296\">\n    <path d=\"M -70.11389 273.671006 \nL -69.676934 273.671006 \nL -69.676934 273.671006 \nL -70.11389 273.671006 \nz\n\" clip-path=\"url(#pae04297fc5)\" style=\"fill: #1f77b4; fill-opacity: 0.75; stroke: #000000; stroke-width: 0.029649; stroke-linejoin: miter\"/>\n   </g>\n   <g id=\"patch_297\">\n    <path d=\"M -69.676934 273.671006 \nL -69.239977 273.671006 \nL -69.239977 273.671006 \nL -69.676934 273.671006 \nz\n\" clip-path=\"url(#pae04297fc5)\" style=\"fill: #1f77b4; fill-opacity: 0.75; stroke: #000000; stroke-width: 0.029649; stroke-linejoin: miter\"/>\n   </g>\n   <g id=\"patch_298\">\n    <path d=\"M -69.239977 273.671006 \nL -68.803021 273.671006 \nL -68.803021 273.671006 \nL -69.239977 273.671006 \nz\n\" clip-path=\"url(#pae04297fc5)\" style=\"fill: #1f77b4; fill-opacity: 0.75; stroke: #000000; stroke-width: 0.029649; stroke-linejoin: miter\"/>\n   </g>\n   <g id=\"patch_299\">\n    <path d=\"M -68.803021 273.671006 \nL -68.366064 273.671006 \nL -68.366064 273.671006 \nL -68.803021 273.671006 \nz\n\" clip-path=\"url(#pae04297fc5)\" style=\"fill: #1f77b4; fill-opacity: 0.75; stroke: #000000; stroke-width: 0.029649; stroke-linejoin: miter\"/>\n   </g>\n   <g id=\"patch_300\">\n    <path d=\"M -68.366064 273.671006 \nL -67.929108 273.671006 \nL -67.929108 273.671006 \nL -68.366064 273.671006 \nz\n\" clip-path=\"url(#pae04297fc5)\" style=\"fill: #1f77b4; fill-opacity: 0.75; stroke: #000000; stroke-width: 0.029649; stroke-linejoin: miter\"/>\n   </g>\n   <g id=\"patch_301\">\n    <path d=\"M -67.929108 273.671006 \nL -67.492152 273.671006 \nL -67.492152 273.671006 \nL -67.929108 273.671006 \nz\n\" clip-path=\"url(#pae04297fc5)\" style=\"fill: #1f77b4; fill-opacity: 0.75; stroke: #000000; stroke-width: 0.029649; stroke-linejoin: miter\"/>\n   </g>\n   <g id=\"patch_302\">\n    <path d=\"M -67.492152 273.671006 \nL -67.055195 273.671006 \nL -67.055195 273.671006 \nL -67.492152 273.671006 \nz\n\" clip-path=\"url(#pae04297fc5)\" style=\"fill: #1f77b4; fill-opacity: 0.75; stroke: #000000; stroke-width: 0.029649; stroke-linejoin: miter\"/>\n   </g>\n   <g id=\"patch_303\">\n    <path d=\"M -67.055195 273.671006 \nL -66.618239 273.671006 \nL -66.618239 273.671006 \nL -67.055195 273.671006 \nz\n\" clip-path=\"url(#pae04297fc5)\" style=\"fill: #1f77b4; fill-opacity: 0.75; stroke: #000000; stroke-width: 0.029649; stroke-linejoin: miter\"/>\n   </g>\n   <g id=\"patch_304\">\n    <path d=\"M -66.618239 273.671006 \nL -66.181283 273.671006 \nL -66.181283 273.671006 \nL -66.618239 273.671006 \nz\n\" clip-path=\"url(#pae04297fc5)\" style=\"fill: #1f77b4; fill-opacity: 0.75; stroke: #000000; stroke-width: 0.029649; stroke-linejoin: miter\"/>\n   </g>\n   <g id=\"patch_305\">\n    <path d=\"M -66.181283 273.671006 \nL -65.744326 273.671006 \nL -65.744326 273.671006 \nL -66.181283 273.671006 \nz\n\" clip-path=\"url(#pae04297fc5)\" style=\"fill: #1f77b4; fill-opacity: 0.75; stroke: #000000; stroke-width: 0.029649; stroke-linejoin: miter\"/>\n   </g>\n   <g id=\"patch_306\">\n    <path d=\"M -65.744326 273.671006 \nL -65.30737 273.671006 \nL -65.30737 273.671006 \nL -65.744326 273.671006 \nz\n\" clip-path=\"url(#pae04297fc5)\" style=\"fill: #1f77b4; fill-opacity: 0.75; stroke: #000000; stroke-width: 0.029649; stroke-linejoin: miter\"/>\n   </g>\n   <g id=\"patch_307\">\n    <path d=\"M -65.30737 273.671006 \nL -64.870413 273.671006 \nL -64.870413 273.671006 \nL -65.30737 273.671006 \nz\n\" clip-path=\"url(#pae04297fc5)\" style=\"fill: #1f77b4; fill-opacity: 0.75; stroke: #000000; stroke-width: 0.029649; stroke-linejoin: miter\"/>\n   </g>\n   <g id=\"patch_308\">\n    <path d=\"M -64.870413 273.671006 \nL -64.433457 273.671006 \nL -64.433457 273.670256 \nL -64.870413 273.670256 \nz\n\" clip-path=\"url(#pae04297fc5)\" style=\"fill: #1f77b4; fill-opacity: 0.75; stroke: #000000; stroke-width: 0.029649; stroke-linejoin: miter\"/>\n   </g>\n   <g id=\"patch_309\">\n    <path d=\"M -64.433457 273.671006 \nL -63.996501 273.671006 \nL -63.996501 273.670256 \nL -64.433457 273.670256 \nz\n\" clip-path=\"url(#pae04297fc5)\" style=\"fill: #1f77b4; fill-opacity: 0.75; stroke: #000000; stroke-width: 0.029649; stroke-linejoin: miter\"/>\n   </g>\n   <g id=\"patch_310\">\n    <path d=\"M -63.996501 273.671006 \nL -63.559544 273.671006 \nL -63.559544 273.671006 \nL -63.996501 273.671006 \nz\n\" clip-path=\"url(#pae04297fc5)\" style=\"fill: #1f77b4; fill-opacity: 0.75; stroke: #000000; stroke-width: 0.029649; stroke-linejoin: miter\"/>\n   </g>\n   <g id=\"patch_311\">\n    <path d=\"M -63.559544 273.671006 \nL -63.122588 273.671006 \nL -63.122588 273.671006 \nL -63.559544 273.671006 \nz\n\" clip-path=\"url(#pae04297fc5)\" style=\"fill: #1f77b4; fill-opacity: 0.75; stroke: #000000; stroke-width: 0.029649; stroke-linejoin: miter\"/>\n   </g>\n   <g id=\"patch_312\">\n    <path d=\"M -63.122588 273.671006 \nL -62.685632 273.671006 \nL -62.685632 273.671006 \nL -63.122588 273.671006 \nz\n\" clip-path=\"url(#pae04297fc5)\" style=\"fill: #1f77b4; fill-opacity: 0.75; stroke: #000000; stroke-width: 0.029649; stroke-linejoin: miter\"/>\n   </g>\n   <g id=\"patch_313\">\n    <path d=\"M -62.685632 273.671006 \nL -62.248675 273.671006 \nL -62.248675 273.671006 \nL -62.685632 273.671006 \nz\n\" clip-path=\"url(#pae04297fc5)\" style=\"fill: #1f77b4; fill-opacity: 0.75; stroke: #000000; stroke-width: 0.029649; stroke-linejoin: miter\"/>\n   </g>\n   <g id=\"patch_314\">\n    <path d=\"M -62.248675 273.671006 \nL -61.811719 273.671006 \nL -61.811719 273.670256 \nL -62.248675 273.670256 \nz\n\" clip-path=\"url(#pae04297fc5)\" style=\"fill: #1f77b4; fill-opacity: 0.75; stroke: #000000; stroke-width: 0.029649; stroke-linejoin: miter\"/>\n   </g>\n   <g id=\"patch_315\">\n    <path d=\"M -61.811719 273.671006 \nL -61.374762 273.671006 \nL -61.374762 273.671006 \nL -61.811719 273.671006 \nz\n\" clip-path=\"url(#pae04297fc5)\" style=\"fill: #1f77b4; fill-opacity: 0.75; stroke: #000000; stroke-width: 0.029649; stroke-linejoin: miter\"/>\n   </g>\n   <g id=\"patch_316\">\n    <path d=\"M -61.374762 273.671006 \nL -60.937806 273.671006 \nL -60.937806 273.669505 \nL -61.374762 273.669505 \nz\n\" clip-path=\"url(#pae04297fc5)\" style=\"fill: #1f77b4; fill-opacity: 0.75; stroke: #000000; stroke-width: 0.029649; stroke-linejoin: miter\"/>\n   </g>\n   <g id=\"patch_317\">\n    <path d=\"M -60.937806 273.671006 \nL -60.50085 273.671006 \nL -60.50085 273.671006 \nL -60.937806 273.671006 \nz\n\" clip-path=\"url(#pae04297fc5)\" style=\"fill: #1f77b4; fill-opacity: 0.75; stroke: #000000; stroke-width: 0.029649; stroke-linejoin: miter\"/>\n   </g>\n   <g id=\"patch_318\">\n    <path d=\"M -60.50085 273.671006 \nL -60.063893 273.671006 \nL -60.063893 273.671006 \nL -60.50085 273.671006 \nz\n\" clip-path=\"url(#pae04297fc5)\" style=\"fill: #1f77b4; fill-opacity: 0.75; stroke: #000000; stroke-width: 0.029649; stroke-linejoin: miter\"/>\n   </g>\n   <g id=\"patch_319\">\n    <path d=\"M -60.063893 273.671006 \nL -59.626937 273.671006 \nL -59.626937 273.671006 \nL -60.063893 273.671006 \nz\n\" clip-path=\"url(#pae04297fc5)\" style=\"fill: #1f77b4; fill-opacity: 0.75; stroke: #000000; stroke-width: 0.029649; stroke-linejoin: miter\"/>\n   </g>\n   <g id=\"patch_320\">\n    <path d=\"M -59.626937 273.671006 \nL -59.18998 273.671006 \nL -59.18998 273.671006 \nL -59.626937 273.671006 \nz\n\" clip-path=\"url(#pae04297fc5)\" style=\"fill: #1f77b4; fill-opacity: 0.75; stroke: #000000; stroke-width: 0.029649; stroke-linejoin: miter\"/>\n   </g>\n   <g id=\"patch_321\">\n    <path d=\"M -59.18998 273.671006 \nL -58.753024 273.671006 \nL -58.753024 273.671006 \nL -59.18998 273.671006 \nz\n\" clip-path=\"url(#pae04297fc5)\" style=\"fill: #1f77b4; fill-opacity: 0.75; stroke: #000000; stroke-width: 0.029649; stroke-linejoin: miter\"/>\n   </g>\n   <g id=\"patch_322\">\n    <path d=\"M -58.753024 273.671006 \nL -58.316068 273.671006 \nL -58.316068 273.671006 \nL -58.753024 273.671006 \nz\n\" clip-path=\"url(#pae04297fc5)\" style=\"fill: #1f77b4; fill-opacity: 0.75; stroke: #000000; stroke-width: 0.029649; stroke-linejoin: miter\"/>\n   </g>\n   <g id=\"patch_323\">\n    <path d=\"M -58.316068 273.671006 \nL -57.879111 273.671006 \nL -57.879111 273.671006 \nL -58.316068 273.671006 \nz\n\" clip-path=\"url(#pae04297fc5)\" style=\"fill: #1f77b4; fill-opacity: 0.75; stroke: #000000; stroke-width: 0.029649; stroke-linejoin: miter\"/>\n   </g>\n   <g id=\"patch_324\">\n    <path d=\"M -57.879111 273.671006 \nL -57.442155 273.671006 \nL -57.442155 273.671006 \nL -57.879111 273.671006 \nz\n\" clip-path=\"url(#pae04297fc5)\" style=\"fill: #1f77b4; fill-opacity: 0.75; stroke: #000000; stroke-width: 0.029649; stroke-linejoin: miter\"/>\n   </g>\n   <g id=\"patch_325\">\n    <path d=\"M -57.442155 273.671006 \nL -57.005199 273.671006 \nL -57.005199 273.670256 \nL -57.442155 273.670256 \nz\n\" clip-path=\"url(#pae04297fc5)\" style=\"fill: #1f77b4; fill-opacity: 0.75; stroke: #000000; stroke-width: 0.029649; stroke-linejoin: miter\"/>\n   </g>\n   <g id=\"patch_326\">\n    <path d=\"M -57.005199 273.671006 \nL -56.568242 273.671006 \nL -56.568242 273.671006 \nL -57.005199 273.671006 \nz\n\" clip-path=\"url(#pae04297fc5)\" style=\"fill: #1f77b4; fill-opacity: 0.75; stroke: #000000; stroke-width: 0.029649; stroke-linejoin: miter\"/>\n   </g>\n   <g id=\"patch_327\">\n    <path d=\"M -56.568242 273.671006 \nL -56.131286 273.671006 \nL -56.131286 273.671006 \nL -56.568242 273.671006 \nz\n\" clip-path=\"url(#pae04297fc5)\" style=\"fill: #1f77b4; fill-opacity: 0.75; stroke: #000000; stroke-width: 0.029649; stroke-linejoin: miter\"/>\n   </g>\n   <g id=\"patch_328\">\n    <path d=\"M -56.131286 273.671006 \nL -55.694329 273.671006 \nL -55.694329 273.671006 \nL -56.131286 273.671006 \nz\n\" clip-path=\"url(#pae04297fc5)\" style=\"fill: #1f77b4; fill-opacity: 0.75; stroke: #000000; stroke-width: 0.029649; stroke-linejoin: miter\"/>\n   </g>\n   <g id=\"patch_329\">\n    <path d=\"M -55.694329 273.671006 \nL -55.257373 273.671006 \nL -55.257373 273.670256 \nL -55.694329 273.670256 \nz\n\" clip-path=\"url(#pae04297fc5)\" style=\"fill: #1f77b4; fill-opacity: 0.75; stroke: #000000; stroke-width: 0.029649; stroke-linejoin: miter\"/>\n   </g>\n   <g id=\"patch_330\">\n    <path d=\"M -55.257373 273.671006 \nL -54.820417 273.671006 \nL -54.820417 273.671006 \nL -55.257373 273.671006 \nz\n\" clip-path=\"url(#pae04297fc5)\" style=\"fill: #1f77b4; fill-opacity: 0.75; stroke: #000000; stroke-width: 0.029649; stroke-linejoin: miter\"/>\n   </g>\n   <g id=\"patch_331\">\n    <path d=\"M -54.820417 273.671006 \nL -54.38346 273.671006 \nL -54.38346 273.671006 \nL -54.820417 273.671006 \nz\n\" clip-path=\"url(#pae04297fc5)\" style=\"fill: #1f77b4; fill-opacity: 0.75; stroke: #000000; stroke-width: 0.029649; stroke-linejoin: miter\"/>\n   </g>\n   <g id=\"patch_332\">\n    <path d=\"M -54.38346 273.671006 \nL -53.946504 273.671006 \nL -53.946504 273.671006 \nL -54.38346 273.671006 \nz\n\" clip-path=\"url(#pae04297fc5)\" style=\"fill: #1f77b4; fill-opacity: 0.75; stroke: #000000; stroke-width: 0.029649; stroke-linejoin: miter\"/>\n   </g>\n   <g id=\"patch_333\">\n    <path d=\"M -53.946504 273.671006 \nL -53.509548 273.671006 \nL -53.509548 273.669505 \nL -53.946504 273.669505 \nz\n\" clip-path=\"url(#pae04297fc5)\" style=\"fill: #1f77b4; fill-opacity: 0.75; stroke: #000000; stroke-width: 0.029649; stroke-linejoin: miter\"/>\n   </g>\n   <g id=\"patch_334\">\n    <path d=\"M -53.509548 273.671006 \nL -53.072591 273.671006 \nL -53.072591 273.670256 \nL -53.509548 273.670256 \nz\n\" clip-path=\"url(#pae04297fc5)\" style=\"fill: #1f77b4; fill-opacity: 0.75; stroke: #000000; stroke-width: 0.029649; stroke-linejoin: miter\"/>\n   </g>\n   <g id=\"patch_335\">\n    <path d=\"M -53.072591 273.671006 \nL -52.635635 273.671006 \nL -52.635635 273.671006 \nL -53.072591 273.671006 \nz\n\" clip-path=\"url(#pae04297fc5)\" style=\"fill: #1f77b4; fill-opacity: 0.75; stroke: #000000; stroke-width: 0.029649; stroke-linejoin: miter\"/>\n   </g>\n   <g id=\"patch_336\">\n    <path d=\"M -52.635635 273.671006 \nL -52.198678 273.671006 \nL -52.198678 273.670256 \nL -52.635635 273.670256 \nz\n\" clip-path=\"url(#pae04297fc5)\" style=\"fill: #1f77b4; fill-opacity: 0.75; stroke: #000000; stroke-width: 0.029649; stroke-linejoin: miter\"/>\n   </g>\n   <g id=\"patch_337\">\n    <path d=\"M -52.198678 273.671006 \nL -51.761722 273.671006 \nL -51.761722 273.671006 \nL -52.198678 273.671006 \nz\n\" clip-path=\"url(#pae04297fc5)\" style=\"fill: #1f77b4; fill-opacity: 0.75; stroke: #000000; stroke-width: 0.029649; stroke-linejoin: miter\"/>\n   </g>\n   <g id=\"patch_338\">\n    <path d=\"M -51.761722 273.671006 \nL -51.324766 273.671006 \nL -51.324766 273.671006 \nL -51.761722 273.671006 \nz\n\" clip-path=\"url(#pae04297fc5)\" style=\"fill: #1f77b4; fill-opacity: 0.75; stroke: #000000; stroke-width: 0.029649; stroke-linejoin: miter\"/>\n   </g>\n   <g id=\"patch_339\">\n    <path d=\"M -51.324766 273.671006 \nL -50.887809 273.671006 \nL -50.887809 273.671006 \nL -51.324766 273.671006 \nz\n\" clip-path=\"url(#pae04297fc5)\" style=\"fill: #1f77b4; fill-opacity: 0.75; stroke: #000000; stroke-width: 0.029649; stroke-linejoin: miter\"/>\n   </g>\n   <g id=\"patch_340\">\n    <path d=\"M -50.887809 273.671006 \nL -50.450853 273.671006 \nL -50.450853 273.671006 \nL -50.887809 273.671006 \nz\n\" clip-path=\"url(#pae04297fc5)\" style=\"fill: #1f77b4; fill-opacity: 0.75; stroke: #000000; stroke-width: 0.029649; stroke-linejoin: miter\"/>\n   </g>\n   <g id=\"patch_341\">\n    <path d=\"M -50.450853 273.671006 \nL -50.013897 273.671006 \nL -50.013897 273.671006 \nL -50.450853 273.671006 \nz\n\" clip-path=\"url(#pae04297fc5)\" style=\"fill: #1f77b4; fill-opacity: 0.75; stroke: #000000; stroke-width: 0.029649; stroke-linejoin: miter\"/>\n   </g>\n   <g id=\"patch_342\">\n    <path d=\"M -50.013897 273.671006 \nL -49.57694 273.671006 \nL -49.57694 273.671006 \nL -50.013897 273.671006 \nz\n\" clip-path=\"url(#pae04297fc5)\" style=\"fill: #1f77b4; fill-opacity: 0.75; stroke: #000000; stroke-width: 0.029649; stroke-linejoin: miter\"/>\n   </g>\n   <g id=\"patch_343\">\n    <path d=\"M -49.57694 273.671006 \nL -49.139984 273.671006 \nL -49.139984 273.671006 \nL -49.57694 273.671006 \nz\n\" clip-path=\"url(#pae04297fc5)\" style=\"fill: #1f77b4; fill-opacity: 0.75; stroke: #000000; stroke-width: 0.029649; stroke-linejoin: miter\"/>\n   </g>\n   <g id=\"patch_344\">\n    <path d=\"M -49.139984 273.671006 \nL -48.703027 273.671006 \nL -48.703027 273.671006 \nL -49.139984 273.671006 \nz\n\" clip-path=\"url(#pae04297fc5)\" style=\"fill: #1f77b4; fill-opacity: 0.75; stroke: #000000; stroke-width: 0.029649; stroke-linejoin: miter\"/>\n   </g>\n   <g id=\"patch_345\">\n    <path d=\"M -48.703027 273.671006 \nL -48.266071 273.671006 \nL -48.266071 273.671006 \nL -48.703027 273.671006 \nz\n\" clip-path=\"url(#pae04297fc5)\" style=\"fill: #1f77b4; fill-opacity: 0.75; stroke: #000000; stroke-width: 0.029649; stroke-linejoin: miter\"/>\n   </g>\n   <g id=\"patch_346\">\n    <path d=\"M -48.266071 273.671006 \nL -47.829115 273.671006 \nL -47.829115 273.671006 \nL -48.266071 273.671006 \nz\n\" clip-path=\"url(#pae04297fc5)\" style=\"fill: #1f77b4; fill-opacity: 0.75; stroke: #000000; stroke-width: 0.029649; stroke-linejoin: miter\"/>\n   </g>\n   <g id=\"patch_347\">\n    <path d=\"M -47.829115 273.671006 \nL -47.392158 273.671006 \nL -47.392158 273.671006 \nL -47.829115 273.671006 \nz\n\" clip-path=\"url(#pae04297fc5)\" style=\"fill: #1f77b4; fill-opacity: 0.75; stroke: #000000; stroke-width: 0.029649; stroke-linejoin: miter\"/>\n   </g>\n   <g id=\"patch_348\">\n    <path d=\"M -47.392158 273.671006 \nL -46.955202 273.671006 \nL -46.955202 273.671006 \nL -47.392158 273.671006 \nz\n\" clip-path=\"url(#pae04297fc5)\" style=\"fill: #1f77b4; fill-opacity: 0.75; stroke: #000000; stroke-width: 0.029649; stroke-linejoin: miter\"/>\n   </g>\n   <g id=\"patch_349\">\n    <path d=\"M -46.955202 273.671006 \nL -46.518246 273.671006 \nL -46.518246 273.671006 \nL -46.955202 273.671006 \nz\n\" clip-path=\"url(#pae04297fc5)\" style=\"fill: #1f77b4; fill-opacity: 0.75; stroke: #000000; stroke-width: 0.029649; stroke-linejoin: miter\"/>\n   </g>\n   <g id=\"patch_350\">\n    <path d=\"M -46.518246 273.671006 \nL -46.081289 273.671006 \nL -46.081289 273.670256 \nL -46.518246 273.670256 \nz\n\" clip-path=\"url(#pae04297fc5)\" style=\"fill: #1f77b4; fill-opacity: 0.75; stroke: #000000; stroke-width: 0.029649; stroke-linejoin: miter\"/>\n   </g>\n   <g id=\"patch_351\">\n    <path d=\"M -46.081289 273.671006 \nL -45.644333 273.671006 \nL -45.644333 273.671006 \nL -46.081289 273.671006 \nz\n\" clip-path=\"url(#pae04297fc5)\" style=\"fill: #1f77b4; fill-opacity: 0.75; stroke: #000000; stroke-width: 0.029649; stroke-linejoin: miter\"/>\n   </g>\n   <g id=\"patch_352\">\n    <path d=\"M -45.644333 273.671006 \nL -45.207376 273.671006 \nL -45.207376 273.671006 \nL -45.644333 273.671006 \nz\n\" clip-path=\"url(#pae04297fc5)\" style=\"fill: #1f77b4; fill-opacity: 0.75; stroke: #000000; stroke-width: 0.029649; stroke-linejoin: miter\"/>\n   </g>\n   <g id=\"patch_353\">\n    <path d=\"M -45.207376 273.671006 \nL -44.77042 273.671006 \nL -44.77042 273.671006 \nL -45.207376 273.671006 \nz\n\" clip-path=\"url(#pae04297fc5)\" style=\"fill: #1f77b4; fill-opacity: 0.75; stroke: #000000; stroke-width: 0.029649; stroke-linejoin: miter\"/>\n   </g>\n   <g id=\"patch_354\">\n    <path d=\"M -44.77042 273.671006 \nL -44.333464 273.671006 \nL -44.333464 273.671006 \nL -44.77042 273.671006 \nz\n\" clip-path=\"url(#pae04297fc5)\" style=\"fill: #1f77b4; fill-opacity: 0.75; stroke: #000000; stroke-width: 0.029649; stroke-linejoin: miter\"/>\n   </g>\n   <g id=\"patch_355\">\n    <path d=\"M -44.333464 273.671006 \nL -43.896507 273.671006 \nL -43.896507 273.671006 \nL -44.333464 273.671006 \nz\n\" clip-path=\"url(#pae04297fc5)\" style=\"fill: #1f77b4; fill-opacity: 0.75; stroke: #000000; stroke-width: 0.029649; stroke-linejoin: miter\"/>\n   </g>\n   <g id=\"patch_356\">\n    <path d=\"M -43.896507 273.671006 \nL -43.459551 273.671006 \nL -43.459551 273.670256 \nL -43.896507 273.670256 \nz\n\" clip-path=\"url(#pae04297fc5)\" style=\"fill: #1f77b4; fill-opacity: 0.75; stroke: #000000; stroke-width: 0.029649; stroke-linejoin: miter\"/>\n   </g>\n   <g id=\"patch_357\">\n    <path d=\"M -43.459551 273.671006 \nL -43.022595 273.671006 \nL -43.022595 273.671006 \nL -43.459551 273.671006 \nz\n\" clip-path=\"url(#pae04297fc5)\" style=\"fill: #1f77b4; fill-opacity: 0.75; stroke: #000000; stroke-width: 0.029649; stroke-linejoin: miter\"/>\n   </g>\n   <g id=\"patch_358\">\n    <path d=\"M -43.022595 273.671006 \nL -42.585638 273.671006 \nL -42.585638 273.671006 \nL -43.022595 273.671006 \nz\n\" clip-path=\"url(#pae04297fc5)\" style=\"fill: #1f77b4; fill-opacity: 0.75; stroke: #000000; stroke-width: 0.029649; stroke-linejoin: miter\"/>\n   </g>\n   <g id=\"patch_359\">\n    <path d=\"M -42.585638 273.671006 \nL -42.148682 273.671006 \nL -42.148682 273.671006 \nL -42.585638 273.671006 \nz\n\" clip-path=\"url(#pae04297fc5)\" style=\"fill: #1f77b4; fill-opacity: 0.75; stroke: #000000; stroke-width: 0.029649; stroke-linejoin: miter\"/>\n   </g>\n   <g id=\"patch_360\">\n    <path d=\"M -42.148682 273.671006 \nL -41.711725 273.671006 \nL -41.711725 273.671006 \nL -42.148682 273.671006 \nz\n\" clip-path=\"url(#pae04297fc5)\" style=\"fill: #1f77b4; fill-opacity: 0.75; stroke: #000000; stroke-width: 0.029649; stroke-linejoin: miter\"/>\n   </g>\n   <g id=\"patch_361\">\n    <path d=\"M -41.711725 273.671006 \nL -41.274769 273.671006 \nL -41.274769 273.670256 \nL -41.711725 273.670256 \nz\n\" clip-path=\"url(#pae04297fc5)\" style=\"fill: #1f77b4; fill-opacity: 0.75; stroke: #000000; stroke-width: 0.029649; stroke-linejoin: miter\"/>\n   </g>\n   <g id=\"patch_362\">\n    <path d=\"M -41.274769 273.671006 \nL -40.837813 273.671006 \nL -40.837813 273.671006 \nL -41.274769 273.671006 \nz\n\" clip-path=\"url(#pae04297fc5)\" style=\"fill: #1f77b4; fill-opacity: 0.75; stroke: #000000; stroke-width: 0.029649; stroke-linejoin: miter\"/>\n   </g>\n   <g id=\"patch_363\">\n    <path d=\"M -40.837813 273.671006 \nL -40.400856 273.671006 \nL -40.400856 273.671006 \nL -40.837813 273.671006 \nz\n\" clip-path=\"url(#pae04297fc5)\" style=\"fill: #1f77b4; fill-opacity: 0.75; stroke: #000000; stroke-width: 0.029649; stroke-linejoin: miter\"/>\n   </g>\n   <g id=\"patch_364\">\n    <path d=\"M -40.400856 273.671006 \nL -39.9639 273.671006 \nL -39.9639 273.671006 \nL -40.400856 273.671006 \nz\n\" clip-path=\"url(#pae04297fc5)\" style=\"fill: #1f77b4; fill-opacity: 0.75; stroke: #000000; stroke-width: 0.029649; stroke-linejoin: miter\"/>\n   </g>\n   <g id=\"patch_365\">\n    <path d=\"M -39.9639 273.671006 \nL -39.526943 273.671006 \nL -39.526943 273.670256 \nL -39.9639 273.670256 \nz\n\" clip-path=\"url(#pae04297fc5)\" style=\"fill: #1f77b4; fill-opacity: 0.75; stroke: #000000; stroke-width: 0.029649; stroke-linejoin: miter\"/>\n   </g>\n   <g id=\"patch_366\">\n    <path d=\"M -39.526943 273.671006 \nL -39.089987 273.671006 \nL -39.089987 273.671006 \nL -39.526943 273.671006 \nz\n\" clip-path=\"url(#pae04297fc5)\" style=\"fill: #1f77b4; fill-opacity: 0.75; stroke: #000000; stroke-width: 0.029649; stroke-linejoin: miter\"/>\n   </g>\n   <g id=\"patch_367\">\n    <path d=\"M -39.089987 273.671006 \nL -38.653031 273.671006 \nL -38.653031 273.671006 \nL -39.089987 273.671006 \nz\n\" clip-path=\"url(#pae04297fc5)\" style=\"fill: #1f77b4; fill-opacity: 0.75; stroke: #000000; stroke-width: 0.029649; stroke-linejoin: miter\"/>\n   </g>\n   <g id=\"patch_368\">\n    <path d=\"M -38.653031 273.671006 \nL -38.216074 273.671006 \nL -38.216074 273.671006 \nL -38.653031 273.671006 \nz\n\" clip-path=\"url(#pae04297fc5)\" style=\"fill: #1f77b4; fill-opacity: 0.75; stroke: #000000; stroke-width: 0.029649; stroke-linejoin: miter\"/>\n   </g>\n   <g id=\"patch_369\">\n    <path d=\"M -38.216074 273.671006 \nL -37.779118 273.671006 \nL -37.779118 273.671006 \nL -38.216074 273.671006 \nz\n\" clip-path=\"url(#pae04297fc5)\" style=\"fill: #1f77b4; fill-opacity: 0.75; stroke: #000000; stroke-width: 0.029649; stroke-linejoin: miter\"/>\n   </g>\n   <g id=\"patch_370\">\n    <path d=\"M -37.779118 273.671006 \nL -37.342162 273.671006 \nL -37.342162 273.668755 \nL -37.779118 273.668755 \nz\n\" clip-path=\"url(#pae04297fc5)\" style=\"fill: #1f77b4; fill-opacity: 0.75; stroke: #000000; stroke-width: 0.029649; stroke-linejoin: miter\"/>\n   </g>\n   <g id=\"patch_371\">\n    <path d=\"M -37.342162 273.671006 \nL -36.905205 273.671006 \nL -36.905205 273.671006 \nL -37.342162 273.671006 \nz\n\" clip-path=\"url(#pae04297fc5)\" style=\"fill: #1f77b4; fill-opacity: 0.75; stroke: #000000; stroke-width: 0.029649; stroke-linejoin: miter\"/>\n   </g>\n   <g id=\"patch_372\">\n    <path d=\"M -36.905205 273.671006 \nL -36.468249 273.671006 \nL -36.468249 273.670256 \nL -36.905205 273.670256 \nz\n\" clip-path=\"url(#pae04297fc5)\" style=\"fill: #1f77b4; fill-opacity: 0.75; stroke: #000000; stroke-width: 0.029649; stroke-linejoin: miter\"/>\n   </g>\n   <g id=\"patch_373\">\n    <path d=\"M -36.468249 273.671006 \nL -36.031292 273.671006 \nL -36.031292 273.671006 \nL -36.468249 273.671006 \nz\n\" clip-path=\"url(#pae04297fc5)\" style=\"fill: #1f77b4; fill-opacity: 0.75; stroke: #000000; stroke-width: 0.029649; stroke-linejoin: miter\"/>\n   </g>\n   <g id=\"patch_374\">\n    <path d=\"M -36.031292 273.671006 \nL -35.594336 273.671006 \nL -35.594336 273.670256 \nL -36.031292 273.670256 \nz\n\" clip-path=\"url(#pae04297fc5)\" style=\"fill: #1f77b4; fill-opacity: 0.75; stroke: #000000; stroke-width: 0.029649; stroke-linejoin: miter\"/>\n   </g>\n   <g id=\"patch_375\">\n    <path d=\"M -35.594336 273.671006 \nL -35.15738 273.671006 \nL -35.15738 273.671006 \nL -35.594336 273.671006 \nz\n\" clip-path=\"url(#pae04297fc5)\" style=\"fill: #1f77b4; fill-opacity: 0.75; stroke: #000000; stroke-width: 0.029649; stroke-linejoin: miter\"/>\n   </g>\n   <g id=\"patch_376\">\n    <path d=\"M -35.15738 273.671006 \nL -34.720423 273.671006 \nL -34.720423 273.671006 \nL -35.15738 273.671006 \nz\n\" clip-path=\"url(#pae04297fc5)\" style=\"fill: #1f77b4; fill-opacity: 0.75; stroke: #000000; stroke-width: 0.029649; stroke-linejoin: miter\"/>\n   </g>\n   <g id=\"patch_377\">\n    <path d=\"M -34.720423 273.671006 \nL -34.283467 273.671006 \nL -34.283467 273.671006 \nL -34.720423 273.671006 \nz\n\" clip-path=\"url(#pae04297fc5)\" style=\"fill: #1f77b4; fill-opacity: 0.75; stroke: #000000; stroke-width: 0.029649; stroke-linejoin: miter\"/>\n   </g>\n   <g id=\"patch_378\">\n    <path d=\"M -34.283467 273.671006 \nL -33.846511 273.671006 \nL -33.846511 273.671006 \nL -34.283467 273.671006 \nz\n\" clip-path=\"url(#pae04297fc5)\" style=\"fill: #1f77b4; fill-opacity: 0.75; stroke: #000000; stroke-width: 0.029649; stroke-linejoin: miter\"/>\n   </g>\n   <g id=\"patch_379\">\n    <path d=\"M -33.846511 273.671006 \nL -33.409554 273.671006 \nL -33.409554 273.670256 \nL -33.846511 273.670256 \nz\n\" clip-path=\"url(#pae04297fc5)\" style=\"fill: #1f77b4; fill-opacity: 0.75; stroke: #000000; stroke-width: 0.029649; stroke-linejoin: miter\"/>\n   </g>\n   <g id=\"patch_380\">\n    <path d=\"M -33.409554 273.671006 \nL -32.972598 273.671006 \nL -32.972598 273.671006 \nL -33.409554 273.671006 \nz\n\" clip-path=\"url(#pae04297fc5)\" style=\"fill: #1f77b4; fill-opacity: 0.75; stroke: #000000; stroke-width: 0.029649; stroke-linejoin: miter\"/>\n   </g>\n   <g id=\"patch_381\">\n    <path d=\"M -32.972598 273.671006 \nL -32.535641 273.671006 \nL -32.535641 273.670256 \nL -32.972598 273.670256 \nz\n\" clip-path=\"url(#pae04297fc5)\" style=\"fill: #1f77b4; fill-opacity: 0.75; stroke: #000000; stroke-width: 0.029649; stroke-linejoin: miter\"/>\n   </g>\n   <g id=\"patch_382\">\n    <path d=\"M -32.535641 273.671006 \nL -32.098685 273.671006 \nL -32.098685 273.671006 \nL -32.535641 273.671006 \nz\n\" clip-path=\"url(#pae04297fc5)\" style=\"fill: #1f77b4; fill-opacity: 0.75; stroke: #000000; stroke-width: 0.029649; stroke-linejoin: miter\"/>\n   </g>\n   <g id=\"patch_383\">\n    <path d=\"M -32.098685 273.671006 \nL -31.661729 273.671006 \nL -31.661729 273.671006 \nL -32.098685 273.671006 \nz\n\" clip-path=\"url(#pae04297fc5)\" style=\"fill: #1f77b4; fill-opacity: 0.75; stroke: #000000; stroke-width: 0.029649; stroke-linejoin: miter\"/>\n   </g>\n   <g id=\"patch_384\">\n    <path d=\"M -31.661729 273.671006 \nL -31.224772 273.671006 \nL -31.224772 273.670256 \nL -31.661729 273.670256 \nz\n\" clip-path=\"url(#pae04297fc5)\" style=\"fill: #1f77b4; fill-opacity: 0.75; stroke: #000000; stroke-width: 0.029649; stroke-linejoin: miter\"/>\n   </g>\n   <g id=\"patch_385\">\n    <path d=\"M -31.224772 273.671006 \nL -30.787816 273.671006 \nL -30.787816 273.671006 \nL -31.224772 273.671006 \nz\n\" clip-path=\"url(#pae04297fc5)\" style=\"fill: #1f77b4; fill-opacity: 0.75; stroke: #000000; stroke-width: 0.029649; stroke-linejoin: miter\"/>\n   </g>\n   <g id=\"patch_386\">\n    <path d=\"M -30.787816 273.671006 \nL -30.35086 273.671006 \nL -30.35086 273.671006 \nL -30.787816 273.671006 \nz\n\" clip-path=\"url(#pae04297fc5)\" style=\"fill: #1f77b4; fill-opacity: 0.75; stroke: #000000; stroke-width: 0.029649; stroke-linejoin: miter\"/>\n   </g>\n   <g id=\"patch_387\">\n    <path d=\"M -30.35086 273.671006 \nL -29.913903 273.671006 \nL -29.913903 273.671006 \nL -30.35086 273.671006 \nz\n\" clip-path=\"url(#pae04297fc5)\" style=\"fill: #1f77b4; fill-opacity: 0.75; stroke: #000000; stroke-width: 0.029649; stroke-linejoin: miter\"/>\n   </g>\n   <g id=\"patch_388\">\n    <path d=\"M -29.913903 273.671006 \nL -29.476947 273.671006 \nL -29.476947 273.671006 \nL -29.913903 273.671006 \nz\n\" clip-path=\"url(#pae04297fc5)\" style=\"fill: #1f77b4; fill-opacity: 0.75; stroke: #000000; stroke-width: 0.029649; stroke-linejoin: miter\"/>\n   </g>\n   <g id=\"patch_389\">\n    <path d=\"M -29.476947 273.671006 \nL -29.03999 273.671006 \nL -29.03999 273.671006 \nL -29.476947 273.671006 \nz\n\" clip-path=\"url(#pae04297fc5)\" style=\"fill: #1f77b4; fill-opacity: 0.75; stroke: #000000; stroke-width: 0.029649; stroke-linejoin: miter\"/>\n   </g>\n   <g id=\"patch_390\">\n    <path d=\"M -29.03999 273.671006 \nL -28.603034 273.671006 \nL -28.603034 273.671006 \nL -29.03999 273.671006 \nz\n\" clip-path=\"url(#pae04297fc5)\" style=\"fill: #1f77b4; fill-opacity: 0.75; stroke: #000000; stroke-width: 0.029649; stroke-linejoin: miter\"/>\n   </g>\n   <g id=\"patch_391\">\n    <path d=\"M -28.603034 273.671006 \nL -28.166078 273.671006 \nL -28.166078 273.671006 \nL -28.603034 273.671006 \nz\n\" clip-path=\"url(#pae04297fc5)\" style=\"fill: #1f77b4; fill-opacity: 0.75; stroke: #000000; stroke-width: 0.029649; stroke-linejoin: miter\"/>\n   </g>\n   <g id=\"patch_392\">\n    <path d=\"M -28.166078 273.671006 \nL -27.729121 273.671006 \nL -27.729121 273.671006 \nL -28.166078 273.671006 \nz\n\" clip-path=\"url(#pae04297fc5)\" style=\"fill: #1f77b4; fill-opacity: 0.75; stroke: #000000; stroke-width: 0.029649; stroke-linejoin: miter\"/>\n   </g>\n   <g id=\"patch_393\">\n    <path d=\"M -27.729121 273.671006 \nL -27.292165 273.671006 \nL -27.292165 273.671006 \nL -27.729121 273.671006 \nz\n\" clip-path=\"url(#pae04297fc5)\" style=\"fill: #1f77b4; fill-opacity: 0.75; stroke: #000000; stroke-width: 0.029649; stroke-linejoin: miter\"/>\n   </g>\n   <g id=\"patch_394\">\n    <path d=\"M -27.292165 273.671006 \nL -26.855209 273.671006 \nL -26.855209 273.671006 \nL -27.292165 273.671006 \nz\n\" clip-path=\"url(#pae04297fc5)\" style=\"fill: #1f77b4; fill-opacity: 0.75; stroke: #000000; stroke-width: 0.029649; stroke-linejoin: miter\"/>\n   </g>\n   <g id=\"patch_395\">\n    <path d=\"M -26.855209 273.671006 \nL -26.418252 273.671006 \nL -26.418252 273.670256 \nL -26.855209 273.670256 \nz\n\" clip-path=\"url(#pae04297fc5)\" style=\"fill: #1f77b4; fill-opacity: 0.75; stroke: #000000; stroke-width: 0.029649; stroke-linejoin: miter\"/>\n   </g>\n   <g id=\"patch_396\">\n    <path d=\"M -26.418252 273.671006 \nL -25.981296 273.671006 \nL -25.981296 273.671006 \nL -26.418252 273.671006 \nz\n\" clip-path=\"url(#pae04297fc5)\" style=\"fill: #1f77b4; fill-opacity: 0.75; stroke: #000000; stroke-width: 0.029649; stroke-linejoin: miter\"/>\n   </g>\n   <g id=\"patch_397\">\n    <path d=\"M -25.981296 273.671006 \nL -25.544339 273.671006 \nL -25.544339 273.671006 \nL -25.981296 273.671006 \nz\n\" clip-path=\"url(#pae04297fc5)\" style=\"fill: #1f77b4; fill-opacity: 0.75; stroke: #000000; stroke-width: 0.029649; stroke-linejoin: miter\"/>\n   </g>\n   <g id=\"patch_398\">\n    <path d=\"M -25.544339 273.671006 \nL -25.107383 273.671006 \nL -25.107383 273.671006 \nL -25.544339 273.671006 \nz\n\" clip-path=\"url(#pae04297fc5)\" style=\"fill: #1f77b4; fill-opacity: 0.75; stroke: #000000; stroke-width: 0.029649; stroke-linejoin: miter\"/>\n   </g>\n   <g id=\"patch_399\">\n    <path d=\"M -25.107383 273.671006 \nL -24.670427 273.671006 \nL -24.670427 273.671006 \nL -25.107383 273.671006 \nz\n\" clip-path=\"url(#pae04297fc5)\" style=\"fill: #1f77b4; fill-opacity: 0.75; stroke: #000000; stroke-width: 0.029649; stroke-linejoin: miter\"/>\n   </g>\n   <g id=\"patch_400\">\n    <path d=\"M -24.670427 273.671006 \nL -24.23347 273.671006 \nL -24.23347 273.670256 \nL -24.670427 273.670256 \nz\n\" clip-path=\"url(#pae04297fc5)\" style=\"fill: #1f77b4; fill-opacity: 0.75; stroke: #000000; stroke-width: 0.029649; stroke-linejoin: miter\"/>\n   </g>\n   <g id=\"patch_401\">\n    <path d=\"M -24.23347 273.671006 \nL -23.796514 273.671006 \nL -23.796514 273.670256 \nL -24.23347 273.670256 \nz\n\" clip-path=\"url(#pae04297fc5)\" style=\"fill: #1f77b4; fill-opacity: 0.75; stroke: #000000; stroke-width: 0.029649; stroke-linejoin: miter\"/>\n   </g>\n   <g id=\"patch_402\">\n    <path d=\"M -23.796514 273.671006 \nL -23.359558 273.671006 \nL -23.359558 273.670256 \nL -23.796514 273.670256 \nz\n\" clip-path=\"url(#pae04297fc5)\" style=\"fill: #1f77b4; fill-opacity: 0.75; stroke: #000000; stroke-width: 0.029649; stroke-linejoin: miter\"/>\n   </g>\n   <g id=\"patch_403\">\n    <path d=\"M -23.359558 273.671006 \nL -22.922601 273.671006 \nL -22.922601 273.670256 \nL -23.359558 273.670256 \nz\n\" clip-path=\"url(#pae04297fc5)\" style=\"fill: #1f77b4; fill-opacity: 0.75; stroke: #000000; stroke-width: 0.029649; stroke-linejoin: miter\"/>\n   </g>\n   <g id=\"patch_404\">\n    <path d=\"M -22.922601 273.671006 \nL -22.485645 273.671006 \nL -22.485645 273.669505 \nL -22.922601 273.669505 \nz\n\" clip-path=\"url(#pae04297fc5)\" style=\"fill: #1f77b4; fill-opacity: 0.75; stroke: #000000; stroke-width: 0.029649; stroke-linejoin: miter\"/>\n   </g>\n   <g id=\"patch_405\">\n    <path d=\"M -22.485645 273.671006 \nL -22.048688 273.671006 \nL -22.048688 273.671006 \nL -22.485645 273.671006 \nz\n\" clip-path=\"url(#pae04297fc5)\" style=\"fill: #1f77b4; fill-opacity: 0.75; stroke: #000000; stroke-width: 0.029649; stroke-linejoin: miter\"/>\n   </g>\n   <g id=\"patch_406\">\n    <path d=\"M -22.048688 273.671006 \nL -21.611732 273.671006 \nL -21.611732 273.671006 \nL -22.048688 273.671006 \nz\n\" clip-path=\"url(#pae04297fc5)\" style=\"fill: #1f77b4; fill-opacity: 0.75; stroke: #000000; stroke-width: 0.029649; stroke-linejoin: miter\"/>\n   </g>\n   <g id=\"patch_407\">\n    <path d=\"M -21.611732 273.671006 \nL -21.174776 273.671006 \nL -21.174776 273.671006 \nL -21.611732 273.671006 \nz\n\" clip-path=\"url(#pae04297fc5)\" style=\"fill: #1f77b4; fill-opacity: 0.75; stroke: #000000; stroke-width: 0.029649; stroke-linejoin: miter\"/>\n   </g>\n   <g id=\"patch_408\">\n    <path d=\"M -21.174776 273.671006 \nL -20.737819 273.671006 \nL -20.737819 273.671006 \nL -21.174776 273.671006 \nz\n\" clip-path=\"url(#pae04297fc5)\" style=\"fill: #1f77b4; fill-opacity: 0.75; stroke: #000000; stroke-width: 0.029649; stroke-linejoin: miter\"/>\n   </g>\n   <g id=\"patch_409\">\n    <path d=\"M -20.737819 273.671006 \nL -20.300863 273.671006 \nL -20.300863 273.671006 \nL -20.737819 273.671006 \nz\n\" clip-path=\"url(#pae04297fc5)\" style=\"fill: #1f77b4; fill-opacity: 0.75; stroke: #000000; stroke-width: 0.029649; stroke-linejoin: miter\"/>\n   </g>\n   <g id=\"patch_410\">\n    <path d=\"M -20.300863 273.671006 \nL -19.863906 273.671006 \nL -19.863906 273.671006 \nL -20.300863 273.671006 \nz\n\" clip-path=\"url(#pae04297fc5)\" style=\"fill: #1f77b4; fill-opacity: 0.75; stroke: #000000; stroke-width: 0.029649; stroke-linejoin: miter\"/>\n   </g>\n   <g id=\"patch_411\">\n    <path d=\"M -19.863906 273.671006 \nL -19.42695 273.671006 \nL -19.42695 273.671006 \nL -19.863906 273.671006 \nz\n\" clip-path=\"url(#pae04297fc5)\" style=\"fill: #1f77b4; fill-opacity: 0.75; stroke: #000000; stroke-width: 0.029649; stroke-linejoin: miter\"/>\n   </g>\n   <g id=\"patch_412\">\n    <path d=\"M -19.42695 273.671006 \nL -18.989994 273.671006 \nL -18.989994 273.671006 \nL -19.42695 273.671006 \nz\n\" clip-path=\"url(#pae04297fc5)\" style=\"fill: #1f77b4; fill-opacity: 0.75; stroke: #000000; stroke-width: 0.029649; stroke-linejoin: miter\"/>\n   </g>\n   <g id=\"patch_413\">\n    <path d=\"M -18.989994 273.671006 \nL -18.553037 273.671006 \nL -18.553037 273.671006 \nL -18.989994 273.671006 \nz\n\" clip-path=\"url(#pae04297fc5)\" style=\"fill: #1f77b4; fill-opacity: 0.75; stroke: #000000; stroke-width: 0.029649; stroke-linejoin: miter\"/>\n   </g>\n   <g id=\"patch_414\">\n    <path d=\"M -18.553037 273.671006 \nL -18.116081 273.671006 \nL -18.116081 273.671006 \nL -18.553037 273.671006 \nz\n\" clip-path=\"url(#pae04297fc5)\" style=\"fill: #1f77b4; fill-opacity: 0.75; stroke: #000000; stroke-width: 0.029649; stroke-linejoin: miter\"/>\n   </g>\n   <g id=\"patch_415\">\n    <path d=\"M -18.116081 273.671006 \nL -17.679125 273.671006 \nL -17.679125 273.671006 \nL -18.116081 273.671006 \nz\n\" clip-path=\"url(#pae04297fc5)\" style=\"fill: #1f77b4; fill-opacity: 0.75; stroke: #000000; stroke-width: 0.029649; stroke-linejoin: miter\"/>\n   </g>\n   <g id=\"patch_416\">\n    <path d=\"M -17.679125 273.671006 \nL -17.242168 273.671006 \nL -17.242168 273.670256 \nL -17.679125 273.670256 \nz\n\" clip-path=\"url(#pae04297fc5)\" style=\"fill: #1f77b4; fill-opacity: 0.75; stroke: #000000; stroke-width: 0.029649; stroke-linejoin: miter\"/>\n   </g>\n   <g id=\"patch_417\">\n    <path d=\"M -17.242168 273.671006 \nL -16.805212 273.671006 \nL -16.805212 273.670256 \nL -17.242168 273.670256 \nz\n\" clip-path=\"url(#pae04297fc5)\" style=\"fill: #1f77b4; fill-opacity: 0.75; stroke: #000000; stroke-width: 0.029649; stroke-linejoin: miter\"/>\n   </g>\n   <g id=\"patch_418\">\n    <path d=\"M -16.805212 273.671006 \nL -16.368255 273.671006 \nL -16.368255 273.671006 \nL -16.805212 273.671006 \nz\n\" clip-path=\"url(#pae04297fc5)\" style=\"fill: #1f77b4; fill-opacity: 0.75; stroke: #000000; stroke-width: 0.029649; stroke-linejoin: miter\"/>\n   </g>\n   <g id=\"patch_419\">\n    <path d=\"M -16.368255 273.671006 \nL -15.931299 273.671006 \nL -15.931299 273.671006 \nL -16.368255 273.671006 \nz\n\" clip-path=\"url(#pae04297fc5)\" style=\"fill: #1f77b4; fill-opacity: 0.75; stroke: #000000; stroke-width: 0.029649; stroke-linejoin: miter\"/>\n   </g>\n   <g id=\"patch_420\">\n    <path d=\"M -15.931299 273.671006 \nL -15.494343 273.671006 \nL -15.494343 273.671006 \nL -15.931299 273.671006 \nz\n\" clip-path=\"url(#pae04297fc5)\" style=\"fill: #1f77b4; fill-opacity: 0.75; stroke: #000000; stroke-width: 0.029649; stroke-linejoin: miter\"/>\n   </g>\n   <g id=\"patch_421\">\n    <path d=\"M -15.494343 273.671006 \nL -15.057386 273.671006 \nL -15.057386 273.671006 \nL -15.494343 273.671006 \nz\n\" clip-path=\"url(#pae04297fc5)\" style=\"fill: #1f77b4; fill-opacity: 0.75; stroke: #000000; stroke-width: 0.029649; stroke-linejoin: miter\"/>\n   </g>\n   <g id=\"patch_422\">\n    <path d=\"M -15.057386 273.671006 \nL -14.62043 273.671006 \nL -14.62043 273.670256 \nL -15.057386 273.670256 \nz\n\" clip-path=\"url(#pae04297fc5)\" style=\"fill: #1f77b4; fill-opacity: 0.75; stroke: #000000; stroke-width: 0.029649; stroke-linejoin: miter\"/>\n   </g>\n   <g id=\"patch_423\">\n    <path d=\"M -14.62043 273.671006 \nL -14.183474 273.671006 \nL -14.183474 273.671006 \nL -14.62043 273.671006 \nz\n\" clip-path=\"url(#pae04297fc5)\" style=\"fill: #1f77b4; fill-opacity: 0.75; stroke: #000000; stroke-width: 0.029649; stroke-linejoin: miter\"/>\n   </g>\n   <g id=\"patch_424\">\n    <path d=\"M -14.183474 273.671006 \nL -13.746517 273.671006 \nL -13.746517 273.671006 \nL -14.183474 273.671006 \nz\n\" clip-path=\"url(#pae04297fc5)\" style=\"fill: #1f77b4; fill-opacity: 0.75; stroke: #000000; stroke-width: 0.029649; stroke-linejoin: miter\"/>\n   </g>\n   <g id=\"patch_425\">\n    <path d=\"M -13.746517 273.671006 \nL -13.309561 273.671006 \nL -13.309561 273.671006 \nL -13.746517 273.671006 \nz\n\" clip-path=\"url(#pae04297fc5)\" style=\"fill: #1f77b4; fill-opacity: 0.75; stroke: #000000; stroke-width: 0.029649; stroke-linejoin: miter\"/>\n   </g>\n   <g id=\"patch_426\">\n    <path d=\"M -13.309561 273.671006 \nL -12.872604 273.671006 \nL -12.872604 273.671006 \nL -13.309561 273.671006 \nz\n\" clip-path=\"url(#pae04297fc5)\" style=\"fill: #1f77b4; fill-opacity: 0.75; stroke: #000000; stroke-width: 0.029649; stroke-linejoin: miter\"/>\n   </g>\n   <g id=\"patch_427\">\n    <path d=\"M -12.872604 273.671006 \nL -12.435648 273.671006 \nL -12.435648 273.670256 \nL -12.872604 273.670256 \nz\n\" clip-path=\"url(#pae04297fc5)\" style=\"fill: #1f77b4; fill-opacity: 0.75; stroke: #000000; stroke-width: 0.029649; stroke-linejoin: miter\"/>\n   </g>\n   <g id=\"patch_428\">\n    <path d=\"M -12.435648 273.671006 \nL -11.998692 273.671006 \nL -11.998692 273.671006 \nL -12.435648 273.671006 \nz\n\" clip-path=\"url(#pae04297fc5)\" style=\"fill: #1f77b4; fill-opacity: 0.75; stroke: #000000; stroke-width: 0.029649; stroke-linejoin: miter\"/>\n   </g>\n   <g id=\"patch_429\">\n    <path d=\"M -11.998692 273.671006 \nL -11.561735 273.671006 \nL -11.561735 273.671006 \nL -11.998692 273.671006 \nz\n\" clip-path=\"url(#pae04297fc5)\" style=\"fill: #1f77b4; fill-opacity: 0.75; stroke: #000000; stroke-width: 0.029649; stroke-linejoin: miter\"/>\n   </g>\n   <g id=\"patch_430\">\n    <path d=\"M -11.561735 273.671006 \nL -11.124779 273.671006 \nL -11.124779 273.670256 \nL -11.561735 273.670256 \nz\n\" clip-path=\"url(#pae04297fc5)\" style=\"fill: #1f77b4; fill-opacity: 0.75; stroke: #000000; stroke-width: 0.029649; stroke-linejoin: miter\"/>\n   </g>\n   <g id=\"patch_431\">\n    <path d=\"M -11.124779 273.671006 \nL -10.687823 273.671006 \nL -10.687823 273.671006 \nL -11.124779 273.671006 \nz\n\" clip-path=\"url(#pae04297fc5)\" style=\"fill: #1f77b4; fill-opacity: 0.75; stroke: #000000; stroke-width: 0.029649; stroke-linejoin: miter\"/>\n   </g>\n   <g id=\"patch_432\">\n    <path d=\"M -10.687823 273.671006 \nL -10.250866 273.671006 \nL -10.250866 273.671006 \nL -10.687823 273.671006 \nz\n\" clip-path=\"url(#pae04297fc5)\" style=\"fill: #1f77b4; fill-opacity: 0.75; stroke: #000000; stroke-width: 0.029649; stroke-linejoin: miter\"/>\n   </g>\n   <g id=\"patch_433\">\n    <path d=\"M -10.250866 273.671006 \nL -9.81391 273.671006 \nL -9.81391 273.671006 \nL -10.250866 273.671006 \nz\n\" clip-path=\"url(#pae04297fc5)\" style=\"fill: #1f77b4; fill-opacity: 0.75; stroke: #000000; stroke-width: 0.029649; stroke-linejoin: miter\"/>\n   </g>\n   <g id=\"patch_434\">\n    <path d=\"M -9.81391 273.671006 \nL -9.376953 273.671006 \nL -9.376953 273.671006 \nL -9.81391 273.671006 \nz\n\" clip-path=\"url(#pae04297fc5)\" style=\"fill: #1f77b4; fill-opacity: 0.75; stroke: #000000; stroke-width: 0.029649; stroke-linejoin: miter\"/>\n   </g>\n   <g id=\"patch_435\">\n    <path d=\"M -9.376953 273.671006 \nL -8.939997 273.671006 \nL -8.939997 273.671006 \nL -9.376953 273.671006 \nz\n\" clip-path=\"url(#pae04297fc5)\" style=\"fill: #1f77b4; fill-opacity: 0.75; stroke: #000000; stroke-width: 0.029649; stroke-linejoin: miter\"/>\n   </g>\n   <g id=\"patch_436\">\n    <path d=\"M -8.939997 273.671006 \nL -8.503041 273.671006 \nL -8.503041 273.671006 \nL -8.939997 273.671006 \nz\n\" clip-path=\"url(#pae04297fc5)\" style=\"fill: #1f77b4; fill-opacity: 0.75; stroke: #000000; stroke-width: 0.029649; stroke-linejoin: miter\"/>\n   </g>\n   <g id=\"patch_437\">\n    <path d=\"M -8.503041 273.671006 \nL -8.066084 273.671006 \nL -8.066084 273.670256 \nL -8.503041 273.670256 \nz\n\" clip-path=\"url(#pae04297fc5)\" style=\"fill: #1f77b4; fill-opacity: 0.75; stroke: #000000; stroke-width: 0.029649; stroke-linejoin: miter\"/>\n   </g>\n   <g id=\"patch_438\">\n    <path d=\"M -8.066084 273.671006 \nL -7.629128 273.671006 \nL -7.629128 273.671006 \nL -8.066084 273.671006 \nz\n\" clip-path=\"url(#pae04297fc5)\" style=\"fill: #1f77b4; fill-opacity: 0.75; stroke: #000000; stroke-width: 0.029649; stroke-linejoin: miter\"/>\n   </g>\n   <g id=\"patch_439\">\n    <path d=\"M -7.629128 273.671006 \nL -7.192172 273.671006 \nL -7.192172 273.671006 \nL -7.629128 273.671006 \nz\n\" clip-path=\"url(#pae04297fc5)\" style=\"fill: #1f77b4; fill-opacity: 0.75; stroke: #000000; stroke-width: 0.029649; stroke-linejoin: miter\"/>\n   </g>\n   <g id=\"patch_440\">\n    <path d=\"M -7.192172 273.671006 \nL -6.755215 273.671006 \nL -6.755215 273.671006 \nL -7.192172 273.671006 \nz\n\" clip-path=\"url(#pae04297fc5)\" style=\"fill: #1f77b4; fill-opacity: 0.75; stroke: #000000; stroke-width: 0.029649; stroke-linejoin: miter\"/>\n   </g>\n   <g id=\"patch_441\">\n    <path d=\"M -6.755215 273.671006 \nL -6.318259 273.671006 \nL -6.318259 273.671006 \nL -6.755215 273.671006 \nz\n\" clip-path=\"url(#pae04297fc5)\" style=\"fill: #1f77b4; fill-opacity: 0.75; stroke: #000000; stroke-width: 0.029649; stroke-linejoin: miter\"/>\n   </g>\n   <g id=\"patch_442\">\n    <path d=\"M -6.318259 273.671006 \nL -5.881302 273.671006 \nL -5.881302 273.671006 \nL -6.318259 273.671006 \nz\n\" clip-path=\"url(#pae04297fc5)\" style=\"fill: #1f77b4; fill-opacity: 0.75; stroke: #000000; stroke-width: 0.029649; stroke-linejoin: miter\"/>\n   </g>\n   <g id=\"patch_443\">\n    <path d=\"M -5.881302 273.671006 \nL -5.444346 273.671006 \nL -5.444346 273.670256 \nL -5.881302 273.670256 \nz\n\" clip-path=\"url(#pae04297fc5)\" style=\"fill: #1f77b4; fill-opacity: 0.75; stroke: #000000; stroke-width: 0.029649; stroke-linejoin: miter\"/>\n   </g>\n   <g id=\"patch_444\">\n    <path d=\"M -5.444346 273.671006 \nL -5.00739 273.671006 \nL -5.00739 273.671006 \nL -5.444346 273.671006 \nz\n\" clip-path=\"url(#pae04297fc5)\" style=\"fill: #1f77b4; fill-opacity: 0.75; stroke: #000000; stroke-width: 0.029649; stroke-linejoin: miter\"/>\n   </g>\n   <g id=\"patch_445\">\n    <path d=\"M -5.00739 273.671006 \nL -4.570433 273.671006 \nL -4.570433 273.671006 \nL -5.00739 273.671006 \nz\n\" clip-path=\"url(#pae04297fc5)\" style=\"fill: #1f77b4; fill-opacity: 0.75; stroke: #000000; stroke-width: 0.029649; stroke-linejoin: miter\"/>\n   </g>\n   <g id=\"patch_446\">\n    <path d=\"M -4.570433 273.671006 \nL -4.133477 273.671006 \nL -4.133477 273.671006 \nL -4.570433 273.671006 \nz\n\" clip-path=\"url(#pae04297fc5)\" style=\"fill: #1f77b4; fill-opacity: 0.75; stroke: #000000; stroke-width: 0.029649; stroke-linejoin: miter\"/>\n   </g>\n   <g id=\"patch_447\">\n    <path d=\"M -4.133477 273.671006 \nL -3.696521 273.671006 \nL -3.696521 273.671006 \nL -4.133477 273.671006 \nz\n\" clip-path=\"url(#pae04297fc5)\" style=\"fill: #1f77b4; fill-opacity: 0.75; stroke: #000000; stroke-width: 0.029649; stroke-linejoin: miter\"/>\n   </g>\n   <g id=\"patch_448\">\n    <path d=\"M -3.696521 273.671006 \nL -3.259564 273.671006 \nL -3.259564 273.671006 \nL -3.696521 273.671006 \nz\n\" clip-path=\"url(#pae04297fc5)\" style=\"fill: #1f77b4; fill-opacity: 0.75; stroke: #000000; stroke-width: 0.029649; stroke-linejoin: miter\"/>\n   </g>\n   <g id=\"patch_449\">\n    <path d=\"M -3.259564 273.671006 \nL -2.822608 273.671006 \nL -2.822608 273.671006 \nL -3.259564 273.671006 \nz\n\" clip-path=\"url(#pae04297fc5)\" style=\"fill: #1f77b4; fill-opacity: 0.75; stroke: #000000; stroke-width: 0.029649; stroke-linejoin: miter\"/>\n   </g>\n   <g id=\"patch_450\">\n    <path d=\"M -2.822608 273.671006 \nL -2.385651 273.671006 \nL -2.385651 273.671006 \nL -2.822608 273.671006 \nz\n\" clip-path=\"url(#pae04297fc5)\" style=\"fill: #1f77b4; fill-opacity: 0.75; stroke: #000000; stroke-width: 0.029649; stroke-linejoin: miter\"/>\n   </g>\n   <g id=\"patch_451\">\n    <path d=\"M -2.385651 273.671006 \nL -1.948695 273.671006 \nL -1.948695 273.671006 \nL -2.385651 273.671006 \nz\n\" clip-path=\"url(#pae04297fc5)\" style=\"fill: #1f77b4; fill-opacity: 0.75; stroke: #000000; stroke-width: 0.029649; stroke-linejoin: miter\"/>\n   </g>\n   <g id=\"patch_452\">\n    <path d=\"M -1.948695 273.671006 \nL -1.511739 273.671006 \nL -1.511739 273.671006 \nL -1.948695 273.671006 \nz\n\" clip-path=\"url(#pae04297fc5)\" style=\"fill: #1f77b4; fill-opacity: 0.75; stroke: #000000; stroke-width: 0.029649; stroke-linejoin: miter\"/>\n   </g>\n   <g id=\"patch_453\">\n    <path d=\"M -1.511739 273.671006 \nL -1.074782 273.671006 \nL -1.074782 273.671006 \nL -1.511739 273.671006 \nz\n\" clip-path=\"url(#pae04297fc5)\" style=\"fill: #1f77b4; fill-opacity: 0.75; stroke: #000000; stroke-width: 0.029649; stroke-linejoin: miter\"/>\n   </g>\n   <g id=\"patch_454\">\n    <path d=\"M -1.074782 273.671006 \nL -0.637826 273.671006 \nL -0.637826 273.671006 \nL -1.074782 273.671006 \nz\n\" clip-path=\"url(#pae04297fc5)\" style=\"fill: #1f77b4; fill-opacity: 0.75; stroke: #000000; stroke-width: 0.029649; stroke-linejoin: miter\"/>\n   </g>\n   <g id=\"patch_455\">\n    <path d=\"M -0.637826 273.671006 \nL -0.200869 273.671006 \nL -0.200869 273.671006 \nL -0.637826 273.671006 \nz\n\" clip-path=\"url(#pae04297fc5)\" style=\"fill: #1f77b4; fill-opacity: 0.75; stroke: #000000; stroke-width: 0.029649; stroke-linejoin: miter\"/>\n   </g>\n   <g id=\"patch_456\">\n    <path d=\"M -0.200869 273.671006 \nL 0.236087 273.671006 \nL 0.236087 273.670256 \nL -0.200869 273.670256 \nz\n\" clip-path=\"url(#pae04297fc5)\" style=\"fill: #1f77b4; fill-opacity: 0.75; stroke: #000000; stroke-width: 0.029649; stroke-linejoin: miter\"/>\n   </g>\n   <g id=\"patch_457\">\n    <path d=\"M 0.236087 273.671006 \nL 0.673043 273.671006 \nL 0.673043 273.671006 \nL 0.236087 273.671006 \nz\n\" clip-path=\"url(#pae04297fc5)\" style=\"fill: #1f77b4; fill-opacity: 0.75; stroke: #000000; stroke-width: 0.029649; stroke-linejoin: miter\"/>\n   </g>\n   <g id=\"patch_458\">\n    <path d=\"M 0.673043 273.671006 \nL 1.11 273.671006 \nL 1.11 273.671006 \nL 0.673043 273.671006 \nz\n\" clip-path=\"url(#pae04297fc5)\" style=\"fill: #1f77b4; fill-opacity: 0.75; stroke: #000000; stroke-width: 0.029649; stroke-linejoin: miter\"/>\n   </g>\n   <g id=\"patch_459\">\n    <path d=\"M 1.11 273.671006 \nL 1.546956 273.671006 \nL 1.546956 273.671006 \nL 1.11 273.671006 \nz\n\" clip-path=\"url(#pae04297fc5)\" style=\"fill: #1f77b4; fill-opacity: 0.75; stroke: #000000; stroke-width: 0.029649; stroke-linejoin: miter\"/>\n   </g>\n   <g id=\"patch_460\">\n    <path d=\"M 1.546956 273.671006 \nL 1.983912 273.671006 \nL 1.983912 273.671006 \nL 1.546956 273.671006 \nz\n\" clip-path=\"url(#pae04297fc5)\" style=\"fill: #1f77b4; fill-opacity: 0.75; stroke: #000000; stroke-width: 0.029649; stroke-linejoin: miter\"/>\n   </g>\n   <g id=\"patch_461\">\n    <path d=\"M 1.983912 273.671006 \nL 2.420869 273.671006 \nL 2.420869 273.671006 \nL 1.983912 273.671006 \nz\n\" clip-path=\"url(#pae04297fc5)\" style=\"fill: #1f77b4; fill-opacity: 0.75; stroke: #000000; stroke-width: 0.029649; stroke-linejoin: miter\"/>\n   </g>\n   <g id=\"patch_462\">\n    <path d=\"M 2.420869 273.671006 \nL 2.857825 273.671006 \nL 2.857825 273.671006 \nL 2.420869 273.671006 \nz\n\" clip-path=\"url(#pae04297fc5)\" style=\"fill: #1f77b4; fill-opacity: 0.75; stroke: #000000; stroke-width: 0.029649; stroke-linejoin: miter\"/>\n   </g>\n   <g id=\"patch_463\">\n    <path d=\"M 2.857825 273.671006 \nL 3.294782 273.671006 \nL 3.294782 273.671006 \nL 2.857825 273.671006 \nz\n\" clip-path=\"url(#pae04297fc5)\" style=\"fill: #1f77b4; fill-opacity: 0.75; stroke: #000000; stroke-width: 0.029649; stroke-linejoin: miter\"/>\n   </g>\n   <g id=\"patch_464\">\n    <path d=\"M 3.294782 273.671006 \nL 3.731738 273.671006 \nL 3.731738 273.671006 \nL 3.294782 273.671006 \nz\n\" clip-path=\"url(#pae04297fc5)\" style=\"fill: #1f77b4; fill-opacity: 0.75; stroke: #000000; stroke-width: 0.029649; stroke-linejoin: miter\"/>\n   </g>\n   <g id=\"patch_465\">\n    <path d=\"M 3.731738 273.671006 \nL 4.168694 273.671006 \nL 4.168694 273.671006 \nL 3.731738 273.671006 \nz\n\" clip-path=\"url(#pae04297fc5)\" style=\"fill: #1f77b4; fill-opacity: 0.75; stroke: #000000; stroke-width: 0.029649; stroke-linejoin: miter\"/>\n   </g>\n   <g id=\"patch_466\">\n    <path d=\"M 4.168694 273.671006 \nL 4.605651 273.671006 \nL 4.605651 273.671006 \nL 4.168694 273.671006 \nz\n\" clip-path=\"url(#pae04297fc5)\" style=\"fill: #1f77b4; fill-opacity: 0.75; stroke: #000000; stroke-width: 0.029649; stroke-linejoin: miter\"/>\n   </g>\n   <g id=\"patch_467\">\n    <path d=\"M 4.605651 273.671006 \nL 5.042607 273.671006 \nL 5.042607 273.671006 \nL 4.605651 273.671006 \nz\n\" clip-path=\"url(#pae04297fc5)\" style=\"fill: #1f77b4; fill-opacity: 0.75; stroke: #000000; stroke-width: 0.029649; stroke-linejoin: miter\"/>\n   </g>\n   <g id=\"patch_468\">\n    <path d=\"M 5.042607 273.671006 \nL 5.479563 273.671006 \nL 5.479563 273.671006 \nL 5.042607 273.671006 \nz\n\" clip-path=\"url(#pae04297fc5)\" style=\"fill: #1f77b4; fill-opacity: 0.75; stroke: #000000; stroke-width: 0.029649; stroke-linejoin: miter\"/>\n   </g>\n   <g id=\"patch_469\">\n    <path d=\"M 5.479563 273.671006 \nL 5.91652 273.671006 \nL 5.91652 273.671006 \nL 5.479563 273.671006 \nz\n\" clip-path=\"url(#pae04297fc5)\" style=\"fill: #1f77b4; fill-opacity: 0.75; stroke: #000000; stroke-width: 0.029649; stroke-linejoin: miter\"/>\n   </g>\n   <g id=\"patch_470\">\n    <path d=\"M 5.91652 273.671006 \nL 6.353476 273.671006 \nL 6.353476 273.671006 \nL 5.91652 273.671006 \nz\n\" clip-path=\"url(#pae04297fc5)\" style=\"fill: #1f77b4; fill-opacity: 0.75; stroke: #000000; stroke-width: 0.029649; stroke-linejoin: miter\"/>\n   </g>\n   <g id=\"patch_471\">\n    <path d=\"M 6.353476 273.671006 \nL 6.790433 273.671006 \nL 6.790433 273.671006 \nL 6.353476 273.671006 \nz\n\" clip-path=\"url(#pae04297fc5)\" style=\"fill: #1f77b4; fill-opacity: 0.75; stroke: #000000; stroke-width: 0.029649; stroke-linejoin: miter\"/>\n   </g>\n   <g id=\"patch_472\">\n    <path d=\"M 6.790433 273.671006 \nL 7.227389 273.671006 \nL 7.227389 273.669505 \nL 6.790433 273.669505 \nz\n\" clip-path=\"url(#pae04297fc5)\" style=\"fill: #1f77b4; fill-opacity: 0.75; stroke: #000000; stroke-width: 0.029649; stroke-linejoin: miter\"/>\n   </g>\n   <g id=\"patch_473\">\n    <path d=\"M 7.227389 273.671006 \nL 7.664345 273.671006 \nL 7.664345 273.671006 \nL 7.227389 273.671006 \nz\n\" clip-path=\"url(#pae04297fc5)\" style=\"fill: #1f77b4; fill-opacity: 0.75; stroke: #000000; stroke-width: 0.029649; stroke-linejoin: miter\"/>\n   </g>\n   <g id=\"patch_474\">\n    <path d=\"M 7.664345 273.671006 \nL 8.101302 273.671006 \nL 8.101302 273.671006 \nL 7.664345 273.671006 \nz\n\" clip-path=\"url(#pae04297fc5)\" style=\"fill: #1f77b4; fill-opacity: 0.75; stroke: #000000; stroke-width: 0.029649; stroke-linejoin: miter\"/>\n   </g>\n   <g id=\"patch_475\">\n    <path d=\"M 8.101302 273.671006 \nL 8.538258 273.671006 \nL 8.538258 273.671006 \nL 8.101302 273.671006 \nz\n\" clip-path=\"url(#pae04297fc5)\" style=\"fill: #1f77b4; fill-opacity: 0.75; stroke: #000000; stroke-width: 0.029649; stroke-linejoin: miter\"/>\n   </g>\n   <g id=\"patch_476\">\n    <path d=\"M 8.538258 273.671006 \nL 8.975214 273.671006 \nL 8.975214 273.671006 \nL 8.538258 273.671006 \nz\n\" clip-path=\"url(#pae04297fc5)\" style=\"fill: #1f77b4; fill-opacity: 0.75; stroke: #000000; stroke-width: 0.029649; stroke-linejoin: miter\"/>\n   </g>\n   <g id=\"patch_477\">\n    <path d=\"M 8.975214 273.671006 \nL 9.412171 273.671006 \nL 9.412171 273.671006 \nL 8.975214 273.671006 \nz\n\" clip-path=\"url(#pae04297fc5)\" style=\"fill: #1f77b4; fill-opacity: 0.75; stroke: #000000; stroke-width: 0.029649; stroke-linejoin: miter\"/>\n   </g>\n   <g id=\"patch_478\">\n    <path d=\"M 9.412171 273.671006 \nL 9.849127 273.671006 \nL 9.849127 273.671006 \nL 9.412171 273.671006 \nz\n\" clip-path=\"url(#pae04297fc5)\" style=\"fill: #1f77b4; fill-opacity: 0.75; stroke: #000000; stroke-width: 0.029649; stroke-linejoin: miter\"/>\n   </g>\n   <g id=\"patch_479\">\n    <path d=\"M 9.849127 273.671006 \nL 10.286084 273.671006 \nL 10.286084 273.671006 \nL 9.849127 273.671006 \nz\n\" clip-path=\"url(#pae04297fc5)\" style=\"fill: #1f77b4; fill-opacity: 0.75; stroke: #000000; stroke-width: 0.029649; stroke-linejoin: miter\"/>\n   </g>\n   <g id=\"patch_480\">\n    <path d=\"M 10.286084 273.671006 \nL 10.72304 273.671006 \nL 10.72304 273.671006 \nL 10.286084 273.671006 \nz\n\" clip-path=\"url(#pae04297fc5)\" style=\"fill: #1f77b4; fill-opacity: 0.75; stroke: #000000; stroke-width: 0.029649; stroke-linejoin: miter\"/>\n   </g>\n   <g id=\"patch_481\">\n    <path d=\"M 10.72304 273.671006 \nL 11.159996 273.671006 \nL 11.159996 273.671006 \nL 10.72304 273.671006 \nz\n\" clip-path=\"url(#pae04297fc5)\" style=\"fill: #1f77b4; fill-opacity: 0.75; stroke: #000000; stroke-width: 0.029649; stroke-linejoin: miter\"/>\n   </g>\n   <g id=\"patch_482\">\n    <path d=\"M 11.159996 273.671006 \nL 11.596953 273.671006 \nL 11.596953 273.671006 \nL 11.159996 273.671006 \nz\n\" clip-path=\"url(#pae04297fc5)\" style=\"fill: #1f77b4; fill-opacity: 0.75; stroke: #000000; stroke-width: 0.029649; stroke-linejoin: miter\"/>\n   </g>\n   <g id=\"patch_483\">\n    <path d=\"M 11.596953 273.671006 \nL 12.033909 273.671006 \nL 12.033909 273.670256 \nL 11.596953 273.670256 \nz\n\" clip-path=\"url(#pae04297fc5)\" style=\"fill: #1f77b4; fill-opacity: 0.75; stroke: #000000; stroke-width: 0.029649; stroke-linejoin: miter\"/>\n   </g>\n   <g id=\"patch_484\">\n    <path d=\"M 12.033909 273.671006 \nL 12.470865 273.671006 \nL 12.470865 273.670256 \nL 12.033909 273.670256 \nz\n\" clip-path=\"url(#pae04297fc5)\" style=\"fill: #1f77b4; fill-opacity: 0.75; stroke: #000000; stroke-width: 0.029649; stroke-linejoin: miter\"/>\n   </g>\n   <g id=\"patch_485\">\n    <path d=\"M 12.470865 273.671006 \nL 12.907822 273.671006 \nL 12.907822 273.671006 \nL 12.470865 273.671006 \nz\n\" clip-path=\"url(#pae04297fc5)\" style=\"fill: #1f77b4; fill-opacity: 0.75; stroke: #000000; stroke-width: 0.029649; stroke-linejoin: miter\"/>\n   </g>\n   <g id=\"patch_486\">\n    <path d=\"M 12.907822 273.671006 \nL 13.344778 273.671006 \nL 13.344778 273.671006 \nL 12.907822 273.671006 \nz\n\" clip-path=\"url(#pae04297fc5)\" style=\"fill: #1f77b4; fill-opacity: 0.75; stroke: #000000; stroke-width: 0.029649; stroke-linejoin: miter\"/>\n   </g>\n   <g id=\"patch_487\">\n    <path d=\"M 13.344778 273.671006 \nL 13.781735 273.671006 \nL 13.781735 273.671006 \nL 13.344778 273.671006 \nz\n\" clip-path=\"url(#pae04297fc5)\" style=\"fill: #1f77b4; fill-opacity: 0.75; stroke: #000000; stroke-width: 0.029649; stroke-linejoin: miter\"/>\n   </g>\n   <g id=\"patch_488\">\n    <path d=\"M 13.781735 273.671006 \nL 14.218691 273.671006 \nL 14.218691 273.670256 \nL 13.781735 273.670256 \nz\n\" clip-path=\"url(#pae04297fc5)\" style=\"fill: #1f77b4; fill-opacity: 0.75; stroke: #000000; stroke-width: 0.029649; stroke-linejoin: miter\"/>\n   </g>\n   <g id=\"patch_489\">\n    <path d=\"M 14.218691 273.671006 \nL 14.655647 273.671006 \nL 14.655647 273.671006 \nL 14.218691 273.671006 \nz\n\" clip-path=\"url(#pae04297fc5)\" style=\"fill: #1f77b4; fill-opacity: 0.75; stroke: #000000; stroke-width: 0.029649; stroke-linejoin: miter\"/>\n   </g>\n   <g id=\"patch_490\">\n    <path d=\"M 14.655647 273.671006 \nL 15.092604 273.671006 \nL 15.092604 273.671006 \nL 14.655647 273.671006 \nz\n\" clip-path=\"url(#pae04297fc5)\" style=\"fill: #1f77b4; fill-opacity: 0.75; stroke: #000000; stroke-width: 0.029649; stroke-linejoin: miter\"/>\n   </g>\n   <g id=\"patch_491\">\n    <path d=\"M 15.092604 273.671006 \nL 15.52956 273.671006 \nL 15.52956 273.671006 \nL 15.092604 273.671006 \nz\n\" clip-path=\"url(#pae04297fc5)\" style=\"fill: #1f77b4; fill-opacity: 0.75; stroke: #000000; stroke-width: 0.029649; stroke-linejoin: miter\"/>\n   </g>\n   <g id=\"patch_492\">\n    <path d=\"M 15.52956 273.671006 \nL 15.966516 273.671006 \nL 15.966516 273.671006 \nL 15.52956 273.671006 \nz\n\" clip-path=\"url(#pae04297fc5)\" style=\"fill: #1f77b4; fill-opacity: 0.75; stroke: #000000; stroke-width: 0.029649; stroke-linejoin: miter\"/>\n   </g>\n   <g id=\"patch_493\">\n    <path d=\"M 15.966516 273.671006 \nL 16.403473 273.671006 \nL 16.403473 273.622224 \nL 15.966516 273.622224 \nz\n\" clip-path=\"url(#pae04297fc5)\" style=\"fill: #1f77b4; fill-opacity: 0.75; stroke: #000000; stroke-width: 0.029649; stroke-linejoin: miter\"/>\n   </g>\n   <g id=\"patch_494\">\n    <path d=\"M 16.403473 273.671006 \nL 16.840429 273.671006 \nL 16.840429 273.671006 \nL 16.403473 273.671006 \nz\n\" clip-path=\"url(#pae04297fc5)\" style=\"fill: #1f77b4; fill-opacity: 0.75; stroke: #000000; stroke-width: 0.029649; stroke-linejoin: miter\"/>\n   </g>\n   <g id=\"patch_495\">\n    <path d=\"M 16.840429 273.671006 \nL 17.277386 273.671006 \nL 17.277386 273.671006 \nL 16.840429 273.671006 \nz\n\" clip-path=\"url(#pae04297fc5)\" style=\"fill: #1f77b4; fill-opacity: 0.75; stroke: #000000; stroke-width: 0.029649; stroke-linejoin: miter\"/>\n   </g>\n   <g id=\"patch_496\">\n    <path d=\"M 17.277386 273.671006 \nL 17.714342 273.671006 \nL 17.714342 273.669505 \nL 17.277386 273.669505 \nz\n\" clip-path=\"url(#pae04297fc5)\" style=\"fill: #1f77b4; fill-opacity: 0.75; stroke: #000000; stroke-width: 0.029649; stroke-linejoin: miter\"/>\n   </g>\n   <g id=\"patch_497\">\n    <path d=\"M 17.714342 273.671006 \nL 18.151298 273.671006 \nL 18.151298 273.671006 \nL 17.714342 273.671006 \nz\n\" clip-path=\"url(#pae04297fc5)\" style=\"fill: #1f77b4; fill-opacity: 0.75; stroke: #000000; stroke-width: 0.029649; stroke-linejoin: miter\"/>\n   </g>\n   <g id=\"patch_498\">\n    <path d=\"M 18.151298 273.671006 \nL 18.588255 273.671006 \nL 18.588255 273.671006 \nL 18.151298 273.671006 \nz\n\" clip-path=\"url(#pae04297fc5)\" style=\"fill: #1f77b4; fill-opacity: 0.75; stroke: #000000; stroke-width: 0.029649; stroke-linejoin: miter\"/>\n   </g>\n   <g id=\"patch_499\">\n    <path d=\"M 18.588255 273.671006 \nL 19.025211 273.671006 \nL 19.025211 273.670256 \nL 18.588255 273.670256 \nz\n\" clip-path=\"url(#pae04297fc5)\" style=\"fill: #1f77b4; fill-opacity: 0.75; stroke: #000000; stroke-width: 0.029649; stroke-linejoin: miter\"/>\n   </g>\n   <g id=\"patch_500\">\n    <path d=\"M 19.025211 273.671006 \nL 19.462168 273.671006 \nL 19.462168 273.671006 \nL 19.025211 273.671006 \nz\n\" clip-path=\"url(#pae04297fc5)\" style=\"fill: #1f77b4; fill-opacity: 0.75; stroke: #000000; stroke-width: 0.029649; stroke-linejoin: miter\"/>\n   </g>\n   <g id=\"patch_501\">\n    <path d=\"M 19.462168 273.671006 \nL 19.899124 273.671006 \nL 19.899124 273.670256 \nL 19.462168 273.670256 \nz\n\" clip-path=\"url(#pae04297fc5)\" style=\"fill: #1f77b4; fill-opacity: 0.75; stroke: #000000; stroke-width: 0.029649; stroke-linejoin: miter\"/>\n   </g>\n   <g id=\"patch_502\">\n    <path d=\"M 19.899124 273.671006 \nL 20.33608 273.671006 \nL 20.33608 273.670256 \nL 19.899124 273.670256 \nz\n\" clip-path=\"url(#pae04297fc5)\" style=\"fill: #1f77b4; fill-opacity: 0.75; stroke: #000000; stroke-width: 0.029649; stroke-linejoin: miter\"/>\n   </g>\n   <g id=\"patch_503\">\n    <path d=\"M 20.33608 273.671006 \nL 20.773037 273.671006 \nL 20.773037 273.671006 \nL 20.33608 273.671006 \nz\n\" clip-path=\"url(#pae04297fc5)\" style=\"fill: #1f77b4; fill-opacity: 0.75; stroke: #000000; stroke-width: 0.029649; stroke-linejoin: miter\"/>\n   </g>\n   <g id=\"patch_504\">\n    <path d=\"M 20.773037 273.671006 \nL 21.209993 273.671006 \nL 21.209993 273.671006 \nL 20.773037 273.671006 \nz\n\" clip-path=\"url(#pae04297fc5)\" style=\"fill: #1f77b4; fill-opacity: 0.75; stroke: #000000; stroke-width: 0.029649; stroke-linejoin: miter\"/>\n   </g>\n   <g id=\"patch_505\">\n    <path d=\"M 21.209993 273.671006 \nL 21.646949 273.671006 \nL 21.646949 273.671006 \nL 21.209993 273.671006 \nz\n\" clip-path=\"url(#pae04297fc5)\" style=\"fill: #1f77b4; fill-opacity: 0.75; stroke: #000000; stroke-width: 0.029649; stroke-linejoin: miter\"/>\n   </g>\n   <g id=\"patch_506\">\n    <path d=\"M 21.646949 273.671006 \nL 22.083906 273.671006 \nL 22.083906 273.671006 \nL 21.646949 273.671006 \nz\n\" clip-path=\"url(#pae04297fc5)\" style=\"fill: #1f77b4; fill-opacity: 0.75; stroke: #000000; stroke-width: 0.029649; stroke-linejoin: miter\"/>\n   </g>\n   <g id=\"patch_507\">\n    <path d=\"M 22.083906 273.671006 \nL 22.520862 273.671006 \nL 22.520862 273.670256 \nL 22.083906 273.670256 \nz\n\" clip-path=\"url(#pae04297fc5)\" style=\"fill: #1f77b4; fill-opacity: 0.75; stroke: #000000; stroke-width: 0.029649; stroke-linejoin: miter\"/>\n   </g>\n   <g id=\"patch_508\">\n    <path d=\"M 22.520862 273.671006 \nL 22.957819 273.671006 \nL 22.957819 273.669505 \nL 22.520862 273.669505 \nz\n\" clip-path=\"url(#pae04297fc5)\" style=\"fill: #1f77b4; fill-opacity: 0.75; stroke: #000000; stroke-width: 0.029649; stroke-linejoin: miter\"/>\n   </g>\n   <g id=\"patch_509\">\n    <path d=\"M 22.957819 273.671006 \nL 23.394775 273.671006 \nL 23.394775 273.670256 \nL 22.957819 273.670256 \nz\n\" clip-path=\"url(#pae04297fc5)\" style=\"fill: #1f77b4; fill-opacity: 0.75; stroke: #000000; stroke-width: 0.029649; stroke-linejoin: miter\"/>\n   </g>\n   <g id=\"patch_510\">\n    <path d=\"M 23.394775 273.671006 \nL 23.831731 273.671006 \nL 23.831731 273.671006 \nL 23.394775 273.671006 \nz\n\" clip-path=\"url(#pae04297fc5)\" style=\"fill: #1f77b4; fill-opacity: 0.75; stroke: #000000; stroke-width: 0.029649; stroke-linejoin: miter\"/>\n   </g>\n   <g id=\"patch_511\">\n    <path d=\"M 23.831731 273.671006 \nL 24.268688 273.671006 \nL 24.268688 273.671006 \nL 23.831731 273.671006 \nz\n\" clip-path=\"url(#pae04297fc5)\" style=\"fill: #1f77b4; fill-opacity: 0.75; stroke: #000000; stroke-width: 0.029649; stroke-linejoin: miter\"/>\n   </g>\n   <g id=\"patch_512\">\n    <path d=\"M 24.268688 273.671006 \nL 24.705644 273.671006 \nL 24.705644 273.671006 \nL 24.268688 273.671006 \nz\n\" clip-path=\"url(#pae04297fc5)\" style=\"fill: #1f77b4; fill-opacity: 0.75; stroke: #000000; stroke-width: 0.029649; stroke-linejoin: miter\"/>\n   </g>\n   <g id=\"patch_513\">\n    <path d=\"M 24.705644 273.671006 \nL 25.1426 273.671006 \nL 25.1426 273.671006 \nL 24.705644 273.671006 \nz\n\" clip-path=\"url(#pae04297fc5)\" style=\"fill: #1f77b4; fill-opacity: 0.75; stroke: #000000; stroke-width: 0.029649; stroke-linejoin: miter\"/>\n   </g>\n   <g id=\"patch_514\">\n    <path d=\"M 25.1426 273.671006 \nL 25.579557 273.671006 \nL 25.579557 273.671006 \nL 25.1426 273.671006 \nz\n\" clip-path=\"url(#pae04297fc5)\" style=\"fill: #1f77b4; fill-opacity: 0.75; stroke: #000000; stroke-width: 0.029649; stroke-linejoin: miter\"/>\n   </g>\n   <g id=\"patch_515\">\n    <path d=\"M 25.579557 273.671006 \nL 26.016513 273.671006 \nL 26.016513 273.671006 \nL 25.579557 273.671006 \nz\n\" clip-path=\"url(#pae04297fc5)\" style=\"fill: #1f77b4; fill-opacity: 0.75; stroke: #000000; stroke-width: 0.029649; stroke-linejoin: miter\"/>\n   </g>\n   <g id=\"patch_516\">\n    <path d=\"M 26.016513 273.671006 \nL 26.45347 273.671006 \nL 26.45347 273.671006 \nL 26.016513 273.671006 \nz\n\" clip-path=\"url(#pae04297fc5)\" style=\"fill: #1f77b4; fill-opacity: 0.75; stroke: #000000; stroke-width: 0.029649; stroke-linejoin: miter\"/>\n   </g>\n   <g id=\"patch_517\">\n    <path d=\"M 26.45347 273.671006 \nL 26.890426 273.671006 \nL 26.890426 273.671006 \nL 26.45347 273.671006 \nz\n\" clip-path=\"url(#pae04297fc5)\" style=\"fill: #1f77b4; fill-opacity: 0.75; stroke: #000000; stroke-width: 0.029649; stroke-linejoin: miter\"/>\n   </g>\n   <g id=\"patch_518\">\n    <path d=\"M 26.890426 273.671006 \nL 27.327382 273.671006 \nL 27.327382 273.671006 \nL 26.890426 273.671006 \nz\n\" clip-path=\"url(#pae04297fc5)\" style=\"fill: #1f77b4; fill-opacity: 0.75; stroke: #000000; stroke-width: 0.029649; stroke-linejoin: miter\"/>\n   </g>\n   <g id=\"patch_519\">\n    <path d=\"M 27.327382 273.671006 \nL 27.764339 273.671006 \nL 27.764339 273.671006 \nL 27.327382 273.671006 \nz\n\" clip-path=\"url(#pae04297fc5)\" style=\"fill: #1f77b4; fill-opacity: 0.75; stroke: #000000; stroke-width: 0.029649; stroke-linejoin: miter\"/>\n   </g>\n   <g id=\"patch_520\">\n    <path d=\"M 27.764339 273.671006 \nL 28.201295 273.671006 \nL 28.201295 273.671006 \nL 27.764339 273.671006 \nz\n\" clip-path=\"url(#pae04297fc5)\" style=\"fill: #1f77b4; fill-opacity: 0.75; stroke: #000000; stroke-width: 0.029649; stroke-linejoin: miter\"/>\n   </g>\n   <g id=\"patch_521\">\n    <path d=\"M 28.201295 273.671006 \nL 28.638251 273.671006 \nL 28.638251 273.671006 \nL 28.201295 273.671006 \nz\n\" clip-path=\"url(#pae04297fc5)\" style=\"fill: #1f77b4; fill-opacity: 0.75; stroke: #000000; stroke-width: 0.029649; stroke-linejoin: miter\"/>\n   </g>\n   <g id=\"patch_522\">\n    <path d=\"M 28.638251 273.671006 \nL 29.075208 273.671006 \nL 29.075208 273.671006 \nL 28.638251 273.671006 \nz\n\" clip-path=\"url(#pae04297fc5)\" style=\"fill: #1f77b4; fill-opacity: 0.75; stroke: #000000; stroke-width: 0.029649; stroke-linejoin: miter\"/>\n   </g>\n   <g id=\"patch_523\">\n    <path d=\"M 29.075208 273.671006 \nL 29.512164 273.671006 \nL 29.512164 273.671006 \nL 29.075208 273.671006 \nz\n\" clip-path=\"url(#pae04297fc5)\" style=\"fill: #1f77b4; fill-opacity: 0.75; stroke: #000000; stroke-width: 0.029649; stroke-linejoin: miter\"/>\n   </g>\n   <g id=\"patch_524\">\n    <path d=\"M 29.512164 273.671006 \nL 29.949121 273.671006 \nL 29.949121 273.671006 \nL 29.512164 273.671006 \nz\n\" clip-path=\"url(#pae04297fc5)\" style=\"fill: #1f77b4; fill-opacity: 0.75; stroke: #000000; stroke-width: 0.029649; stroke-linejoin: miter\"/>\n   </g>\n   <g id=\"patch_525\">\n    <path d=\"M 29.949121 273.671006 \nL 30.386077 273.671006 \nL 30.386077 273.671006 \nL 29.949121 273.671006 \nz\n\" clip-path=\"url(#pae04297fc5)\" style=\"fill: #1f77b4; fill-opacity: 0.75; stroke: #000000; stroke-width: 0.029649; stroke-linejoin: miter\"/>\n   </g>\n   <g id=\"patch_526\">\n    <path d=\"M 30.386077 273.671006 \nL 30.823033 273.671006 \nL 30.823033 273.671006 \nL 30.386077 273.671006 \nz\n\" clip-path=\"url(#pae04297fc5)\" style=\"fill: #1f77b4; fill-opacity: 0.75; stroke: #000000; stroke-width: 0.029649; stroke-linejoin: miter\"/>\n   </g>\n   <g id=\"patch_527\">\n    <path d=\"M 30.823033 273.671006 \nL 31.25999 273.671006 \nL 31.25999 273.670256 \nL 30.823033 273.670256 \nz\n\" clip-path=\"url(#pae04297fc5)\" style=\"fill: #1f77b4; fill-opacity: 0.75; stroke: #000000; stroke-width: 0.029649; stroke-linejoin: miter\"/>\n   </g>\n   <g id=\"patch_528\">\n    <path d=\"M 31.25999 273.671006 \nL 31.696946 273.671006 \nL 31.696946 273.669505 \nL 31.25999 273.669505 \nz\n\" clip-path=\"url(#pae04297fc5)\" style=\"fill: #1f77b4; fill-opacity: 0.75; stroke: #000000; stroke-width: 0.029649; stroke-linejoin: miter\"/>\n   </g>\n   <g id=\"patch_529\">\n    <path d=\"M 31.696946 273.671006 \nL 32.133902 273.671006 \nL 32.133902 273.671006 \nL 31.696946 273.671006 \nz\n\" clip-path=\"url(#pae04297fc5)\" style=\"fill: #1f77b4; fill-opacity: 0.75; stroke: #000000; stroke-width: 0.029649; stroke-linejoin: miter\"/>\n   </g>\n   <g id=\"patch_530\">\n    <path d=\"M 32.133902 273.671006 \nL 32.570859 273.671006 \nL 32.570859 273.671006 \nL 32.133902 273.671006 \nz\n\" clip-path=\"url(#pae04297fc5)\" style=\"fill: #1f77b4; fill-opacity: 0.75; stroke: #000000; stroke-width: 0.029649; stroke-linejoin: miter\"/>\n   </g>\n   <g id=\"patch_531\">\n    <path d=\"M 32.570859 273.671006 \nL 33.007815 273.671006 \nL 33.007815 273.671006 \nL 32.570859 273.671006 \nz\n\" clip-path=\"url(#pae04297fc5)\" style=\"fill: #1f77b4; fill-opacity: 0.75; stroke: #000000; stroke-width: 0.029649; stroke-linejoin: miter\"/>\n   </g>\n   <g id=\"patch_532\">\n    <path d=\"M 33.007815 273.671006 \nL 33.444772 273.671006 \nL 33.444772 273.671006 \nL 33.007815 273.671006 \nz\n\" clip-path=\"url(#pae04297fc5)\" style=\"fill: #1f77b4; fill-opacity: 0.75; stroke: #000000; stroke-width: 0.029649; stroke-linejoin: miter\"/>\n   </g>\n   <g id=\"patch_533\">\n    <path d=\"M 33.444772 273.671006 \nL 33.881728 273.671006 \nL 33.881728 273.671006 \nL 33.444772 273.671006 \nz\n\" clip-path=\"url(#pae04297fc5)\" style=\"fill: #1f77b4; fill-opacity: 0.75; stroke: #000000; stroke-width: 0.029649; stroke-linejoin: miter\"/>\n   </g>\n   <g id=\"patch_534\">\n    <path d=\"M 33.881728 273.671006 \nL 34.318684 273.671006 \nL 34.318684 273.671006 \nL 33.881728 273.671006 \nz\n\" clip-path=\"url(#pae04297fc5)\" style=\"fill: #1f77b4; fill-opacity: 0.75; stroke: #000000; stroke-width: 0.029649; stroke-linejoin: miter\"/>\n   </g>\n   <g id=\"patch_535\">\n    <path d=\"M 34.318684 273.671006 \nL 34.755641 273.671006 \nL 34.755641 273.671006 \nL 34.318684 273.671006 \nz\n\" clip-path=\"url(#pae04297fc5)\" style=\"fill: #1f77b4; fill-opacity: 0.75; stroke: #000000; stroke-width: 0.029649; stroke-linejoin: miter\"/>\n   </g>\n   <g id=\"patch_536\">\n    <path d=\"M 34.755641 273.671006 \nL 35.192597 273.671006 \nL 35.192597 273.671006 \nL 34.755641 273.671006 \nz\n\" clip-path=\"url(#pae04297fc5)\" style=\"fill: #1f77b4; fill-opacity: 0.75; stroke: #000000; stroke-width: 0.029649; stroke-linejoin: miter\"/>\n   </g>\n   <g id=\"patch_537\">\n    <path d=\"M 35.192597 273.671006 \nL 35.629553 273.671006 \nL 35.629553 273.671006 \nL 35.192597 273.671006 \nz\n\" clip-path=\"url(#pae04297fc5)\" style=\"fill: #1f77b4; fill-opacity: 0.75; stroke: #000000; stroke-width: 0.029649; stroke-linejoin: miter\"/>\n   </g>\n   <g id=\"patch_538\">\n    <path d=\"M 35.629553 273.671006 \nL 36.06651 273.671006 \nL 36.06651 273.671006 \nL 35.629553 273.671006 \nz\n\" clip-path=\"url(#pae04297fc5)\" style=\"fill: #1f77b4; fill-opacity: 0.75; stroke: #000000; stroke-width: 0.029649; stroke-linejoin: miter\"/>\n   </g>\n   <g id=\"patch_539\">\n    <path d=\"M 36.06651 273.671006 \nL 36.503466 273.671006 \nL 36.503466 273.671006 \nL 36.06651 273.671006 \nz\n\" clip-path=\"url(#pae04297fc5)\" style=\"fill: #1f77b4; fill-opacity: 0.75; stroke: #000000; stroke-width: 0.029649; stroke-linejoin: miter\"/>\n   </g>\n   <g id=\"patch_540\">\n    <path d=\"M 36.503466 273.671006 \nL 36.940423 273.671006 \nL 36.940423 273.671006 \nL 36.503466 273.671006 \nz\n\" clip-path=\"url(#pae04297fc5)\" style=\"fill: #1f77b4; fill-opacity: 0.75; stroke: #000000; stroke-width: 0.029649; stroke-linejoin: miter\"/>\n   </g>\n   <g id=\"patch_541\">\n    <path d=\"M 36.940423 273.671006 \nL 37.377379 273.671006 \nL 37.377379 273.670256 \nL 36.940423 273.670256 \nz\n\" clip-path=\"url(#pae04297fc5)\" style=\"fill: #1f77b4; fill-opacity: 0.75; stroke: #000000; stroke-width: 0.029649; stroke-linejoin: miter\"/>\n   </g>\n   <g id=\"patch_542\">\n    <path d=\"M 37.377379 273.671006 \nL 37.814335 273.671006 \nL 37.814335 273.659749 \nL 37.377379 273.659749 \nz\n\" clip-path=\"url(#pae04297fc5)\" style=\"fill: #1f77b4; fill-opacity: 0.75; stroke: #000000; stroke-width: 0.029649; stroke-linejoin: miter\"/>\n   </g>\n   <g id=\"patch_543\">\n    <path d=\"M 37.814335 273.671006 \nL 38.251292 273.671006 \nL 38.251292 273.671006 \nL 37.814335 273.671006 \nz\n\" clip-path=\"url(#pae04297fc5)\" style=\"fill: #1f77b4; fill-opacity: 0.75; stroke: #000000; stroke-width: 0.029649; stroke-linejoin: miter\"/>\n   </g>\n   <g id=\"patch_544\">\n    <path d=\"M 38.251292 273.671006 \nL 38.688248 273.671006 \nL 38.688248 273.671006 \nL 38.251292 273.671006 \nz\n\" clip-path=\"url(#pae04297fc5)\" style=\"fill: #1f77b4; fill-opacity: 0.75; stroke: #000000; stroke-width: 0.029649; stroke-linejoin: miter\"/>\n   </g>\n   <g id=\"patch_545\">\n    <path d=\"M 38.688248 273.671006 \nL 39.125205 273.671006 \nL 39.125205 273.671006 \nL 38.688248 273.671006 \nz\n\" clip-path=\"url(#pae04297fc5)\" style=\"fill: #1f77b4; fill-opacity: 0.75; stroke: #000000; stroke-width: 0.029649; stroke-linejoin: miter\"/>\n   </g>\n   <g id=\"patch_546\">\n    <path d=\"M 39.125205 273.671006 \nL 39.562161 273.671006 \nL 39.562161 273.671006 \nL 39.125205 273.671006 \nz\n\" clip-path=\"url(#pae04297fc5)\" style=\"fill: #1f77b4; fill-opacity: 0.75; stroke: #000000; stroke-width: 0.029649; stroke-linejoin: miter\"/>\n   </g>\n   <g id=\"patch_547\">\n    <path d=\"M 39.562161 273.671006 \nL 39.999117 273.671006 \nL 39.999117 273.671006 \nL 39.562161 273.671006 \nz\n\" clip-path=\"url(#pae04297fc5)\" style=\"fill: #1f77b4; fill-opacity: 0.75; stroke: #000000; stroke-width: 0.029649; stroke-linejoin: miter\"/>\n   </g>\n   <g id=\"patch_548\">\n    <path d=\"M 39.999117 273.671006 \nL 40.436074 273.671006 \nL 40.436074 273.671006 \nL 39.999117 273.671006 \nz\n\" clip-path=\"url(#pae04297fc5)\" style=\"fill: #1f77b4; fill-opacity: 0.75; stroke: #000000; stroke-width: 0.029649; stroke-linejoin: miter\"/>\n   </g>\n   <g id=\"patch_549\">\n    <path d=\"M 40.436074 273.671006 \nL 40.87303 273.671006 \nL 40.87303 273.671006 \nL 40.436074 273.671006 \nz\n\" clip-path=\"url(#pae04297fc5)\" style=\"fill: #1f77b4; fill-opacity: 0.75; stroke: #000000; stroke-width: 0.029649; stroke-linejoin: miter\"/>\n   </g>\n   <g id=\"patch_550\">\n    <path d=\"M 40.87303 273.671006 \nL 41.309986 273.671006 \nL 41.309986 273.671006 \nL 40.87303 273.671006 \nz\n\" clip-path=\"url(#pae04297fc5)\" style=\"fill: #1f77b4; fill-opacity: 0.75; stroke: #000000; stroke-width: 0.029649; stroke-linejoin: miter\"/>\n   </g>\n   <g id=\"patch_551\">\n    <path d=\"M 41.309986 273.671006 \nL 41.746943 273.671006 \nL 41.746943 273.671006 \nL 41.309986 273.671006 \nz\n\" clip-path=\"url(#pae04297fc5)\" style=\"fill: #1f77b4; fill-opacity: 0.75; stroke: #000000; stroke-width: 0.029649; stroke-linejoin: miter\"/>\n   </g>\n   <g id=\"patch_552\">\n    <path d=\"M 41.746943 273.671006 \nL 42.183899 273.671006 \nL 42.183899 273.671006 \nL 41.746943 273.671006 \nz\n\" clip-path=\"url(#pae04297fc5)\" style=\"fill: #1f77b4; fill-opacity: 0.75; stroke: #000000; stroke-width: 0.029649; stroke-linejoin: miter\"/>\n   </g>\n   <g id=\"patch_553\">\n    <path d=\"M 42.183899 273.671006 \nL 42.620856 273.671006 \nL 42.620856 273.671006 \nL 42.183899 273.671006 \nz\n\" clip-path=\"url(#pae04297fc5)\" style=\"fill: #1f77b4; fill-opacity: 0.75; stroke: #000000; stroke-width: 0.029649; stroke-linejoin: miter\"/>\n   </g>\n   <g id=\"patch_554\">\n    <path d=\"M 42.620856 273.671006 \nL 43.057812 273.671006 \nL 43.057812 273.671006 \nL 42.620856 273.671006 \nz\n\" clip-path=\"url(#pae04297fc5)\" style=\"fill: #1f77b4; fill-opacity: 0.75; stroke: #000000; stroke-width: 0.029649; stroke-linejoin: miter\"/>\n   </g>\n   <g id=\"patch_555\">\n    <path d=\"M 43.057812 273.671006 \nL 43.494768 273.671006 \nL 43.494768 273.671006 \nL 43.057812 273.671006 \nz\n\" clip-path=\"url(#pae04297fc5)\" style=\"fill: #1f77b4; fill-opacity: 0.75; stroke: #000000; stroke-width: 0.029649; stroke-linejoin: miter\"/>\n   </g>\n   <g id=\"patch_556\">\n    <path d=\"M 43.494768 273.671006 \nL 43.931725 273.671006 \nL 43.931725 273.671006 \nL 43.494768 273.671006 \nz\n\" clip-path=\"url(#pae04297fc5)\" style=\"fill: #1f77b4; fill-opacity: 0.75; stroke: #000000; stroke-width: 0.029649; stroke-linejoin: miter\"/>\n   </g>\n   <g id=\"patch_557\">\n    <path d=\"M 43.931725 273.671006 \nL 44.368681 273.671006 \nL 44.368681 273.671006 \nL 43.931725 273.671006 \nz\n\" clip-path=\"url(#pae04297fc5)\" style=\"fill: #1f77b4; fill-opacity: 0.75; stroke: #000000; stroke-width: 0.029649; stroke-linejoin: miter\"/>\n   </g>\n   <g id=\"patch_558\">\n    <path d=\"M 44.368681 273.671006 \nL 44.805637 273.671006 \nL 44.805637 273.671006 \nL 44.368681 273.671006 \nz\n\" clip-path=\"url(#pae04297fc5)\" style=\"fill: #1f77b4; fill-opacity: 0.75; stroke: #000000; stroke-width: 0.029649; stroke-linejoin: miter\"/>\n   </g>\n   <g id=\"patch_559\">\n    <path d=\"M 44.805637 273.671006 \nL 45.242594 273.671006 \nL 45.242594 273.670256 \nL 44.805637 273.670256 \nz\n\" clip-path=\"url(#pae04297fc5)\" style=\"fill: #1f77b4; fill-opacity: 0.75; stroke: #000000; stroke-width: 0.029649; stroke-linejoin: miter\"/>\n   </g>\n   <g id=\"patch_560\">\n    <path d=\"M 45.242594 273.671006 \nL 45.67955 273.671006 \nL 45.67955 273.671006 \nL 45.242594 273.671006 \nz\n\" clip-path=\"url(#pae04297fc5)\" style=\"fill: #1f77b4; fill-opacity: 0.75; stroke: #000000; stroke-width: 0.029649; stroke-linejoin: miter\"/>\n   </g>\n   <g id=\"patch_561\">\n    <path d=\"M 45.67955 273.671006 \nL 46.116507 273.671006 \nL 46.116507 273.671006 \nL 45.67955 273.671006 \nz\n\" clip-path=\"url(#pae04297fc5)\" style=\"fill: #1f77b4; fill-opacity: 0.75; stroke: #000000; stroke-width: 0.029649; stroke-linejoin: miter\"/>\n   </g>\n   <g id=\"patch_562\">\n    <path d=\"M 46.116507 273.671006 \nL 46.553463 273.671006 \nL 46.553463 273.671006 \nL 46.116507 273.671006 \nz\n\" clip-path=\"url(#pae04297fc5)\" style=\"fill: #1f77b4; fill-opacity: 0.75; stroke: #000000; stroke-width: 0.029649; stroke-linejoin: miter\"/>\n   </g>\n   <g id=\"patch_563\">\n    <path d=\"M 46.553463 273.671006 \nL 46.990419 273.671006 \nL 46.990419 273.671006 \nL 46.553463 273.671006 \nz\n\" clip-path=\"url(#pae04297fc5)\" style=\"fill: #1f77b4; fill-opacity: 0.75; stroke: #000000; stroke-width: 0.029649; stroke-linejoin: miter\"/>\n   </g>\n   <g id=\"patch_564\">\n    <path d=\"M 46.990419 273.671006 \nL 47.427376 273.671006 \nL 47.427376 273.671006 \nL 46.990419 273.671006 \nz\n\" clip-path=\"url(#pae04297fc5)\" style=\"fill: #1f77b4; fill-opacity: 0.75; stroke: #000000; stroke-width: 0.029649; stroke-linejoin: miter\"/>\n   </g>\n   <g id=\"patch_565\">\n    <path d=\"M 47.427376 273.671006 \nL 47.864332 273.671006 \nL 47.864332 273.671006 \nL 47.427376 273.671006 \nz\n\" clip-path=\"url(#pae04297fc5)\" style=\"fill: #1f77b4; fill-opacity: 0.75; stroke: #000000; stroke-width: 0.029649; stroke-linejoin: miter\"/>\n   </g>\n   <g id=\"patch_566\">\n    <path d=\"M 47.864332 273.671006 \nL 48.301288 273.671006 \nL 48.301288 273.671006 \nL 47.864332 273.671006 \nz\n\" clip-path=\"url(#pae04297fc5)\" style=\"fill: #1f77b4; fill-opacity: 0.75; stroke: #000000; stroke-width: 0.029649; stroke-linejoin: miter\"/>\n   </g>\n   <g id=\"patch_567\">\n    <path d=\"M 48.301288 273.671006 \nL 48.738245 273.671006 \nL 48.738245 273.671006 \nL 48.301288 273.671006 \nz\n\" clip-path=\"url(#pae04297fc5)\" style=\"fill: #1f77b4; fill-opacity: 0.75; stroke: #000000; stroke-width: 0.029649; stroke-linejoin: miter\"/>\n   </g>\n   <g id=\"patch_568\">\n    <path d=\"M 48.738245 273.671006 \nL 49.175201 273.671006 \nL 49.175201 273.671006 \nL 48.738245 273.671006 \nz\n\" clip-path=\"url(#pae04297fc5)\" style=\"fill: #1f77b4; fill-opacity: 0.75; stroke: #000000; stroke-width: 0.029649; stroke-linejoin: miter\"/>\n   </g>\n   <g id=\"patch_569\">\n    <path d=\"M 49.175201 273.671006 \nL 49.612158 273.671006 \nL 49.612158 273.671006 \nL 49.175201 273.671006 \nz\n\" clip-path=\"url(#pae04297fc5)\" style=\"fill: #1f77b4; fill-opacity: 0.75; stroke: #000000; stroke-width: 0.029649; stroke-linejoin: miter\"/>\n   </g>\n   <g id=\"patch_570\">\n    <path d=\"M 49.612158 273.671006 \nL 50.049114 273.671006 \nL 50.049114 273.671006 \nL 49.612158 273.671006 \nz\n\" clip-path=\"url(#pae04297fc5)\" style=\"fill: #1f77b4; fill-opacity: 0.75; stroke: #000000; stroke-width: 0.029649; stroke-linejoin: miter\"/>\n   </g>\n   <g id=\"patch_571\">\n    <path d=\"M 50.049114 273.671006 \nL 50.48607 273.671006 \nL 50.48607 273.667254 \nL 50.049114 273.667254 \nz\n\" clip-path=\"url(#pae04297fc5)\" style=\"fill: #1f77b4; fill-opacity: 0.75; stroke: #000000; stroke-width: 0.029649; stroke-linejoin: miter\"/>\n   </g>\n   <g id=\"patch_572\">\n    <path d=\"M 50.48607 273.671006 \nL 50.923027 273.671006 \nL 50.923027 273.671006 \nL 50.48607 273.671006 \nz\n\" clip-path=\"url(#pae04297fc5)\" style=\"fill: #1f77b4; fill-opacity: 0.75; stroke: #000000; stroke-width: 0.029649; stroke-linejoin: miter\"/>\n   </g>\n   <g id=\"patch_573\">\n    <path d=\"M 50.923027 273.671006 \nL 51.359983 273.671006 \nL 51.359983 273.671006 \nL 50.923027 273.671006 \nz\n\" clip-path=\"url(#pae04297fc5)\" style=\"fill: #1f77b4; fill-opacity: 0.75; stroke: #000000; stroke-width: 0.029649; stroke-linejoin: miter\"/>\n   </g>\n   <g id=\"patch_574\">\n    <path d=\"M 51.359983 273.671006 \nL 51.796939 273.671006 \nL 51.796939 273.671006 \nL 51.359983 273.671006 \nz\n\" clip-path=\"url(#pae04297fc5)\" style=\"fill: #1f77b4; fill-opacity: 0.75; stroke: #000000; stroke-width: 0.029649; stroke-linejoin: miter\"/>\n   </g>\n   <g id=\"patch_575\">\n    <path d=\"M 51.796939 273.671006 \nL 52.233896 273.671006 \nL 52.233896 273.671006 \nL 51.796939 273.671006 \nz\n\" clip-path=\"url(#pae04297fc5)\" style=\"fill: #1f77b4; fill-opacity: 0.75; stroke: #000000; stroke-width: 0.029649; stroke-linejoin: miter\"/>\n   </g>\n   <g id=\"patch_576\">\n    <path d=\"M 52.233896 273.671006 \nL 52.670852 273.671006 \nL 52.670852 273.671006 \nL 52.233896 273.671006 \nz\n\" clip-path=\"url(#pae04297fc5)\" style=\"fill: #1f77b4; fill-opacity: 0.75; stroke: #000000; stroke-width: 0.029649; stroke-linejoin: miter\"/>\n   </g>\n   <g id=\"patch_577\">\n    <path d=\"M 52.670852 273.671006 \nL 53.107809 273.671006 \nL 53.107809 273.671006 \nL 52.670852 273.671006 \nz\n\" clip-path=\"url(#pae04297fc5)\" style=\"fill: #1f77b4; fill-opacity: 0.75; stroke: #000000; stroke-width: 0.029649; stroke-linejoin: miter\"/>\n   </g>\n   <g id=\"patch_578\">\n    <path d=\"M 53.107809 273.671006 \nL 53.544765 273.671006 \nL 53.544765 273.671006 \nL 53.107809 273.671006 \nz\n\" clip-path=\"url(#pae04297fc5)\" style=\"fill: #1f77b4; fill-opacity: 0.75; stroke: #000000; stroke-width: 0.029649; stroke-linejoin: miter\"/>\n   </g>\n   <g id=\"patch_579\">\n    <path d=\"M 53.544765 273.671006 \nL 53.981721 273.671006 \nL 53.981721 273.671006 \nL 53.544765 273.671006 \nz\n\" clip-path=\"url(#pae04297fc5)\" style=\"fill: #1f77b4; fill-opacity: 0.75; stroke: #000000; stroke-width: 0.029649; stroke-linejoin: miter\"/>\n   </g>\n   <g id=\"patch_580\">\n    <path d=\"M 53.981721 273.671006 \nL 54.418678 273.671006 \nL 54.418678 273.671006 \nL 53.981721 273.671006 \nz\n\" clip-path=\"url(#pae04297fc5)\" style=\"fill: #1f77b4; fill-opacity: 0.75; stroke: #000000; stroke-width: 0.029649; stroke-linejoin: miter\"/>\n   </g>\n   <g id=\"patch_581\">\n    <path d=\"M 54.418678 273.671006 \nL 54.855634 273.671006 \nL 54.855634 273.671006 \nL 54.418678 273.671006 \nz\n\" clip-path=\"url(#pae04297fc5)\" style=\"fill: #1f77b4; fill-opacity: 0.75; stroke: #000000; stroke-width: 0.029649; stroke-linejoin: miter\"/>\n   </g>\n   <g id=\"patch_582\">\n    <path d=\"M 54.855634 273.671006 \nL 55.29259 273.671006 \nL 55.29259 273.671006 \nL 54.855634 273.671006 \nz\n\" clip-path=\"url(#pae04297fc5)\" style=\"fill: #1f77b4; fill-opacity: 0.75; stroke: #000000; stroke-width: 0.029649; stroke-linejoin: miter\"/>\n   </g>\n   <g id=\"patch_583\">\n    <path d=\"M 55.29259 273.671006 \nL 55.729547 273.671006 \nL 55.729547 273.671006 \nL 55.29259 273.671006 \nz\n\" clip-path=\"url(#pae04297fc5)\" style=\"fill: #1f77b4; fill-opacity: 0.75; stroke: #000000; stroke-width: 0.029649; stroke-linejoin: miter\"/>\n   </g>\n   <g id=\"patch_584\">\n    <path d=\"M 55.729547 273.671006 \nL 56.166503 273.671006 \nL 56.166503 273.671006 \nL 55.729547 273.671006 \nz\n\" clip-path=\"url(#pae04297fc5)\" style=\"fill: #1f77b4; fill-opacity: 0.75; stroke: #000000; stroke-width: 0.029649; stroke-linejoin: miter\"/>\n   </g>\n   <g id=\"patch_585\">\n    <path d=\"M 56.166503 273.671006 \nL 56.60346 273.671006 \nL 56.60346 273.671006 \nL 56.166503 273.671006 \nz\n\" clip-path=\"url(#pae04297fc5)\" style=\"fill: #1f77b4; fill-opacity: 0.75; stroke: #000000; stroke-width: 0.029649; stroke-linejoin: miter\"/>\n   </g>\n   <g id=\"patch_586\">\n    <path d=\"M 56.60346 273.671006 \nL 57.040416 273.671006 \nL 57.040416 273.671006 \nL 56.60346 273.671006 \nz\n\" clip-path=\"url(#pae04297fc5)\" style=\"fill: #1f77b4; fill-opacity: 0.75; stroke: #000000; stroke-width: 0.029649; stroke-linejoin: miter\"/>\n   </g>\n   <g id=\"patch_587\">\n    <path d=\"M 57.040416 273.671006 \nL 57.477372 273.671006 \nL 57.477372 273.671006 \nL 57.040416 273.671006 \nz\n\" clip-path=\"url(#pae04297fc5)\" style=\"fill: #1f77b4; fill-opacity: 0.75; stroke: #000000; stroke-width: 0.029649; stroke-linejoin: miter\"/>\n   </g>\n   <g id=\"patch_588\">\n    <path d=\"M 57.477372 273.671006 \nL 57.914329 273.671006 \nL 57.914329 273.671006 \nL 57.477372 273.671006 \nz\n\" clip-path=\"url(#pae04297fc5)\" style=\"fill: #1f77b4; fill-opacity: 0.75; stroke: #000000; stroke-width: 0.029649; stroke-linejoin: miter\"/>\n   </g>\n   <g id=\"patch_589\">\n    <path d=\"M 57.914329 273.671006 \nL 58.351285 273.671006 \nL 58.351285 273.671006 \nL 57.914329 273.671006 \nz\n\" clip-path=\"url(#pae04297fc5)\" style=\"fill: #1f77b4; fill-opacity: 0.75; stroke: #000000; stroke-width: 0.029649; stroke-linejoin: miter\"/>\n   </g>\n   <g id=\"patch_590\">\n    <path d=\"M 58.351285 273.671006 \nL 58.788242 273.671006 \nL 58.788242 273.671006 \nL 58.351285 273.671006 \nz\n\" clip-path=\"url(#pae04297fc5)\" style=\"fill: #1f77b4; fill-opacity: 0.75; stroke: #000000; stroke-width: 0.029649; stroke-linejoin: miter\"/>\n   </g>\n   <g id=\"patch_591\">\n    <path d=\"M 58.788242 273.671006 \nL 59.225198 273.671006 \nL 59.225198 273.668004 \nL 58.788242 273.668004 \nz\n\" clip-path=\"url(#pae04297fc5)\" style=\"fill: #1f77b4; fill-opacity: 0.75; stroke: #000000; stroke-width: 0.029649; stroke-linejoin: miter\"/>\n   </g>\n   <g id=\"patch_592\">\n    <path d=\"M 59.225198 273.671006 \nL 59.662154 273.671006 \nL 59.662154 273.671006 \nL 59.225198 273.671006 \nz\n\" clip-path=\"url(#pae04297fc5)\" style=\"fill: #1f77b4; fill-opacity: 0.75; stroke: #000000; stroke-width: 0.029649; stroke-linejoin: miter\"/>\n   </g>\n   <g id=\"patch_593\">\n    <path d=\"M 59.662154 273.671006 \nL 60.099111 273.671006 \nL 60.099111 273.671006 \nL 59.662154 273.671006 \nz\n\" clip-path=\"url(#pae04297fc5)\" style=\"fill: #1f77b4; fill-opacity: 0.75; stroke: #000000; stroke-width: 0.029649; stroke-linejoin: miter\"/>\n   </g>\n   <g id=\"patch_594\">\n    <path d=\"M 60.099111 273.671006 \nL 60.536067 273.671006 \nL 60.536067 273.671006 \nL 60.099111 273.671006 \nz\n\" clip-path=\"url(#pae04297fc5)\" style=\"fill: #1f77b4; fill-opacity: 0.75; stroke: #000000; stroke-width: 0.029649; stroke-linejoin: miter\"/>\n   </g>\n   <g id=\"patch_595\">\n    <path d=\"M 60.536067 273.671006 \nL 60.973023 273.671006 \nL 60.973023 273.671006 \nL 60.536067 273.671006 \nz\n\" clip-path=\"url(#pae04297fc5)\" style=\"fill: #1f77b4; fill-opacity: 0.75; stroke: #000000; stroke-width: 0.029649; stroke-linejoin: miter\"/>\n   </g>\n   <g id=\"patch_596\">\n    <path d=\"M 60.973023 273.671006 \nL 61.40998 273.671006 \nL 61.40998 273.671006 \nL 60.973023 273.671006 \nz\n\" clip-path=\"url(#pae04297fc5)\" style=\"fill: #1f77b4; fill-opacity: 0.75; stroke: #000000; stroke-width: 0.029649; stroke-linejoin: miter\"/>\n   </g>\n   <g id=\"patch_597\">\n    <path d=\"M 61.40998 273.671006 \nL 61.846936 273.671006 \nL 61.846936 273.671006 \nL 61.40998 273.671006 \nz\n\" clip-path=\"url(#pae04297fc5)\" style=\"fill: #1f77b4; fill-opacity: 0.75; stroke: #000000; stroke-width: 0.029649; stroke-linejoin: miter\"/>\n   </g>\n   <g id=\"patch_598\">\n    <path d=\"M 61.846936 273.671006 \nL 62.283893 273.671006 \nL 62.283893 273.671006 \nL 61.846936 273.671006 \nz\n\" clip-path=\"url(#pae04297fc5)\" style=\"fill: #1f77b4; fill-opacity: 0.75; stroke: #000000; stroke-width: 0.029649; stroke-linejoin: miter\"/>\n   </g>\n   <g id=\"patch_599\">\n    <path d=\"M 62.283893 273.671006 \nL 62.720849 273.671006 \nL 62.720849 273.671006 \nL 62.283893 273.671006 \nz\n\" clip-path=\"url(#pae04297fc5)\" style=\"fill: #1f77b4; fill-opacity: 0.75; stroke: #000000; stroke-width: 0.029649; stroke-linejoin: miter\"/>\n   </g>\n   <g id=\"patch_600\">\n    <path d=\"M 62.720849 273.671006 \nL 63.157805 273.671006 \nL 63.157805 273.671006 \nL 62.720849 273.671006 \nz\n\" clip-path=\"url(#pae04297fc5)\" style=\"fill: #1f77b4; fill-opacity: 0.75; stroke: #000000; stroke-width: 0.029649; stroke-linejoin: miter\"/>\n   </g>\n   <g id=\"patch_601\">\n    <path d=\"M 63.157805 273.671006 \nL 63.594762 273.671006 \nL 63.594762 273.671006 \nL 63.157805 273.671006 \nz\n\" clip-path=\"url(#pae04297fc5)\" style=\"fill: #1f77b4; fill-opacity: 0.75; stroke: #000000; stroke-width: 0.029649; stroke-linejoin: miter\"/>\n   </g>\n   <g id=\"patch_602\">\n    <path d=\"M 63.594762 273.671006 \nL 64.031718 273.671006 \nL 64.031718 273.671006 \nL 63.594762 273.671006 \nz\n\" clip-path=\"url(#pae04297fc5)\" style=\"fill: #1f77b4; fill-opacity: 0.75; stroke: #000000; stroke-width: 0.029649; stroke-linejoin: miter\"/>\n   </g>\n   <g id=\"patch_603\">\n    <path d=\"M 64.031718 273.671006 \nL 64.468674 273.671006 \nL 64.468674 273.671006 \nL 64.031718 273.671006 \nz\n\" clip-path=\"url(#pae04297fc5)\" style=\"fill: #1f77b4; fill-opacity: 0.75; stroke: #000000; stroke-width: 0.029649; stroke-linejoin: miter\"/>\n   </g>\n   <g id=\"patch_604\">\n    <path d=\"M 64.468674 273.671006 \nL 64.905631 273.671006 \nL 64.905631 273.671006 \nL 64.468674 273.671006 \nz\n\" clip-path=\"url(#pae04297fc5)\" style=\"fill: #1f77b4; fill-opacity: 0.75; stroke: #000000; stroke-width: 0.029649; stroke-linejoin: miter\"/>\n   </g>\n   <g id=\"patch_605\">\n    <path d=\"M 64.905631 273.671006 \nL 65.342587 273.671006 \nL 65.342587 273.671006 \nL 64.905631 273.671006 \nz\n\" clip-path=\"url(#pae04297fc5)\" style=\"fill: #1f77b4; fill-opacity: 0.75; stroke: #000000; stroke-width: 0.029649; stroke-linejoin: miter\"/>\n   </g>\n   <g id=\"patch_606\">\n    <path d=\"M 65.342587 273.671006 \nL 65.779544 273.671006 \nL 65.779544 273.671006 \nL 65.342587 273.671006 \nz\n\" clip-path=\"url(#pae04297fc5)\" style=\"fill: #1f77b4; fill-opacity: 0.75; stroke: #000000; stroke-width: 0.029649; stroke-linejoin: miter\"/>\n   </g>\n   <g id=\"patch_607\">\n    <path d=\"M 65.779544 273.671006 \nL 66.2165 273.671006 \nL 66.2165 273.667254 \nL 65.779544 273.667254 \nz\n\" clip-path=\"url(#pae04297fc5)\" style=\"fill: #1f77b4; fill-opacity: 0.75; stroke: #000000; stroke-width: 0.029649; stroke-linejoin: miter\"/>\n   </g>\n   <g id=\"patch_608\">\n    <path d=\"M 66.2165 273.671006 \nL 66.653456 273.671006 \nL 66.653456 273.671006 \nL 66.2165 273.671006 \nz\n\" clip-path=\"url(#pae04297fc5)\" style=\"fill: #1f77b4; fill-opacity: 0.75; stroke: #000000; stroke-width: 0.029649; stroke-linejoin: miter\"/>\n   </g>\n   <g id=\"patch_609\">\n    <path d=\"M 66.653456 273.671006 \nL 67.090413 273.671006 \nL 67.090413 273.671006 \nL 66.653456 273.671006 \nz\n\" clip-path=\"url(#pae04297fc5)\" style=\"fill: #1f77b4; fill-opacity: 0.75; stroke: #000000; stroke-width: 0.029649; stroke-linejoin: miter\"/>\n   </g>\n   <g id=\"patch_610\">\n    <path d=\"M 67.090413 273.671006 \nL 67.527369 273.671006 \nL 67.527369 273.671006 \nL 67.090413 273.671006 \nz\n\" clip-path=\"url(#pae04297fc5)\" style=\"fill: #1f77b4; fill-opacity: 0.75; stroke: #000000; stroke-width: 0.029649; stroke-linejoin: miter\"/>\n   </g>\n   <g id=\"patch_611\">\n    <path d=\"M 67.527369 273.671006 \nL 67.964325 273.671006 \nL 67.964325 273.671006 \nL 67.527369 273.671006 \nz\n\" clip-path=\"url(#pae04297fc5)\" style=\"fill: #1f77b4; fill-opacity: 0.75; stroke: #000000; stroke-width: 0.029649; stroke-linejoin: miter\"/>\n   </g>\n   <g id=\"patch_612\">\n    <path d=\"M 67.964325 273.671006 \nL 68.401282 273.671006 \nL 68.401282 273.671006 \nL 67.964325 273.671006 \nz\n\" clip-path=\"url(#pae04297fc5)\" style=\"fill: #1f77b4; fill-opacity: 0.75; stroke: #000000; stroke-width: 0.029649; stroke-linejoin: miter\"/>\n   </g>\n   <g id=\"patch_613\">\n    <path d=\"M 68.401282 273.671006 \nL 68.838238 273.671006 \nL 68.838238 273.671006 \nL 68.401282 273.671006 \nz\n\" clip-path=\"url(#pae04297fc5)\" style=\"fill: #1f77b4; fill-opacity: 0.75; stroke: #000000; stroke-width: 0.029649; stroke-linejoin: miter\"/>\n   </g>\n   <g id=\"patch_614\">\n    <path d=\"M 68.838238 273.671006 \nL 69.275195 273.671006 \nL 69.275195 273.671006 \nL 68.838238 273.671006 \nz\n\" clip-path=\"url(#pae04297fc5)\" style=\"fill: #1f77b4; fill-opacity: 0.75; stroke: #000000; stroke-width: 0.029649; stroke-linejoin: miter\"/>\n   </g>\n   <g id=\"patch_615\">\n    <path d=\"M 69.275195 273.671006 \nL 69.712151 273.671006 \nL 69.712151 273.670256 \nL 69.275195 273.670256 \nz\n\" clip-path=\"url(#pae04297fc5)\" style=\"fill: #1f77b4; fill-opacity: 0.75; stroke: #000000; stroke-width: 0.029649; stroke-linejoin: miter\"/>\n   </g>\n   <g id=\"patch_616\">\n    <path d=\"M 69.712151 273.671006 \nL 70.149107 273.671006 \nL 70.149107 273.671006 \nL 69.712151 273.671006 \nz\n\" clip-path=\"url(#pae04297fc5)\" style=\"fill: #1f77b4; fill-opacity: 0.75; stroke: #000000; stroke-width: 0.029649; stroke-linejoin: miter\"/>\n   </g>\n   <g id=\"patch_617\">\n    <path d=\"M 70.149107 273.671006 \nL 70.586064 273.671006 \nL 70.586064 273.671006 \nL 70.149107 273.671006 \nz\n\" clip-path=\"url(#pae04297fc5)\" style=\"fill: #1f77b4; fill-opacity: 0.75; stroke: #000000; stroke-width: 0.029649; stroke-linejoin: miter\"/>\n   </g>\n   <g id=\"patch_618\">\n    <path d=\"M 70.586064 273.671006 \nL 71.02302 273.671006 \nL 71.02302 273.671006 \nL 70.586064 273.671006 \nz\n\" clip-path=\"url(#pae04297fc5)\" style=\"fill: #1f77b4; fill-opacity: 0.75; stroke: #000000; stroke-width: 0.029649; stroke-linejoin: miter\"/>\n   </g>\n   <g id=\"patch_619\">\n    <path d=\"M 71.02302 273.671006 \nL 71.459976 273.671006 \nL 71.459976 273.671006 \nL 71.02302 273.671006 \nz\n\" clip-path=\"url(#pae04297fc5)\" style=\"fill: #1f77b4; fill-opacity: 0.75; stroke: #000000; stroke-width: 0.029649; stroke-linejoin: miter\"/>\n   </g>\n   <g id=\"patch_620\">\n    <path d=\"M 71.459976 273.671006 \nL 71.896933 273.671006 \nL 71.896933 273.670256 \nL 71.459976 273.670256 \nz\n\" clip-path=\"url(#pae04297fc5)\" style=\"fill: #1f77b4; fill-opacity: 0.75; stroke: #000000; stroke-width: 0.029649; stroke-linejoin: miter\"/>\n   </g>\n   <g id=\"patch_621\">\n    <path d=\"M 71.896933 273.671006 \nL 72.333889 273.671006 \nL 72.333889 273.671006 \nL 71.896933 273.671006 \nz\n\" clip-path=\"url(#pae04297fc5)\" style=\"fill: #1f77b4; fill-opacity: 0.75; stroke: #000000; stroke-width: 0.029649; stroke-linejoin: miter\"/>\n   </g>\n   <g id=\"patch_622\">\n    <path d=\"M 72.333889 273.671006 \nL 72.770846 273.671006 \nL 72.770846 273.671006 \nL 72.333889 273.671006 \nz\n\" clip-path=\"url(#pae04297fc5)\" style=\"fill: #1f77b4; fill-opacity: 0.75; stroke: #000000; stroke-width: 0.029649; stroke-linejoin: miter\"/>\n   </g>\n   <g id=\"patch_623\">\n    <path d=\"M 72.770846 273.671006 \nL 73.207802 273.671006 \nL 73.207802 273.671006 \nL 72.770846 273.671006 \nz\n\" clip-path=\"url(#pae04297fc5)\" style=\"fill: #1f77b4; fill-opacity: 0.75; stroke: #000000; stroke-width: 0.029649; stroke-linejoin: miter\"/>\n   </g>\n   <g id=\"patch_624\">\n    <path d=\"M 73.207802 273.671006 \nL 73.644758 273.671006 \nL 73.644758 273.671006 \nL 73.207802 273.671006 \nz\n\" clip-path=\"url(#pae04297fc5)\" style=\"fill: #1f77b4; fill-opacity: 0.75; stroke: #000000; stroke-width: 0.029649; stroke-linejoin: miter\"/>\n   </g>\n   <g id=\"patch_625\">\n    <path d=\"M 73.644758 273.671006 \nL 74.081715 273.671006 \nL 74.081715 273.671006 \nL 73.644758 273.671006 \nz\n\" clip-path=\"url(#pae04297fc5)\" style=\"fill: #1f77b4; fill-opacity: 0.75; stroke: #000000; stroke-width: 0.029649; stroke-linejoin: miter\"/>\n   </g>\n   <g id=\"patch_626\">\n    <path d=\"M 74.081715 273.671006 \nL 74.518671 273.671006 \nL 74.518671 273.671006 \nL 74.081715 273.671006 \nz\n\" clip-path=\"url(#pae04297fc5)\" style=\"fill: #1f77b4; fill-opacity: 0.75; stroke: #000000; stroke-width: 0.029649; stroke-linejoin: miter\"/>\n   </g>\n   <g id=\"patch_627\">\n    <path d=\"M 74.518671 273.671006 \nL 74.955627 273.671006 \nL 74.955627 273.671006 \nL 74.518671 273.671006 \nz\n\" clip-path=\"url(#pae04297fc5)\" style=\"fill: #1f77b4; fill-opacity: 0.75; stroke: #000000; stroke-width: 0.029649; stroke-linejoin: miter\"/>\n   </g>\n   <g id=\"patch_628\">\n    <path d=\"M 74.955627 273.671006 \nL 75.392584 273.671006 \nL 75.392584 273.671006 \nL 74.955627 273.671006 \nz\n\" clip-path=\"url(#pae04297fc5)\" style=\"fill: #1f77b4; fill-opacity: 0.75; stroke: #000000; stroke-width: 0.029649; stroke-linejoin: miter\"/>\n   </g>\n   <g id=\"patch_629\">\n    <path d=\"M 75.392584 273.671006 \nL 75.82954 273.671006 \nL 75.82954 273.671006 \nL 75.392584 273.671006 \nz\n\" clip-path=\"url(#pae04297fc5)\" style=\"fill: #1f77b4; fill-opacity: 0.75; stroke: #000000; stroke-width: 0.029649; stroke-linejoin: miter\"/>\n   </g>\n   <g id=\"patch_630\">\n    <path d=\"M 75.82954 273.671006 \nL 76.266497 273.671006 \nL 76.266497 273.671006 \nL 75.82954 273.671006 \nz\n\" clip-path=\"url(#pae04297fc5)\" style=\"fill: #1f77b4; fill-opacity: 0.75; stroke: #000000; stroke-width: 0.029649; stroke-linejoin: miter\"/>\n   </g>\n   <g id=\"patch_631\">\n    <path d=\"M 76.266497 273.671006 \nL 76.703453 273.671006 \nL 76.703453 273.668755 \nL 76.266497 273.668755 \nz\n\" clip-path=\"url(#pae04297fc5)\" style=\"fill: #1f77b4; fill-opacity: 0.75; stroke: #000000; stroke-width: 0.029649; stroke-linejoin: miter\"/>\n   </g>\n   <g id=\"patch_632\">\n    <path d=\"M 76.703453 273.671006 \nL 77.140409 273.671006 \nL 77.140409 273.671006 \nL 76.703453 273.671006 \nz\n\" clip-path=\"url(#pae04297fc5)\" style=\"fill: #1f77b4; fill-opacity: 0.75; stroke: #000000; stroke-width: 0.029649; stroke-linejoin: miter\"/>\n   </g>\n   <g id=\"patch_633\">\n    <path d=\"M 77.140409 273.671006 \nL 77.577366 273.671006 \nL 77.577366 273.671006 \nL 77.140409 273.671006 \nz\n\" clip-path=\"url(#pae04297fc5)\" style=\"fill: #1f77b4; fill-opacity: 0.75; stroke: #000000; stroke-width: 0.029649; stroke-linejoin: miter\"/>\n   </g>\n   <g id=\"patch_634\">\n    <path d=\"M 77.577366 273.671006 \nL 78.014322 273.671006 \nL 78.014322 273.671006 \nL 77.577366 273.671006 \nz\n\" clip-path=\"url(#pae04297fc5)\" style=\"fill: #1f77b4; fill-opacity: 0.75; stroke: #000000; stroke-width: 0.029649; stroke-linejoin: miter\"/>\n   </g>\n   <g id=\"patch_635\">\n    <path d=\"M 78.014322 273.671006 \nL 78.451278 273.671006 \nL 78.451278 273.671006 \nL 78.014322 273.671006 \nz\n\" clip-path=\"url(#pae04297fc5)\" style=\"fill: #1f77b4; fill-opacity: 0.75; stroke: #000000; stroke-width: 0.029649; stroke-linejoin: miter\"/>\n   </g>\n   <g id=\"patch_636\">\n    <path d=\"M 78.451278 273.671006 \nL 78.888235 273.671006 \nL 78.888235 273.671006 \nL 78.451278 273.671006 \nz\n\" clip-path=\"url(#pae04297fc5)\" style=\"fill: #1f77b4; fill-opacity: 0.75; stroke: #000000; stroke-width: 0.029649; stroke-linejoin: miter\"/>\n   </g>\n   <g id=\"patch_637\">\n    <path d=\"M 78.888235 273.671006 \nL 79.325191 273.671006 \nL 79.325191 273.671006 \nL 78.888235 273.671006 \nz\n\" clip-path=\"url(#pae04297fc5)\" style=\"fill: #1f77b4; fill-opacity: 0.75; stroke: #000000; stroke-width: 0.029649; stroke-linejoin: miter\"/>\n   </g>\n   <g id=\"patch_638\">\n    <path d=\"M 79.325191 273.671006 \nL 79.762148 273.671006 \nL 79.762148 273.671006 \nL 79.325191 273.671006 \nz\n\" clip-path=\"url(#pae04297fc5)\" style=\"fill: #1f77b4; fill-opacity: 0.75; stroke: #000000; stroke-width: 0.029649; stroke-linejoin: miter\"/>\n   </g>\n   <g id=\"patch_639\">\n    <path d=\"M 79.762148 273.671006 \nL 80.199104 273.671006 \nL 80.199104 273.671006 \nL 79.762148 273.671006 \nz\n\" clip-path=\"url(#pae04297fc5)\" style=\"fill: #1f77b4; fill-opacity: 0.75; stroke: #000000; stroke-width: 0.029649; stroke-linejoin: miter\"/>\n   </g>\n   <g id=\"patch_640\">\n    <path d=\"M 80.199104 273.671006 \nL 80.63606 273.671006 \nL 80.63606 273.662751 \nL 80.199104 273.662751 \nz\n\" clip-path=\"url(#pae04297fc5)\" style=\"fill: #1f77b4; fill-opacity: 0.75; stroke: #000000; stroke-width: 0.029649; stroke-linejoin: miter\"/>\n   </g>\n   <g id=\"patch_641\">\n    <path d=\"M 80.63606 273.671006 \nL 81.073017 273.671006 \nL 81.073017 273.671006 \nL 80.63606 273.671006 \nz\n\" clip-path=\"url(#pae04297fc5)\" style=\"fill: #1f77b4; fill-opacity: 0.75; stroke: #000000; stroke-width: 0.029649; stroke-linejoin: miter\"/>\n   </g>\n   <g id=\"patch_642\">\n    <path d=\"M 81.073017 273.671006 \nL 81.509973 273.671006 \nL 81.509973 273.671006 \nL 81.073017 273.671006 \nz\n\" clip-path=\"url(#pae04297fc5)\" style=\"fill: #1f77b4; fill-opacity: 0.75; stroke: #000000; stroke-width: 0.029649; stroke-linejoin: miter\"/>\n   </g>\n   <g id=\"patch_643\">\n    <path d=\"M 81.509973 273.671006 \nL 81.94693 273.671006 \nL 81.94693 273.671006 \nL 81.509973 273.671006 \nz\n\" clip-path=\"url(#pae04297fc5)\" style=\"fill: #1f77b4; fill-opacity: 0.75; stroke: #000000; stroke-width: 0.029649; stroke-linejoin: miter\"/>\n   </g>\n   <g id=\"patch_644\">\n    <path d=\"M 81.94693 273.671006 \nL 82.383886 273.671006 \nL 82.383886 273.671006 \nL 81.94693 273.671006 \nz\n\" clip-path=\"url(#pae04297fc5)\" style=\"fill: #1f77b4; fill-opacity: 0.75; stroke: #000000; stroke-width: 0.029649; stroke-linejoin: miter\"/>\n   </g>\n   <g id=\"patch_645\">\n    <path d=\"M 82.383886 273.671006 \nL 82.820842 273.671006 \nL 82.820842 273.671006 \nL 82.383886 273.671006 \nz\n\" clip-path=\"url(#pae04297fc5)\" style=\"fill: #1f77b4; fill-opacity: 0.75; stroke: #000000; stroke-width: 0.029649; stroke-linejoin: miter\"/>\n   </g>\n   <g id=\"patch_646\">\n    <path d=\"M 82.820842 273.671006 \nL 83.257799 273.671006 \nL 83.257799 273.671006 \nL 82.820842 273.671006 \nz\n\" clip-path=\"url(#pae04297fc5)\" style=\"fill: #1f77b4; fill-opacity: 0.75; stroke: #000000; stroke-width: 0.029649; stroke-linejoin: miter\"/>\n   </g>\n   <g id=\"patch_647\">\n    <path d=\"M 83.257799 273.671006 \nL 83.694755 273.671006 \nL 83.694755 273.671006 \nL 83.257799 273.671006 \nz\n\" clip-path=\"url(#pae04297fc5)\" style=\"fill: #1f77b4; fill-opacity: 0.75; stroke: #000000; stroke-width: 0.029649; stroke-linejoin: miter\"/>\n   </g>\n   <g id=\"patch_648\">\n    <path d=\"M 83.694755 273.671006 \nL 84.131711 273.671006 \nL 84.131711 273.671006 \nL 83.694755 273.671006 \nz\n\" clip-path=\"url(#pae04297fc5)\" style=\"fill: #1f77b4; fill-opacity: 0.75; stroke: #000000; stroke-width: 0.029649; stroke-linejoin: miter\"/>\n   </g>\n   <g id=\"patch_649\">\n    <path d=\"M 84.131711 273.671006 \nL 84.568668 273.671006 \nL 84.568668 273.668004 \nL 84.131711 273.668004 \nz\n\" clip-path=\"url(#pae04297fc5)\" style=\"fill: #1f77b4; fill-opacity: 0.75; stroke: #000000; stroke-width: 0.029649; stroke-linejoin: miter\"/>\n   </g>\n   <g id=\"patch_650\">\n    <path d=\"M 84.568668 273.671006 \nL 85.005624 273.671006 \nL 85.005624 273.671006 \nL 84.568668 273.671006 \nz\n\" clip-path=\"url(#pae04297fc5)\" style=\"fill: #1f77b4; fill-opacity: 0.75; stroke: #000000; stroke-width: 0.029649; stroke-linejoin: miter\"/>\n   </g>\n   <g id=\"patch_651\">\n    <path d=\"M 85.005624 273.671006 \nL 85.442581 273.671006 \nL 85.442581 273.671006 \nL 85.005624 273.671006 \nz\n\" clip-path=\"url(#pae04297fc5)\" style=\"fill: #1f77b4; fill-opacity: 0.75; stroke: #000000; stroke-width: 0.029649; stroke-linejoin: miter\"/>\n   </g>\n   <g id=\"patch_652\">\n    <path d=\"M 85.442581 273.671006 \nL 85.879537 273.671006 \nL 85.879537 273.671006 \nL 85.442581 273.671006 \nz\n\" clip-path=\"url(#pae04297fc5)\" style=\"fill: #1f77b4; fill-opacity: 0.75; stroke: #000000; stroke-width: 0.029649; stroke-linejoin: miter\"/>\n   </g>\n   <g id=\"patch_653\">\n    <path d=\"M 85.879537 273.671006 \nL 86.316493 273.671006 \nL 86.316493 273.670256 \nL 85.879537 273.670256 \nz\n\" clip-path=\"url(#pae04297fc5)\" style=\"fill: #1f77b4; fill-opacity: 0.75; stroke: #000000; stroke-width: 0.029649; stroke-linejoin: miter\"/>\n   </g>\n   <g id=\"patch_654\">\n    <path d=\"M 86.316493 273.671006 \nL 86.75345 273.671006 \nL 86.75345 273.671006 \nL 86.316493 273.671006 \nz\n\" clip-path=\"url(#pae04297fc5)\" style=\"fill: #1f77b4; fill-opacity: 0.75; stroke: #000000; stroke-width: 0.029649; stroke-linejoin: miter\"/>\n   </g>\n   <g id=\"patch_655\">\n    <path d=\"M 86.75345 273.671006 \nL 87.190406 273.671006 \nL 87.190406 273.671006 \nL 86.75345 273.671006 \nz\n\" clip-path=\"url(#pae04297fc5)\" style=\"fill: #1f77b4; fill-opacity: 0.75; stroke: #000000; stroke-width: 0.029649; stroke-linejoin: miter\"/>\n   </g>\n   <g id=\"patch_656\">\n    <path d=\"M 87.190406 273.671006 \nL 87.627362 273.671006 \nL 87.627362 270.842406 \nL 87.190406 270.842406 \nz\n\" clip-path=\"url(#pae04297fc5)\" style=\"fill: #1f77b4; fill-opacity: 0.75; stroke: #000000; stroke-width: 0.029649; stroke-linejoin: miter\"/>\n   </g>\n   <g id=\"patch_657\">\n    <path d=\"M 87.627362 273.671006 \nL 88.064319 273.671006 \nL 88.064319 273.316024 \nL 87.627362 273.316024 \nz\n\" clip-path=\"url(#pae04297fc5)\" style=\"fill: #1f77b4; fill-opacity: 0.75; stroke: #000000; stroke-width: 0.029649; stroke-linejoin: miter\"/>\n   </g>\n   <g id=\"patch_658\">\n    <path d=\"M 88.064319 273.671006 \nL 88.501275 273.671006 \nL 88.501275 273.144912 \nL 88.064319 273.144912 \nz\n\" clip-path=\"url(#pae04297fc5)\" style=\"fill: #1f77b4; fill-opacity: 0.75; stroke: #000000; stroke-width: 0.029649; stroke-linejoin: miter\"/>\n   </g>\n   <g id=\"patch_659\">\n    <path d=\"M 88.501275 273.671006 \nL 88.938232 273.671006 \nL 88.938232 273.132904 \nL 88.501275 273.132904 \nz\n\" clip-path=\"url(#pae04297fc5)\" style=\"fill: #1f77b4; fill-opacity: 0.75; stroke: #000000; stroke-width: 0.029649; stroke-linejoin: miter\"/>\n   </g>\n   <g id=\"patch_660\">\n    <path d=\"M 88.938232 273.671006 \nL 89.375188 273.671006 \nL 89.375188 272.88149 \nL 88.938232 272.88149 \nz\n\" clip-path=\"url(#pae04297fc5)\" style=\"fill: #1f77b4; fill-opacity: 0.75; stroke: #000000; stroke-width: 0.029649; stroke-linejoin: miter\"/>\n   </g>\n   <g id=\"patch_661\">\n    <path d=\"M 89.375188 273.671006 \nL 89.812144 273.671006 \nL 89.812144 273.274747 \nL 89.375188 273.274747 \nz\n\" clip-path=\"url(#pae04297fc5)\" style=\"fill: #1f77b4; fill-opacity: 0.75; stroke: #000000; stroke-width: 0.029649; stroke-linejoin: miter\"/>\n   </g>\n   <g id=\"patch_662\">\n    <path d=\"M 89.812144 273.671006 \nL 90.249101 273.671006 \nL 90.249101 272.840963 \nL 89.812144 272.840963 \nz\n\" clip-path=\"url(#pae04297fc5)\" style=\"fill: #1f77b4; fill-opacity: 0.75; stroke: #000000; stroke-width: 0.029649; stroke-linejoin: miter\"/>\n   </g>\n   <g id=\"patch_663\">\n    <path d=\"M 90.249101 273.671006 \nL 90.686057 273.671006 \nL 90.686057 272.170025 \nL 90.249101 272.170025 \nz\n\" clip-path=\"url(#pae04297fc5)\" style=\"fill: #1f77b4; fill-opacity: 0.75; stroke: #000000; stroke-width: 0.029649; stroke-linejoin: miter\"/>\n   </g>\n   <g id=\"patch_664\">\n    <path d=\"M 90.686057 273.671006 \nL 91.123013 273.671006 \nL 91.123013 273.039093 \nL 90.686057 273.039093 \nz\n\" clip-path=\"url(#pae04297fc5)\" style=\"fill: #1f77b4; fill-opacity: 0.75; stroke: #000000; stroke-width: 0.029649; stroke-linejoin: miter\"/>\n   </g>\n   <g id=\"patch_665\">\n    <path d=\"M 91.123013 273.671006 \nL 91.55997 273.671006 \nL 91.55997 273.207203 \nL 91.123013 273.207203 \nz\n\" clip-path=\"url(#pae04297fc5)\" style=\"fill: #1f77b4; fill-opacity: 0.75; stroke: #000000; stroke-width: 0.029649; stroke-linejoin: miter\"/>\n   </g>\n   <g id=\"patch_666\">\n    <path d=\"M 91.55997 273.671006 \nL 91.996926 273.671006 \nL 91.996926 272.841714 \nL 91.55997 272.841714 \nz\n\" clip-path=\"url(#pae04297fc5)\" style=\"fill: #1f77b4; fill-opacity: 0.75; stroke: #000000; stroke-width: 0.029649; stroke-linejoin: miter\"/>\n   </g>\n   <g id=\"patch_667\">\n    <path d=\"M 91.996926 273.671006 \nL 92.433883 273.671006 \nL 92.433883 272.975301 \nL 91.996926 272.975301 \nz\n\" clip-path=\"url(#pae04297fc5)\" style=\"fill: #1f77b4; fill-opacity: 0.75; stroke: #000000; stroke-width: 0.029649; stroke-linejoin: miter\"/>\n   </g>\n   <g id=\"patch_668\">\n    <path d=\"M 92.433883 273.671006 \nL 92.870839 273.671006 \nL 92.870839 273.182437 \nL 92.433883 273.182437 \nz\n\" clip-path=\"url(#pae04297fc5)\" style=\"fill: #1f77b4; fill-opacity: 0.75; stroke: #000000; stroke-width: 0.029649; stroke-linejoin: miter\"/>\n   </g>\n   <g id=\"patch_669\">\n    <path d=\"M 92.870839 273.671006 \nL 93.307795 273.671006 \nL 93.307795 270.977495 \nL 92.870839 270.977495 \nz\n\" clip-path=\"url(#pae04297fc5)\" style=\"fill: #1f77b4; fill-opacity: 0.75; stroke: #000000; stroke-width: 0.029649; stroke-linejoin: miter\"/>\n   </g>\n   <g id=\"patch_670\">\n    <path d=\"M 93.307795 273.671006 \nL 93.744752 273.671006 \nL 93.744752 273.104386 \nL 93.307795 273.104386 \nz\n\" clip-path=\"url(#pae04297fc5)\" style=\"fill: #1f77b4; fill-opacity: 0.75; stroke: #000000; stroke-width: 0.029649; stroke-linejoin: miter\"/>\n   </g>\n   <g id=\"patch_671\">\n    <path d=\"M 93.744752 273.671006 \nL 94.181708 273.671006 \nL 94.181708 273.069113 \nL 93.744752 273.069113 \nz\n\" clip-path=\"url(#pae04297fc5)\" style=\"fill: #1f77b4; fill-opacity: 0.75; stroke: #000000; stroke-width: 0.029649; stroke-linejoin: miter\"/>\n   </g>\n   <g id=\"patch_672\">\n    <path d=\"M 94.181708 273.671006 \nL 94.618664 273.671006 \nL 94.618664 272.358398 \nL 94.181708 272.358398 \nz\n\" clip-path=\"url(#pae04297fc5)\" style=\"fill: #1f77b4; fill-opacity: 0.75; stroke: #000000; stroke-width: 0.029649; stroke-linejoin: miter\"/>\n   </g>\n   <g id=\"patch_673\">\n    <path d=\"M 94.618664 273.671006 \nL 95.055621 273.671006 \nL 95.055621 272.761411 \nL 94.618664 272.761411 \nz\n\" clip-path=\"url(#pae04297fc5)\" style=\"fill: #1f77b4; fill-opacity: 0.75; stroke: #000000; stroke-width: 0.029649; stroke-linejoin: miter\"/>\n   </g>\n   <g id=\"patch_674\">\n    <path d=\"M 95.055621 273.671006 \nL 95.492577 273.671006 \nL 95.492577 272.416186 \nL 95.055621 272.416186 \nz\n\" clip-path=\"url(#pae04297fc5)\" style=\"fill: #1f77b4; fill-opacity: 0.75; stroke: #000000; stroke-width: 0.029649; stroke-linejoin: miter\"/>\n   </g>\n   <g id=\"patch_675\">\n    <path d=\"M 95.492577 273.671006 \nL 95.929534 273.671006 \nL 95.929534 271.472068 \nL 95.492577 271.472068 \nz\n\" clip-path=\"url(#pae04297fc5)\" style=\"fill: #1f77b4; fill-opacity: 0.75; stroke: #000000; stroke-width: 0.029649; stroke-linejoin: miter\"/>\n   </g>\n   <g id=\"patch_676\">\n    <path d=\"M 95.929534 273.671006 \nL 96.36649 273.671006 \nL 96.36649 272.60681 \nL 95.929534 272.60681 \nz\n\" clip-path=\"url(#pae04297fc5)\" style=\"fill: #1f77b4; fill-opacity: 0.75; stroke: #000000; stroke-width: 0.029649; stroke-linejoin: miter\"/>\n   </g>\n   <g id=\"patch_677\">\n    <path d=\"M 96.36649 273.671006 \nL 96.803446 273.671006 \nL 96.803446 272.754657 \nL 96.36649 272.754657 \nz\n\" clip-path=\"url(#pae04297fc5)\" style=\"fill: #1f77b4; fill-opacity: 0.75; stroke: #000000; stroke-width: 0.029649; stroke-linejoin: miter\"/>\n   </g>\n   <g id=\"patch_678\">\n    <path d=\"M 96.803446 273.671006 \nL 97.240403 273.671006 \nL 97.240403 271.846563 \nL 96.803446 271.846563 \nz\n\" clip-path=\"url(#pae04297fc5)\" style=\"fill: #1f77b4; fill-opacity: 0.75; stroke: #000000; stroke-width: 0.029649; stroke-linejoin: miter\"/>\n   </g>\n   <g id=\"patch_679\">\n    <path d=\"M 97.240403 273.671006 \nL 97.677359 273.671006 \nL 97.677359 272.768916 \nL 97.240403 272.768916 \nz\n\" clip-path=\"url(#pae04297fc5)\" style=\"fill: #1f77b4; fill-opacity: 0.75; stroke: #000000; stroke-width: 0.029649; stroke-linejoin: miter\"/>\n   </g>\n   <g id=\"patch_680\">\n    <path d=\"M 97.677359 273.671006 \nL 98.114315 273.671006 \nL 98.114315 270.629267 \nL 97.677359 270.629267 \nz\n\" clip-path=\"url(#pae04297fc5)\" style=\"fill: #1f77b4; fill-opacity: 0.75; stroke: #000000; stroke-width: 0.029649; stroke-linejoin: miter\"/>\n   </g>\n   <g id=\"patch_681\">\n    <path d=\"M 98.114315 273.671006 \nL 98.551272 273.671006 \nL 98.551272 272.670602 \nL 98.114315 272.670602 \nz\n\" clip-path=\"url(#pae04297fc5)\" style=\"fill: #1f77b4; fill-opacity: 0.75; stroke: #000000; stroke-width: 0.029649; stroke-linejoin: miter\"/>\n   </g>\n   <g id=\"patch_682\">\n    <path d=\"M 98.551272 273.671006 \nL 98.988228 273.671006 \nL 98.988228 272.007168 \nL 98.551272 272.007168 \nz\n\" clip-path=\"url(#pae04297fc5)\" style=\"fill: #1f77b4; fill-opacity: 0.75; stroke: #000000; stroke-width: 0.029649; stroke-linejoin: miter\"/>\n   </g>\n   <g id=\"patch_683\">\n    <path d=\"M 98.988228 273.671006 \nL 99.425185 273.671006 \nL 99.425185 272.221058 \nL 98.988228 272.221058 \nz\n\" clip-path=\"url(#pae04297fc5)\" style=\"fill: #1f77b4; fill-opacity: 0.75; stroke: #000000; stroke-width: 0.029649; stroke-linejoin: miter\"/>\n   </g>\n   <g id=\"patch_684\">\n    <path d=\"M 99.425185 273.671006 \nL 99.862141 273.671006 \nL 99.862141 272.276594 \nL 99.425185 272.276594 \nz\n\" clip-path=\"url(#pae04297fc5)\" style=\"fill: #1f77b4; fill-opacity: 0.75; stroke: #000000; stroke-width: 0.029649; stroke-linejoin: miter\"/>\n   </g>\n   <g id=\"patch_685\">\n    <path d=\"M 99.862141 273.671006 \nL 100.299097 273.671006 \nL 100.299097 268.485115 \nL 99.862141 268.485115 \nz\n\" clip-path=\"url(#pae04297fc5)\" style=\"fill: #1f77b4; fill-opacity: 0.75; stroke: #000000; stroke-width: 0.029649; stroke-linejoin: miter\"/>\n   </g>\n   <g id=\"patch_686\">\n    <path d=\"M 100.299097 273.671006 \nL 100.736054 273.671006 \nL 100.736054 271.882587 \nL 100.299097 271.882587 \nz\n\" clip-path=\"url(#pae04297fc5)\" style=\"fill: #1f77b4; fill-opacity: 0.75; stroke: #000000; stroke-width: 0.029649; stroke-linejoin: miter\"/>\n   </g>\n   <g id=\"patch_687\">\n    <path d=\"M 100.736054 273.671006 \nL 101.17301 273.671006 \nL 101.17301 271.652937 \nL 100.736054 271.652937 \nz\n\" clip-path=\"url(#pae04297fc5)\" style=\"fill: #1f77b4; fill-opacity: 0.75; stroke: #000000; stroke-width: 0.029649; stroke-linejoin: miter\"/>\n   </g>\n   <g id=\"patch_688\">\n    <path d=\"M 101.17301 273.671006 \nL 101.609967 273.671006 \nL 101.609967 272.27059 \nL 101.17301 272.27059 \nz\n\" clip-path=\"url(#pae04297fc5)\" style=\"fill: #1f77b4; fill-opacity: 0.75; stroke: #000000; stroke-width: 0.029649; stroke-linejoin: miter\"/>\n   </g>\n   <g id=\"patch_689\">\n    <path d=\"M 101.609967 273.671006 \nL 102.046923 273.671006 \nL 102.046923 271.679954 \nL 101.609967 271.679954 \nz\n\" clip-path=\"url(#pae04297fc5)\" style=\"fill: #1f77b4; fill-opacity: 0.75; stroke: #000000; stroke-width: 0.029649; stroke-linejoin: miter\"/>\n   </g>\n   <g id=\"patch_690\">\n    <path d=\"M 102.046923 273.671006 \nL 102.483879 273.671006 \nL 102.483879 269.516289 \nL 102.046923 269.516289 \nz\n\" clip-path=\"url(#pae04297fc5)\" style=\"fill: #1f77b4; fill-opacity: 0.75; stroke: #000000; stroke-width: 0.029649; stroke-linejoin: miter\"/>\n   </g>\n   <g id=\"patch_691\">\n    <path d=\"M 102.483879 273.671006 \nL 102.920836 273.671006 \nL 102.920836 271.911105 \nL 102.483879 271.911105 \nz\n\" clip-path=\"url(#pae04297fc5)\" style=\"fill: #1f77b4; fill-opacity: 0.75; stroke: #000000; stroke-width: 0.029649; stroke-linejoin: miter\"/>\n   </g>\n   <g id=\"patch_692\">\n    <path d=\"M 102.920836 273.671006 \nL 103.357792 273.671006 \nL 103.357792 271.580889 \nL 102.920836 271.580889 \nz\n\" clip-path=\"url(#pae04297fc5)\" style=\"fill: #1f77b4; fill-opacity: 0.75; stroke: #000000; stroke-width: 0.029649; stroke-linejoin: miter\"/>\n   </g>\n   <g id=\"patch_693\">\n    <path d=\"M 103.357792 273.671006 \nL 103.794748 273.671006 \nL 103.794748 271.794779 \nL 103.357792 271.794779 \nz\n\" clip-path=\"url(#pae04297fc5)\" style=\"fill: #1f77b4; fill-opacity: 0.75; stroke: #000000; stroke-width: 0.029649; stroke-linejoin: miter\"/>\n   </g>\n   <g id=\"patch_694\">\n    <path d=\"M 103.794748 273.671006 \nL 104.231705 273.671006 \nL 104.231705 269.375947 \nL 103.794748 269.375947 \nz\n\" clip-path=\"url(#pae04297fc5)\" style=\"fill: #1f77b4; fill-opacity: 0.75; stroke: #000000; stroke-width: 0.029649; stroke-linejoin: miter\"/>\n   </g>\n   <g id=\"patch_695\">\n    <path d=\"M 104.231705 273.671006 \nL 104.668661 273.671006 \nL 104.668661 272.057451 \nL 104.231705 272.057451 \nz\n\" clip-path=\"url(#pae04297fc5)\" style=\"fill: #1f77b4; fill-opacity: 0.75; stroke: #000000; stroke-width: 0.029649; stroke-linejoin: miter\"/>\n   </g>\n   <g id=\"patch_696\">\n    <path d=\"M 104.668661 273.671006 \nL 105.105618 273.671006 \nL 105.105618 270.519695 \nL 104.668661 270.519695 \nz\n\" clip-path=\"url(#pae04297fc5)\" style=\"fill: #1f77b4; fill-opacity: 0.75; stroke: #000000; stroke-width: 0.029649; stroke-linejoin: miter\"/>\n   </g>\n   <g id=\"patch_697\">\n    <path d=\"M 105.105618 273.671006 \nL 105.542574 273.671006 \nL 105.542574 272.184284 \nL 105.105618 272.184284 \nz\n\" clip-path=\"url(#pae04297fc5)\" style=\"fill: #1f77b4; fill-opacity: 0.75; stroke: #000000; stroke-width: 0.029649; stroke-linejoin: miter\"/>\n   </g>\n   <g id=\"patch_698\">\n    <path d=\"M 105.542574 273.671006 \nL 105.97953 273.671006 \nL 105.97953 268.124129 \nL 105.542574 268.124129 \nz\n\" clip-path=\"url(#pae04297fc5)\" style=\"fill: #1f77b4; fill-opacity: 0.75; stroke: #000000; stroke-width: 0.029649; stroke-linejoin: miter\"/>\n   </g>\n   <g id=\"patch_699\">\n    <path d=\"M 105.97953 273.671006 \nL 106.416487 273.671006 \nL 106.416487 271.980901 \nL 105.97953 271.980901 \nz\n\" clip-path=\"url(#pae04297fc5)\" style=\"fill: #1f77b4; fill-opacity: 0.75; stroke: #000000; stroke-width: 0.029649; stroke-linejoin: miter\"/>\n   </g>\n   <g id=\"patch_700\">\n    <path d=\"M 106.416487 273.671006 \nL 106.853443 273.671006 \nL 106.853443 270.583487 \nL 106.416487 270.583487 \nz\n\" clip-path=\"url(#pae04297fc5)\" style=\"fill: #1f77b4; fill-opacity: 0.75; stroke: #000000; stroke-width: 0.029649; stroke-linejoin: miter\"/>\n   </g>\n   <g id=\"patch_701\">\n    <path d=\"M 106.853443 273.671006 \nL 107.290399 273.671006 \nL 107.290399 271.541864 \nL 106.853443 271.541864 \nz\n\" clip-path=\"url(#pae04297fc5)\" style=\"fill: #1f77b4; fill-opacity: 0.75; stroke: #000000; stroke-width: 0.029649; stroke-linejoin: miter\"/>\n   </g>\n   <g id=\"patch_702\">\n    <path d=\"M 107.290399 273.671006 \nL 107.727356 273.671006 \nL 107.727356 268.848352 \nL 107.290399 268.848352 \nz\n\" clip-path=\"url(#pae04297fc5)\" style=\"fill: #1f77b4; fill-opacity: 0.75; stroke: #000000; stroke-width: 0.029649; stroke-linejoin: miter\"/>\n   </g>\n   <g id=\"patch_703\">\n    <path d=\"M 107.727356 273.671006 \nL 108.164312 273.671006 \nL 108.164312 271.298705 \nL 107.727356 271.298705 \nz\n\" clip-path=\"url(#pae04297fc5)\" style=\"fill: #1f77b4; fill-opacity: 0.75; stroke: #000000; stroke-width: 0.029649; stroke-linejoin: miter\"/>\n   </g>\n   <g id=\"patch_704\">\n    <path d=\"M 108.164312 273.671006 \nL 108.601269 273.671006 \nL 108.601269 270.64953 \nL 108.164312 270.64953 \nz\n\" clip-path=\"url(#pae04297fc5)\" style=\"fill: #1f77b4; fill-opacity: 0.75; stroke: #000000; stroke-width: 0.029649; stroke-linejoin: miter\"/>\n   </g>\n   <g id=\"patch_705\">\n    <path d=\"M 108.601269 273.671006 \nL 109.038225 273.671006 \nL 109.038225 270.254772 \nL 108.601269 270.254772 \nz\n\" clip-path=\"url(#pae04297fc5)\" style=\"fill: #1f77b4; fill-opacity: 0.75; stroke: #000000; stroke-width: 0.029649; stroke-linejoin: miter\"/>\n   </g>\n   <g id=\"patch_706\">\n    <path d=\"M 109.038225 273.671006 \nL 109.475181 273.671006 \nL 109.475181 262.721345 \nL 109.038225 262.721345 \nz\n\" clip-path=\"url(#pae04297fc5)\" style=\"fill: #1f77b4; fill-opacity: 0.75; stroke: #000000; stroke-width: 0.029649; stroke-linejoin: miter\"/>\n   </g>\n   <g id=\"patch_707\">\n    <path d=\"M 109.475181 273.671006 \nL 109.912138 273.671006 \nL 109.912138 270.548214 \nL 109.475181 270.548214 \nz\n\" clip-path=\"url(#pae04297fc5)\" style=\"fill: #1f77b4; fill-opacity: 0.75; stroke: #000000; stroke-width: 0.029649; stroke-linejoin: miter\"/>\n   </g>\n   <g id=\"patch_708\">\n    <path d=\"M 109.912138 273.671006 \nL 110.349094 273.671006 \nL 110.349094 270.785369 \nL 109.912138 270.785369 \nz\n\" clip-path=\"url(#pae04297fc5)\" style=\"fill: #1f77b4; fill-opacity: 0.75; stroke: #000000; stroke-width: 0.029649; stroke-linejoin: miter\"/>\n   </g>\n   <g id=\"patch_709\">\n    <path d=\"M 110.349094 273.671006 \nL 110.78605 273.671006 \nL 110.78605 268.728274 \nL 110.349094 268.728274 \nz\n\" clip-path=\"url(#pae04297fc5)\" style=\"fill: #1f77b4; fill-opacity: 0.75; stroke: #000000; stroke-width: 0.029649; stroke-linejoin: miter\"/>\n   </g>\n   <g id=\"patch_710\">\n    <path d=\"M 110.78605 273.671006 \nL 111.223007 273.671006 \nL 111.223007 271.201141 \nL 110.78605 271.201141 \nz\n\" clip-path=\"url(#pae04297fc5)\" style=\"fill: #1f77b4; fill-opacity: 0.75; stroke: #000000; stroke-width: 0.029649; stroke-linejoin: miter\"/>\n   </g>\n   <g id=\"patch_711\">\n    <path d=\"M 111.223007 273.671006 \nL 111.659963 273.671006 \nL 111.659963 270.214246 \nL 111.223007 270.214246 \nz\n\" clip-path=\"url(#pae04297fc5)\" style=\"fill: #1f77b4; fill-opacity: 0.75; stroke: #000000; stroke-width: 0.029649; stroke-linejoin: miter\"/>\n   </g>\n   <g id=\"patch_712\">\n    <path d=\"M 111.659963 273.671006 \nL 112.09692 273.671006 \nL 112.09692 267.286581 \nL 111.659963 267.286581 \nz\n\" clip-path=\"url(#pae04297fc5)\" style=\"fill: #1f77b4; fill-opacity: 0.75; stroke: #000000; stroke-width: 0.029649; stroke-linejoin: miter\"/>\n   </g>\n   <g id=\"patch_713\">\n    <path d=\"M 112.09692 273.671006 \nL 112.533876 273.671006 \nL 112.533876 271.532108 \nL 112.09692 271.532108 \nz\n\" clip-path=\"url(#pae04297fc5)\" style=\"fill: #1f77b4; fill-opacity: 0.75; stroke: #000000; stroke-width: 0.029649; stroke-linejoin: miter\"/>\n   </g>\n   <g id=\"patch_714\">\n    <path d=\"M 112.533876 273.671006 \nL 112.970832 273.671006 \nL 112.970832 269.866018 \nL 112.533876 269.866018 \nz\n\" clip-path=\"url(#pae04297fc5)\" style=\"fill: #1f77b4; fill-opacity: 0.75; stroke: #000000; stroke-width: 0.029649; stroke-linejoin: miter\"/>\n   </g>\n   <g id=\"patch_715\">\n    <path d=\"M 112.970832 273.671006 \nL 113.407789 273.671006 \nL 113.407789 266.714707 \nL 112.970832 266.714707 \nz\n\" clip-path=\"url(#pae04297fc5)\" style=\"fill: #1f77b4; fill-opacity: 0.75; stroke: #000000; stroke-width: 0.029649; stroke-linejoin: miter\"/>\n   </g>\n   <g id=\"patch_716\">\n    <path d=\"M 113.407789 273.671006 \nL 113.844745 273.671006 \nL 113.844745 271.135848 \nL 113.407789 271.135848 \nz\n\" clip-path=\"url(#pae04297fc5)\" style=\"fill: #1f77b4; fill-opacity: 0.75; stroke: #000000; stroke-width: 0.029649; stroke-linejoin: miter\"/>\n   </g>\n   <g id=\"patch_717\">\n    <path d=\"M 113.844745 273.671006 \nL 114.281701 273.671006 \nL 114.281701 269.978592 \nL 113.844745 269.978592 \nz\n\" clip-path=\"url(#pae04297fc5)\" style=\"fill: #1f77b4; fill-opacity: 0.75; stroke: #000000; stroke-width: 0.029649; stroke-linejoin: miter\"/>\n   </g>\n   <g id=\"patch_718\">\n    <path d=\"M 114.281701 273.671006 \nL 114.718658 273.671006 \nL 114.718658 265.92444 \nL 114.281701 265.92444 \nz\n\" clip-path=\"url(#pae04297fc5)\" style=\"fill: #1f77b4; fill-opacity: 0.75; stroke: #000000; stroke-width: 0.029649; stroke-linejoin: miter\"/>\n   </g>\n   <g id=\"patch_719\">\n    <path d=\"M 114.718658 273.671006 \nL 115.155614 273.671006 \nL 115.155614 271.259679 \nL 114.718658 271.259679 \nz\n\" clip-path=\"url(#pae04297fc5)\" style=\"fill: #1f77b4; fill-opacity: 0.75; stroke: #000000; stroke-width: 0.029649; stroke-linejoin: miter\"/>\n   </g>\n   <g id=\"patch_720\">\n    <path d=\"M 115.155614 273.671006 \nL 115.592571 273.671006 \nL 115.592571 269.968085 \nL 115.155614 269.968085 \nz\n\" clip-path=\"url(#pae04297fc5)\" style=\"fill: #1f77b4; fill-opacity: 0.75; stroke: #000000; stroke-width: 0.029649; stroke-linejoin: miter\"/>\n   </g>\n   <g id=\"patch_721\">\n    <path d=\"M 115.592571 273.671006 \nL 116.029527 273.671006 \nL 116.029527 262.714591 \nL 115.592571 262.714591 \nz\n\" clip-path=\"url(#pae04297fc5)\" style=\"fill: #1f77b4; fill-opacity: 0.75; stroke: #000000; stroke-width: 0.029649; stroke-linejoin: miter\"/>\n   </g>\n   <g id=\"patch_722\">\n    <path d=\"M 116.029527 273.671006 \nL 116.466483 273.671006 \nL 116.466483 270.795876 \nL 116.029527 270.795876 \nz\n\" clip-path=\"url(#pae04297fc5)\" style=\"fill: #1f77b4; fill-opacity: 0.75; stroke: #000000; stroke-width: 0.029649; stroke-linejoin: miter\"/>\n   </g>\n   <g id=\"patch_723\">\n    <path d=\"M 116.466483 273.671006 \nL 116.90344 273.671006 \nL 116.90344 269.44049 \nL 116.466483 269.44049 \nz\n\" clip-path=\"url(#pae04297fc5)\" style=\"fill: #1f77b4; fill-opacity: 0.75; stroke: #000000; stroke-width: 0.029649; stroke-linejoin: miter\"/>\n   </g>\n   <g id=\"patch_724\">\n    <path d=\"M 116.90344 273.671006 \nL 117.340396 273.671006 \nL 117.340396 266.416762 \nL 116.90344 266.416762 \nz\n\" clip-path=\"url(#pae04297fc5)\" style=\"fill: #1f77b4; fill-opacity: 0.75; stroke: #000000; stroke-width: 0.029649; stroke-linejoin: miter\"/>\n   </g>\n   <g id=\"patch_725\">\n    <path d=\"M 117.340396 273.671006 \nL 117.777352 273.671006 \nL 117.777352 270.041633 \nL 117.340396 270.041633 \nz\n\" clip-path=\"url(#pae04297fc5)\" style=\"fill: #1f77b4; fill-opacity: 0.75; stroke: #000000; stroke-width: 0.029649; stroke-linejoin: miter\"/>\n   </g>\n   <g id=\"patch_726\">\n    <path d=\"M 117.777352 273.671006 \nL 118.214309 273.671006 \nL 118.214309 269.754195 \nL 117.777352 269.754195 \nz\n\" clip-path=\"url(#pae04297fc5)\" style=\"fill: #1f77b4; fill-opacity: 0.75; stroke: #000000; stroke-width: 0.029649; stroke-linejoin: miter\"/>\n   </g>\n   <g id=\"patch_727\">\n    <path d=\"M 118.214309 273.671006 \nL 118.651265 273.671006 \nL 118.651265 265.709049 \nL 118.214309 265.709049 \nz\n\" clip-path=\"url(#pae04297fc5)\" style=\"fill: #1f77b4; fill-opacity: 0.75; stroke: #000000; stroke-width: 0.029649; stroke-linejoin: miter\"/>\n   </g>\n   <g id=\"patch_728\">\n    <path d=\"M 118.651265 273.671006 \nL 119.088222 273.671006 \nL 119.088222 269.246863 \nL 118.651265 269.246863 \nz\n\" clip-path=\"url(#pae04297fc5)\" style=\"fill: #1f77b4; fill-opacity: 0.75; stroke: #000000; stroke-width: 0.029649; stroke-linejoin: miter\"/>\n   </g>\n   <g id=\"patch_729\">\n    <path d=\"M 119.088222 273.671006 \nL 119.525178 273.671006 \nL 119.525178 265.072633 \nL 119.088222 265.072633 \nz\n\" clip-path=\"url(#pae04297fc5)\" style=\"fill: #1f77b4; fill-opacity: 0.75; stroke: #000000; stroke-width: 0.029649; stroke-linejoin: miter\"/>\n   </g>\n   <g id=\"patch_730\">\n    <path d=\"M 119.525178 273.671006 \nL 119.962134 273.671006 \nL 119.962134 270.353837 \nL 119.525178 270.353837 \nz\n\" clip-path=\"url(#pae04297fc5)\" style=\"fill: #1f77b4; fill-opacity: 0.75; stroke: #000000; stroke-width: 0.029649; stroke-linejoin: miter\"/>\n   </g>\n   <g id=\"patch_731\">\n    <path d=\"M 119.962134 273.671006 \nL 120.399091 273.671006 \nL 120.399091 268.748537 \nL 119.962134 268.748537 \nz\n\" clip-path=\"url(#pae04297fc5)\" style=\"fill: #1f77b4; fill-opacity: 0.75; stroke: #000000; stroke-width: 0.029649; stroke-linejoin: miter\"/>\n   </g>\n   <g id=\"patch_732\">\n    <path d=\"M 120.399091 273.671006 \nL 120.836047 273.671006 \nL 120.836047 267.297088 \nL 120.399091 267.297088 \nz\n\" clip-path=\"url(#pae04297fc5)\" style=\"fill: #1f77b4; fill-opacity: 0.75; stroke: #000000; stroke-width: 0.029649; stroke-linejoin: miter\"/>\n   </g>\n   <g id=\"patch_733\">\n    <path d=\"M 120.836047 273.671006 \nL 121.273004 273.671006 \nL 121.273004 269.19583 \nL 120.836047 269.19583 \nz\n\" clip-path=\"url(#pae04297fc5)\" style=\"fill: #1f77b4; fill-opacity: 0.75; stroke: #000000; stroke-width: 0.029649; stroke-linejoin: miter\"/>\n   </g>\n   <g id=\"patch_734\">\n    <path d=\"M 121.273004 273.671006 \nL 121.70996 273.671006 \nL 121.70996 245.415027 \nL 121.273004 245.415027 \nz\n\" clip-path=\"url(#pae04297fc5)\" style=\"fill: #1f77b4; fill-opacity: 0.75; stroke: #000000; stroke-width: 0.029649; stroke-linejoin: miter\"/>\n   </g>\n   <g id=\"patch_735\">\n    <path d=\"M 121.70996 273.671006 \nL 122.146916 273.671006 \nL 122.146916 269.053236 \nL 121.70996 269.053236 \nz\n\" clip-path=\"url(#pae04297fc5)\" style=\"fill: #1f77b4; fill-opacity: 0.75; stroke: #000000; stroke-width: 0.029649; stroke-linejoin: miter\"/>\n   </g>\n   <g id=\"patch_736\">\n    <path d=\"M 122.146916 273.671006 \nL 122.583873 273.671006 \nL 122.583873 269.646124 \nL 122.146916 269.646124 \nz\n\" clip-path=\"url(#pae04297fc5)\" style=\"fill: #1f77b4; fill-opacity: 0.75; stroke: #000000; stroke-width: 0.029649; stroke-linejoin: miter\"/>\n   </g>\n   <g id=\"patch_737\">\n    <path d=\"M 122.583873 273.671006 \nL 123.020829 273.671006 \nL 123.020829 267.186766 \nL 122.583873 267.186766 \nz\n\" clip-path=\"url(#pae04297fc5)\" style=\"fill: #1f77b4; fill-opacity: 0.75; stroke: #000000; stroke-width: 0.029649; stroke-linejoin: miter\"/>\n   </g>\n   <g id=\"patch_738\">\n    <path d=\"M 123.020829 273.671006 \nL 123.457785 273.671006 \nL 123.457785 268.527142 \nL 123.020829 268.527142 \nz\n\" clip-path=\"url(#pae04297fc5)\" style=\"fill: #1f77b4; fill-opacity: 0.75; stroke: #000000; stroke-width: 0.029649; stroke-linejoin: miter\"/>\n   </g>\n   <g id=\"patch_739\">\n    <path d=\"M 123.457785 273.671006 \nL 123.894742 273.671006 \nL 123.894742 264.767183 \nL 123.457785 264.767183 \nz\n\" clip-path=\"url(#pae04297fc5)\" style=\"fill: #1f77b4; fill-opacity: 0.75; stroke: #000000; stroke-width: 0.029649; stroke-linejoin: miter\"/>\n   </g>\n   <g id=\"patch_740\">\n    <path d=\"M 123.894742 273.671006 \nL 124.331698 273.671006 \nL 124.331698 268.818333 \nL 123.894742 268.818333 \nz\n\" clip-path=\"url(#pae04297fc5)\" style=\"fill: #1f77b4; fill-opacity: 0.75; stroke: #000000; stroke-width: 0.029649; stroke-linejoin: miter\"/>\n   </g>\n   <g id=\"patch_741\">\n    <path d=\"M 124.331698 273.671006 \nL 124.768655 273.671006 \nL 124.768655 264.800955 \nL 124.331698 264.800955 \nz\n\" clip-path=\"url(#pae04297fc5)\" style=\"fill: #1f77b4; fill-opacity: 0.75; stroke: #000000; stroke-width: 0.029649; stroke-linejoin: miter\"/>\n   </g>\n   <g id=\"patch_742\">\n    <path d=\"M 124.768655 273.671006 \nL 125.205611 273.671006 \nL 125.205611 268.169909 \nL 124.768655 268.169909 \nz\n\" clip-path=\"url(#pae04297fc5)\" style=\"fill: #1f77b4; fill-opacity: 0.75; stroke: #000000; stroke-width: 0.029649; stroke-linejoin: miter\"/>\n   </g>\n   <g id=\"patch_743\">\n    <path d=\"M 125.205611 273.671006 \nL 125.642567 273.671006 \nL 125.642567 265.31204 \nL 125.205611 265.31204 \nz\n\" clip-path=\"url(#pae04297fc5)\" style=\"fill: #1f77b4; fill-opacity: 0.75; stroke: #000000; stroke-width: 0.029649; stroke-linejoin: miter\"/>\n   </g>\n   <g id=\"patch_744\">\n    <path d=\"M 125.642567 273.671006 \nL 126.079524 273.671006 \nL 126.079524 268.210435 \nL 125.642567 268.210435 \nz\n\" clip-path=\"url(#pae04297fc5)\" style=\"fill: #1f77b4; fill-opacity: 0.75; stroke: #000000; stroke-width: 0.029649; stroke-linejoin: miter\"/>\n   </g>\n   <g id=\"patch_745\">\n    <path d=\"M 126.079524 273.671006 \nL 126.51648 273.671006 \nL 126.51648 256.090759 \nL 126.079524 256.090759 \nz\n\" clip-path=\"url(#pae04297fc5)\" style=\"fill: #1f77b4; fill-opacity: 0.75; stroke: #000000; stroke-width: 0.029649; stroke-linejoin: miter\"/>\n   </g>\n   <g id=\"patch_746\">\n    <path d=\"M 126.51648 273.671006 \nL 126.953436 273.671006 \nL 126.953436 268.056585 \nL 126.51648 268.056585 \nz\n\" clip-path=\"url(#pae04297fc5)\" style=\"fill: #1f77b4; fill-opacity: 0.75; stroke: #000000; stroke-width: 0.029649; stroke-linejoin: miter\"/>\n   </g>\n   <g id=\"patch_747\">\n    <path d=\"M 126.953436 273.671006 \nL 127.390393 273.671006 \nL 127.390393 262.598265 \nL 126.953436 262.598265 \nz\n\" clip-path=\"url(#pae04297fc5)\" style=\"fill: #1f77b4; fill-opacity: 0.75; stroke: #000000; stroke-width: 0.029649; stroke-linejoin: miter\"/>\n   </g>\n   <g id=\"patch_748\">\n    <path d=\"M 127.390393 273.671006 \nL 127.827349 273.671006 \nL 127.827349 268.316254 \nL 127.390393 268.316254 \nz\n\" clip-path=\"url(#pae04297fc5)\" style=\"fill: #1f77b4; fill-opacity: 0.75; stroke: #000000; stroke-width: 0.029649; stroke-linejoin: miter\"/>\n   </g>\n   <g id=\"patch_749\">\n    <path d=\"M 127.827349 273.671006 \nL 128.264306 273.671006 \nL 128.264306 263.991926 \nL 127.827349 263.991926 \nz\n\" clip-path=\"url(#pae04297fc5)\" style=\"fill: #1f77b4; fill-opacity: 0.75; stroke: #000000; stroke-width: 0.029649; stroke-linejoin: miter\"/>\n   </g>\n   <g id=\"patch_750\">\n    <path d=\"M 128.264306 273.671006 \nL 128.701262 273.671006 \nL 128.701262 267.724868 \nL 128.264306 267.724868 \nz\n\" clip-path=\"url(#pae04297fc5)\" style=\"fill: #1f77b4; fill-opacity: 0.75; stroke: #000000; stroke-width: 0.029649; stroke-linejoin: miter\"/>\n   </g>\n   <g id=\"patch_751\">\n    <path d=\"M 128.701262 273.671006 \nL 129.138218 273.671006 \nL 129.138218 261.083774 \nL 128.701262 261.083774 \nz\n\" clip-path=\"url(#pae04297fc5)\" style=\"fill: #1f77b4; fill-opacity: 0.75; stroke: #000000; stroke-width: 0.029649; stroke-linejoin: miter\"/>\n   </g>\n   <g id=\"patch_752\">\n    <path d=\"M 129.138218 273.671006 \nL 129.575175 273.671006 \nL 129.575175 267.840443 \nL 129.138218 267.840443 \nz\n\" clip-path=\"url(#pae04297fc5)\" style=\"fill: #1f77b4; fill-opacity: 0.75; stroke: #000000; stroke-width: 0.029649; stroke-linejoin: miter\"/>\n   </g>\n   <g id=\"patch_753\">\n    <path d=\"M 129.575175 273.671006 \nL 130.012131 273.671006 \nL 130.012131 264.619337 \nL 129.575175 264.619337 \nz\n\" clip-path=\"url(#pae04297fc5)\" style=\"fill: #1f77b4; fill-opacity: 0.75; stroke: #000000; stroke-width: 0.029649; stroke-linejoin: miter\"/>\n   </g>\n   <g id=\"patch_754\">\n    <path d=\"M 130.012131 273.671006 \nL 130.449087 273.671006 \nL 130.449087 267.502722 \nL 130.012131 267.502722 \nz\n\" clip-path=\"url(#pae04297fc5)\" style=\"fill: #1f77b4; fill-opacity: 0.75; stroke: #000000; stroke-width: 0.029649; stroke-linejoin: miter\"/>\n   </g>\n   <g id=\"patch_755\">\n    <path d=\"M 130.449087 273.671006 \nL 130.886044 273.671006 \nL 130.886044 238.638095 \nL 130.449087 238.638095 \nz\n\" clip-path=\"url(#pae04297fc5)\" style=\"fill: #1f77b4; fill-opacity: 0.75; stroke: #000000; stroke-width: 0.029649; stroke-linejoin: miter\"/>\n   </g>\n   <g id=\"patch_756\">\n    <path d=\"M 130.886044 273.671006 \nL 131.323 273.671006 \nL 131.323 263.838826 \nL 130.886044 263.838826 \nz\n\" clip-path=\"url(#pae04297fc5)\" style=\"fill: #1f77b4; fill-opacity: 0.75; stroke: #000000; stroke-width: 0.029649; stroke-linejoin: miter\"/>\n   </g>\n   <g id=\"patch_757\">\n    <path d=\"M 131.323 273.671006 \nL 131.759957 273.671006 \nL 131.759957 267.886223 \nL 131.323 267.886223 \nz\n\" clip-path=\"url(#pae04297fc5)\" style=\"fill: #1f77b4; fill-opacity: 0.75; stroke: #000000; stroke-width: 0.029649; stroke-linejoin: miter\"/>\n   </g>\n   <g id=\"patch_758\">\n    <path d=\"M 131.759957 273.671006 \nL 132.196913 273.671006 \nL 132.196913 261.801244 \nL 131.759957 261.801244 \nz\n\" clip-path=\"url(#pae04297fc5)\" style=\"fill: #1f77b4; fill-opacity: 0.75; stroke: #000000; stroke-width: 0.029649; stroke-linejoin: miter\"/>\n   </g>\n   <g id=\"patch_759\">\n    <path d=\"M 132.196913 273.671006 \nL 132.633869 273.671006 \nL 132.633869 266.569862 \nL 132.196913 266.569862 \nz\n\" clip-path=\"url(#pae04297fc5)\" style=\"fill: #1f77b4; fill-opacity: 0.75; stroke: #000000; stroke-width: 0.029649; stroke-linejoin: miter\"/>\n   </g>\n   <g id=\"patch_760\">\n    <path d=\"M 132.633869 273.671006 \nL 133.070826 273.671006 \nL 133.070826 262.475184 \nL 132.633869 262.475184 \nz\n\" clip-path=\"url(#pae04297fc5)\" style=\"fill: #1f77b4; fill-opacity: 0.75; stroke: #000000; stroke-width: 0.029649; stroke-linejoin: miter\"/>\n   </g>\n   <g id=\"patch_761\">\n    <path d=\"M 133.070826 273.671006 \nL 133.507782 273.671006 \nL 133.507782 264.277113 \nL 133.070826 264.277113 \nz\n\" clip-path=\"url(#pae04297fc5)\" style=\"fill: #1f77b4; fill-opacity: 0.75; stroke: #000000; stroke-width: 0.029649; stroke-linejoin: miter\"/>\n   </g>\n   <g id=\"patch_762\">\n    <path d=\"M 133.507782 273.671006 \nL 133.944738 273.671006 \nL 133.944738 264.984075 \nL 133.507782 264.984075 \nz\n\" clip-path=\"url(#pae04297fc5)\" style=\"fill: #1f77b4; fill-opacity: 0.75; stroke: #000000; stroke-width: 0.029649; stroke-linejoin: miter\"/>\n   </g>\n   <g id=\"patch_763\">\n    <path d=\"M 133.944738 273.671006 \nL 134.381695 273.671006 \nL 134.381695 253.245648 \nL 133.944738 253.245648 \nz\n\" clip-path=\"url(#pae04297fc5)\" style=\"fill: #1f77b4; fill-opacity: 0.75; stroke: #000000; stroke-width: 0.029649; stroke-linejoin: miter\"/>\n   </g>\n   <g id=\"patch_764\">\n    <path d=\"M 134.381695 273.671006 \nL 134.818651 273.671006 \nL 134.818651 266.951112 \nL 134.381695 266.951112 \nz\n\" clip-path=\"url(#pae04297fc5)\" style=\"fill: #1f77b4; fill-opacity: 0.75; stroke: #000000; stroke-width: 0.029649; stroke-linejoin: miter\"/>\n   </g>\n   <g id=\"patch_765\">\n    <path d=\"M 134.818651 273.671006 \nL 135.255608 273.671006 \nL 135.255608 262.037648 \nL 134.818651 262.037648 \nz\n\" clip-path=\"url(#pae04297fc5)\" style=\"fill: #1f77b4; fill-opacity: 0.75; stroke: #000000; stroke-width: 0.029649; stroke-linejoin: miter\"/>\n   </g>\n   <g id=\"patch_766\">\n    <path d=\"M 135.255608 273.671006 \nL 135.692564 273.671006 \nL 135.692564 262.964504 \nL 135.255608 262.964504 \nz\n\" clip-path=\"url(#pae04297fc5)\" style=\"fill: #1f77b4; fill-opacity: 0.75; stroke: #000000; stroke-width: 0.029649; stroke-linejoin: miter\"/>\n   </g>\n   <g id=\"patch_767\">\n    <path d=\"M 135.692564 273.671006 \nL 136.12952 273.671006 \nL 136.12952 264.981073 \nL 135.692564 264.981073 \nz\n\" clip-path=\"url(#pae04297fc5)\" style=\"fill: #1f77b4; fill-opacity: 0.75; stroke: #000000; stroke-width: 0.029649; stroke-linejoin: miter\"/>\n   </g>\n   <g id=\"patch_768\">\n    <path d=\"M 136.12952 273.671006 \nL 136.566477 273.671006 \nL 136.566477 260.023331 \nL 136.12952 260.023331 \nz\n\" clip-path=\"url(#pae04297fc5)\" style=\"fill: #1f77b4; fill-opacity: 0.75; stroke: #000000; stroke-width: 0.029649; stroke-linejoin: miter\"/>\n   </g>\n   <g id=\"patch_769\">\n    <path d=\"M 136.566477 273.671006 \nL 137.003433 273.671006 \nL 137.003433 263.878602 \nL 136.566477 263.878602 \nz\n\" clip-path=\"url(#pae04297fc5)\" style=\"fill: #1f77b4; fill-opacity: 0.75; stroke: #000000; stroke-width: 0.029649; stroke-linejoin: miter\"/>\n   </g>\n   <g id=\"patch_770\">\n    <path d=\"M 137.003433 273.671006 \nL 137.440389 273.671006 \nL 137.440389 261.29091 \nL 137.003433 261.29091 \nz\n\" clip-path=\"url(#pae04297fc5)\" style=\"fill: #1f77b4; fill-opacity: 0.75; stroke: #000000; stroke-width: 0.029649; stroke-linejoin: miter\"/>\n   </g>\n   <g id=\"patch_771\">\n    <path d=\"M 137.440389 273.671006 \nL 137.877346 273.671006 \nL 137.877346 187.481638 \nL 137.440389 187.481638 \nz\n\" clip-path=\"url(#pae04297fc5)\" style=\"fill: #1f77b4; fill-opacity: 0.75; stroke: #000000; stroke-width: 0.029649; stroke-linejoin: miter\"/>\n   </g>\n   <g id=\"patch_772\">\n    <path d=\"M 137.877346 273.671006 \nL 138.314302 273.671006 \nL 138.314302 262.995274 \nL 137.877346 262.995274 \nz\n\" clip-path=\"url(#pae04297fc5)\" style=\"fill: #1f77b4; fill-opacity: 0.75; stroke: #000000; stroke-width: 0.029649; stroke-linejoin: miter\"/>\n   </g>\n   <g id=\"patch_773\">\n    <path d=\"M 138.314302 273.671006 \nL 138.751259 273.671006 \nL 138.751259 259.901751 \nL 138.314302 259.901751 \nz\n\" clip-path=\"url(#pae04297fc5)\" style=\"fill: #1f77b4; fill-opacity: 0.75; stroke: #000000; stroke-width: 0.029649; stroke-linejoin: miter\"/>\n   </g>\n   <g id=\"patch_774\">\n    <path d=\"M 138.751259 273.671006 \nL 139.188215 273.671006 \nL 139.188215 264.719902 \nL 138.751259 264.719902 \nz\n\" clip-path=\"url(#pae04297fc5)\" style=\"fill: #1f77b4; fill-opacity: 0.75; stroke: #000000; stroke-width: 0.029649; stroke-linejoin: miter\"/>\n   </g>\n   <g id=\"patch_775\">\n    <path d=\"M 139.188215 273.671006 \nL 139.625171 273.671006 \nL 139.625171 260.493889 \nL 139.188215 260.493889 \nz\n\" clip-path=\"url(#pae04297fc5)\" style=\"fill: #1f77b4; fill-opacity: 0.75; stroke: #000000; stroke-width: 0.029649; stroke-linejoin: miter\"/>\n   </g>\n   <g id=\"patch_776\">\n    <path d=\"M 139.625171 273.671006 \nL 140.062128 273.671006 \nL 140.062128 260.977205 \nL 139.625171 260.977205 \nz\n\" clip-path=\"url(#pae04297fc5)\" style=\"fill: #1f77b4; fill-opacity: 0.75; stroke: #000000; stroke-width: 0.029649; stroke-linejoin: miter\"/>\n   </g>\n   <g id=\"patch_777\">\n    <path d=\"M 140.062128 273.671006 \nL 140.499084 273.671006 \nL 140.499084 247.029333 \nL 140.062128 247.029333 \nz\n\" clip-path=\"url(#pae04297fc5)\" style=\"fill: #1f77b4; fill-opacity: 0.75; stroke: #000000; stroke-width: 0.029649; stroke-linejoin: miter\"/>\n   </g>\n   <g id=\"patch_778\">\n    <path d=\"M 140.499084 273.671006 \nL 140.936041 273.671006 \nL 140.936041 265.871906 \nL 140.499084 265.871906 \nz\n\" clip-path=\"url(#pae04297fc5)\" style=\"fill: #1f77b4; fill-opacity: 0.75; stroke: #000000; stroke-width: 0.029649; stroke-linejoin: miter\"/>\n   </g>\n   <g id=\"patch_779\">\n    <path d=\"M 140.936041 273.671006 \nL 141.372997 273.671006 \nL 141.372997 260.03684 \nL 140.936041 260.03684 \nz\n\" clip-path=\"url(#pae04297fc5)\" style=\"fill: #1f77b4; fill-opacity: 0.75; stroke: #000000; stroke-width: 0.029649; stroke-linejoin: miter\"/>\n   </g>\n   <g id=\"patch_780\">\n    <path d=\"M 141.372997 273.671006 \nL 141.809953 273.671006 \nL 141.809953 260.764065 \nL 141.372997 260.764065 \nz\n\" clip-path=\"url(#pae04297fc5)\" style=\"fill: #1f77b4; fill-opacity: 0.75; stroke: #000000; stroke-width: 0.029649; stroke-linejoin: miter\"/>\n   </g>\n   <g id=\"patch_781\">\n    <path d=\"M 141.809953 273.671006 \nL 142.24691 273.671006 \nL 142.24691 260.288254 \nL 141.809953 260.288254 \nz\n\" clip-path=\"url(#pae04297fc5)\" style=\"fill: #1f77b4; fill-opacity: 0.75; stroke: #000000; stroke-width: 0.029649; stroke-linejoin: miter\"/>\n   </g>\n   <g id=\"patch_782\">\n    <path d=\"M 142.24691 273.671006 \nL 142.683866 273.671006 \nL 142.683866 261.836517 \nL 142.24691 261.836517 \nz\n\" clip-path=\"url(#pae04297fc5)\" style=\"fill: #1f77b4; fill-opacity: 0.75; stroke: #000000; stroke-width: 0.029649; stroke-linejoin: miter\"/>\n   </g>\n   <g id=\"patch_783\">\n    <path d=\"M 142.683866 273.671006 \nL 143.120822 273.671006 \nL 143.120822 256.972586 \nL 142.683866 256.972586 \nz\n\" clip-path=\"url(#pae04297fc5)\" style=\"fill: #1f77b4; fill-opacity: 0.75; stroke: #000000; stroke-width: 0.029649; stroke-linejoin: miter\"/>\n   </g>\n   <g id=\"patch_784\">\n    <path d=\"M 143.120822 273.671006 \nL 143.557779 273.671006 \nL 143.557779 202.119211 \nL 143.120822 202.119211 \nz\n\" clip-path=\"url(#pae04297fc5)\" style=\"fill: #1f77b4; fill-opacity: 0.75; stroke: #000000; stroke-width: 0.029649; stroke-linejoin: miter\"/>\n   </g>\n   <g id=\"patch_785\">\n    <path d=\"M 143.557779 273.671006 \nL 143.994735 273.671006 \nL 143.994735 261.818505 \nL 143.557779 261.818505 \nz\n\" clip-path=\"url(#pae04297fc5)\" style=\"fill: #1f77b4; fill-opacity: 0.75; stroke: #000000; stroke-width: 0.029649; stroke-linejoin: miter\"/>\n   </g>\n   <g id=\"patch_786\">\n    <path d=\"M 143.994735 273.671006 \nL 144.431692 273.671006 \nL 144.431692 260.291256 \nL 143.994735 260.291256 \nz\n\" clip-path=\"url(#pae04297fc5)\" style=\"fill: #1f77b4; fill-opacity: 0.75; stroke: #000000; stroke-width: 0.029649; stroke-linejoin: miter\"/>\n   </g>\n   <g id=\"patch_787\">\n    <path d=\"M 144.431692 273.671006 \nL 144.868648 273.671006 \nL 144.868648 260.553928 \nL 144.431692 260.553928 \nz\n\" clip-path=\"url(#pae04297fc5)\" style=\"fill: #1f77b4; fill-opacity: 0.75; stroke: #000000; stroke-width: 0.029649; stroke-linejoin: miter\"/>\n   </g>\n   <g id=\"patch_788\">\n    <path d=\"M 144.868648 273.671006 \nL 145.305604 273.671006 \nL 145.305604 261.339692 \nL 144.868648 261.339692 \nz\n\" clip-path=\"url(#pae04297fc5)\" style=\"fill: #1f77b4; fill-opacity: 0.75; stroke: #000000; stroke-width: 0.029649; stroke-linejoin: miter\"/>\n   </g>\n   <g id=\"patch_789\">\n    <path d=\"M 145.305604 273.671006 \nL 145.742561 273.671006 \nL 145.742561 249.999025 \nL 145.305604 249.999025 \nz\n\" clip-path=\"url(#pae04297fc5)\" style=\"fill: #1f77b4; fill-opacity: 0.75; stroke: #000000; stroke-width: 0.029649; stroke-linejoin: miter\"/>\n   </g>\n   <g id=\"patch_790\">\n    <path d=\"M 145.742561 273.671006 \nL 146.179517 273.671006 \nL 146.179517 259.512247 \nL 145.742561 259.512247 \nz\n\" clip-path=\"url(#pae04297fc5)\" style=\"fill: #1f77b4; fill-opacity: 0.75; stroke: #000000; stroke-width: 0.029649; stroke-linejoin: miter\"/>\n   </g>\n   <g id=\"patch_791\">\n    <path d=\"M 146.179517 273.671006 \nL 146.616473 273.671006 \nL 146.616473 260.153916 \nL 146.179517 260.153916 \nz\n\" clip-path=\"url(#pae04297fc5)\" style=\"fill: #1f77b4; fill-opacity: 0.75; stroke: #000000; stroke-width: 0.029649; stroke-linejoin: miter\"/>\n   </g>\n   <g id=\"patch_792\">\n    <path d=\"M 146.616473 273.671006 \nL 147.05343 273.671006 \nL 147.05343 259.363649 \nL 146.616473 259.363649 \nz\n\" clip-path=\"url(#pae04297fc5)\" style=\"fill: #1f77b4; fill-opacity: 0.75; stroke: #000000; stroke-width: 0.029649; stroke-linejoin: miter\"/>\n   </g>\n   <g id=\"patch_793\">\n    <path d=\"M 147.05343 273.671006 \nL 147.490386 273.671006 \nL 147.490386 261.785483 \nL 147.05343 261.785483 \nz\n\" clip-path=\"url(#pae04297fc5)\" style=\"fill: #1f77b4; fill-opacity: 0.75; stroke: #000000; stroke-width: 0.029649; stroke-linejoin: miter\"/>\n   </g>\n   <g id=\"patch_794\">\n    <path d=\"M 147.490386 273.671006 \nL 147.927343 273.671006 \nL 147.927343 212.593061 \nL 147.490386 212.593061 \nz\n\" clip-path=\"url(#pae04297fc5)\" style=\"fill: #1f77b4; fill-opacity: 0.75; stroke: #000000; stroke-width: 0.029649; stroke-linejoin: miter\"/>\n   </g>\n   <g id=\"patch_795\">\n    <path d=\"M 147.927343 273.671006 \nL 148.364299 273.671006 \nL 148.364299 262.274803 \nL 147.927343 262.274803 \nz\n\" clip-path=\"url(#pae04297fc5)\" style=\"fill: #1f77b4; fill-opacity: 0.75; stroke: #000000; stroke-width: 0.029649; stroke-linejoin: miter\"/>\n   </g>\n   <g id=\"patch_796\">\n    <path d=\"M 148.364299 273.671006 \nL 148.801255 273.671006 \nL 148.801255 256.406715 \nL 148.364299 256.406715 \nz\n\" clip-path=\"url(#pae04297fc5)\" style=\"fill: #1f77b4; fill-opacity: 0.75; stroke: #000000; stroke-width: 0.029649; stroke-linejoin: miter\"/>\n   </g>\n   <g id=\"patch_797\">\n    <path d=\"M 148.801255 273.671006 \nL 149.238212 273.671006 \nL 149.238212 261.018482 \nL 148.801255 261.018482 \nz\n\" clip-path=\"url(#pae04297fc5)\" style=\"fill: #1f77b4; fill-opacity: 0.75; stroke: #000000; stroke-width: 0.029649; stroke-linejoin: miter\"/>\n   </g>\n   <g id=\"patch_798\">\n    <path d=\"M 149.238212 273.671006 \nL 149.675168 273.671006 \nL 149.675168 261.992619 \nL 149.238212 261.992619 \nz\n\" clip-path=\"url(#pae04297fc5)\" style=\"fill: #1f77b4; fill-opacity: 0.75; stroke: #000000; stroke-width: 0.029649; stroke-linejoin: miter\"/>\n   </g>\n   <g id=\"patch_799\">\n    <path d=\"M 149.675168 273.671006 \nL 150.112124 273.671006 \nL 150.112124 251.662113 \nL 149.675168 251.662113 \nz\n\" clip-path=\"url(#pae04297fc5)\" style=\"fill: #1f77b4; fill-opacity: 0.75; stroke: #000000; stroke-width: 0.029649; stroke-linejoin: miter\"/>\n   </g>\n   <g id=\"patch_800\">\n    <path d=\"M 150.112124 273.671006 \nL 150.549081 273.671006 \nL 150.549081 260.628977 \nL 150.112124 260.628977 \nz\n\" clip-path=\"url(#pae04297fc5)\" style=\"fill: #1f77b4; fill-opacity: 0.75; stroke: #000000; stroke-width: 0.029649; stroke-linejoin: miter\"/>\n   </g>\n   <g id=\"patch_801\">\n    <path d=\"M 150.549081 273.671006 \nL 150.986037 273.671006 \nL 150.986037 261.299916 \nL 150.549081 261.299916 \nz\n\" clip-path=\"url(#pae04297fc5)\" style=\"fill: #1f77b4; fill-opacity: 0.75; stroke: #000000; stroke-width: 0.029649; stroke-linejoin: miter\"/>\n   </g>\n   <g id=\"patch_802\">\n    <path d=\"M 150.986037 273.671006 \nL 151.422994 273.671006 \nL 151.422994 259.087469 \nL 150.986037 259.087469 \nz\n\" clip-path=\"url(#pae04297fc5)\" style=\"fill: #1f77b4; fill-opacity: 0.75; stroke: #000000; stroke-width: 0.029649; stroke-linejoin: miter\"/>\n   </g>\n   <g id=\"patch_803\">\n    <path d=\"M 151.422994 273.671006 \nL 151.85995 273.671006 \nL 151.85995 261.733699 \nL 151.422994 261.733699 \nz\n\" clip-path=\"url(#pae04297fc5)\" style=\"fill: #1f77b4; fill-opacity: 0.75; stroke: #000000; stroke-width: 0.029649; stroke-linejoin: miter\"/>\n   </g>\n   <g id=\"patch_804\">\n    <path d=\"M 151.85995 273.671006 \nL 152.296906 273.671006 \nL 152.296906 214.965363 \nL 151.85995 214.965363 \nz\n\" clip-path=\"url(#pae04297fc5)\" style=\"fill: #1f77b4; fill-opacity: 0.75; stroke: #000000; stroke-width: 0.029649; stroke-linejoin: miter\"/>\n   </g>\n   <g id=\"patch_805\">\n    <path d=\"M 152.296906 273.671006 \nL 152.733863 273.671006 \nL 152.733863 261.126552 \nL 152.296906 261.126552 \nz\n\" clip-path=\"url(#pae04297fc5)\" style=\"fill: #1f77b4; fill-opacity: 0.75; stroke: #000000; stroke-width: 0.029649; stroke-linejoin: miter\"/>\n   </g>\n   <g id=\"patch_806\">\n    <path d=\"M 152.733863 273.671006 \nL 153.170819 273.671006 \nL 153.170819 260.338537 \nL 152.733863 260.338537 \nz\n\" clip-path=\"url(#pae04297fc5)\" style=\"fill: #1f77b4; fill-opacity: 0.75; stroke: #000000; stroke-width: 0.029649; stroke-linejoin: miter\"/>\n   </g>\n   <g id=\"patch_807\">\n    <path d=\"M 153.170819 273.671006 \nL 153.607775 273.671006 \nL 153.607775 257.075403 \nL 153.170819 257.075403 \nz\n\" clip-path=\"url(#pae04297fc5)\" style=\"fill: #1f77b4; fill-opacity: 0.75; stroke: #000000; stroke-width: 0.029649; stroke-linejoin: miter\"/>\n   </g>\n   <g id=\"patch_808\">\n    <path d=\"M 153.607775 273.671006 \nL 154.044732 273.671006 \nL 154.044732 254.409659 \nL 153.607775 254.409659 \nz\n\" clip-path=\"url(#pae04297fc5)\" style=\"fill: #1f77b4; fill-opacity: 0.75; stroke: #000000; stroke-width: 0.029649; stroke-linejoin: miter\"/>\n   </g>\n   <g id=\"patch_809\">\n    <path d=\"M 154.044732 273.671006 \nL 154.481688 273.671006 \nL 154.481688 259.83796 \nL 154.044732 259.83796 \nz\n\" clip-path=\"url(#pae04297fc5)\" style=\"fill: #1f77b4; fill-opacity: 0.75; stroke: #000000; stroke-width: 0.029649; stroke-linejoin: miter\"/>\n   </g>\n   <g id=\"patch_810\">\n    <path d=\"M 154.481688 273.671006 \nL 154.918645 273.671006 \nL 154.918645 262.365613 \nL 154.481688 262.365613 \nz\n\" clip-path=\"url(#pae04297fc5)\" style=\"fill: #1f77b4; fill-opacity: 0.75; stroke: #000000; stroke-width: 0.029649; stroke-linejoin: miter\"/>\n   </g>\n   <g id=\"patch_811\">\n    <path d=\"M 154.918645 273.671006 \nL 155.355601 273.671006 \nL 155.355601 260.093877 \nL 154.918645 260.093877 \nz\n\" clip-path=\"url(#pae04297fc5)\" style=\"fill: #1f77b4; fill-opacity: 0.75; stroke: #000000; stroke-width: 0.029649; stroke-linejoin: miter\"/>\n   </g>\n   <g id=\"patch_812\">\n    <path d=\"M 155.355601 273.671006 \nL 155.792557 273.671006 \nL 155.792557 226.772084 \nL 155.355601 226.772084 \nz\n\" clip-path=\"url(#pae04297fc5)\" style=\"fill: #1f77b4; fill-opacity: 0.75; stroke: #000000; stroke-width: 0.029649; stroke-linejoin: miter\"/>\n   </g>\n   <g id=\"patch_813\">\n    <path d=\"M 155.792557 273.671006 \nL 156.229514 273.671006 \nL 156.229514 262.242532 \nL 155.792557 262.242532 \nz\n\" clip-path=\"url(#pae04297fc5)\" style=\"fill: #1f77b4; fill-opacity: 0.75; stroke: #000000; stroke-width: 0.029649; stroke-linejoin: miter\"/>\n   </g>\n   <g id=\"patch_814\">\n    <path d=\"M 156.229514 273.671006 \nL 156.66647 273.671006 \nL 156.66647 261.592607 \nL 156.229514 261.592607 \nz\n\" clip-path=\"url(#pae04297fc5)\" style=\"fill: #1f77b4; fill-opacity: 0.75; stroke: #000000; stroke-width: 0.029649; stroke-linejoin: miter\"/>\n   </g>\n   <g id=\"patch_815\">\n    <path d=\"M 156.66647 273.671006 \nL 157.103426 273.671006 \nL 157.103426 258.926864 \nL 156.66647 258.926864 \nz\n\" clip-path=\"url(#pae04297fc5)\" style=\"fill: #1f77b4; fill-opacity: 0.75; stroke: #000000; stroke-width: 0.029649; stroke-linejoin: miter\"/>\n   </g>\n   <g id=\"patch_816\">\n    <path d=\"M 157.103426 273.671006 \nL 157.540383 273.671006 \nL 157.540383 254.796913 \nL 157.103426 254.796913 \nz\n\" clip-path=\"url(#pae04297fc5)\" style=\"fill: #1f77b4; fill-opacity: 0.75; stroke: #000000; stroke-width: 0.029649; stroke-linejoin: miter\"/>\n   </g>\n   <g id=\"patch_817\">\n    <path d=\"M 157.540383 273.671006 \nL 157.977339 273.671006 \nL 157.977339 259.082966 \nL 157.540383 259.082966 \nz\n\" clip-path=\"url(#pae04297fc5)\" style=\"fill: #1f77b4; fill-opacity: 0.75; stroke: #000000; stroke-width: 0.029649; stroke-linejoin: miter\"/>\n   </g>\n   <g id=\"patch_818\">\n    <path d=\"M 157.977339 273.671006 \nL 158.414296 273.671006 \nL 158.414296 258.072055 \nL 157.977339 258.072055 \nz\n\" clip-path=\"url(#pae04297fc5)\" style=\"fill: #1f77b4; fill-opacity: 0.75; stroke: #000000; stroke-width: 0.029649; stroke-linejoin: miter\"/>\n   </g>\n   <g id=\"patch_819\">\n    <path d=\"M 158.414296 273.671006 \nL 158.851252 273.671006 \nL 158.851252 258.366998 \nL 158.414296 258.366998 \nz\n\" clip-path=\"url(#pae04297fc5)\" style=\"fill: #1f77b4; fill-opacity: 0.75; stroke: #000000; stroke-width: 0.029649; stroke-linejoin: miter\"/>\n   </g>\n   <g id=\"patch_820\">\n    <path d=\"M 158.851252 273.671006 \nL 159.288208 273.671006 \nL 159.288208 22.611563 \nL 158.851252 22.611563 \nz\n\" clip-path=\"url(#pae04297fc5)\" style=\"fill: #1f77b4; fill-opacity: 0.75; stroke: #000000; stroke-width: 0.029649; stroke-linejoin: miter\"/>\n   </g>\n   <g id=\"patch_821\">\n    <path d=\"M 159.288208 273.671006 \nL 159.725165 273.671006 \nL 159.725165 259.71563 \nL 159.288208 259.71563 \nz\n\" clip-path=\"url(#pae04297fc5)\" style=\"fill: #1f77b4; fill-opacity: 0.75; stroke: #000000; stroke-width: 0.029649; stroke-linejoin: miter\"/>\n   </g>\n   <g id=\"patch_822\">\n    <path d=\"M 159.725165 273.671006 \nL 160.162121 273.671006 \nL 160.162121 260.922419 \nL 159.725165 260.922419 \nz\n\" clip-path=\"url(#pae04297fc5)\" style=\"fill: #1f77b4; fill-opacity: 0.75; stroke: #000000; stroke-width: 0.029649; stroke-linejoin: miter\"/>\n   </g>\n   <g id=\"patch_823\">\n    <path d=\"M 160.162121 273.671006 \nL 160.599078 273.671006 \nL 160.599078 253.178854 \nL 160.162121 253.178854 \nz\n\" clip-path=\"url(#pae04297fc5)\" style=\"fill: #1f77b4; fill-opacity: 0.75; stroke: #000000; stroke-width: 0.029649; stroke-linejoin: miter\"/>\n   </g>\n   <g id=\"patch_824\">\n    <path d=\"M 160.599078 273.671006 \nL 161.036034 273.671006 \nL 161.036034 261.126552 \nL 160.599078 261.126552 \nz\n\" clip-path=\"url(#pae04297fc5)\" style=\"fill: #1f77b4; fill-opacity: 0.75; stroke: #000000; stroke-width: 0.029649; stroke-linejoin: miter\"/>\n   </g>\n   <g id=\"patch_825\">\n    <path d=\"M 161.036034 273.671006 \nL 161.47299 273.671006 \nL 161.47299 257.380102 \nL 161.036034 257.380102 \nz\n\" clip-path=\"url(#pae04297fc5)\" style=\"fill: #1f77b4; fill-opacity: 0.75; stroke: #000000; stroke-width: 0.029649; stroke-linejoin: miter\"/>\n   </g>\n   <g id=\"patch_826\">\n    <path d=\"M 161.47299 273.671006 \nL 161.909947 273.671006 \nL 161.909947 260.044344 \nL 161.47299 260.044344 \nz\n\" clip-path=\"url(#pae04297fc5)\" style=\"fill: #1f77b4; fill-opacity: 0.75; stroke: #000000; stroke-width: 0.029649; stroke-linejoin: miter\"/>\n   </g>\n   <g id=\"patch_827\">\n    <path d=\"M 161.909947 273.671006 \nL 162.346903 273.671006 \nL 162.346903 236.072917 \nL 161.909947 236.072917 \nz\n\" clip-path=\"url(#pae04297fc5)\" style=\"fill: #1f77b4; fill-opacity: 0.75; stroke: #000000; stroke-width: 0.029649; stroke-linejoin: miter\"/>\n   </g>\n   <g id=\"patch_828\">\n    <path d=\"M 162.346903 273.671006 \nL 162.783859 273.671006 \nL 162.783859 258.580137 \nL 162.346903 258.580137 \nz\n\" clip-path=\"url(#pae04297fc5)\" style=\"fill: #1f77b4; fill-opacity: 0.75; stroke: #000000; stroke-width: 0.029649; stroke-linejoin: miter\"/>\n   </g>\n   <g id=\"patch_829\">\n    <path d=\"M 162.783859 273.671006 \nL 163.220816 273.671006 \nL 163.220816 262.043652 \nL 162.783859 262.043652 \nz\n\" clip-path=\"url(#pae04297fc5)\" style=\"fill: #1f77b4; fill-opacity: 0.75; stroke: #000000; stroke-width: 0.029649; stroke-linejoin: miter\"/>\n   </g>\n   <g id=\"patch_830\">\n    <path d=\"M 163.220816 273.671006 \nL 163.657772 273.671006 \nL 163.657772 250.775783 \nL 163.220816 250.775783 \nz\n\" clip-path=\"url(#pae04297fc5)\" style=\"fill: #1f77b4; fill-opacity: 0.75; stroke: #000000; stroke-width: 0.029649; stroke-linejoin: miter\"/>\n   </g>\n   <g id=\"patch_831\">\n    <path d=\"M 163.657772 273.671006 \nL 164.094729 273.671006 \nL 164.094729 261.910815 \nL 163.657772 261.910815 \nz\n\" clip-path=\"url(#pae04297fc5)\" style=\"fill: #1f77b4; fill-opacity: 0.75; stroke: #000000; stroke-width: 0.029649; stroke-linejoin: miter\"/>\n   </g>\n   <g id=\"patch_832\">\n    <path d=\"M 164.094729 273.671006 \nL 164.531685 273.671006 \nL 164.531685 257.128688 \nL 164.094729 257.128688 \nz\n\" clip-path=\"url(#pae04297fc5)\" style=\"fill: #1f77b4; fill-opacity: 0.75; stroke: #000000; stroke-width: 0.029649; stroke-linejoin: miter\"/>\n   </g>\n   <g id=\"patch_833\">\n    <path d=\"M 164.531685 273.671006 \nL 164.968641 273.671006 \nL 164.968641 188.89031 \nL 164.531685 188.89031 \nz\n\" clip-path=\"url(#pae04297fc5)\" style=\"fill: #1f77b4; fill-opacity: 0.75; stroke: #000000; stroke-width: 0.029649; stroke-linejoin: miter\"/>\n   </g>\n   <g id=\"patch_834\">\n    <path d=\"M 164.968641 273.671006 \nL 165.405598 273.671006 \nL 165.405598 258.956883 \nL 164.968641 258.956883 \nz\n\" clip-path=\"url(#pae04297fc5)\" style=\"fill: #1f77b4; fill-opacity: 0.75; stroke: #000000; stroke-width: 0.029649; stroke-linejoin: miter\"/>\n   </g>\n   <g id=\"patch_835\">\n    <path d=\"M 165.405598 273.671006 \nL 165.842554 273.671006 \nL 165.842554 261.806497 \nL 165.405598 261.806497 \nz\n\" clip-path=\"url(#pae04297fc5)\" style=\"fill: #1f77b4; fill-opacity: 0.75; stroke: #000000; stroke-width: 0.029649; stroke-linejoin: miter\"/>\n   </g>\n   <g id=\"patch_836\">\n    <path d=\"M 165.842554 273.671006 \nL 166.27951 273.671006 \nL 166.27951 252.222729 \nL 165.842554 252.222729 \nz\n\" clip-path=\"url(#pae04297fc5)\" style=\"fill: #1f77b4; fill-opacity: 0.75; stroke: #000000; stroke-width: 0.029649; stroke-linejoin: miter\"/>\n   </g>\n   <g id=\"patch_837\">\n    <path d=\"M 166.27951 273.671006 \nL 166.716467 273.671006 \nL 166.716467 260.238722 \nL 166.27951 260.238722 \nz\n\" clip-path=\"url(#pae04297fc5)\" style=\"fill: #1f77b4; fill-opacity: 0.75; stroke: #000000; stroke-width: 0.029649; stroke-linejoin: miter\"/>\n   </g>\n   <g id=\"patch_838\">\n    <path d=\"M 166.716467 273.671006 \nL 167.153423 273.671006 \nL 167.153423 230.48101 \nL 166.716467 230.48101 \nz\n\" clip-path=\"url(#pae04297fc5)\" style=\"fill: #1f77b4; fill-opacity: 0.75; stroke: #000000; stroke-width: 0.029649; stroke-linejoin: miter\"/>\n   </g>\n   <g id=\"patch_839\">\n    <path d=\"M 167.153423 273.671006 \nL 167.59038 273.671006 \nL 167.59038 259.15126 \nL 167.153423 259.15126 \nz\n\" clip-path=\"url(#pae04297fc5)\" style=\"fill: #1f77b4; fill-opacity: 0.75; stroke: #000000; stroke-width: 0.029649; stroke-linejoin: miter\"/>\n   </g>\n   <g id=\"patch_840\">\n    <path d=\"M 167.59038 273.671006 \nL 168.027336 273.671006 \nL 168.027336 261.768972 \nL 167.59038 261.768972 \nz\n\" clip-path=\"url(#pae04297fc5)\" style=\"fill: #1f77b4; fill-opacity: 0.75; stroke: #000000; stroke-width: 0.029649; stroke-linejoin: miter\"/>\n   </g>\n   <g id=\"patch_841\">\n    <path d=\"M 168.027336 273.671006 \nL 168.464292 273.671006 \nL 168.464292 253.013746 \nL 168.027336 253.013746 \nz\n\" clip-path=\"url(#pae04297fc5)\" style=\"fill: #1f77b4; fill-opacity: 0.75; stroke: #000000; stroke-width: 0.029649; stroke-linejoin: miter\"/>\n   </g>\n   <g id=\"patch_842\">\n    <path d=\"M 168.464292 273.671006 \nL 168.901249 273.671006 \nL 168.901249 260.044344 \nL 168.464292 260.044344 \nz\n\" clip-path=\"url(#pae04297fc5)\" style=\"fill: #1f77b4; fill-opacity: 0.75; stroke: #000000; stroke-width: 0.029649; stroke-linejoin: miter\"/>\n   </g>\n   <g id=\"patch_843\">\n    <path d=\"M 168.901249 273.671006 \nL 169.338205 273.671006 \nL 169.338205 260.153166 \nL 168.901249 260.153166 \nz\n\" clip-path=\"url(#pae04297fc5)\" style=\"fill: #1f77b4; fill-opacity: 0.75; stroke: #000000; stroke-width: 0.029649; stroke-linejoin: miter\"/>\n   </g>\n   <g id=\"patch_844\">\n    <path d=\"M 169.338205 273.671006 \nL 169.775161 273.671006 \nL 169.775161 237.179891 \nL 169.338205 237.179891 \nz\n\" clip-path=\"url(#pae04297fc5)\" style=\"fill: #1f77b4; fill-opacity: 0.75; stroke: #000000; stroke-width: 0.029649; stroke-linejoin: miter\"/>\n   </g>\n   <g id=\"patch_845\">\n    <path d=\"M 169.775161 273.671006 \nL 170.212118 273.671006 \nL 170.212118 259.412431 \nL 169.775161 259.412431 \nz\n\" clip-path=\"url(#pae04297fc5)\" style=\"fill: #1f77b4; fill-opacity: 0.75; stroke: #000000; stroke-width: 0.029649; stroke-linejoin: miter\"/>\n   </g>\n   <g id=\"patch_846\">\n    <path d=\"M 170.212118 273.671006 \nL 170.649074 273.671006 \nL 170.649074 255.530893 \nL 170.212118 255.530893 \nz\n\" clip-path=\"url(#pae04297fc5)\" style=\"fill: #1f77b4; fill-opacity: 0.75; stroke: #000000; stroke-width: 0.029649; stroke-linejoin: miter\"/>\n   </g>\n   <g id=\"patch_847\">\n    <path d=\"M 170.649074 273.671006 \nL 171.086031 273.671006 \nL 171.086031 261.541574 \nL 170.649074 261.541574 \nz\n\" clip-path=\"url(#pae04297fc5)\" style=\"fill: #1f77b4; fill-opacity: 0.75; stroke: #000000; stroke-width: 0.029649; stroke-linejoin: miter\"/>\n   </g>\n   <g id=\"patch_848\">\n    <path d=\"M 171.086031 273.671006 \nL 171.522987 273.671006 \nL 171.522987 260.298761 \nL 171.086031 260.298761 \nz\n\" clip-path=\"url(#pae04297fc5)\" style=\"fill: #1f77b4; fill-opacity: 0.75; stroke: #000000; stroke-width: 0.029649; stroke-linejoin: miter\"/>\n   </g>\n   <g id=\"patch_849\">\n    <path d=\"M 171.522987 273.671006 \nL 171.959943 273.671006 \nL 171.959943 74.525265 \nL 171.522987 74.525265 \nz\n\" clip-path=\"url(#pae04297fc5)\" style=\"fill: #1f77b4; fill-opacity: 0.75; stroke: #000000; stroke-width: 0.029649; stroke-linejoin: miter\"/>\n   </g>\n   <g id=\"patch_850\">\n    <path d=\"M 171.959943 273.671006 \nL 172.3969 273.671006 \nL 172.3969 258.772263 \nL 171.959943 258.772263 \nz\n\" clip-path=\"url(#pae04297fc5)\" style=\"fill: #1f77b4; fill-opacity: 0.75; stroke: #000000; stroke-width: 0.029649; stroke-linejoin: miter\"/>\n   </g>\n   <g id=\"patch_851\">\n    <path d=\"M 172.3969 273.671006 \nL 172.833856 273.671006 \nL 172.833856 257.08591 \nL 172.3969 257.08591 \nz\n\" clip-path=\"url(#pae04297fc5)\" style=\"fill: #1f77b4; fill-opacity: 0.75; stroke: #000000; stroke-width: 0.029649; stroke-linejoin: miter\"/>\n   </g>\n   <g id=\"patch_852\">\n    <path d=\"M 172.833856 273.671006 \nL 173.270812 273.671006 \nL 173.270812 261.847774 \nL 172.833856 261.847774 \nz\n\" clip-path=\"url(#pae04297fc5)\" style=\"fill: #1f77b4; fill-opacity: 0.75; stroke: #000000; stroke-width: 0.029649; stroke-linejoin: miter\"/>\n   </g>\n   <g id=\"patch_853\">\n    <path d=\"M 173.270812 273.671006 \nL 173.707769 273.671006 \nL 173.707769 242.26972 \nL 173.270812 242.26972 \nz\n\" clip-path=\"url(#pae04297fc5)\" style=\"fill: #1f77b4; fill-opacity: 0.75; stroke: #000000; stroke-width: 0.029649; stroke-linejoin: miter\"/>\n   </g>\n   <g id=\"patch_854\">\n    <path d=\"M 173.707769 273.671006 \nL 174.144725 273.671006 \nL 174.144725 259.329127 \nL 173.707769 259.329127 \nz\n\" clip-path=\"url(#pae04297fc5)\" style=\"fill: #1f77b4; fill-opacity: 0.75; stroke: #000000; stroke-width: 0.029649; stroke-linejoin: miter\"/>\n   </g>\n   <g id=\"patch_855\">\n    <path d=\"M 174.144725 273.671006 \nL 174.581682 273.671006 \nL 174.581682 255.361282 \nL 174.144725 255.361282 \nz\n\" clip-path=\"url(#pae04297fc5)\" style=\"fill: #1f77b4; fill-opacity: 0.75; stroke: #000000; stroke-width: 0.029649; stroke-linejoin: miter\"/>\n   </g>\n   <g id=\"patch_856\">\n    <path d=\"M 174.581682 273.671006 \nL 175.018638 273.671006 \nL 175.018638 262.268049 \nL 174.581682 262.268049 \nz\n\" clip-path=\"url(#pae04297fc5)\" style=\"fill: #1f77b4; fill-opacity: 0.75; stroke: #000000; stroke-width: 0.029649; stroke-linejoin: miter\"/>\n   </g>\n   <g id=\"patch_857\">\n    <path d=\"M 175.018638 273.671006 \nL 175.455594 273.671006 \nL 175.455594 229.774048 \nL 175.018638 229.774048 \nz\n\" clip-path=\"url(#pae04297fc5)\" style=\"fill: #1f77b4; fill-opacity: 0.75; stroke: #000000; stroke-width: 0.029649; stroke-linejoin: miter\"/>\n   </g>\n   <g id=\"patch_858\">\n    <path d=\"M 175.455594 273.671006 \nL 175.892551 273.671006 \nL 175.892551 262.322084 \nL 175.455594 262.322084 \nz\n\" clip-path=\"url(#pae04297fc5)\" style=\"fill: #1f77b4; fill-opacity: 0.75; stroke: #000000; stroke-width: 0.029649; stroke-linejoin: miter\"/>\n   </g>\n   <g id=\"patch_859\">\n    <path d=\"M 175.892551 273.671006 \nL 176.329507 273.671006 \nL 176.329507 263.486095 \nL 175.892551 263.486095 \nz\n\" clip-path=\"url(#pae04297fc5)\" style=\"fill: #1f77b4; fill-opacity: 0.75; stroke: #000000; stroke-width: 0.029649; stroke-linejoin: miter\"/>\n   </g>\n   <g id=\"patch_860\">\n    <path d=\"M 176.329507 273.671006 \nL 176.766463 273.671006 \nL 176.766463 258.706219 \nL 176.329507 258.706219 \nz\n\" clip-path=\"url(#pae04297fc5)\" style=\"fill: #1f77b4; fill-opacity: 0.75; stroke: #000000; stroke-width: 0.029649; stroke-linejoin: miter\"/>\n   </g>\n   <g id=\"patch_861\">\n    <path d=\"M 176.766463 273.671006 \nL 177.20342 273.671006 \nL 177.20342 260.809845 \nL 176.766463 260.809845 \nz\n\" clip-path=\"url(#pae04297fc5)\" style=\"fill: #1f77b4; fill-opacity: 0.75; stroke: #000000; stroke-width: 0.029649; stroke-linejoin: miter\"/>\n   </g>\n   <g id=\"patch_862\">\n    <path d=\"M 177.20342 273.671006 \nL 177.640376 273.671006 \nL 177.640376 243.440486 \nL 177.20342 243.440486 \nz\n\" clip-path=\"url(#pae04297fc5)\" style=\"fill: #1f77b4; fill-opacity: 0.75; stroke: #000000; stroke-width: 0.029649; stroke-linejoin: miter\"/>\n   </g>\n   <g id=\"patch_863\">\n    <path d=\"M 177.640376 273.671006 \nL 178.077333 273.671006 \nL 178.077333 259.860474 \nL 177.640376 259.860474 \nz\n\" clip-path=\"url(#pae04297fc5)\" style=\"fill: #1f77b4; fill-opacity: 0.75; stroke: #000000; stroke-width: 0.029649; stroke-linejoin: miter\"/>\n   </g>\n   <g id=\"patch_864\">\n    <path d=\"M 178.077333 273.671006 \nL 178.514289 273.671006 \nL 178.514289 264.194559 \nL 178.077333 264.194559 \nz\n\" clip-path=\"url(#pae04297fc5)\" style=\"fill: #1f77b4; fill-opacity: 0.75; stroke: #000000; stroke-width: 0.029649; stroke-linejoin: miter\"/>\n   </g>\n   <g id=\"patch_865\">\n    <path d=\"M 178.514289 273.671006 \nL 178.951245 273.671006 \nL 178.951245 249.299567 \nL 178.514289 249.299567 \nz\n\" clip-path=\"url(#pae04297fc5)\" style=\"fill: #1f77b4; fill-opacity: 0.75; stroke: #000000; stroke-width: 0.029649; stroke-linejoin: miter\"/>\n   </g>\n   <g id=\"patch_866\">\n    <path d=\"M 178.951245 273.671006 \nL 179.388202 273.671006 \nL 179.388202 263.244437 \nL 178.951245 263.244437 \nz\n\" clip-path=\"url(#pae04297fc5)\" style=\"fill: #1f77b4; fill-opacity: 0.75; stroke: #000000; stroke-width: 0.029649; stroke-linejoin: miter\"/>\n   </g>\n   <g id=\"patch_867\">\n    <path d=\"M 179.388202 273.671006 \nL 179.825158 273.671006 \nL 179.825158 261.640638 \nL 179.388202 261.640638 \nz\n\" clip-path=\"url(#pae04297fc5)\" style=\"fill: #1f77b4; fill-opacity: 0.75; stroke: #000000; stroke-width: 0.029649; stroke-linejoin: miter\"/>\n   </g>\n   <g id=\"patch_868\">\n    <path d=\"M 179.825158 273.671006 \nL 180.262115 273.671006 \nL 180.262115 263.522119 \nL 179.825158 263.522119 \nz\n\" clip-path=\"url(#pae04297fc5)\" style=\"fill: #1f77b4; fill-opacity: 0.75; stroke: #000000; stroke-width: 0.029649; stroke-linejoin: miter\"/>\n   </g>\n   <g id=\"patch_869\">\n    <path d=\"M 180.262115 273.671006 \nL 180.699071 273.671006 \nL 180.699071 28.219981 \nL 180.262115 28.219981 \nz\n\" clip-path=\"url(#pae04297fc5)\" style=\"fill: #1f77b4; fill-opacity: 0.75; stroke: #000000; stroke-width: 0.029649; stroke-linejoin: miter\"/>\n   </g>\n   <g id=\"patch_870\">\n    <path d=\"M 180.699071 273.671006 \nL 181.136027 273.671006 \nL 181.136027 262.251538 \nL 180.699071 262.251538 \nz\n\" clip-path=\"url(#pae04297fc5)\" style=\"fill: #1f77b4; fill-opacity: 0.75; stroke: #000000; stroke-width: 0.029649; stroke-linejoin: miter\"/>\n   </g>\n   <g id=\"patch_871\">\n    <path d=\"M 181.136027 273.671006 \nL 181.572984 273.671006 \nL 181.572984 261.975357 \nL 181.136027 261.975357 \nz\n\" clip-path=\"url(#pae04297fc5)\" style=\"fill: #1f77b4; fill-opacity: 0.75; stroke: #000000; stroke-width: 0.029649; stroke-linejoin: miter\"/>\n   </g>\n   <g id=\"patch_872\">\n    <path d=\"M 181.572984 273.671006 \nL 182.00994 273.671006 \nL 182.00994 255.430327 \nL 181.572984 255.430327 \nz\n\" clip-path=\"url(#pae04297fc5)\" style=\"fill: #1f77b4; fill-opacity: 0.75; stroke: #000000; stroke-width: 0.029649; stroke-linejoin: miter\"/>\n   </g>\n   <g id=\"patch_873\">\n    <path d=\"M 182.00994 273.671006 \nL 182.446896 273.671006 \nL 182.446896 265.168696 \nL 182.00994 265.168696 \nz\n\" clip-path=\"url(#pae04297fc5)\" style=\"fill: #1f77b4; fill-opacity: 0.75; stroke: #000000; stroke-width: 0.029649; stroke-linejoin: miter\"/>\n   </g>\n   <g id=\"patch_874\">\n    <path d=\"M 182.446896 273.671006 \nL 182.883853 273.671006 \nL 182.883853 255.738028 \nL 182.446896 255.738028 \nz\n\" clip-path=\"url(#pae04297fc5)\" style=\"fill: #1f77b4; fill-opacity: 0.75; stroke: #000000; stroke-width: 0.029649; stroke-linejoin: miter\"/>\n   </g>\n   <g id=\"patch_875\">\n    <path d=\"M 182.883853 273.671006 \nL 183.320809 273.671006 \nL 183.320809 263.608425 \nL 182.883853 263.608425 \nz\n\" clip-path=\"url(#pae04297fc5)\" style=\"fill: #1f77b4; fill-opacity: 0.75; stroke: #000000; stroke-width: 0.029649; stroke-linejoin: miter\"/>\n   </g>\n   <g id=\"patch_876\">\n    <path d=\"M 183.320809 273.671006 \nL 183.757766 273.671006 \nL 183.757766 238.395686 \nL 183.320809 238.395686 \nz\n\" clip-path=\"url(#pae04297fc5)\" style=\"fill: #1f77b4; fill-opacity: 0.75; stroke: #000000; stroke-width: 0.029649; stroke-linejoin: miter\"/>\n   </g>\n   <g id=\"patch_877\">\n    <path d=\"M 183.757766 273.671006 \nL 184.194722 273.671006 \nL 184.194722 262.325837 \nL 183.757766 262.325837 \nz\n\" clip-path=\"url(#pae04297fc5)\" style=\"fill: #1f77b4; fill-opacity: 0.75; stroke: #000000; stroke-width: 0.029649; stroke-linejoin: miter\"/>\n   </g>\n   <g id=\"patch_878\">\n    <path d=\"M 184.194722 273.671006 \nL 184.631678 273.671006 \nL 184.631678 265.558201 \nL 184.194722 265.558201 \nz\n\" clip-path=\"url(#pae04297fc5)\" style=\"fill: #1f77b4; fill-opacity: 0.75; stroke: #000000; stroke-width: 0.029649; stroke-linejoin: miter\"/>\n   </g>\n   <g id=\"patch_879\">\n    <path d=\"M 184.631678 273.671006 \nL 185.068635 273.671006 \nL 185.068635 254.04342 \nL 184.631678 254.04342 \nz\n\" clip-path=\"url(#pae04297fc5)\" style=\"fill: #1f77b4; fill-opacity: 0.75; stroke: #000000; stroke-width: 0.029649; stroke-linejoin: miter\"/>\n   </g>\n   <g id=\"patch_880\">\n    <path d=\"M 185.068635 273.671006 \nL 185.505591 273.671006 \nL 185.505591 259.164019 \nL 185.068635 259.164019 \nz\n\" clip-path=\"url(#pae04297fc5)\" style=\"fill: #1f77b4; fill-opacity: 0.75; stroke: #000000; stroke-width: 0.029649; stroke-linejoin: miter\"/>\n   </g>\n   <g id=\"patch_881\">\n    <path d=\"M 185.505591 273.671006 \nL 185.942547 273.671006 \nL 185.942547 266.048271 \nL 185.505591 266.048271 \nz\n\" clip-path=\"url(#pae04297fc5)\" style=\"fill: #1f77b4; fill-opacity: 0.75; stroke: #000000; stroke-width: 0.029649; stroke-linejoin: miter\"/>\n   </g>\n   <g id=\"patch_882\">\n    <path d=\"M 185.942547 273.671006 \nL 186.379504 273.671006 \nL 186.379504 250.696231 \nL 185.942547 250.696231 \nz\n\" clip-path=\"url(#pae04297fc5)\" style=\"fill: #1f77b4; fill-opacity: 0.75; stroke: #000000; stroke-width: 0.029649; stroke-linejoin: miter\"/>\n   </g>\n   <g id=\"patch_883\">\n    <path d=\"M 186.379504 273.671006 \nL 186.81646 273.671006 \nL 186.81646 264.30413 \nL 186.379504 264.30413 \nz\n\" clip-path=\"url(#pae04297fc5)\" style=\"fill: #1f77b4; fill-opacity: 0.75; stroke: #000000; stroke-width: 0.029649; stroke-linejoin: miter\"/>\n   </g>\n   <g id=\"patch_884\">\n    <path d=\"M 186.81646 273.671006 \nL 187.253417 273.671006 \nL 187.253417 266.435524 \nL 186.81646 266.435524 \nz\n\" clip-path=\"url(#pae04297fc5)\" style=\"fill: #1f77b4; fill-opacity: 0.75; stroke: #000000; stroke-width: 0.029649; stroke-linejoin: miter\"/>\n   </g>\n   <g id=\"patch_885\">\n    <path d=\"M 187.253417 273.671006 \nL 187.690373 273.671006 \nL 187.690373 179.418365 \nL 187.253417 179.418365 \nz\n\" clip-path=\"url(#pae04297fc5)\" style=\"fill: #1f77b4; fill-opacity: 0.75; stroke: #000000; stroke-width: 0.029649; stroke-linejoin: miter\"/>\n   </g>\n   <g id=\"patch_886\">\n    <path d=\"M 187.690373 273.671006 \nL 188.127329 273.671006 \nL 188.127329 264.568303 \nL 187.690373 264.568303 \nz\n\" clip-path=\"url(#pae04297fc5)\" style=\"fill: #1f77b4; fill-opacity: 0.75; stroke: #000000; stroke-width: 0.029649; stroke-linejoin: miter\"/>\n   </g>\n   <g id=\"patch_887\">\n    <path d=\"M 188.127329 273.671006 \nL 188.564286 273.671006 \nL 188.564286 266.102306 \nL 188.127329 266.102306 \nz\n\" clip-path=\"url(#pae04297fc5)\" style=\"fill: #1f77b4; fill-opacity: 0.75; stroke: #000000; stroke-width: 0.029649; stroke-linejoin: miter\"/>\n   </g>\n   <g id=\"patch_888\">\n    <path d=\"M 188.564286 273.671006 \nL 189.001242 273.671006 \nL 189.001242 259.616565 \nL 188.564286 259.616565 \nz\n\" clip-path=\"url(#pae04297fc5)\" style=\"fill: #1f77b4; fill-opacity: 0.75; stroke: #000000; stroke-width: 0.029649; stroke-linejoin: miter\"/>\n   </g>\n   <g id=\"patch_889\">\n    <path d=\"M 189.001242 273.671006 \nL 189.438198 273.671006 \nL 189.438198 264.335651 \nL 189.001242 264.335651 \nz\n\" clip-path=\"url(#pae04297fc5)\" style=\"fill: #1f77b4; fill-opacity: 0.75; stroke: #000000; stroke-width: 0.029649; stroke-linejoin: miter\"/>\n   </g>\n   <g id=\"patch_890\">\n    <path d=\"M 189.438198 273.671006 \nL 189.875155 273.671006 \nL 189.875155 250.032046 \nL 189.438198 250.032046 \nz\n\" clip-path=\"url(#pae04297fc5)\" style=\"fill: #1f77b4; fill-opacity: 0.75; stroke: #000000; stroke-width: 0.029649; stroke-linejoin: miter\"/>\n   </g>\n   <g id=\"patch_891\">\n    <path d=\"M 189.875155 273.671006 \nL 190.312111 273.671006 \nL 190.312111 266.906833 \nL 189.875155 266.906833 \nz\n\" clip-path=\"url(#pae04297fc5)\" style=\"fill: #1f77b4; fill-opacity: 0.75; stroke: #000000; stroke-width: 0.029649; stroke-linejoin: miter\"/>\n   </g>\n   <g id=\"patch_892\">\n    <path d=\"M 190.312111 273.671006 \nL 190.749068 273.671006 \nL 190.749068 265.162692 \nL 190.312111 265.162692 \nz\n\" clip-path=\"url(#pae04297fc5)\" style=\"fill: #1f77b4; fill-opacity: 0.75; stroke: #000000; stroke-width: 0.029649; stroke-linejoin: miter\"/>\n   </g>\n   <g id=\"patch_893\">\n    <path d=\"M 190.749068 273.671006 \nL 191.186024 273.671006 \nL 191.186024 257.912951 \nL 190.749068 257.912951 \nz\n\" clip-path=\"url(#pae04297fc5)\" style=\"fill: #1f77b4; fill-opacity: 0.75; stroke: #000000; stroke-width: 0.029649; stroke-linejoin: miter\"/>\n   </g>\n   <g id=\"patch_894\">\n    <path d=\"M 191.186024 273.671006 \nL 191.62298 273.671006 \nL 191.62298 266.019002 \nL 191.186024 266.019002 \nz\n\" clip-path=\"url(#pae04297fc5)\" style=\"fill: #1f77b4; fill-opacity: 0.75; stroke: #000000; stroke-width: 0.029649; stroke-linejoin: miter\"/>\n   </g>\n   <g id=\"patch_895\">\n    <path d=\"M 191.62298 273.671006 \nL 192.059937 273.671006 \nL 192.059937 259.071708 \nL 191.62298 259.071708 \nz\n\" clip-path=\"url(#pae04297fc5)\" style=\"fill: #1f77b4; fill-opacity: 0.75; stroke: #000000; stroke-width: 0.029649; stroke-linejoin: miter\"/>\n   </g>\n   <g id=\"patch_896\">\n    <path d=\"M 192.059937 273.671006 \nL 192.496893 273.671006 \nL 192.496893 267.811174 \nL 192.059937 267.811174 \nz\n\" clip-path=\"url(#pae04297fc5)\" style=\"fill: #1f77b4; fill-opacity: 0.75; stroke: #000000; stroke-width: 0.029649; stroke-linejoin: miter\"/>\n   </g>\n   <g id=\"patch_897\">\n    <path d=\"M 192.496893 273.671006 \nL 192.933849 273.671006 \nL 192.933849 266.064782 \nL 192.496893 266.064782 \nz\n\" clip-path=\"url(#pae04297fc5)\" style=\"fill: #1f77b4; fill-opacity: 0.75; stroke: #000000; stroke-width: 0.029649; stroke-linejoin: miter\"/>\n   </g>\n   <g id=\"patch_898\">\n    <path d=\"M 192.933849 273.671006 \nL 193.370806 273.671006 \nL 193.370806 20.231006 \nL 192.933849 20.231006 \nz\n\" clip-path=\"url(#pae04297fc5)\" style=\"fill: #1f77b4; fill-opacity: 0.75; stroke: #000000; stroke-width: 0.029649; stroke-linejoin: miter\"/>\n   </g>\n   <g id=\"patch_899\">\n    <path d=\"M 193.370806 273.671006 \nL 193.807762 273.671006 \nL 193.807762 265.398346 \nL 193.370806 265.398346 \nz\n\" clip-path=\"url(#pae04297fc5)\" style=\"fill: #1f77b4; fill-opacity: 0.75; stroke: #000000; stroke-width: 0.029649; stroke-linejoin: miter\"/>\n   </g>\n   <g id=\"patch_900\">\n    <path d=\"M 193.807762 273.671006 \nL 194.244719 273.671006 \nL 194.244719 263.170889 \nL 193.807762 263.170889 \nz\n\" clip-path=\"url(#pae04297fc5)\" style=\"fill: #1f77b4; fill-opacity: 0.75; stroke: #000000; stroke-width: 0.029649; stroke-linejoin: miter\"/>\n   </g>\n   <g id=\"patch_901\">\n    <path d=\"M 194.244719 273.671006 \nL 194.681675 273.671006 \nL 194.681675 264.885761 \nL 194.244719 264.885761 \nz\n\" clip-path=\"url(#pae04297fc5)\" style=\"fill: #1f77b4; fill-opacity: 0.75; stroke: #000000; stroke-width: 0.029649; stroke-linejoin: miter\"/>\n   </g>\n   <g id=\"patch_902\">\n    <path d=\"M 194.681675 273.671006 \nL 195.118631 273.671006 \nL 195.118631 253.555601 \nL 194.681675 253.555601 \nz\n\" clip-path=\"url(#pae04297fc5)\" style=\"fill: #1f77b4; fill-opacity: 0.75; stroke: #000000; stroke-width: 0.029649; stroke-linejoin: miter\"/>\n   </g>\n   <g id=\"patch_903\">\n    <path d=\"M 195.118631 273.671006 \nL 195.555588 273.671006 \nL 195.555588 265.974723 \nL 195.118631 265.974723 \nz\n\" clip-path=\"url(#pae04297fc5)\" style=\"fill: #1f77b4; fill-opacity: 0.75; stroke: #000000; stroke-width: 0.029649; stroke-linejoin: miter\"/>\n   </g>\n   <g id=\"patch_904\">\n    <path d=\"M 195.555588 273.671006 \nL 195.992544 273.671006 \nL 195.992544 266.648664 \nL 195.555588 266.648664 \nz\n\" clip-path=\"url(#pae04297fc5)\" style=\"fill: #1f77b4; fill-opacity: 0.75; stroke: #000000; stroke-width: 0.029649; stroke-linejoin: miter\"/>\n   </g>\n   <g id=\"patch_905\">\n    <path d=\"M 195.992544 273.671006 \nL 196.4295 273.671006 \nL 196.4295 263.778787 \nL 195.992544 263.778787 \nz\n\" clip-path=\"url(#pae04297fc5)\" style=\"fill: #1f77b4; fill-opacity: 0.75; stroke: #000000; stroke-width: 0.029649; stroke-linejoin: miter\"/>\n   </g>\n   <g id=\"patch_906\">\n    <path d=\"M 196.4295 273.671006 \nL 196.866457 273.671006 \nL 196.866457 267.773649 \nL 196.4295 267.773649 \nz\n\" clip-path=\"url(#pae04297fc5)\" style=\"fill: #1f77b4; fill-opacity: 0.75; stroke: #000000; stroke-width: 0.029649; stroke-linejoin: miter\"/>\n   </g>\n   <g id=\"patch_907\">\n    <path d=\"M 196.866457 273.671006 \nL 197.303413 273.671006 \nL 197.303413 263.775785 \nL 196.866457 263.775785 \nz\n\" clip-path=\"url(#pae04297fc5)\" style=\"fill: #1f77b4; fill-opacity: 0.75; stroke: #000000; stroke-width: 0.029649; stroke-linejoin: miter\"/>\n   </g>\n   <g id=\"patch_908\">\n    <path d=\"M 197.303413 273.671006 \nL 197.74037 273.671006 \nL 197.74037 268.307248 \nL 197.303413 268.307248 \nz\n\" clip-path=\"url(#pae04297fc5)\" style=\"fill: #1f77b4; fill-opacity: 0.75; stroke: #000000; stroke-width: 0.029649; stroke-linejoin: miter\"/>\n   </g>\n   <g id=\"patch_909\">\n    <path d=\"M 197.74037 273.671006 \nL 198.177326 273.671006 \nL 198.177326 234.093122 \nL 197.74037 234.093122 \nz\n\" clip-path=\"url(#pae04297fc5)\" style=\"fill: #1f77b4; fill-opacity: 0.75; stroke: #000000; stroke-width: 0.029649; stroke-linejoin: miter\"/>\n   </g>\n   <g id=\"patch_910\">\n    <path d=\"M 198.177326 273.671006 \nL 198.614282 273.671006 \nL 198.614282 267.757889 \nL 198.177326 267.757889 \nz\n\" clip-path=\"url(#pae04297fc5)\" style=\"fill: #1f77b4; fill-opacity: 0.75; stroke: #000000; stroke-width: 0.029649; stroke-linejoin: miter\"/>\n   </g>\n   <g id=\"patch_911\">\n    <path d=\"M 198.614282 273.671006 \nL 199.051239 273.671006 \nL 199.051239 265.446377 \nL 198.614282 265.446377 \nz\n\" clip-path=\"url(#pae04297fc5)\" style=\"fill: #1f77b4; fill-opacity: 0.75; stroke: #000000; stroke-width: 0.029649; stroke-linejoin: miter\"/>\n   </g>\n   <g id=\"patch_912\">\n    <path d=\"M 199.051239 273.671006 \nL 199.488195 273.671006 \nL 199.488195 267.959021 \nL 199.051239 267.959021 \nz\n\" clip-path=\"url(#pae04297fc5)\" style=\"fill: #1f77b4; fill-opacity: 0.75; stroke: #000000; stroke-width: 0.029649; stroke-linejoin: miter\"/>\n   </g>\n   <g id=\"patch_913\">\n    <path d=\"M 199.488195 273.671006 \nL 199.925152 273.671006 \nL 199.925152 261.62788 \nL 199.488195 261.62788 \nz\n\" clip-path=\"url(#pae04297fc5)\" style=\"fill: #1f77b4; fill-opacity: 0.75; stroke: #000000; stroke-width: 0.029649; stroke-linejoin: miter\"/>\n   </g>\n   <g id=\"patch_914\">\n    <path d=\"M 199.925152 273.671006 \nL 200.362108 273.671006 \nL 200.362108 268.503877 \nL 199.925152 268.503877 \nz\n\" clip-path=\"url(#pae04297fc5)\" style=\"fill: #1f77b4; fill-opacity: 0.75; stroke: #000000; stroke-width: 0.029649; stroke-linejoin: miter\"/>\n   </g>\n   <g id=\"patch_915\">\n    <path d=\"M 200.362108 273.671006 \nL 200.799064 273.671006 \nL 200.799064 265.15969 \nL 200.362108 265.15969 \nz\n\" clip-path=\"url(#pae04297fc5)\" style=\"fill: #1f77b4; fill-opacity: 0.75; stroke: #000000; stroke-width: 0.029649; stroke-linejoin: miter\"/>\n   </g>\n   <g id=\"patch_916\">\n    <path d=\"M 200.799064 273.671006 \nL 201.236021 273.671006 \nL 201.236021 267.201025 \nL 200.799064 267.201025 \nz\n\" clip-path=\"url(#pae04297fc5)\" style=\"fill: #1f77b4; fill-opacity: 0.75; stroke: #000000; stroke-width: 0.029649; stroke-linejoin: miter\"/>\n   </g>\n   <g id=\"patch_917\">\n    <path d=\"M 201.236021 273.671006 \nL 201.672977 273.671006 \nL 201.672977 269.457 \nL 201.236021 269.457 \nz\n\" clip-path=\"url(#pae04297fc5)\" style=\"fill: #1f77b4; fill-opacity: 0.75; stroke: #000000; stroke-width: 0.029649; stroke-linejoin: miter\"/>\n   </g>\n   <g id=\"patch_918\">\n    <path d=\"M 201.672977 273.671006 \nL 202.109933 273.671006 \nL 202.109933 209.527306 \nL 201.672977 209.527306 \nz\n\" clip-path=\"url(#pae04297fc5)\" style=\"fill: #1f77b4; fill-opacity: 0.75; stroke: #000000; stroke-width: 0.029649; stroke-linejoin: miter\"/>\n   </g>\n   <g id=\"patch_919\">\n    <path d=\"M 202.109933 273.671006 \nL 202.54689 273.671006 \nL 202.54689 269.355684 \nL 202.109933 269.355684 \nz\n\" clip-path=\"url(#pae04297fc5)\" style=\"fill: #1f77b4; fill-opacity: 0.75; stroke: #000000; stroke-width: 0.029649; stroke-linejoin: miter\"/>\n   </g>\n   <g id=\"patch_920\">\n    <path d=\"M 202.54689 273.671006 \nL 202.983846 273.671006 \nL 202.983846 268.922651 \nL 202.54689 268.922651 \nz\n\" clip-path=\"url(#pae04297fc5)\" style=\"fill: #1f77b4; fill-opacity: 0.75; stroke: #000000; stroke-width: 0.029649; stroke-linejoin: miter\"/>\n   </g>\n   <g id=\"patch_921\">\n    <path d=\"M 202.983846 273.671006 \nL 203.420803 273.671006 \nL 203.420803 269.091511 \nL 202.983846 269.091511 \nz\n\" clip-path=\"url(#pae04297fc5)\" style=\"fill: #1f77b4; fill-opacity: 0.75; stroke: #000000; stroke-width: 0.029649; stroke-linejoin: miter\"/>\n   </g>\n   <g id=\"patch_922\">\n    <path d=\"M 203.420803 273.671006 \nL 203.857759 273.671006 \nL 203.857759 265.284271 \nL 203.420803 265.284271 \nz\n\" clip-path=\"url(#pae04297fc5)\" style=\"fill: #1f77b4; fill-opacity: 0.75; stroke: #000000; stroke-width: 0.029649; stroke-linejoin: miter\"/>\n   </g>\n   <g id=\"patch_923\">\n    <path d=\"M 203.857759 273.671006 \nL 204.294715 273.671006 \nL 204.294715 266.727465 \nL 203.857759 266.727465 \nz\n\" clip-path=\"url(#pae04297fc5)\" style=\"fill: #1f77b4; fill-opacity: 0.75; stroke: #000000; stroke-width: 0.029649; stroke-linejoin: miter\"/>\n   </g>\n   <g id=\"patch_924\">\n    <path d=\"M 204.294715 273.671006 \nL 204.731672 273.671006 \nL 204.731672 270.072403 \nL 204.294715 270.072403 \nz\n\" clip-path=\"url(#pae04297fc5)\" style=\"fill: #1f77b4; fill-opacity: 0.75; stroke: #000000; stroke-width: 0.029649; stroke-linejoin: miter\"/>\n   </g>\n   <g id=\"patch_925\">\n    <path d=\"M 204.731672 273.671006 \nL 205.168628 273.671006 \nL 205.168628 268.509881 \nL 204.731672 268.509881 \nz\n\" clip-path=\"url(#pae04297fc5)\" style=\"fill: #1f77b4; fill-opacity: 0.75; stroke: #000000; stroke-width: 0.029649; stroke-linejoin: miter\"/>\n   </g>\n   <g id=\"patch_926\">\n    <path d=\"M 205.168628 273.671006 \nL 205.605584 273.671006 \nL 205.605584 270.751597 \nL 205.168628 270.751597 \nz\n\" clip-path=\"url(#pae04297fc5)\" style=\"fill: #1f77b4; fill-opacity: 0.75; stroke: #000000; stroke-width: 0.029649; stroke-linejoin: miter\"/>\n   </g>\n   <g id=\"patch_927\">\n    <path d=\"M 205.605584 273.671006 \nL 206.042541 273.671006 \nL 206.042541 258.1411 \nL 205.605584 258.1411 \nz\n\" clip-path=\"url(#pae04297fc5)\" style=\"fill: #1f77b4; fill-opacity: 0.75; stroke: #000000; stroke-width: 0.029649; stroke-linejoin: miter\"/>\n   </g>\n   <g id=\"patch_928\">\n    <path d=\"M 206.042541 273.671006 \nL 206.479497 273.671006 \nL 206.479497 269.05924 \nL 206.042541 269.05924 \nz\n\" clip-path=\"url(#pae04297fc5)\" style=\"fill: #1f77b4; fill-opacity: 0.75; stroke: #000000; stroke-width: 0.029649; stroke-linejoin: miter\"/>\n   </g>\n   <g id=\"patch_929\">\n    <path d=\"M 206.479497 273.671006 \nL 206.916454 273.671006 \nL 206.916454 270.872426 \nL 206.479497 270.872426 \nz\n\" clip-path=\"url(#pae04297fc5)\" style=\"fill: #1f77b4; fill-opacity: 0.75; stroke: #000000; stroke-width: 0.029649; stroke-linejoin: miter\"/>\n   </g>\n   <g id=\"patch_930\">\n    <path d=\"M 206.916454 273.671006 \nL 207.35341 273.671006 \nL 207.35341 267.948514 \nL 206.916454 267.948514 \nz\n\" clip-path=\"url(#pae04297fc5)\" style=\"fill: #1f77b4; fill-opacity: 0.75; stroke: #000000; stroke-width: 0.029649; stroke-linejoin: miter\"/>\n   </g>\n   <g id=\"patch_931\">\n    <path d=\"M 207.35341 273.671006 \nL 207.790366 273.671006 \nL 207.790366 268.160152 \nL 207.35341 268.160152 \nz\n\" clip-path=\"url(#pae04297fc5)\" style=\"fill: #1f77b4; fill-opacity: 0.75; stroke: #000000; stroke-width: 0.029649; stroke-linejoin: miter\"/>\n   </g>\n   <g id=\"patch_932\">\n    <path d=\"M 207.790366 273.671006 \nL 208.227323 273.671006 \nL 208.227323 271.150108 \nL 207.790366 271.150108 \nz\n\" clip-path=\"url(#pae04297fc5)\" style=\"fill: #1f77b4; fill-opacity: 0.75; stroke: #000000; stroke-width: 0.029649; stroke-linejoin: miter\"/>\n   </g>\n   <g id=\"patch_933\">\n    <path d=\"M 208.227323 273.671006 \nL 208.664279 273.671006 \nL 208.664279 268.755291 \nL 208.227323 268.755291 \nz\n\" clip-path=\"url(#pae04297fc5)\" style=\"fill: #1f77b4; fill-opacity: 0.75; stroke: #000000; stroke-width: 0.029649; stroke-linejoin: miter\"/>\n   </g>\n   <g id=\"patch_934\">\n    <path d=\"M 208.664279 273.671006 \nL 209.101235 273.671006 \nL 209.101235 34.126344 \nL 208.664279 34.126344 \nz\n\" clip-path=\"url(#pae04297fc5)\" style=\"fill: #1f77b4; fill-opacity: 0.75; stroke: #000000; stroke-width: 0.029649; stroke-linejoin: miter\"/>\n   </g>\n   <g id=\"patch_935\">\n    <path d=\"M 209.101235 273.671006 \nL 209.538192 273.671006 \nL 209.538192 270.958733 \nL 209.101235 270.958733 \nz\n\" clip-path=\"url(#pae04297fc5)\" style=\"fill: #1f77b4; fill-opacity: 0.75; stroke: #000000; stroke-width: 0.029649; stroke-linejoin: miter\"/>\n   </g>\n   <g id=\"patch_936\">\n    <path d=\"M 209.538192 273.671006 \nL 209.975148 273.671006 \nL 209.975148 271.852567 \nL 209.538192 271.852567 \nz\n\" clip-path=\"url(#pae04297fc5)\" style=\"fill: #1f77b4; fill-opacity: 0.75; stroke: #000000; stroke-width: 0.029649; stroke-linejoin: miter\"/>\n   </g>\n   <g id=\"patch_937\">\n    <path d=\"M 209.975148 273.671006 \nL 210.412105 273.671006 \nL 210.412105 267.696349 \nL 209.975148 267.696349 \nz\n\" clip-path=\"url(#pae04297fc5)\" style=\"fill: #1f77b4; fill-opacity: 0.75; stroke: #000000; stroke-width: 0.029649; stroke-linejoin: miter\"/>\n   </g>\n   <g id=\"patch_938\">\n    <path d=\"M 210.412105 273.671006 \nL 210.849061 273.671006 \nL 210.849061 268.92115 \nL 210.412105 268.92115 \nz\n\" clip-path=\"url(#pae04297fc5)\" style=\"fill: #1f77b4; fill-opacity: 0.75; stroke: #000000; stroke-width: 0.029649; stroke-linejoin: miter\"/>\n   </g>\n   <g id=\"patch_939\">\n    <path d=\"M 210.849061 273.671006 \nL 211.286017 273.671006 \nL 211.286017 271.652937 \nL 210.849061 271.652937 \nz\n\" clip-path=\"url(#pae04297fc5)\" style=\"fill: #1f77b4; fill-opacity: 0.75; stroke: #000000; stroke-width: 0.029649; stroke-linejoin: miter\"/>\n   </g>\n   <g id=\"patch_940\">\n    <path d=\"M 211.286017 273.671006 \nL 211.722974 273.671006 \nL 211.722974 270.905448 \nL 211.286017 270.905448 \nz\n\" clip-path=\"url(#pae04297fc5)\" style=\"fill: #1f77b4; fill-opacity: 0.75; stroke: #000000; stroke-width: 0.029649; stroke-linejoin: miter\"/>\n   </g>\n   <g id=\"patch_941\">\n    <path d=\"M 211.722974 273.671006 \nL 212.15993 273.671006 \nL 212.15993 267.17776 \nL 211.722974 267.17776 \nz\n\" clip-path=\"url(#pae04297fc5)\" style=\"fill: #1f77b4; fill-opacity: 0.75; stroke: #000000; stroke-width: 0.029649; stroke-linejoin: miter\"/>\n   </g>\n   <g id=\"patch_942\">\n    <path d=\"M 212.15993 273.671006 \nL 212.596886 273.671006 \nL 212.596886 269.848757 \nL 212.15993 269.848757 \nz\n\" clip-path=\"url(#pae04297fc5)\" style=\"fill: #1f77b4; fill-opacity: 0.75; stroke: #000000; stroke-width: 0.029649; stroke-linejoin: miter\"/>\n   </g>\n   <g id=\"patch_943\">\n    <path d=\"M 212.596886 273.671006 \nL 213.033843 273.671006 \nL 213.033843 270.182725 \nL 212.596886 270.182725 \nz\n\" clip-path=\"url(#pae04297fc5)\" style=\"fill: #1f77b4; fill-opacity: 0.75; stroke: #000000; stroke-width: 0.029649; stroke-linejoin: miter\"/>\n   </g>\n   <g id=\"patch_944\">\n    <path d=\"M 213.033843 273.671006 \nL 213.470799 273.671006 \nL 213.470799 272.027431 \nL 213.033843 272.027431 \nz\n\" clip-path=\"url(#pae04297fc5)\" style=\"fill: #1f77b4; fill-opacity: 0.75; stroke: #000000; stroke-width: 0.029649; stroke-linejoin: miter\"/>\n   </g>\n   <g id=\"patch_945\">\n    <path d=\"M 213.470799 273.671006 \nL 213.907756 273.671006 \nL 213.907756 271.590646 \nL 213.470799 271.590646 \nz\n\" clip-path=\"url(#pae04297fc5)\" style=\"fill: #1f77b4; fill-opacity: 0.75; stroke: #000000; stroke-width: 0.029649; stroke-linejoin: miter\"/>\n   </g>\n   <g id=\"patch_946\">\n    <path d=\"M 213.907756 273.671006 \nL 214.344712 273.671006 \nL 214.344712 271.616162 \nL 213.907756 271.616162 \nz\n\" clip-path=\"url(#pae04297fc5)\" style=\"fill: #1f77b4; fill-opacity: 0.75; stroke: #000000; stroke-width: 0.029649; stroke-linejoin: miter\"/>\n   </g>\n   <g id=\"patch_947\">\n    <path d=\"M 214.344712 273.671006 \nL 214.781668 273.671006 \nL 214.781668 252.946953 \nL 214.344712 252.946953 \nz\n\" clip-path=\"url(#pae04297fc5)\" style=\"fill: #1f77b4; fill-opacity: 0.75; stroke: #000000; stroke-width: 0.029649; stroke-linejoin: miter\"/>\n   </g>\n   <g id=\"patch_948\">\n    <path d=\"M 214.781668 273.671006 \nL 215.218625 273.671006 \nL 215.218625 271.923113 \nL 214.781668 271.923113 \nz\n\" clip-path=\"url(#pae04297fc5)\" style=\"fill: #1f77b4; fill-opacity: 0.75; stroke: #000000; stroke-width: 0.029649; stroke-linejoin: miter\"/>\n   </g>\n   <g id=\"patch_949\">\n    <path d=\"M 215.218625 273.671006 \nL 215.655581 273.671006 \nL 215.655581 270.852163 \nL 215.218625 270.852163 \nz\n\" clip-path=\"url(#pae04297fc5)\" style=\"fill: #1f77b4; fill-opacity: 0.75; stroke: #000000; stroke-width: 0.029649; stroke-linejoin: miter\"/>\n   </g>\n   <g id=\"patch_950\">\n    <path d=\"M 215.655581 273.671006 \nL 216.092537 273.671006 \nL 216.092537 271.277691 \nL 215.655581 271.277691 \nz\n\" clip-path=\"url(#pae04297fc5)\" style=\"fill: #1f77b4; fill-opacity: 0.75; stroke: #000000; stroke-width: 0.029649; stroke-linejoin: miter\"/>\n   </g>\n   <g id=\"patch_951\">\n    <path d=\"M 216.092537 273.671006 \nL 216.529494 273.671006 \nL 216.529494 272.641333 \nL 216.092537 272.641333 \nz\n\" clip-path=\"url(#pae04297fc5)\" style=\"fill: #1f77b4; fill-opacity: 0.75; stroke: #000000; stroke-width: 0.029649; stroke-linejoin: miter\"/>\n   </g>\n   <g id=\"patch_952\">\n    <path d=\"M 216.529494 273.671006 \nL 216.96645 273.671006 \nL 216.96645 271.908854 \nL 216.529494 271.908854 \nz\n\" clip-path=\"url(#pae04297fc5)\" style=\"fill: #1f77b4; fill-opacity: 0.75; stroke: #000000; stroke-width: 0.029649; stroke-linejoin: miter\"/>\n   </g>\n   <g id=\"patch_953\">\n    <path d=\"M 216.96645 273.671006 \nL 217.403407 273.671006 \nL 217.403407 268.84535 \nL 216.96645 268.84535 \nz\n\" clip-path=\"url(#pae04297fc5)\" style=\"fill: #1f77b4; fill-opacity: 0.75; stroke: #000000; stroke-width: 0.029649; stroke-linejoin: miter\"/>\n   </g>\n   <g id=\"patch_954\">\n    <path d=\"M 217.403407 273.671006 \nL 217.840363 273.671006 \nL 217.840363 272.228563 \nL 217.403407 272.228563 \nz\n\" clip-path=\"url(#pae04297fc5)\" style=\"fill: #1f77b4; fill-opacity: 0.75; stroke: #000000; stroke-width: 0.029649; stroke-linejoin: miter\"/>\n   </g>\n   <g id=\"patch_955\">\n    <path d=\"M 217.840363 273.671006 \nL 218.277319 273.671006 \nL 218.277319 271.878084 \nL 217.840363 271.878084 \nz\n\" clip-path=\"url(#pae04297fc5)\" style=\"fill: #1f77b4; fill-opacity: 0.75; stroke: #000000; stroke-width: 0.029649; stroke-linejoin: miter\"/>\n   </g>\n   <g id=\"patch_956\">\n    <path d=\"M 218.277319 273.671006 \nL 218.714276 273.671006 \nL 218.714276 272.212052 \nL 218.277319 272.212052 \nz\n\" clip-path=\"url(#pae04297fc5)\" style=\"fill: #1f77b4; fill-opacity: 0.75; stroke: #000000; stroke-width: 0.029649; stroke-linejoin: miter\"/>\n   </g>\n   <g id=\"patch_957\">\n    <path d=\"M 218.714276 273.671006 \nL 219.151232 273.671006 \nL 219.151232 272.39217 \nL 218.714276 272.39217 \nz\n\" clip-path=\"url(#pae04297fc5)\" style=\"fill: #1f77b4; fill-opacity: 0.75; stroke: #000000; stroke-width: 0.029649; stroke-linejoin: miter\"/>\n   </g>\n   <g id=\"patch_958\">\n    <path d=\"M 219.151232 273.671006 \nL 219.588188 273.671006 \nL 219.588188 253.808516 \nL 219.151232 253.808516 \nz\n\" clip-path=\"url(#pae04297fc5)\" style=\"fill: #1f77b4; fill-opacity: 0.75; stroke: #000000; stroke-width: 0.029649; stroke-linejoin: miter\"/>\n   </g>\n   <g id=\"patch_959\">\n    <path d=\"M 219.588188 273.671006 \nL 220.025145 273.671006 \nL 220.025145 272.390669 \nL 219.588188 272.390669 \nz\n\" clip-path=\"url(#pae04297fc5)\" style=\"fill: #1f77b4; fill-opacity: 0.75; stroke: #000000; stroke-width: 0.029649; stroke-linejoin: miter\"/>\n   </g>\n   <g id=\"patch_960\">\n    <path d=\"M 220.025145 273.671006 \nL 220.462101 273.671006 \nL 220.462101 271.755754 \nL 220.025145 271.755754 \nz\n\" clip-path=\"url(#pae04297fc5)\" style=\"fill: #1f77b4; fill-opacity: 0.75; stroke: #000000; stroke-width: 0.029649; stroke-linejoin: miter\"/>\n   </g>\n   <g id=\"patch_961\">\n    <path d=\"M 220.462101 273.671006 \nL 220.899058 273.671006 \nL 220.899058 272.013172 \nL 220.462101 272.013172 \nz\n\" clip-path=\"url(#pae04297fc5)\" style=\"fill: #1f77b4; fill-opacity: 0.75; stroke: #000000; stroke-width: 0.029649; stroke-linejoin: miter\"/>\n   </g>\n   <g id=\"patch_962\">\n    <path d=\"M 220.899058 273.671006 \nL 221.336014 273.671006 \nL 221.336014 272.360649 \nL 220.899058 272.360649 \nz\n\" clip-path=\"url(#pae04297fc5)\" style=\"fill: #1f77b4; fill-opacity: 0.75; stroke: #000000; stroke-width: 0.029649; stroke-linejoin: miter\"/>\n   </g>\n   <g id=\"patch_963\">\n    <path d=\"M 221.336014 273.671006 \nL 221.77297 273.671006 \nL 221.77297 222.070259 \nL 221.336014 222.070259 \nz\n\" clip-path=\"url(#pae04297fc5)\" style=\"fill: #1f77b4; fill-opacity: 0.75; stroke: #000000; stroke-width: 0.029649; stroke-linejoin: miter\"/>\n   </g>\n   <g id=\"patch_964\">\n    <path d=\"M 221.77297 273.671006 \nL 222.209927 273.671006 \nL 222.209927 272.869482 \nL 221.77297 272.869482 \nz\n\" clip-path=\"url(#pae04297fc5)\" style=\"fill: #1f77b4; fill-opacity: 0.75; stroke: #000000; stroke-width: 0.029649; stroke-linejoin: miter\"/>\n   </g>\n   <g id=\"patch_965\">\n    <path d=\"M 222.209927 273.671006 \nL 222.646883 273.671006 \nL 222.646883 272.819199 \nL 222.209927 272.819199 \nz\n\" clip-path=\"url(#pae04297fc5)\" style=\"fill: #1f77b4; fill-opacity: 0.75; stroke: #000000; stroke-width: 0.029649; stroke-linejoin: miter\"/>\n   </g>\n   <g id=\"patch_966\">\n    <path d=\"M 222.646883 273.671006 \nL 223.08384 273.671006 \nL 223.08384 272.867981 \nL 222.646883 272.867981 \nz\n\" clip-path=\"url(#pae04297fc5)\" style=\"fill: #1f77b4; fill-opacity: 0.75; stroke: #000000; stroke-width: 0.029649; stroke-linejoin: miter\"/>\n   </g>\n   <g id=\"patch_967\">\n    <path d=\"M 223.08384 273.671006 \nL 223.520796 273.671006 \nL 223.520796 264.202064 \nL 223.08384 264.202064 \nz\n\" clip-path=\"url(#pae04297fc5)\" style=\"fill: #1f77b4; fill-opacity: 0.75; stroke: #000000; stroke-width: 0.029649; stroke-linejoin: miter\"/>\n   </g>\n   <g id=\"patch_968\">\n    <path d=\"M 223.520796 273.671006 \nL 223.957752 273.671006 \nL 223.957752 272.977553 \nL 223.520796 272.977553 \nz\n\" clip-path=\"url(#pae04297fc5)\" style=\"fill: #1f77b4; fill-opacity: 0.75; stroke: #000000; stroke-width: 0.029649; stroke-linejoin: miter\"/>\n   </g>\n   <g id=\"patch_969\">\n    <path d=\"M 223.957752 273.671006 \nL 224.394709 273.671006 \nL 224.394709 272.777172 \nL 223.957752 272.777172 \nz\n\" clip-path=\"url(#pae04297fc5)\" style=\"fill: #1f77b4; fill-opacity: 0.75; stroke: #000000; stroke-width: 0.029649; stroke-linejoin: miter\"/>\n   </g>\n   <g id=\"patch_970\">\n    <path d=\"M 224.394709 273.671006 \nL 224.831665 273.671006 \nL 224.831665 272.88149 \nL 224.394709 272.88149 \nz\n\" clip-path=\"url(#pae04297fc5)\" style=\"fill: #1f77b4; fill-opacity: 0.75; stroke: #000000; stroke-width: 0.029649; stroke-linejoin: miter\"/>\n   </g>\n   <g id=\"patch_971\">\n    <path d=\"M 224.831665 273.671006 \nL 225.268621 273.671006 \nL 225.268621 273.005321 \nL 224.831665 273.005321 \nz\n\" clip-path=\"url(#pae04297fc5)\" style=\"fill: #1f77b4; fill-opacity: 0.75; stroke: #000000; stroke-width: 0.029649; stroke-linejoin: miter\"/>\n   </g>\n   <g id=\"patch_972\">\n    <path d=\"M 225.268621 273.671006 \nL 225.705578 273.671006 \nL 225.705578 271.884088 \nL 225.268621 271.884088 \nz\n\" clip-path=\"url(#pae04297fc5)\" style=\"fill: #1f77b4; fill-opacity: 0.75; stroke: #000000; stroke-width: 0.029649; stroke-linejoin: miter\"/>\n   </g>\n   <g id=\"patch_973\">\n    <path d=\"M 225.705578 273.671006 \nL 226.142534 273.671006 \nL 226.142534 272.821451 \nL 225.705578 272.821451 \nz\n\" clip-path=\"url(#pae04297fc5)\" style=\"fill: #1f77b4; fill-opacity: 0.75; stroke: #000000; stroke-width: 0.029649; stroke-linejoin: miter\"/>\n   </g>\n   <g id=\"patch_974\">\n    <path d=\"M 226.142534 273.671006 \nL 226.579491 273.671006 \nL 226.579491 273.075867 \nL 226.142534 273.075867 \nz\n\" clip-path=\"url(#pae04297fc5)\" style=\"fill: #1f77b4; fill-opacity: 0.75; stroke: #000000; stroke-width: 0.029649; stroke-linejoin: miter\"/>\n   </g>\n   <g id=\"patch_975\">\n    <path d=\"M 226.579491 273.671006 \nL 227.016447 273.671006 \nL 227.016447 273.144912 \nL 226.579491 273.144912 \nz\n\" clip-path=\"url(#pae04297fc5)\" style=\"fill: #1f77b4; fill-opacity: 0.75; stroke: #000000; stroke-width: 0.029649; stroke-linejoin: miter\"/>\n   </g>\n   <g id=\"patch_976\">\n    <path d=\"M 227.016447 273.671006 \nL 227.453403 273.671006 \nL 227.453403 270.856666 \nL 227.016447 270.856666 \nz\n\" clip-path=\"url(#pae04297fc5)\" style=\"fill: #1f77b4; fill-opacity: 0.75; stroke: #000000; stroke-width: 0.029649; stroke-linejoin: miter\"/>\n   </g>\n   <g id=\"patch_977\">\n    <path d=\"M 227.453403 273.671006 \nL 227.89036 273.671006 \nL 227.89036 272.987309 \nL 227.453403 272.987309 \nz\n\" clip-path=\"url(#pae04297fc5)\" style=\"fill: #1f77b4; fill-opacity: 0.75; stroke: #000000; stroke-width: 0.029649; stroke-linejoin: miter\"/>\n   </g>\n   <g id=\"patch_978\">\n    <path d=\"M 227.89036 273.671006 \nL 228.327316 273.671006 \nL 228.327316 273.143411 \nL 227.89036 273.143411 \nz\n\" clip-path=\"url(#pae04297fc5)\" style=\"fill: #1f77b4; fill-opacity: 0.75; stroke: #000000; stroke-width: 0.029649; stroke-linejoin: miter\"/>\n   </g>\n   <g id=\"patch_979\">\n    <path d=\"M 228.327316 273.671006 \nL 228.764272 273.671006 \nL 228.764272 273.198197 \nL 228.327316 273.198197 \nz\n\" clip-path=\"url(#pae04297fc5)\" style=\"fill: #1f77b4; fill-opacity: 0.75; stroke: #000000; stroke-width: 0.029649; stroke-linejoin: miter\"/>\n   </g>\n   <g id=\"patch_980\">\n    <path d=\"M 228.764272 273.671006 \nL 229.201229 273.671006 \nL 229.201229 272.506995 \nL 228.764272 272.506995 \nz\n\" clip-path=\"url(#pae04297fc5)\" style=\"fill: #1f77b4; fill-opacity: 0.75; stroke: #000000; stroke-width: 0.029649; stroke-linejoin: miter\"/>\n   </g>\n   <g id=\"patch_981\">\n    <path d=\"M 229.201229 273.671006 \nL 229.638185 273.671006 \nL 229.638185 273.102134 \nL 229.201229 273.102134 \nz\n\" clip-path=\"url(#pae04297fc5)\" style=\"fill: #1f77b4; fill-opacity: 0.75; stroke: #000000; stroke-width: 0.029649; stroke-linejoin: miter\"/>\n   </g>\n   <g id=\"patch_982\">\n    <path d=\"M 229.638185 273.671006 \nL 230.075142 273.671006 \nL 230.075142 272.925018 \nL 229.638185 272.925018 \nz\n\" clip-path=\"url(#pae04297fc5)\" style=\"fill: #1f77b4; fill-opacity: 0.75; stroke: #000000; stroke-width: 0.029649; stroke-linejoin: miter\"/>\n   </g>\n   <g id=\"patch_983\">\n    <path d=\"M 230.075142 273.671006 \nL 230.512098 273.671006 \nL 230.512098 219.506583 \nL 230.075142 219.506583 \nz\n\" clip-path=\"url(#pae04297fc5)\" style=\"fill: #1f77b4; fill-opacity: 0.75; stroke: #000000; stroke-width: 0.029649; stroke-linejoin: miter\"/>\n   </g>\n   <g id=\"patch_984\">\n    <path d=\"M 230.512098 273.671006 \nL 230.949054 273.671006 \nL 230.949054 273.485635 \nL 230.512098 273.485635 \nz\n\" clip-path=\"url(#pae04297fc5)\" style=\"fill: #1f77b4; fill-opacity: 0.75; stroke: #000000; stroke-width: 0.029649; stroke-linejoin: miter\"/>\n   </g>\n   <g id=\"patch_985\">\n    <path d=\"M 230.949054 273.671006 \nL 231.386011 273.671006 \nL 231.386011 273.244728 \nL 230.949054 273.244728 \nz\n\" clip-path=\"url(#pae04297fc5)\" style=\"fill: #1f77b4; fill-opacity: 0.75; stroke: #000000; stroke-width: 0.029649; stroke-linejoin: miter\"/>\n   </g>\n   <g id=\"patch_986\">\n    <path d=\"M 231.386011 273.671006 \nL 231.822967 273.671006 \nL 231.822967 273.514154 \nL 231.386011 273.514154 \nz\n\" clip-path=\"url(#pae04297fc5)\" style=\"fill: #1f77b4; fill-opacity: 0.75; stroke: #000000; stroke-width: 0.029649; stroke-linejoin: miter\"/>\n   </g>\n   <g id=\"patch_987\">\n    <path d=\"M 231.822967 273.671006 \nL 232.259923 273.671006 \nL 232.259923 273.185439 \nL 231.822967 273.185439 \nz\n\" clip-path=\"url(#pae04297fc5)\" style=\"fill: #1f77b4; fill-opacity: 0.75; stroke: #000000; stroke-width: 0.029649; stroke-linejoin: miter\"/>\n   </g>\n   <g id=\"patch_988\">\n    <path d=\"M 232.259923 273.671006 \nL 232.69688 273.671006 \nL 232.69688 273.376063 \nL 232.259923 273.376063 \nz\n\" clip-path=\"url(#pae04297fc5)\" style=\"fill: #1f77b4; fill-opacity: 0.75; stroke: #000000; stroke-width: 0.029649; stroke-linejoin: miter\"/>\n   </g>\n   <g id=\"patch_989\">\n    <path d=\"M 232.69688 273.671006 \nL 233.133836 273.671006 \nL 233.133836 273.311521 \nL 232.69688 273.311521 \nz\n\" clip-path=\"url(#pae04297fc5)\" style=\"fill: #1f77b4; fill-opacity: 0.75; stroke: #000000; stroke-width: 0.029649; stroke-linejoin: miter\"/>\n   </g>\n   <g id=\"patch_990\">\n    <path d=\"M 233.133836 273.671006 \nL 233.570793 273.671006 \nL 233.570793 273.098382 \nL 233.133836 273.098382 \nz\n\" clip-path=\"url(#pae04297fc5)\" style=\"fill: #1f77b4; fill-opacity: 0.75; stroke: #000000; stroke-width: 0.029649; stroke-linejoin: miter\"/>\n   </g>\n   <g id=\"patch_991\">\n    <path d=\"M 233.570793 273.671006 \nL 234.007749 273.671006 \nL 234.007749 273.491639 \nL 233.570793 273.491639 \nz\n\" clip-path=\"url(#pae04297fc5)\" style=\"fill: #1f77b4; fill-opacity: 0.75; stroke: #000000; stroke-width: 0.029649; stroke-linejoin: miter\"/>\n   </g>\n   <g id=\"patch_992\">\n    <path d=\"M 234.007749 273.671006 \nL 234.444705 273.671006 \nL 234.444705 273.547926 \nL 234.007749 273.547926 \nz\n\" clip-path=\"url(#pae04297fc5)\" style=\"fill: #1f77b4; fill-opacity: 0.75; stroke: #000000; stroke-width: 0.029649; stroke-linejoin: miter\"/>\n   </g>\n   <g id=\"patch_993\">\n    <path d=\"M 234.444705 273.671006 \nL 234.881662 273.671006 \nL 234.881662 273.484134 \nL 234.444705 273.484134 \nz\n\" clip-path=\"url(#pae04297fc5)\" style=\"fill: #1f77b4; fill-opacity: 0.75; stroke: #000000; stroke-width: 0.029649; stroke-linejoin: miter\"/>\n   </g>\n   <g id=\"patch_994\">\n    <path d=\"M 234.881662 273.671006 \nL 235.318618 273.671006 \nL 235.318618 273.520158 \nL 234.881662 273.520158 \nz\n\" clip-path=\"url(#pae04297fc5)\" style=\"fill: #1f77b4; fill-opacity: 0.75; stroke: #000000; stroke-width: 0.029649; stroke-linejoin: miter\"/>\n   </g>\n   <g id=\"patch_995\">\n    <path d=\"M 235.318618 273.671006 \nL 235.755574 273.671006 \nL 235.755574 273.574944 \nL 235.318618 273.574944 \nz\n\" clip-path=\"url(#pae04297fc5)\" style=\"fill: #1f77b4; fill-opacity: 0.75; stroke: #000000; stroke-width: 0.029649; stroke-linejoin: miter\"/>\n   </g>\n   <g id=\"patch_996\">\n    <path d=\"M 235.755574 273.671006 \nL 236.192531 273.671006 \nL 236.192531 272.341887 \nL 235.755574 272.341887 \nz\n\" clip-path=\"url(#pae04297fc5)\" style=\"fill: #1f77b4; fill-opacity: 0.75; stroke: #000000; stroke-width: 0.029649; stroke-linejoin: miter\"/>\n   </g>\n   <g id=\"patch_997\">\n    <path d=\"M 236.192531 273.671006 \nL 236.629487 273.671006 \nL 236.629487 273.527663 \nL 236.192531 273.527663 \nz\n\" clip-path=\"url(#pae04297fc5)\" style=\"fill: #1f77b4; fill-opacity: 0.75; stroke: #000000; stroke-width: 0.029649; stroke-linejoin: miter\"/>\n   </g>\n   <g id=\"patch_998\">\n    <path d=\"M 236.629487 273.671006 \nL 237.066444 273.671006 \nL 237.066444 273.557682 \nL 236.629487 273.557682 \nz\n\" clip-path=\"url(#pae04297fc5)\" style=\"fill: #1f77b4; fill-opacity: 0.75; stroke: #000000; stroke-width: 0.029649; stroke-linejoin: miter\"/>\n   </g>\n   <g id=\"patch_999\">\n    <path d=\"M 237.066444 273.671006 \nL 237.5034 273.671006 \nL 237.5034 273.143411 \nL 237.066444 273.143411 \nz\n\" clip-path=\"url(#pae04297fc5)\" style=\"fill: #1f77b4; fill-opacity: 0.75; stroke: #000000; stroke-width: 0.029649; stroke-linejoin: miter\"/>\n   </g>\n   <g id=\"patch_1000\">\n    <path d=\"M 237.5034 273.671006 \nL 237.940356 273.671006 \nL 237.940356 273.571191 \nL 237.5034 273.571191 \nz\n\" clip-path=\"url(#pae04297fc5)\" style=\"fill: #1f77b4; fill-opacity: 0.75; stroke: #000000; stroke-width: 0.029649; stroke-linejoin: miter\"/>\n   </g>\n   <g id=\"patch_1001\">\n    <path d=\"M 237.940356 273.671006 \nL 238.377313 273.671006 \nL 238.377313 273.577945 \nL 237.940356 273.577945 \nz\n\" clip-path=\"url(#pae04297fc5)\" style=\"fill: #1f77b4; fill-opacity: 0.75; stroke: #000000; stroke-width: 0.029649; stroke-linejoin: miter\"/>\n   </g>\n   <g id=\"patch_1002\">\n    <path d=\"M 238.377313 273.671006 \nL 238.814269 273.671006 \nL 238.814269 272.934775 \nL 238.377313 272.934775 \nz\n\" clip-path=\"url(#pae04297fc5)\" style=\"fill: #1f77b4; fill-opacity: 0.75; stroke: #000000; stroke-width: 0.029649; stroke-linejoin: miter\"/>\n   </g>\n   <g id=\"patch_1003\">\n    <path d=\"M 238.814269 273.671006 \nL 239.251225 273.671006 \nL 239.251225 273.565187 \nL 238.814269 273.565187 \nz\n\" clip-path=\"url(#pae04297fc5)\" style=\"fill: #1f77b4; fill-opacity: 0.75; stroke: #000000; stroke-width: 0.029649; stroke-linejoin: miter\"/>\n   </g>\n   <g id=\"patch_1004\">\n    <path d=\"M 239.251225 273.671006 \nL 239.688182 273.671006 \nL 239.688182 273.59971 \nL 239.251225 273.59971 \nz\n\" clip-path=\"url(#pae04297fc5)\" style=\"fill: #1f77b4; fill-opacity: 0.75; stroke: #000000; stroke-width: 0.029649; stroke-linejoin: miter\"/>\n   </g>\n   <g id=\"patch_1005\">\n    <path d=\"M 239.688182 273.671006 \nL 240.125138 273.671006 \nL 240.125138 273.552429 \nL 239.688182 273.552429 \nz\n\" clip-path=\"url(#pae04297fc5)\" style=\"fill: #1f77b4; fill-opacity: 0.75; stroke: #000000; stroke-width: 0.029649; stroke-linejoin: miter\"/>\n   </g>\n   <g id=\"patch_1006\">\n    <path d=\"M 240.125138 273.671006 \nL 240.562095 273.671006 \nL 240.562095 273.5847 \nL 240.125138 273.5847 \nz\n\" clip-path=\"url(#pae04297fc5)\" style=\"fill: #1f77b4; fill-opacity: 0.75; stroke: #000000; stroke-width: 0.029649; stroke-linejoin: miter\"/>\n   </g>\n   <g id=\"patch_1007\">\n    <path d=\"M 240.562095 273.671006 \nL 240.999051 273.671006 \nL 240.999051 273.35505 \nL 240.562095 273.35505 \nz\n\" clip-path=\"url(#pae04297fc5)\" style=\"fill: #1f77b4; fill-opacity: 0.75; stroke: #000000; stroke-width: 0.029649; stroke-linejoin: miter\"/>\n   </g>\n   <g id=\"patch_1008\">\n    <path d=\"M 240.999051 273.671006 \nL 241.436007 273.671006 \nL 241.436007 273.601211 \nL 240.999051 273.601211 \nz\n\" clip-path=\"url(#pae04297fc5)\" style=\"fill: #1f77b4; fill-opacity: 0.75; stroke: #000000; stroke-width: 0.029649; stroke-linejoin: miter\"/>\n   </g>\n   <g id=\"patch_1009\">\n    <path d=\"M 241.436007 273.671006 \nL 241.872964 273.671006 \nL 241.872964 273.603462 \nL 241.436007 273.603462 \nz\n\" clip-path=\"url(#pae04297fc5)\" style=\"fill: #1f77b4; fill-opacity: 0.75; stroke: #000000; stroke-width: 0.029649; stroke-linejoin: miter\"/>\n   </g>\n   <g id=\"patch_1010\">\n    <path d=\"M 241.872964 273.671006 \nL 242.30992 273.671006 \nL 242.30992 273.587702 \nL 241.872964 273.587702 \nz\n\" clip-path=\"url(#pae04297fc5)\" style=\"fill: #1f77b4; fill-opacity: 0.75; stroke: #000000; stroke-width: 0.029649; stroke-linejoin: miter\"/>\n   </g>\n   <g id=\"patch_1011\">\n    <path d=\"M 242.30992 273.671006 \nL 242.746877 273.671006 \nL 242.746877 273.592955 \nL 242.30992 273.592955 \nz\n\" clip-path=\"url(#pae04297fc5)\" style=\"fill: #1f77b4; fill-opacity: 0.75; stroke: #000000; stroke-width: 0.029649; stroke-linejoin: miter\"/>\n   </g>\n   <g id=\"patch_1012\">\n    <path d=\"M 242.746877 273.671006 \nL 243.183833 273.671006 \nL 243.183833 267.551504 \nL 242.746877 267.551504 \nz\n\" clip-path=\"url(#pae04297fc5)\" style=\"fill: #1f77b4; fill-opacity: 0.75; stroke: #000000; stroke-width: 0.029649; stroke-linejoin: miter\"/>\n   </g>\n   <g id=\"patch_1013\">\n    <path d=\"M 243.183833 273.671006 \nL 243.620789 273.671006 \nL 243.620789 273.639486 \nL 243.183833 273.639486 \nz\n\" clip-path=\"url(#pae04297fc5)\" style=\"fill: #1f77b4; fill-opacity: 0.75; stroke: #000000; stroke-width: 0.029649; stroke-linejoin: miter\"/>\n   </g>\n   <g id=\"patch_1014\">\n    <path d=\"M 243.620789 273.671006 \nL 244.057746 273.671006 \nL 244.057746 273.658998 \nL 243.620789 273.658998 \nz\n\" clip-path=\"url(#pae04297fc5)\" style=\"fill: #1f77b4; fill-opacity: 0.75; stroke: #000000; stroke-width: 0.029649; stroke-linejoin: miter\"/>\n   </g>\n   <g id=\"patch_1015\">\n    <path d=\"M 244.057746 273.671006 \nL 244.494702 273.671006 \nL 244.494702 273.63048 \nL 244.057746 273.63048 \nz\n\" clip-path=\"url(#pae04297fc5)\" style=\"fill: #1f77b4; fill-opacity: 0.75; stroke: #000000; stroke-width: 0.029649; stroke-linejoin: miter\"/>\n   </g>\n   <g id=\"patch_1016\">\n    <path d=\"M 244.494702 273.671006 \nL 244.931658 273.671006 \nL 244.931658 273.659749 \nL 244.494702 273.659749 \nz\n\" clip-path=\"url(#pae04297fc5)\" style=\"fill: #1f77b4; fill-opacity: 0.75; stroke: #000000; stroke-width: 0.029649; stroke-linejoin: miter\"/>\n   </g>\n   <g id=\"patch_1017\">\n    <path d=\"M 244.931658 273.671006 \nL 245.368615 273.671006 \nL 245.368615 273.44736 \nL 244.931658 273.44736 \nz\n\" clip-path=\"url(#pae04297fc5)\" style=\"fill: #1f77b4; fill-opacity: 0.75; stroke: #000000; stroke-width: 0.029649; stroke-linejoin: miter\"/>\n   </g>\n   <g id=\"patch_1018\">\n    <path d=\"M 245.368615 273.671006 \nL 245.805571 273.671006 \nL 245.805571 273.658248 \nL 245.368615 273.658248 \nz\n\" clip-path=\"url(#pae04297fc5)\" style=\"fill: #1f77b4; fill-opacity: 0.75; stroke: #000000; stroke-width: 0.029649; stroke-linejoin: miter\"/>\n   </g>\n   <g id=\"patch_1019\">\n    <path d=\"M 245.805571 273.671006 \nL 246.242528 273.671006 \nL 246.242528 273.656747 \nL 245.805571 273.656747 \nz\n\" clip-path=\"url(#pae04297fc5)\" style=\"fill: #1f77b4; fill-opacity: 0.75; stroke: #000000; stroke-width: 0.029649; stroke-linejoin: miter\"/>\n   </g>\n   <g id=\"patch_1020\">\n    <path d=\"M 246.242528 273.671006 \nL 246.679484 273.671006 \nL 246.679484 273.665002 \nL 246.242528 273.665002 \nz\n\" clip-path=\"url(#pae04297fc5)\" style=\"fill: #1f77b4; fill-opacity: 0.75; stroke: #000000; stroke-width: 0.029649; stroke-linejoin: miter\"/>\n   </g>\n   <g id=\"patch_1021\">\n    <path d=\"M 246.679484 273.671006 \nL 247.11644 273.671006 \nL 247.11644 273.510401 \nL 246.679484 273.510401 \nz\n\" clip-path=\"url(#pae04297fc5)\" style=\"fill: #1f77b4; fill-opacity: 0.75; stroke: #000000; stroke-width: 0.029649; stroke-linejoin: miter\"/>\n   </g>\n   <g id=\"patch_1022\">\n    <path d=\"M 247.11644 273.671006 \nL 247.553397 273.671006 \nL 247.553397 273.663501 \nL 247.11644 273.663501 \nz\n\" clip-path=\"url(#pae04297fc5)\" style=\"fill: #1f77b4; fill-opacity: 0.75; stroke: #000000; stroke-width: 0.029649; stroke-linejoin: miter\"/>\n   </g>\n   <g id=\"patch_1023\">\n    <path d=\"M 247.553397 273.671006 \nL 247.990353 273.671006 \nL 247.990353 273.654496 \nL 247.553397 273.654496 \nz\n\" clip-path=\"url(#pae04297fc5)\" style=\"fill: #1f77b4; fill-opacity: 0.75; stroke: #000000; stroke-width: 0.029649; stroke-linejoin: miter\"/>\n   </g>\n   <g id=\"patch_1024\">\n    <path d=\"M 247.990353 273.671006 \nL 248.427309 273.671006 \nL 248.427309 273.665002 \nL 247.990353 273.665002 \nz\n\" clip-path=\"url(#pae04297fc5)\" style=\"fill: #1f77b4; fill-opacity: 0.75; stroke: #000000; stroke-width: 0.029649; stroke-linejoin: miter\"/>\n   </g>\n   <g id=\"patch_1025\">\n    <path d=\"M 248.427309 273.671006 \nL 248.864266 273.671006 \nL 248.864266 273.430849 \nL 248.427309 273.430849 \nz\n\" clip-path=\"url(#pae04297fc5)\" style=\"fill: #1f77b4; fill-opacity: 0.75; stroke: #000000; stroke-width: 0.029649; stroke-linejoin: miter\"/>\n   </g>\n   <g id=\"patch_1026\">\n    <path d=\"M 248.864266 273.671006 \nL 249.301222 273.671006 \nL 249.301222 273.662 \nL 248.864266 273.662 \nz\n\" clip-path=\"url(#pae04297fc5)\" style=\"fill: #1f77b4; fill-opacity: 0.75; stroke: #000000; stroke-width: 0.029649; stroke-linejoin: miter\"/>\n   </g>\n   <g id=\"patch_1027\">\n    <path d=\"M 249.301222 273.671006 \nL 249.738179 273.671006 \nL 249.738179 273.655246 \nL 249.301222 273.655246 \nz\n\" clip-path=\"url(#pae04297fc5)\" style=\"fill: #1f77b4; fill-opacity: 0.75; stroke: #000000; stroke-width: 0.029649; stroke-linejoin: miter\"/>\n   </g>\n   <g id=\"patch_1028\">\n    <path d=\"M 249.738179 273.671006 \nL 250.175135 273.671006 \nL 250.175135 273.664252 \nL 249.738179 273.664252 \nz\n\" clip-path=\"url(#pae04297fc5)\" style=\"fill: #1f77b4; fill-opacity: 0.75; stroke: #000000; stroke-width: 0.029649; stroke-linejoin: miter\"/>\n   </g>\n   <g id=\"patch_1029\">\n    <path d=\"M 250.175135 273.671006 \nL 250.612091 273.671006 \nL 250.612091 273.61547 \nL 250.175135 273.61547 \nz\n\" clip-path=\"url(#pae04297fc5)\" style=\"fill: #1f77b4; fill-opacity: 0.75; stroke: #000000; stroke-width: 0.029649; stroke-linejoin: miter\"/>\n   </g>\n   <g id=\"patch_1030\">\n    <path d=\"M 250.612091 273.671006 \nL 251.049048 273.671006 \nL 251.049048 273.667254 \nL 250.612091 273.667254 \nz\n\" clip-path=\"url(#pae04297fc5)\" style=\"fill: #1f77b4; fill-opacity: 0.75; stroke: #000000; stroke-width: 0.029649; stroke-linejoin: miter\"/>\n   </g>\n   <g id=\"patch_1031\">\n    <path d=\"M 251.049048 273.671006 \nL 251.486004 273.671006 \nL 251.486004 273.658998 \nL 251.049048 273.658998 \nz\n\" clip-path=\"url(#pae04297fc5)\" style=\"fill: #1f77b4; fill-opacity: 0.75; stroke: #000000; stroke-width: 0.029649; stroke-linejoin: miter\"/>\n   </g>\n   <g id=\"patch_1032\">\n    <path d=\"M 251.486004 273.671006 \nL 251.92296 273.671006 \nL 251.92296 267.196522 \nL 251.486004 267.196522 \nz\n\" clip-path=\"url(#pae04297fc5)\" style=\"fill: #1f77b4; fill-opacity: 0.75; stroke: #000000; stroke-width: 0.029649; stroke-linejoin: miter\"/>\n   </g>\n   <g id=\"patch_1033\">\n    <path d=\"M 251.92296 273.671006 \nL 252.359917 273.671006 \nL 252.359917 273.671006 \nL 251.92296 273.671006 \nz\n\" clip-path=\"url(#pae04297fc5)\" style=\"fill: #1f77b4; fill-opacity: 0.75; stroke: #000000; stroke-width: 0.029649; stroke-linejoin: miter\"/>\n   </g>\n   <g id=\"patch_1034\">\n    <path d=\"M 252.359917 273.671006 \nL 252.796873 273.671006 \nL 252.796873 273.668004 \nL 252.359917 273.668004 \nz\n\" clip-path=\"url(#pae04297fc5)\" style=\"fill: #1f77b4; fill-opacity: 0.75; stroke: #000000; stroke-width: 0.029649; stroke-linejoin: miter\"/>\n   </g>\n   <g id=\"patch_1035\">\n    <path d=\"M 252.796873 273.671006 \nL 253.23383 273.671006 \nL 253.23383 273.670256 \nL 252.796873 273.670256 \nz\n\" clip-path=\"url(#pae04297fc5)\" style=\"fill: #1f77b4; fill-opacity: 0.75; stroke: #000000; stroke-width: 0.029649; stroke-linejoin: miter\"/>\n   </g>\n   <g id=\"patch_1036\">\n    <path d=\"M 253.23383 273.671006 \nL 253.670786 273.671006 \nL 253.670786 273.670256 \nL 253.23383 273.670256 \nz\n\" clip-path=\"url(#pae04297fc5)\" style=\"fill: #1f77b4; fill-opacity: 0.75; stroke: #000000; stroke-width: 0.029649; stroke-linejoin: miter\"/>\n   </g>\n   <g id=\"patch_1037\">\n    <path d=\"M 253.670786 273.671006 \nL 254.107742 273.671006 \nL 254.107742 273.671006 \nL 253.670786 273.671006 \nz\n\" clip-path=\"url(#pae04297fc5)\" style=\"fill: #1f77b4; fill-opacity: 0.75; stroke: #000000; stroke-width: 0.029649; stroke-linejoin: miter\"/>\n   </g>\n   <g id=\"patch_1038\">\n    <path d=\"M 254.107742 273.671006 \nL 254.544699 273.671006 \nL 254.544699 273.671006 \nL 254.107742 273.671006 \nz\n\" clip-path=\"url(#pae04297fc5)\" style=\"fill: #1f77b4; fill-opacity: 0.75; stroke: #000000; stroke-width: 0.029649; stroke-linejoin: miter\"/>\n   </g>\n   <g id=\"patch_1039\">\n    <path d=\"M 254.544699 273.671006 \nL 254.981655 273.671006 \nL 254.981655 273.668755 \nL 254.544699 273.668755 \nz\n\" clip-path=\"url(#pae04297fc5)\" style=\"fill: #1f77b4; fill-opacity: 0.75; stroke: #000000; stroke-width: 0.029649; stroke-linejoin: miter\"/>\n   </g>\n   <g id=\"patch_1040\">\n    <path d=\"M 254.981655 273.671006 \nL 255.418611 273.671006 \nL 255.418611 273.671006 \nL 254.981655 273.671006 \nz\n\" clip-path=\"url(#pae04297fc5)\" style=\"fill: #1f77b4; fill-opacity: 0.75; stroke: #000000; stroke-width: 0.029649; stroke-linejoin: miter\"/>\n   </g>\n   <g id=\"patch_1041\">\n    <path d=\"M 255.418611 273.671006 \nL 255.855568 273.671006 \nL 255.855568 273.671006 \nL 255.418611 273.671006 \nz\n\" clip-path=\"url(#pae04297fc5)\" style=\"fill: #1f77b4; fill-opacity: 0.75; stroke: #000000; stroke-width: 0.029649; stroke-linejoin: miter\"/>\n   </g>\n   <g id=\"patch_1042\">\n    <path d=\"M 255.855568 273.671006 \nL 256.292524 273.671006 \nL 256.292524 273.670256 \nL 255.855568 273.670256 \nz\n\" clip-path=\"url(#pae04297fc5)\" style=\"fill: #1f77b4; fill-opacity: 0.75; stroke: #000000; stroke-width: 0.029649; stroke-linejoin: miter\"/>\n   </g>\n   <g id=\"patch_1043\">\n    <path d=\"M 256.292524 273.671006 \nL 256.729481 273.671006 \nL 256.729481 273.670256 \nL 256.292524 273.670256 \nz\n\" clip-path=\"url(#pae04297fc5)\" style=\"fill: #1f77b4; fill-opacity: 0.75; stroke: #000000; stroke-width: 0.029649; stroke-linejoin: miter\"/>\n   </g>\n   <g id=\"patch_1044\">\n    <path d=\"M 256.729481 273.671006 \nL 257.166437 273.671006 \nL 257.166437 273.669505 \nL 256.729481 273.669505 \nz\n\" clip-path=\"url(#pae04297fc5)\" style=\"fill: #1f77b4; fill-opacity: 0.75; stroke: #000000; stroke-width: 0.029649; stroke-linejoin: miter\"/>\n   </g>\n   <g id=\"patch_1045\">\n    <path d=\"M 257.166437 273.671006 \nL 257.603393 273.671006 \nL 257.603393 273.668004 \nL 257.166437 273.668004 \nz\n\" clip-path=\"url(#pae04297fc5)\" style=\"fill: #1f77b4; fill-opacity: 0.75; stroke: #000000; stroke-width: 0.029649; stroke-linejoin: miter\"/>\n   </g>\n   <g id=\"patch_1046\">\n    <path d=\"M 257.603393 273.671006 \nL 258.04035 273.671006 \nL 258.04035 273.671006 \nL 257.603393 273.671006 \nz\n\" clip-path=\"url(#pae04297fc5)\" style=\"fill: #1f77b4; fill-opacity: 0.75; stroke: #000000; stroke-width: 0.029649; stroke-linejoin: miter\"/>\n   </g>\n   <g id=\"patch_1047\">\n    <path d=\"M 258.04035 273.671006 \nL 258.477306 273.671006 \nL 258.477306 273.670256 \nL 258.04035 273.670256 \nz\n\" clip-path=\"url(#pae04297fc5)\" style=\"fill: #1f77b4; fill-opacity: 0.75; stroke: #000000; stroke-width: 0.029649; stroke-linejoin: miter\"/>\n   </g>\n   <g id=\"patch_1048\">\n    <path d=\"M 258.477306 273.671006 \nL 258.914262 273.671006 \nL 258.914262 273.668755 \nL 258.477306 273.668755 \nz\n\" clip-path=\"url(#pae04297fc5)\" style=\"fill: #1f77b4; fill-opacity: 0.75; stroke: #000000; stroke-width: 0.029649; stroke-linejoin: miter\"/>\n   </g>\n   <g id=\"patch_1049\">\n    <path d=\"M 258.914262 273.671006 \nL 259.351219 273.671006 \nL 259.351219 273.671006 \nL 258.914262 273.671006 \nz\n\" clip-path=\"url(#pae04297fc5)\" style=\"fill: #1f77b4; fill-opacity: 0.75; stroke: #000000; stroke-width: 0.029649; stroke-linejoin: miter\"/>\n   </g>\n   <g id=\"patch_1050\">\n    <path d=\"M 259.351219 273.671006 \nL 259.788175 273.671006 \nL 259.788175 273.671006 \nL 259.351219 273.671006 \nz\n\" clip-path=\"url(#pae04297fc5)\" style=\"fill: #1f77b4; fill-opacity: 0.75; stroke: #000000; stroke-width: 0.029649; stroke-linejoin: miter\"/>\n   </g>\n   <g id=\"patch_1051\">\n    <path d=\"M 259.788175 273.671006 \nL 260.225132 273.671006 \nL 260.225132 273.671006 \nL 259.788175 273.671006 \nz\n\" clip-path=\"url(#pae04297fc5)\" style=\"fill: #1f77b4; fill-opacity: 0.75; stroke: #000000; stroke-width: 0.029649; stroke-linejoin: miter\"/>\n   </g>\n   <g id=\"patch_1052\">\n    <path d=\"M 260.225132 273.671006 \nL 260.662088 273.671006 \nL 260.662088 273.671006 \nL 260.225132 273.671006 \nz\n\" clip-path=\"url(#pae04297fc5)\" style=\"fill: #1f77b4; fill-opacity: 0.75; stroke: #000000; stroke-width: 0.029649; stroke-linejoin: miter\"/>\n   </g>\n   <g id=\"patch_1053\">\n    <path d=\"M 260.662088 273.671006 \nL 261.099044 273.671006 \nL 261.099044 273.671006 \nL 260.662088 273.671006 \nz\n\" clip-path=\"url(#pae04297fc5)\" style=\"fill: #1f77b4; fill-opacity: 0.75; stroke: #000000; stroke-width: 0.029649; stroke-linejoin: miter\"/>\n   </g>\n   <g id=\"patch_1054\">\n    <path d=\"M 261.099044 273.671006 \nL 261.536001 273.671006 \nL 261.536001 273.670256 \nL 261.099044 273.670256 \nz\n\" clip-path=\"url(#pae04297fc5)\" style=\"fill: #1f77b4; fill-opacity: 0.75; stroke: #000000; stroke-width: 0.029649; stroke-linejoin: miter\"/>\n   </g>\n   <g id=\"patch_1055\">\n    <path d=\"M 261.536001 273.671006 \nL 261.972957 273.671006 \nL 261.972957 273.670256 \nL 261.536001 273.670256 \nz\n\" clip-path=\"url(#pae04297fc5)\" style=\"fill: #1f77b4; fill-opacity: 0.75; stroke: #000000; stroke-width: 0.029649; stroke-linejoin: miter\"/>\n   </g>\n   <g id=\"patch_1056\">\n    <path d=\"M 261.972957 273.671006 \nL 262.409914 273.671006 \nL 262.409914 273.671006 \nL 261.972957 273.671006 \nz\n\" clip-path=\"url(#pae04297fc5)\" style=\"fill: #1f77b4; fill-opacity: 0.75; stroke: #000000; stroke-width: 0.029649; stroke-linejoin: miter\"/>\n   </g>\n   <g id=\"patch_1057\">\n    <path d=\"M 262.409914 273.671006 \nL 262.84687 273.671006 \nL 262.84687 273.671006 \nL 262.409914 273.671006 \nz\n\" clip-path=\"url(#pae04297fc5)\" style=\"fill: #1f77b4; fill-opacity: 0.75; stroke: #000000; stroke-width: 0.029649; stroke-linejoin: miter\"/>\n   </g>\n   <g id=\"patch_1058\">\n    <path d=\"M 262.84687 273.671006 \nL 263.283826 273.671006 \nL 263.283826 273.671006 \nL 262.84687 273.671006 \nz\n\" clip-path=\"url(#pae04297fc5)\" style=\"fill: #1f77b4; fill-opacity: 0.75; stroke: #000000; stroke-width: 0.029649; stroke-linejoin: miter\"/>\n   </g>\n   <g id=\"patch_1059\">\n    <path d=\"M 263.283826 273.671006 \nL 263.720783 273.671006 \nL 263.720783 273.671006 \nL 263.283826 273.671006 \nz\n\" clip-path=\"url(#pae04297fc5)\" style=\"fill: #1f77b4; fill-opacity: 0.75; stroke: #000000; stroke-width: 0.029649; stroke-linejoin: miter\"/>\n   </g>\n   <g id=\"patch_1060\">\n    <path d=\"M 263.720783 273.671006 \nL 264.157739 273.671006 \nL 264.157739 273.671006 \nL 263.720783 273.671006 \nz\n\" clip-path=\"url(#pae04297fc5)\" style=\"fill: #1f77b4; fill-opacity: 0.75; stroke: #000000; stroke-width: 0.029649; stroke-linejoin: miter\"/>\n   </g>\n   <g id=\"patch_1061\">\n    <path d=\"M 264.157739 273.671006 \nL 264.594695 273.671006 \nL 264.594695 273.663501 \nL 264.157739 273.663501 \nz\n\" clip-path=\"url(#pae04297fc5)\" style=\"fill: #1f77b4; fill-opacity: 0.75; stroke: #000000; stroke-width: 0.029649; stroke-linejoin: miter\"/>\n   </g>\n   <g id=\"patch_1062\">\n    <path d=\"M 264.594695 273.671006 \nL 265.031652 273.671006 \nL 265.031652 273.671006 \nL 264.594695 273.671006 \nz\n\" clip-path=\"url(#pae04297fc5)\" style=\"fill: #1f77b4; fill-opacity: 0.75; stroke: #000000; stroke-width: 0.029649; stroke-linejoin: miter\"/>\n   </g>\n   <g id=\"patch_1063\">\n    <path d=\"M 265.031652 273.671006 \nL 265.468608 273.671006 \nL 265.468608 273.671006 \nL 265.031652 273.671006 \nz\n\" clip-path=\"url(#pae04297fc5)\" style=\"fill: #1f77b4; fill-opacity: 0.75; stroke: #000000; stroke-width: 0.029649; stroke-linejoin: miter\"/>\n   </g>\n   <g id=\"patch_1064\">\n    <path d=\"M 265.468608 273.671006 \nL 265.905565 273.671006 \nL 265.905565 273.671006 \nL 265.468608 273.671006 \nz\n\" clip-path=\"url(#pae04297fc5)\" style=\"fill: #1f77b4; fill-opacity: 0.75; stroke: #000000; stroke-width: 0.029649; stroke-linejoin: miter\"/>\n   </g>\n   <g id=\"patch_1065\">\n    <path d=\"M 265.905565 273.671006 \nL 266.342521 273.671006 \nL 266.342521 273.671006 \nL 265.905565 273.671006 \nz\n\" clip-path=\"url(#pae04297fc5)\" style=\"fill: #1f77b4; fill-opacity: 0.75; stroke: #000000; stroke-width: 0.029649; stroke-linejoin: miter\"/>\n   </g>\n   <g id=\"patch_1066\">\n    <path d=\"M 266.342521 273.671006 \nL 266.779477 273.671006 \nL 266.779477 273.671006 \nL 266.342521 273.671006 \nz\n\" clip-path=\"url(#pae04297fc5)\" style=\"fill: #1f77b4; fill-opacity: 0.75; stroke: #000000; stroke-width: 0.029649; stroke-linejoin: miter\"/>\n   </g>\n   <g id=\"patch_1067\">\n    <path d=\"M 266.779477 273.671006 \nL 267.216434 273.671006 \nL 267.216434 273.671006 \nL 266.779477 273.671006 \nz\n\" clip-path=\"url(#pae04297fc5)\" style=\"fill: #1f77b4; fill-opacity: 0.75; stroke: #000000; stroke-width: 0.029649; stroke-linejoin: miter\"/>\n   </g>\n   <g id=\"patch_1068\">\n    <path d=\"M 267.216434 273.671006 \nL 267.65339 273.671006 \nL 267.65339 273.671006 \nL 267.216434 273.671006 \nz\n\" clip-path=\"url(#pae04297fc5)\" style=\"fill: #1f77b4; fill-opacity: 0.75; stroke: #000000; stroke-width: 0.029649; stroke-linejoin: miter\"/>\n   </g>\n   <g id=\"patch_1069\">\n    <path d=\"M 267.65339 273.671006 \nL 268.090346 273.671006 \nL 268.090346 273.671006 \nL 267.65339 273.671006 \nz\n\" clip-path=\"url(#pae04297fc5)\" style=\"fill: #1f77b4; fill-opacity: 0.75; stroke: #000000; stroke-width: 0.029649; stroke-linejoin: miter\"/>\n   </g>\n   <g id=\"patch_1070\">\n    <path d=\"M 268.090346 273.671006 \nL 268.527303 273.671006 \nL 268.527303 273.671006 \nL 268.090346 273.671006 \nz\n\" clip-path=\"url(#pae04297fc5)\" style=\"fill: #1f77b4; fill-opacity: 0.75; stroke: #000000; stroke-width: 0.029649; stroke-linejoin: miter\"/>\n   </g>\n   <g id=\"patch_1071\">\n    <path d=\"M 268.527303 273.671006 \nL 268.964259 273.671006 \nL 268.964259 273.671006 \nL 268.527303 273.671006 \nz\n\" clip-path=\"url(#pae04297fc5)\" style=\"fill: #1f77b4; fill-opacity: 0.75; stroke: #000000; stroke-width: 0.029649; stroke-linejoin: miter\"/>\n   </g>\n   <g id=\"patch_1072\">\n    <path d=\"M 268.964259 273.671006 \nL 269.401216 273.671006 \nL 269.401216 273.670256 \nL 268.964259 273.670256 \nz\n\" clip-path=\"url(#pae04297fc5)\" style=\"fill: #1f77b4; fill-opacity: 0.75; stroke: #000000; stroke-width: 0.029649; stroke-linejoin: miter\"/>\n   </g>\n   <g id=\"patch_1073\">\n    <path d=\"M 269.401216 273.671006 \nL 269.838172 273.671006 \nL 269.838172 273.671006 \nL 269.401216 273.671006 \nz\n\" clip-path=\"url(#pae04297fc5)\" style=\"fill: #1f77b4; fill-opacity: 0.75; stroke: #000000; stroke-width: 0.029649; stroke-linejoin: miter\"/>\n   </g>\n   <g id=\"patch_1074\">\n    <path d=\"M 269.838172 273.671006 \nL 270.275128 273.671006 \nL 270.275128 273.669505 \nL 269.838172 273.669505 \nz\n\" clip-path=\"url(#pae04297fc5)\" style=\"fill: #1f77b4; fill-opacity: 0.75; stroke: #000000; stroke-width: 0.029649; stroke-linejoin: miter\"/>\n   </g>\n   <g id=\"patch_1075\">\n    <path d=\"M 270.275128 273.671006 \nL 270.712085 273.671006 \nL 270.712085 273.671006 \nL 270.275128 273.671006 \nz\n\" clip-path=\"url(#pae04297fc5)\" style=\"fill: #1f77b4; fill-opacity: 0.75; stroke: #000000; stroke-width: 0.029649; stroke-linejoin: miter\"/>\n   </g>\n   <g id=\"patch_1076\">\n    <path d=\"M 270.712085 273.671006 \nL 271.149041 273.671006 \nL 271.149041 273.671006 \nL 270.712085 273.671006 \nz\n\" clip-path=\"url(#pae04297fc5)\" style=\"fill: #1f77b4; fill-opacity: 0.75; stroke: #000000; stroke-width: 0.029649; stroke-linejoin: miter\"/>\n   </g>\n   <g id=\"patch_1077\">\n    <path d=\"M 271.149041 273.671006 \nL 271.585997 273.671006 \nL 271.585997 273.671006 \nL 271.149041 273.671006 \nz\n\" clip-path=\"url(#pae04297fc5)\" style=\"fill: #1f77b4; fill-opacity: 0.75; stroke: #000000; stroke-width: 0.029649; stroke-linejoin: miter\"/>\n   </g>\n   <g id=\"patch_1078\">\n    <path d=\"M 271.585997 273.671006 \nL 272.022954 273.671006 \nL 272.022954 273.671006 \nL 271.585997 273.671006 \nz\n\" clip-path=\"url(#pae04297fc5)\" style=\"fill: #1f77b4; fill-opacity: 0.75; stroke: #000000; stroke-width: 0.029649; stroke-linejoin: miter\"/>\n   </g>\n   <g id=\"patch_1079\">\n    <path d=\"M 272.022954 273.671006 \nL 272.45991 273.671006 \nL 272.45991 273.671006 \nL 272.022954 273.671006 \nz\n\" clip-path=\"url(#pae04297fc5)\" style=\"fill: #1f77b4; fill-opacity: 0.75; stroke: #000000; stroke-width: 0.029649; stroke-linejoin: miter\"/>\n   </g>\n   <g id=\"patch_1080\">\n    <path d=\"M 272.45991 273.671006 \nL 272.896867 273.671006 \nL 272.896867 273.671006 \nL 272.45991 273.671006 \nz\n\" clip-path=\"url(#pae04297fc5)\" style=\"fill: #1f77b4; fill-opacity: 0.75; stroke: #000000; stroke-width: 0.029649; stroke-linejoin: miter\"/>\n   </g>\n   <g id=\"patch_1081\">\n    <path d=\"M 272.896867 273.671006 \nL 273.333823 273.671006 \nL 273.333823 273.671006 \nL 272.896867 273.671006 \nz\n\" clip-path=\"url(#pae04297fc5)\" style=\"fill: #1f77b4; fill-opacity: 0.75; stroke: #000000; stroke-width: 0.029649; stroke-linejoin: miter\"/>\n   </g>\n   <g id=\"patch_1082\">\n    <path d=\"M 273.333823 273.671006 \nL 273.770779 273.671006 \nL 273.770779 273.668755 \nL 273.333823 273.668755 \nz\n\" clip-path=\"url(#pae04297fc5)\" style=\"fill: #1f77b4; fill-opacity: 0.75; stroke: #000000; stroke-width: 0.029649; stroke-linejoin: miter\"/>\n   </g>\n   <g id=\"patch_1083\">\n    <path d=\"M 273.770779 273.671006 \nL 274.207736 273.671006 \nL 274.207736 273.671006 \nL 273.770779 273.671006 \nz\n\" clip-path=\"url(#pae04297fc5)\" style=\"fill: #1f77b4; fill-opacity: 0.75; stroke: #000000; stroke-width: 0.029649; stroke-linejoin: miter\"/>\n   </g>\n   <g id=\"patch_1084\">\n    <path d=\"M 274.207736 273.671006 \nL 274.644692 273.671006 \nL 274.644692 273.671006 \nL 274.207736 273.671006 \nz\n\" clip-path=\"url(#pae04297fc5)\" style=\"fill: #1f77b4; fill-opacity: 0.75; stroke: #000000; stroke-width: 0.029649; stroke-linejoin: miter\"/>\n   </g>\n   <g id=\"patch_1085\">\n    <path d=\"M 274.644692 273.671006 \nL 275.081648 273.671006 \nL 275.081648 273.671006 \nL 274.644692 273.671006 \nz\n\" clip-path=\"url(#pae04297fc5)\" style=\"fill: #1f77b4; fill-opacity: 0.75; stroke: #000000; stroke-width: 0.029649; stroke-linejoin: miter\"/>\n   </g>\n   <g id=\"patch_1086\">\n    <path d=\"M 275.081648 273.671006 \nL 275.518605 273.671006 \nL 275.518605 273.671006 \nL 275.081648 273.671006 \nz\n\" clip-path=\"url(#pae04297fc5)\" style=\"fill: #1f77b4; fill-opacity: 0.75; stroke: #000000; stroke-width: 0.029649; stroke-linejoin: miter\"/>\n   </g>\n   <g id=\"patch_1087\">\n    <path d=\"M 275.518605 273.671006 \nL 275.955561 273.671006 \nL 275.955561 273.671006 \nL 275.518605 273.671006 \nz\n\" clip-path=\"url(#pae04297fc5)\" style=\"fill: #1f77b4; fill-opacity: 0.75; stroke: #000000; stroke-width: 0.029649; stroke-linejoin: miter\"/>\n   </g>\n   <g id=\"patch_1088\">\n    <path d=\"M 275.955561 273.671006 \nL 276.392518 273.671006 \nL 276.392518 273.671006 \nL 275.955561 273.671006 \nz\n\" clip-path=\"url(#pae04297fc5)\" style=\"fill: #1f77b4; fill-opacity: 0.75; stroke: #000000; stroke-width: 0.029649; stroke-linejoin: miter\"/>\n   </g>\n   <g id=\"patch_1089\">\n    <path d=\"M 276.392518 273.671006 \nL 276.829474 273.671006 \nL 276.829474 273.671006 \nL 276.392518 273.671006 \nz\n\" clip-path=\"url(#pae04297fc5)\" style=\"fill: #1f77b4; fill-opacity: 0.75; stroke: #000000; stroke-width: 0.029649; stroke-linejoin: miter\"/>\n   </g>\n   <g id=\"patch_1090\">\n    <path d=\"M 276.829474 273.671006 \nL 277.26643 273.671006 \nL 277.26643 273.670256 \nL 276.829474 273.670256 \nz\n\" clip-path=\"url(#pae04297fc5)\" style=\"fill: #1f77b4; fill-opacity: 0.75; stroke: #000000; stroke-width: 0.029649; stroke-linejoin: miter\"/>\n   </g>\n   <g id=\"patch_1091\">\n    <path d=\"M 277.26643 273.671006 \nL 277.703387 273.671006 \nL 277.703387 273.671006 \nL 277.26643 273.671006 \nz\n\" clip-path=\"url(#pae04297fc5)\" style=\"fill: #1f77b4; fill-opacity: 0.75; stroke: #000000; stroke-width: 0.029649; stroke-linejoin: miter\"/>\n   </g>\n   <g id=\"patch_1092\">\n    <path d=\"M 277.703387 273.671006 \nL 278.140343 273.671006 \nL 278.140343 273.671006 \nL 277.703387 273.671006 \nz\n\" clip-path=\"url(#pae04297fc5)\" style=\"fill: #1f77b4; fill-opacity: 0.75; stroke: #000000; stroke-width: 0.029649; stroke-linejoin: miter\"/>\n   </g>\n   <g id=\"patch_1093\">\n    <path d=\"M 278.140343 273.671006 \nL 278.577299 273.671006 \nL 278.577299 273.671006 \nL 278.140343 273.671006 \nz\n\" clip-path=\"url(#pae04297fc5)\" style=\"fill: #1f77b4; fill-opacity: 0.75; stroke: #000000; stroke-width: 0.029649; stroke-linejoin: miter\"/>\n   </g>\n   <g id=\"patch_1094\">\n    <path d=\"M 278.577299 273.671006 \nL 279.014256 273.671006 \nL 279.014256 273.670256 \nL 278.577299 273.670256 \nz\n\" clip-path=\"url(#pae04297fc5)\" style=\"fill: #1f77b4; fill-opacity: 0.75; stroke: #000000; stroke-width: 0.029649; stroke-linejoin: miter\"/>\n   </g>\n   <g id=\"patch_1095\">\n    <path d=\"M 279.014256 273.671006 \nL 279.451212 273.671006 \nL 279.451212 273.671006 \nL 279.014256 273.671006 \nz\n\" clip-path=\"url(#pae04297fc5)\" style=\"fill: #1f77b4; fill-opacity: 0.75; stroke: #000000; stroke-width: 0.029649; stroke-linejoin: miter\"/>\n   </g>\n   <g id=\"patch_1096\">\n    <path d=\"M 279.451212 273.671006 \nL 279.888169 273.671006 \nL 279.888169 273.671006 \nL 279.451212 273.671006 \nz\n\" clip-path=\"url(#pae04297fc5)\" style=\"fill: #1f77b4; fill-opacity: 0.75; stroke: #000000; stroke-width: 0.029649; stroke-linejoin: miter\"/>\n   </g>\n   <g id=\"patch_1097\">\n    <path d=\"M 279.888169 273.671006 \nL 280.325125 273.671006 \nL 280.325125 273.665753 \nL 279.888169 273.665753 \nz\n\" clip-path=\"url(#pae04297fc5)\" style=\"fill: #1f77b4; fill-opacity: 0.75; stroke: #000000; stroke-width: 0.029649; stroke-linejoin: miter\"/>\n   </g>\n   <g id=\"matplotlib.axis_1\">\n    <g id=\"xtick_1\">\n     <g id=\"line2d_1\">\n      <defs>\n       <path id=\"m5be5f15ce6\" d=\"M 0 0 \nL 0 3.5 \n\" style=\"stroke: #000000; stroke-width: 0.8\"/>\n      </defs>\n      <g>\n       <use xlink:href=\"#m5be5f15ce6\" x=\"66.053125\" y=\"273.671006\" style=\"stroke: #000000; stroke-width: 0.8\"/>\n      </g>\n     </g>\n     <g id=\"text_1\">\n      <!-- 1e+03 -->\n      <g transform=\"translate(49.242969 288.269444) scale(0.1 -0.1)\">\n       <defs>\n        <path id=\"DejaVuSans-31\" d=\"M 794 531 \nL 1825 531 \nL 1825 4091 \nL 703 3866 \nL 703 4441 \nL 1819 4666 \nL 2450 4666 \nL 2450 531 \nL 3481 531 \nL 3481 0 \nL 794 0 \nL 794 531 \nz\n\" transform=\"scale(0.015625)\"/>\n        <path id=\"DejaVuSans-65\" d=\"M 3597 1894 \nL 3597 1613 \nL 953 1613 \nQ 991 1019 1311 708 \nQ 1631 397 2203 397 \nQ 2534 397 2845 478 \nQ 3156 559 3463 722 \nL 3463 178 \nQ 3153 47 2828 -22 \nQ 2503 -91 2169 -91 \nQ 1331 -91 842 396 \nQ 353 884 353 1716 \nQ 353 2575 817 3079 \nQ 1281 3584 2069 3584 \nQ 2775 3584 3186 3129 \nQ 3597 2675 3597 1894 \nz\nM 3022 2063 \nQ 3016 2534 2758 2815 \nQ 2500 3097 2075 3097 \nQ 1594 3097 1305 2825 \nQ 1016 2553 972 2059 \nL 3022 2063 \nz\n\" transform=\"scale(0.015625)\"/>\n        <path id=\"DejaVuSans-2b\" d=\"M 2944 4013 \nL 2944 2272 \nL 4684 2272 \nL 4684 1741 \nL 2944 1741 \nL 2944 0 \nL 2419 0 \nL 2419 1741 \nL 678 1741 \nL 678 2272 \nL 2419 2272 \nL 2419 4013 \nL 2944 4013 \nz\n\" transform=\"scale(0.015625)\"/>\n        <path id=\"DejaVuSans-30\" d=\"M 2034 4250 \nQ 1547 4250 1301 3770 \nQ 1056 3291 1056 2328 \nQ 1056 1369 1301 889 \nQ 1547 409 2034 409 \nQ 2525 409 2770 889 \nQ 3016 1369 3016 2328 \nQ 3016 3291 2770 3770 \nQ 2525 4250 2034 4250 \nz\nM 2034 4750 \nQ 2819 4750 3233 4129 \nQ 3647 3509 3647 2328 \nQ 3647 1150 3233 529 \nQ 2819 -91 2034 -91 \nQ 1250 -91 836 529 \nQ 422 1150 422 2328 \nQ 422 3509 836 4129 \nQ 1250 4750 2034 4750 \nz\n\" transform=\"scale(0.015625)\"/>\n        <path id=\"DejaVuSans-33\" d=\"M 2597 2516 \nQ 3050 2419 3304 2112 \nQ 3559 1806 3559 1356 \nQ 3559 666 3084 287 \nQ 2609 -91 1734 -91 \nQ 1441 -91 1130 -33 \nQ 819 25 488 141 \nL 488 750 \nQ 750 597 1062 519 \nQ 1375 441 1716 441 \nQ 2309 441 2620 675 \nQ 2931 909 2931 1356 \nQ 2931 1769 2642 2001 \nQ 2353 2234 1838 2234 \nL 1294 2234 \nL 1294 2753 \nL 1863 2753 \nQ 2328 2753 2575 2939 \nQ 2822 3125 2822 3475 \nQ 2822 3834 2567 4026 \nQ 2313 4219 1838 4219 \nQ 1578 4219 1281 4162 \nQ 984 4106 628 3988 \nL 628 4550 \nQ 988 4650 1302 4700 \nQ 1616 4750 1894 4750 \nQ 2613 4750 3031 4423 \nQ 3450 4097 3450 3541 \nQ 3450 3153 3228 2886 \nQ 3006 2619 2597 2516 \nz\n\" transform=\"scale(0.015625)\"/>\n       </defs>\n       <use xlink:href=\"#DejaVuSans-31\"/>\n       <use xlink:href=\"#DejaVuSans-65\" x=\"63.623047\"/>\n       <use xlink:href=\"#DejaVuSans-2b\" x=\"125.146484\"/>\n       <use xlink:href=\"#DejaVuSans-30\" x=\"208.935547\"/>\n       <use xlink:href=\"#DejaVuSans-33\" x=\"272.558594\"/>\n      </g>\n     </g>\n    </g>\n    <g id=\"xtick_2\">\n     <g id=\"line2d_2\">\n      <g>\n       <use xlink:href=\"#m5be5f15ce6\" x=\"137.477125\" y=\"273.671006\" style=\"stroke: #000000; stroke-width: 0.8\"/>\n      </g>\n     </g>\n     <g id=\"text_2\">\n      <!-- 1e+04 -->\n      <g transform=\"translate(120.666969 288.269444) scale(0.1 -0.1)\">\n       <defs>\n        <path id=\"DejaVuSans-34\" d=\"M 2419 4116 \nL 825 1625 \nL 2419 1625 \nL 2419 4116 \nz\nM 2253 4666 \nL 3047 4666 \nL 3047 1625 \nL 3713 1625 \nL 3713 1100 \nL 3047 1100 \nL 3047 0 \nL 2419 0 \nL 2419 1100 \nL 313 1100 \nL 313 1709 \nL 2253 4666 \nz\n\" transform=\"scale(0.015625)\"/>\n       </defs>\n       <use xlink:href=\"#DejaVuSans-31\"/>\n       <use xlink:href=\"#DejaVuSans-65\" x=\"63.623047\"/>\n       <use xlink:href=\"#DejaVuSans-2b\" x=\"125.146484\"/>\n       <use xlink:href=\"#DejaVuSans-30\" x=\"208.935547\"/>\n       <use xlink:href=\"#DejaVuSans-34\" x=\"272.558594\"/>\n      </g>\n     </g>\n    </g>\n    <g id=\"xtick_3\">\n     <g id=\"line2d_3\">\n      <g>\n       <use xlink:href=\"#m5be5f15ce6\" x=\"208.901125\" y=\"273.671006\" style=\"stroke: #000000; stroke-width: 0.8\"/>\n      </g>\n     </g>\n     <g id=\"text_3\">\n      <!-- 1e+05 -->\n      <g transform=\"translate(192.090969 288.269444) scale(0.1 -0.1)\">\n       <defs>\n        <path id=\"DejaVuSans-35\" d=\"M 691 4666 \nL 3169 4666 \nL 3169 4134 \nL 1269 4134 \nL 1269 2991 \nQ 1406 3038 1543 3061 \nQ 1681 3084 1819 3084 \nQ 2600 3084 3056 2656 \nQ 3513 2228 3513 1497 \nQ 3513 744 3044 326 \nQ 2575 -91 1722 -91 \nQ 1428 -91 1123 -41 \nQ 819 9 494 109 \nL 494 744 \nQ 775 591 1075 516 \nQ 1375 441 1709 441 \nQ 2250 441 2565 725 \nQ 2881 1009 2881 1497 \nQ 2881 1984 2565 2268 \nQ 2250 2553 1709 2553 \nQ 1456 2553 1204 2497 \nQ 953 2441 691 2322 \nL 691 4666 \nz\n\" transform=\"scale(0.015625)\"/>\n       </defs>\n       <use xlink:href=\"#DejaVuSans-31\"/>\n       <use xlink:href=\"#DejaVuSans-65\" x=\"63.623047\"/>\n       <use xlink:href=\"#DejaVuSans-2b\" x=\"125.146484\"/>\n       <use xlink:href=\"#DejaVuSans-30\" x=\"208.935547\"/>\n       <use xlink:href=\"#DejaVuSans-35\" x=\"272.558594\"/>\n      </g>\n     </g>\n    </g>\n    <g id=\"xtick_4\">\n     <g id=\"line2d_4\">\n      <g>\n       <use xlink:href=\"#m5be5f15ce6\" x=\"280.325125\" y=\"273.671006\" style=\"stroke: #000000; stroke-width: 0.8\"/>\n      </g>\n     </g>\n     <g id=\"text_4\">\n      <!-- 1e+06 -->\n      <g transform=\"translate(263.514969 288.269444) scale(0.1 -0.1)\">\n       <defs>\n        <path id=\"DejaVuSans-36\" d=\"M 2113 2584 \nQ 1688 2584 1439 2293 \nQ 1191 2003 1191 1497 \nQ 1191 994 1439 701 \nQ 1688 409 2113 409 \nQ 2538 409 2786 701 \nQ 3034 994 3034 1497 \nQ 3034 2003 2786 2293 \nQ 2538 2584 2113 2584 \nz\nM 3366 4563 \nL 3366 3988 \nQ 3128 4100 2886 4159 \nQ 2644 4219 2406 4219 \nQ 1781 4219 1451 3797 \nQ 1122 3375 1075 2522 \nQ 1259 2794 1537 2939 \nQ 1816 3084 2150 3084 \nQ 2853 3084 3261 2657 \nQ 3669 2231 3669 1497 \nQ 3669 778 3244 343 \nQ 2819 -91 2113 -91 \nQ 1303 -91 875 529 \nQ 447 1150 447 2328 \nQ 447 3434 972 4092 \nQ 1497 4750 2381 4750 \nQ 2619 4750 2861 4703 \nQ 3103 4656 3366 4563 \nz\n\" transform=\"scale(0.015625)\"/>\n       </defs>\n       <use xlink:href=\"#DejaVuSans-31\"/>\n       <use xlink:href=\"#DejaVuSans-65\" x=\"63.623047\"/>\n       <use xlink:href=\"#DejaVuSans-2b\" x=\"125.146484\"/>\n       <use xlink:href=\"#DejaVuSans-30\" x=\"208.935547\"/>\n       <use xlink:href=\"#DejaVuSans-36\" x=\"272.558594\"/>\n      </g>\n     </g>\n    </g>\n    <g id=\"xtick_5\">\n     <g id=\"line2d_5\">\n      <g>\n       <use xlink:href=\"#m5be5f15ce6\" x=\"351.749125\" y=\"273.671006\" style=\"stroke: #000000; stroke-width: 0.8\"/>\n      </g>\n     </g>\n     <g id=\"text_5\">\n      <!-- 1e+07 -->\n      <g transform=\"translate(334.938969 288.269444) scale(0.1 -0.1)\">\n       <defs>\n        <path id=\"DejaVuSans-37\" d=\"M 525 4666 \nL 3525 4666 \nL 3525 4397 \nL 1831 0 \nL 1172 0 \nL 2766 4134 \nL 525 4134 \nL 525 4666 \nz\n\" transform=\"scale(0.015625)\"/>\n       </defs>\n       <use xlink:href=\"#DejaVuSans-31\"/>\n       <use xlink:href=\"#DejaVuSans-65\" x=\"63.623047\"/>\n       <use xlink:href=\"#DejaVuSans-2b\" x=\"125.146484\"/>\n       <use xlink:href=\"#DejaVuSans-30\" x=\"208.935547\"/>\n       <use xlink:href=\"#DejaVuSans-37\" x=\"272.558594\"/>\n      </g>\n     </g>\n    </g>\n    <g id=\"xtick_6\">\n     <g id=\"line2d_6\">\n      <g>\n       <use xlink:href=\"#m5be5f15ce6\" x=\"423.173125\" y=\"273.671006\" style=\"stroke: #000000; stroke-width: 0.8\"/>\n      </g>\n     </g>\n     <g id=\"text_6\">\n      <!-- 1e+08 -->\n      <g transform=\"translate(406.362969 288.269444) scale(0.1 -0.1)\">\n       <defs>\n        <path id=\"DejaVuSans-38\" d=\"M 2034 2216 \nQ 1584 2216 1326 1975 \nQ 1069 1734 1069 1313 \nQ 1069 891 1326 650 \nQ 1584 409 2034 409 \nQ 2484 409 2743 651 \nQ 3003 894 3003 1313 \nQ 3003 1734 2745 1975 \nQ 2488 2216 2034 2216 \nz\nM 1403 2484 \nQ 997 2584 770 2862 \nQ 544 3141 544 3541 \nQ 544 4100 942 4425 \nQ 1341 4750 2034 4750 \nQ 2731 4750 3128 4425 \nQ 3525 4100 3525 3541 \nQ 3525 3141 3298 2862 \nQ 3072 2584 2669 2484 \nQ 3125 2378 3379 2068 \nQ 3634 1759 3634 1313 \nQ 3634 634 3220 271 \nQ 2806 -91 2034 -91 \nQ 1263 -91 848 271 \nQ 434 634 434 1313 \nQ 434 1759 690 2068 \nQ 947 2378 1403 2484 \nz\nM 1172 3481 \nQ 1172 3119 1398 2916 \nQ 1625 2713 2034 2713 \nQ 2441 2713 2670 2916 \nQ 2900 3119 2900 3481 \nQ 2900 3844 2670 4047 \nQ 2441 4250 2034 4250 \nQ 1625 4250 1398 4047 \nQ 1172 3844 1172 3481 \nz\n\" transform=\"scale(0.015625)\"/>\n       </defs>\n       <use xlink:href=\"#DejaVuSans-31\"/>\n       <use xlink:href=\"#DejaVuSans-65\" x=\"63.623047\"/>\n       <use xlink:href=\"#DejaVuSans-2b\" x=\"125.146484\"/>\n       <use xlink:href=\"#DejaVuSans-30\" x=\"208.935547\"/>\n       <use xlink:href=\"#DejaVuSans-38\" x=\"272.558594\"/>\n      </g>\n     </g>\n    </g>\n    <g id=\"text_7\">\n     <!-- credamount_590A -->\n     <g transform=\"translate(198.914688 301.947569) scale(0.1 -0.1)\">\n      <defs>\n       <path id=\"DejaVuSans-63\" d=\"M 3122 3366 \nL 3122 2828 \nQ 2878 2963 2633 3030 \nQ 2388 3097 2138 3097 \nQ 1578 3097 1268 2742 \nQ 959 2388 959 1747 \nQ 959 1106 1268 751 \nQ 1578 397 2138 397 \nQ 2388 397 2633 464 \nQ 2878 531 3122 666 \nL 3122 134 \nQ 2881 22 2623 -34 \nQ 2366 -91 2075 -91 \nQ 1284 -91 818 406 \nQ 353 903 353 1747 \nQ 353 2603 823 3093 \nQ 1294 3584 2113 3584 \nQ 2378 3584 2631 3529 \nQ 2884 3475 3122 3366 \nz\n\" transform=\"scale(0.015625)\"/>\n       <path id=\"DejaVuSans-72\" d=\"M 2631 2963 \nQ 2534 3019 2420 3045 \nQ 2306 3072 2169 3072 \nQ 1681 3072 1420 2755 \nQ 1159 2438 1159 1844 \nL 1159 0 \nL 581 0 \nL 581 3500 \nL 1159 3500 \nL 1159 2956 \nQ 1341 3275 1631 3429 \nQ 1922 3584 2338 3584 \nQ 2397 3584 2469 3576 \nQ 2541 3569 2628 3553 \nL 2631 2963 \nz\n\" transform=\"scale(0.015625)\"/>\n       <path id=\"DejaVuSans-64\" d=\"M 2906 2969 \nL 2906 4863 \nL 3481 4863 \nL 3481 0 \nL 2906 0 \nL 2906 525 \nQ 2725 213 2448 61 \nQ 2172 -91 1784 -91 \nQ 1150 -91 751 415 \nQ 353 922 353 1747 \nQ 353 2572 751 3078 \nQ 1150 3584 1784 3584 \nQ 2172 3584 2448 3432 \nQ 2725 3281 2906 2969 \nz\nM 947 1747 \nQ 947 1113 1208 752 \nQ 1469 391 1925 391 \nQ 2381 391 2643 752 \nQ 2906 1113 2906 1747 \nQ 2906 2381 2643 2742 \nQ 2381 3103 1925 3103 \nQ 1469 3103 1208 2742 \nQ 947 2381 947 1747 \nz\n\" transform=\"scale(0.015625)\"/>\n       <path id=\"DejaVuSans-61\" d=\"M 2194 1759 \nQ 1497 1759 1228 1600 \nQ 959 1441 959 1056 \nQ 959 750 1161 570 \nQ 1363 391 1709 391 \nQ 2188 391 2477 730 \nQ 2766 1069 2766 1631 \nL 2766 1759 \nL 2194 1759 \nz\nM 3341 1997 \nL 3341 0 \nL 2766 0 \nL 2766 531 \nQ 2569 213 2275 61 \nQ 1981 -91 1556 -91 \nQ 1019 -91 701 211 \nQ 384 513 384 1019 \nQ 384 1609 779 1909 \nQ 1175 2209 1959 2209 \nL 2766 2209 \nL 2766 2266 \nQ 2766 2663 2505 2880 \nQ 2244 3097 1772 3097 \nQ 1472 3097 1187 3025 \nQ 903 2953 641 2809 \nL 641 3341 \nQ 956 3463 1253 3523 \nQ 1550 3584 1831 3584 \nQ 2591 3584 2966 3190 \nQ 3341 2797 3341 1997 \nz\n\" transform=\"scale(0.015625)\"/>\n       <path id=\"DejaVuSans-6d\" d=\"M 3328 2828 \nQ 3544 3216 3844 3400 \nQ 4144 3584 4550 3584 \nQ 5097 3584 5394 3201 \nQ 5691 2819 5691 2113 \nL 5691 0 \nL 5113 0 \nL 5113 2094 \nQ 5113 2597 4934 2840 \nQ 4756 3084 4391 3084 \nQ 3944 3084 3684 2787 \nQ 3425 2491 3425 1978 \nL 3425 0 \nL 2847 0 \nL 2847 2094 \nQ 2847 2600 2669 2842 \nQ 2491 3084 2119 3084 \nQ 1678 3084 1418 2786 \nQ 1159 2488 1159 1978 \nL 1159 0 \nL 581 0 \nL 581 3500 \nL 1159 3500 \nL 1159 2956 \nQ 1356 3278 1631 3431 \nQ 1906 3584 2284 3584 \nQ 2666 3584 2933 3390 \nQ 3200 3197 3328 2828 \nz\n\" transform=\"scale(0.015625)\"/>\n       <path id=\"DejaVuSans-6f\" d=\"M 1959 3097 \nQ 1497 3097 1228 2736 \nQ 959 2375 959 1747 \nQ 959 1119 1226 758 \nQ 1494 397 1959 397 \nQ 2419 397 2687 759 \nQ 2956 1122 2956 1747 \nQ 2956 2369 2687 2733 \nQ 2419 3097 1959 3097 \nz\nM 1959 3584 \nQ 2709 3584 3137 3096 \nQ 3566 2609 3566 1747 \nQ 3566 888 3137 398 \nQ 2709 -91 1959 -91 \nQ 1206 -91 779 398 \nQ 353 888 353 1747 \nQ 353 2609 779 3096 \nQ 1206 3584 1959 3584 \nz\n\" transform=\"scale(0.015625)\"/>\n       <path id=\"DejaVuSans-75\" d=\"M 544 1381 \nL 544 3500 \nL 1119 3500 \nL 1119 1403 \nQ 1119 906 1312 657 \nQ 1506 409 1894 409 \nQ 2359 409 2629 706 \nQ 2900 1003 2900 1516 \nL 2900 3500 \nL 3475 3500 \nL 3475 0 \nL 2900 0 \nL 2900 538 \nQ 2691 219 2414 64 \nQ 2138 -91 1772 -91 \nQ 1169 -91 856 284 \nQ 544 659 544 1381 \nz\nM 1991 3584 \nL 1991 3584 \nz\n\" transform=\"scale(0.015625)\"/>\n       <path id=\"DejaVuSans-6e\" d=\"M 3513 2113 \nL 3513 0 \nL 2938 0 \nL 2938 2094 \nQ 2938 2591 2744 2837 \nQ 2550 3084 2163 3084 \nQ 1697 3084 1428 2787 \nQ 1159 2491 1159 1978 \nL 1159 0 \nL 581 0 \nL 581 3500 \nL 1159 3500 \nL 1159 2956 \nQ 1366 3272 1645 3428 \nQ 1925 3584 2291 3584 \nQ 2894 3584 3203 3211 \nQ 3513 2838 3513 2113 \nz\n\" transform=\"scale(0.015625)\"/>\n       <path id=\"DejaVuSans-74\" d=\"M 1172 4494 \nL 1172 3500 \nL 2356 3500 \nL 2356 3053 \nL 1172 3053 \nL 1172 1153 \nQ 1172 725 1289 603 \nQ 1406 481 1766 481 \nL 2356 481 \nL 2356 0 \nL 1766 0 \nQ 1100 0 847 248 \nQ 594 497 594 1153 \nL 594 3053 \nL 172 3053 \nL 172 3500 \nL 594 3500 \nL 594 4494 \nL 1172 4494 \nz\n\" transform=\"scale(0.015625)\"/>\n       <path id=\"DejaVuSans-5f\" d=\"M 3263 -1063 \nL 3263 -1509 \nL -63 -1509 \nL -63 -1063 \nL 3263 -1063 \nz\n\" transform=\"scale(0.015625)\"/>\n       <path id=\"DejaVuSans-39\" d=\"M 703 97 \nL 703 672 \nQ 941 559 1184 500 \nQ 1428 441 1663 441 \nQ 2288 441 2617 861 \nQ 2947 1281 2994 2138 \nQ 2813 1869 2534 1725 \nQ 2256 1581 1919 1581 \nQ 1219 1581 811 2004 \nQ 403 2428 403 3163 \nQ 403 3881 828 4315 \nQ 1253 4750 1959 4750 \nQ 2769 4750 3195 4129 \nQ 3622 3509 3622 2328 \nQ 3622 1225 3098 567 \nQ 2575 -91 1691 -91 \nQ 1453 -91 1209 -44 \nQ 966 3 703 97 \nz\nM 1959 2075 \nQ 2384 2075 2632 2365 \nQ 2881 2656 2881 3163 \nQ 2881 3666 2632 3958 \nQ 2384 4250 1959 4250 \nQ 1534 4250 1286 3958 \nQ 1038 3666 1038 3163 \nQ 1038 2656 1286 2365 \nQ 1534 2075 1959 2075 \nz\n\" transform=\"scale(0.015625)\"/>\n       <path id=\"DejaVuSans-41\" d=\"M 2188 4044 \nL 1331 1722 \nL 3047 1722 \nL 2188 4044 \nz\nM 1831 4666 \nL 2547 4666 \nL 4325 0 \nL 3669 0 \nL 3244 1197 \nL 1141 1197 \nL 716 0 \nL 50 0 \nL 1831 4666 \nz\n\" transform=\"scale(0.015625)\"/>\n      </defs>\n      <use xlink:href=\"#DejaVuSans-63\"/>\n      <use xlink:href=\"#DejaVuSans-72\" x=\"54.980469\"/>\n      <use xlink:href=\"#DejaVuSans-65\" x=\"93.84375\"/>\n      <use xlink:href=\"#DejaVuSans-64\" x=\"155.367188\"/>\n      <use xlink:href=\"#DejaVuSans-61\" x=\"218.84375\"/>\n      <use xlink:href=\"#DejaVuSans-6d\" x=\"280.123047\"/>\n      <use xlink:href=\"#DejaVuSans-6f\" x=\"377.535156\"/>\n      <use xlink:href=\"#DejaVuSans-75\" x=\"438.716797\"/>\n      <use xlink:href=\"#DejaVuSans-6e\" x=\"502.095703\"/>\n      <use xlink:href=\"#DejaVuSans-74\" x=\"565.474609\"/>\n      <use xlink:href=\"#DejaVuSans-5f\" x=\"604.683594\"/>\n      <use xlink:href=\"#DejaVuSans-35\" x=\"654.683594\"/>\n      <use xlink:href=\"#DejaVuSans-39\" x=\"718.306641\"/>\n      <use xlink:href=\"#DejaVuSans-30\" x=\"781.929688\"/>\n      <use xlink:href=\"#DejaVuSans-41\" x=\"845.552734\"/>\n     </g>\n    </g>\n   </g>\n   <g id=\"matplotlib.axis_2\">\n    <g id=\"ytick_1\">\n     <g id=\"line2d_7\">\n      <defs>\n       <path id=\"m18912f9739\" d=\"M 0 0 \nL -3.5 0 \n\" style=\"stroke: #000000; stroke-width: 0.8\"/>\n      </defs>\n      <g>\n       <use xlink:href=\"#m18912f9739\" x=\"66.053125\" y=\"273.671006\" style=\"stroke: #000000; stroke-width: 0.8\"/>\n      </g>\n     </g>\n     <g id=\"text_8\">\n      <!-- 0 -->\n      <g transform=\"translate(52.690625 277.470225) scale(0.1 -0.1)\">\n       <use xlink:href=\"#DejaVuSans-30\"/>\n      </g>\n     </g>\n    </g>\n    <g id=\"ytick_2\">\n     <g id=\"line2d_8\">\n      <g>\n       <use xlink:href=\"#m18912f9739\" x=\"66.053125\" y=\"236.146465\" style=\"stroke: #000000; stroke-width: 0.8\"/>\n      </g>\n     </g>\n     <g id=\"text_9\">\n      <!-- 50000 -->\n      <g transform=\"translate(27.240625 239.945684) scale(0.1 -0.1)\">\n       <use xlink:href=\"#DejaVuSans-35\"/>\n       <use xlink:href=\"#DejaVuSans-30\" x=\"63.623047\"/>\n       <use xlink:href=\"#DejaVuSans-30\" x=\"127.246094\"/>\n       <use xlink:href=\"#DejaVuSans-30\" x=\"190.869141\"/>\n       <use xlink:href=\"#DejaVuSans-30\" x=\"254.492188\"/>\n      </g>\n     </g>\n    </g>\n    <g id=\"ytick_3\">\n     <g id=\"line2d_9\">\n      <g>\n       <use xlink:href=\"#m18912f9739\" x=\"66.053125\" y=\"198.621924\" style=\"stroke: #000000; stroke-width: 0.8\"/>\n      </g>\n     </g>\n     <g id=\"text_10\">\n      <!-- 100000 -->\n      <g transform=\"translate(20.878125 202.421143) scale(0.1 -0.1)\">\n       <use xlink:href=\"#DejaVuSans-31\"/>\n       <use xlink:href=\"#DejaVuSans-30\" x=\"63.623047\"/>\n       <use xlink:href=\"#DejaVuSans-30\" x=\"127.246094\"/>\n       <use xlink:href=\"#DejaVuSans-30\" x=\"190.869141\"/>\n       <use xlink:href=\"#DejaVuSans-30\" x=\"254.492188\"/>\n       <use xlink:href=\"#DejaVuSans-30\" x=\"318.115234\"/>\n      </g>\n     </g>\n    </g>\n    <g id=\"ytick_4\">\n     <g id=\"line2d_10\">\n      <g>\n       <use xlink:href=\"#m18912f9739\" x=\"66.053125\" y=\"161.097383\" style=\"stroke: #000000; stroke-width: 0.8\"/>\n      </g>\n     </g>\n     <g id=\"text_11\">\n      <!-- 150000 -->\n      <g transform=\"translate(20.878125 164.896602) scale(0.1 -0.1)\">\n       <use xlink:href=\"#DejaVuSans-31\"/>\n       <use xlink:href=\"#DejaVuSans-35\" x=\"63.623047\"/>\n       <use xlink:href=\"#DejaVuSans-30\" x=\"127.246094\"/>\n       <use xlink:href=\"#DejaVuSans-30\" x=\"190.869141\"/>\n       <use xlink:href=\"#DejaVuSans-30\" x=\"254.492188\"/>\n       <use xlink:href=\"#DejaVuSans-30\" x=\"318.115234\"/>\n      </g>\n     </g>\n    </g>\n    <g id=\"ytick_5\">\n     <g id=\"line2d_11\">\n      <g>\n       <use xlink:href=\"#m18912f9739\" x=\"66.053125\" y=\"123.572842\" style=\"stroke: #000000; stroke-width: 0.8\"/>\n      </g>\n     </g>\n     <g id=\"text_12\">\n      <!-- 200000 -->\n      <g transform=\"translate(20.878125 127.372061) scale(0.1 -0.1)\">\n       <defs>\n        <path id=\"DejaVuSans-32\" d=\"M 1228 531 \nL 3431 531 \nL 3431 0 \nL 469 0 \nL 469 531 \nQ 828 903 1448 1529 \nQ 2069 2156 2228 2338 \nQ 2531 2678 2651 2914 \nQ 2772 3150 2772 3378 \nQ 2772 3750 2511 3984 \nQ 2250 4219 1831 4219 \nQ 1534 4219 1204 4116 \nQ 875 4013 500 3803 \nL 500 4441 \nQ 881 4594 1212 4672 \nQ 1544 4750 1819 4750 \nQ 2544 4750 2975 4387 \nQ 3406 4025 3406 3419 \nQ 3406 3131 3298 2873 \nQ 3191 2616 2906 2266 \nQ 2828 2175 2409 1742 \nQ 1991 1309 1228 531 \nz\n\" transform=\"scale(0.015625)\"/>\n       </defs>\n       <use xlink:href=\"#DejaVuSans-32\"/>\n       <use xlink:href=\"#DejaVuSans-30\" x=\"63.623047\"/>\n       <use xlink:href=\"#DejaVuSans-30\" x=\"127.246094\"/>\n       <use xlink:href=\"#DejaVuSans-30\" x=\"190.869141\"/>\n       <use xlink:href=\"#DejaVuSans-30\" x=\"254.492188\"/>\n       <use xlink:href=\"#DejaVuSans-30\" x=\"318.115234\"/>\n      </g>\n     </g>\n    </g>\n    <g id=\"ytick_6\">\n     <g id=\"line2d_12\">\n      <g>\n       <use xlink:href=\"#m18912f9739\" x=\"66.053125\" y=\"86.048301\" style=\"stroke: #000000; stroke-width: 0.8\"/>\n      </g>\n     </g>\n     <g id=\"text_13\">\n      <!-- 250000 -->\n      <g transform=\"translate(20.878125 89.84752) scale(0.1 -0.1)\">\n       <use xlink:href=\"#DejaVuSans-32\"/>\n       <use xlink:href=\"#DejaVuSans-35\" x=\"63.623047\"/>\n       <use xlink:href=\"#DejaVuSans-30\" x=\"127.246094\"/>\n       <use xlink:href=\"#DejaVuSans-30\" x=\"190.869141\"/>\n       <use xlink:href=\"#DejaVuSans-30\" x=\"254.492188\"/>\n       <use xlink:href=\"#DejaVuSans-30\" x=\"318.115234\"/>\n      </g>\n     </g>\n    </g>\n    <g id=\"ytick_7\">\n     <g id=\"line2d_13\">\n      <g>\n       <use xlink:href=\"#m18912f9739\" x=\"66.053125\" y=\"48.52376\" style=\"stroke: #000000; stroke-width: 0.8\"/>\n      </g>\n     </g>\n     <g id=\"text_14\">\n      <!-- 300000 -->\n      <g transform=\"translate(20.878125 52.322979) scale(0.1 -0.1)\">\n       <use xlink:href=\"#DejaVuSans-33\"/>\n       <use xlink:href=\"#DejaVuSans-30\" x=\"63.623047\"/>\n       <use xlink:href=\"#DejaVuSans-30\" x=\"127.246094\"/>\n       <use xlink:href=\"#DejaVuSans-30\" x=\"190.869141\"/>\n       <use xlink:href=\"#DejaVuSans-30\" x=\"254.492188\"/>\n       <use xlink:href=\"#DejaVuSans-30\" x=\"318.115234\"/>\n      </g>\n     </g>\n    </g>\n    <g id=\"ytick_8\">\n     <g id=\"line2d_14\">\n      <g>\n       <use xlink:href=\"#m18912f9739\" x=\"66.053125\" y=\"10.999219\" style=\"stroke: #000000; stroke-width: 0.8\"/>\n      </g>\n     </g>\n     <g id=\"text_15\">\n      <!-- 350000 -->\n      <g transform=\"translate(20.878125 14.798438) scale(0.1 -0.1)\">\n       <use xlink:href=\"#DejaVuSans-33\"/>\n       <use xlink:href=\"#DejaVuSans-35\" x=\"63.623047\"/>\n       <use xlink:href=\"#DejaVuSans-30\" x=\"127.246094\"/>\n       <use xlink:href=\"#DejaVuSans-30\" x=\"190.869141\"/>\n       <use xlink:href=\"#DejaVuSans-30\" x=\"254.492188\"/>\n       <use xlink:href=\"#DejaVuSans-30\" x=\"318.115234\"/>\n      </g>\n     </g>\n    </g>\n    <g id=\"text_16\">\n     <!-- Count -->\n     <g transform=\"translate(14.798438 155.463444) rotate(-90) scale(0.1 -0.1)\">\n      <defs>\n       <path id=\"DejaVuSans-43\" d=\"M 4122 4306 \nL 4122 3641 \nQ 3803 3938 3442 4084 \nQ 3081 4231 2675 4231 \nQ 1875 4231 1450 3742 \nQ 1025 3253 1025 2328 \nQ 1025 1406 1450 917 \nQ 1875 428 2675 428 \nQ 3081 428 3442 575 \nQ 3803 722 4122 1019 \nL 4122 359 \nQ 3791 134 3420 21 \nQ 3050 -91 2638 -91 \nQ 1578 -91 968 557 \nQ 359 1206 359 2328 \nQ 359 3453 968 4101 \nQ 1578 4750 2638 4750 \nQ 3056 4750 3426 4639 \nQ 3797 4528 4122 4306 \nz\n\" transform=\"scale(0.015625)\"/>\n      </defs>\n      <use xlink:href=\"#DejaVuSans-43\"/>\n      <use xlink:href=\"#DejaVuSans-6f\" x=\"69.824219\"/>\n      <use xlink:href=\"#DejaVuSans-75\" x=\"131.005859\"/>\n      <use xlink:href=\"#DejaVuSans-6e\" x=\"194.384766\"/>\n      <use xlink:href=\"#DejaVuSans-74\" x=\"257.763672\"/>\n     </g>\n    </g>\n   </g>\n   <g id=\"patch_1098\">\n    <path d=\"M 66.053125 273.671006 \nL 66.053125 7.559006 \n\" style=\"fill: none; stroke: #000000; stroke-width: 0.8; stroke-linejoin: miter; stroke-linecap: square\"/>\n   </g>\n   <g id=\"patch_1099\">\n    <path d=\"M 423.173125 273.671006 \nL 423.173125 7.559006 \n\" style=\"fill: none; stroke: #000000; stroke-width: 0.8; stroke-linejoin: miter; stroke-linecap: square\"/>\n   </g>\n   <g id=\"patch_1100\">\n    <path d=\"M 66.053125 273.671006 \nL 423.173125 273.671006 \n\" style=\"fill: none; stroke: #000000; stroke-width: 0.8; stroke-linejoin: miter; stroke-linecap: square\"/>\n   </g>\n   <g id=\"patch_1101\">\n    <path d=\"M 66.053125 7.559006 \nL 423.173125 7.559006 \n\" style=\"fill: none; stroke: #000000; stroke-width: 0.8; stroke-linejoin: miter; stroke-linecap: square\"/>\n   </g>\n  </g>\n </g>\n <defs>\n  <clipPath id=\"pae04297fc5\">\n   <rect x=\"66.053125\" y=\"7.559006\" width=\"357.12\" height=\"266.112\"/>\n  </clipPath>\n </defs>\n</svg>\n"
          },
          "metadata": {}
        }
      ]
    },
    {
      "cell_type": "markdown",
      "metadata": {
        "id": "8xGzD9Rdq1_d"
      },
      "source": [
        "## 0. case_id\n",
        "## 1. actualdpd_943P\n",
        "Days Past Due (DPD) of previous contract (actual).\n",
        "## 2. annuity_853A\n",
        "Monthly annuity for previous applications.\n",
        "## 3. approvaldate_319D\n",
        "Approval Date of Previous Application\n",
        "## 4. byoccupationinc_3656910L\n",
        "Applicant's income from previous applications."
      ]
    },
    {
      "cell_type": "markdown",
      "metadata": {
        "id": "Z1Si4IykwJZy"
      },
      "source": [
        "## 5. cancelreason_3545846M\n",
        "Application cancellation reason.\n",
        "## 6. childnum_21L\n",
        "Number of children in the previous application.\n",
        "\n",
        "## 7. creationdate_885D\n",
        "Date when previous application was created.\n",
        "\n",
        "## 8. credacc_actualbalance_314A\n",
        "Actual balance on credit account.Current amount owed.\n",
        "\n",
        "## 9. credacc_credlmt_575A\n",
        "Credit card credit limit provided for previous applications."
      ]
    },
    {
      "cell_type": "markdown",
      "metadata": {
        "id": "Ykh2ybNKw3Wi"
      },
      "source": [
        "## 10. credacc_maxhisbal_375A\n",
        "Maximal historical balance of previous credit account. This attribute represents the maximum historical balance of the previous credit account. It reflects the highest debt balance reached at a certain point during the account's life. This value can be used to evaluate the borrower's maximum borrowing level when using credit, and then analyze its debt repayment ability and financial management habits.\n",
        "\n",
        "## 11. credacc_minhisbal_90A\n",
        "Minimum historical balance of previous credit accounts. This attribute represents the minimum historical balance of the previous credit account. This may refer to the lowest debt balance during the account's existence, or if the account has ever had a positive balance (such as a prepaid account), it may be the lowest positive balance. This information helps to understand the borrower's credit utilization pattern and minimum debt level, and has certain reference value for assessing its financial stability.\n",
        "\n",
        "## 12. credacc_status_367L\n",
        "Account status of previous credit applications.\n",
        "\n",
        "## 13. credacc_transactions_402L\n",
        "Number of transactions made with the previous credit account of the applicant.\n",
        "\n",
        "## 14. credamount_590A\n",
        "Loan amount or card limit of previous applications.\n",
        "\n",
        "## 15. credtype_587L\n",
        "Credit type of previous application.\n",
        "\n",
        "## 16. currdebt_94A\n",
        "Previous application's current debt.\n",
        "\n",
        "## 17. dateactivated_425D\n",
        "Contract activation date of the applicant's previous application.\n",
        "\n",
        "## 18. district_544M\n",
        "District of the address used in the previous loan application.\n",
        "\n",
        "## 19. downpmt_134A\n",
        "Previous application downpayment amount."
      ]
    },
    {
      "cell_type": "markdown",
      "metadata": {
        "id": "Ixnv3T7xz8d5"
      },
      "source": [
        "## 20. dtlastpmt_581D\n",
        "Date of last payment made by the applicant.\n",
        "\n",
        "## 21. dtlastpmtallstes_3545839D\n",
        "Date of the applicant's last payment.\n",
        "\n",
        "## 22. education_1138M\n",
        "Applicant's education level from their previous application.\n",
        "\n",
        "## 23. employedfrom_700D\n",
        "Employment start date from the previous application.\n",
        "\n",
        "## 24. familystate_726L\n",
        "Family State in previous application of applicant.\n",
        "\n",
        "## 25. firstnonzeroinstldate_307D\n",
        "Date of first instalment in the previous application.\n",
        "\n",
        "## 26. inittransactioncode_279L\n",
        "Type of the initial transaction made in the previous application of the client.\n",
        "\n",
        "## 27. isbidproduct_390L\n",
        "Flag for determining if the product is a cross-sell in previous applications.\n",
        "\n",
        "## 28. isdebitcard_527L\n",
        "Previous application flag indicating if product being applied for is a debit card.\n",
        "\n",
        "## 29. mainoccupationinc_437A\n",
        "Client's main income amount in their previous application."
      ]
    },
    {
      "cell_type": "markdown",
      "metadata": {
        "id": "P51tFv0e2iw_"
      },
      "source": [
        "## 30. maxdpdtolerance_577P\n",
        "Maximum DPD with tolerance (on previous application/s).\n",
        "## 31. num_group1\n",
        "not found\n",
        "## 32. outstandingdebt_522A\n",
        "Amount of outstanding debt on the client's previous application.\n",
        "## 33. pmtnum_8L\n",
        "Number of payments made for the previous application.\n",
        "## 34. postype_4733339M\n",
        "Type of point of sale.\n",
        "## 35. profession_152M\n",
        "Profession of the client during their previous loan application.\n",
        "## 36. rejectreason_755M\n",
        "Reason for previous application rejection.\n",
        "## 37. rejectreasonclient_4145042M\n",
        "Reason for rejection of the client's previous application.\n",
        "## 38. revolvingaccount_394A\n",
        "Revolving account that was present in the applicant's previous application.\n",
        "## 39. status_219L\n",
        "Previous application status.\n",
        "## 40. tenor_203L\n",
        "Number of instalments in the previous application."
      ]
    },
    {
      "cell_type": "code",
      "execution_count": null,
      "metadata": {
        "id": "RTQd9sh0K1lT"
      },
      "outputs": [],
      "source": []
    },
    {
      "cell_type": "markdown",
      "metadata": {
        "id": "lVRT26xOFn8h"
      },
      "source": [
        "# **applprev_2**"
      ]
    },
    {
      "cell_type": "code",
      "execution_count": null,
      "metadata": {
        "id": "_GSRwCEbGENh"
      },
      "outputs": [],
      "source": [
        "df_applprev_2 = load_and_process_csv('/content/home-credit-data/csv_files/train/train_applprev_2.csv')"
      ]
    },
    {
      "cell_type": "code",
      "execution_count": null,
      "metadata": {
        "id": "a5YVUN7JGI56"
      },
      "outputs": [],
      "source": [
        "df_applprev_2.info()"
      ]
    },
    {
      "cell_type": "code",
      "execution_count": null,
      "metadata": {
        "id": "N_5wEw_NGKyC"
      },
      "outputs": [],
      "source": [
        "df_applprev_2.describe()"
      ]
    },
    {
      "cell_type": "code",
      "execution_count": null,
      "metadata": {
        "id": "ENlraNcjGb5q"
      },
      "outputs": [],
      "source": [
        "des_iterator_applprev_2 = batch_descriptions(df_applprev_2,des_dict,10)"
      ]
    },
    {
      "cell_type": "code",
      "execution_count": null,
      "metadata": {
        "id": "9dlf4FjkGlSZ"
      },
      "outputs": [],
      "source": [
        "iterator_output=next(des_iterator_applprev_2)\n",
        "print(format_output(iterator_output,0))"
      ]
    },
    {
      "cell_type": "markdown",
      "metadata": {
        "id": "GPqzBWX2Gyoh"
      },
      "source": [
        "## 0. case_id\n",
        "not found\n",
        "## 1. cacccardblochreas_147M\n",
        "Card blocking reason.\n",
        "## 2. conts_type_509L\n",
        "Person contact type in previous application.\n",
        "## 3. credacc_cards_status_52L\n",
        "Card status of the previous credit account.\n",
        "## 4. num_group1\n",
        "not found\n",
        "## 5. num_group2\n",
        "not found"
      ]
    },
    {
      "cell_type": "markdown",
      "metadata": {
        "id": "3qWfgGSbJex-"
      },
      "source": [
        "# **tax_registry_a_1**"
      ]
    },
    {
      "cell_type": "code",
      "execution_count": null,
      "metadata": {
        "id": "9OkOZcoqJnpL"
      },
      "outputs": [],
      "source": [
        "df_tax_registry_a_1 = load_and_process_csv('/content/home-credit-data/csv_files/train/train_tax_registry_a_1.csv')"
      ]
    },
    {
      "cell_type": "code",
      "execution_count": null,
      "metadata": {
        "id": "AW2k7KlmJwxQ"
      },
      "outputs": [],
      "source": [
        "df_tax_registry_a_1.info()"
      ]
    },
    {
      "cell_type": "code",
      "execution_count": null,
      "metadata": {
        "id": "Y0kGM0IBJ0Vk"
      },
      "outputs": [],
      "source": [
        "df_tax_registry_a_1.describe()"
      ]
    },
    {
      "cell_type": "code",
      "execution_count": null,
      "metadata": {
        "id": "gboL5vanKBjF"
      },
      "outputs": [],
      "source": [
        "des_tax_registry_a_1 = batch_descriptions(df_tax_registry_a_1,des_dict,10)"
      ]
    },
    {
      "cell_type": "code",
      "execution_count": null,
      "metadata": {
        "id": "GOIBZf-FKJtZ"
      },
      "outputs": [],
      "source": [
        "iterator_output=next(des_tax_registry_a_1)\n",
        "print(format_output(iterator_output,0))"
      ]
    },
    {
      "cell_type": "markdown",
      "metadata": {
        "id": "QT2SHgGCKPkh"
      },
      "source": [
        "## 0. case_id\n",
        "not found\n",
        "## 1. amount_4527230A\n",
        "Tax deductions amount tracked by the government registry.\n",
        "## 2. name_4527232M\n",
        "Name of employer.\n",
        "## 3. num_group1\n",
        "not found\n",
        "## 4. recorddate_4527225D\n",
        "Date of tax deduction record."
      ]
    },
    {
      "cell_type": "markdown",
      "metadata": {
        "id": "QHj9IJFcKijb"
      },
      "source": [
        "# **credit_bureau_a_1_0**\n",
        "\n",
        "## **Bussiness analysis**\n",
        "\n",
        "### **Credit behavior and repayment ability**\n",
        "**16. debtoverdue_47A**: The overdue amount of the customer's existing credit contract directly reflects the repayment ability.\n",
        "\n",
        "**18. dpdmax_139P & 19. dpdmax_757P**: The maximum number of overdue days for active contracts and closed contracts. The number of overdue days is a key indicator for measuring credit risk.\n",
        "\n",
        "**31. monthlyinstlamount_332A & 32. monthlyinstlamount_674A**: The monthly payment amount of active contracts and closed contracts. The monthly payment amount reflects the borrower's affordability.\n",
        "\n",
        "**42. numberofoverdueinstlmax_1039L & 43. numberofoverdueinstlmax_1151L**: The maximum number of overdue installments for active contracts and closed contracts. The number of overdue installments provides details of repayment behavior.\n",
        "\n",
        "**51. overdueamount_659A & 50. overdueamount_31A**: The overdue amount of active contracts and closed contracts. The overdue amount is a direct indicator of credit risk.\n",
        "\n",
        "**52. overdueamountmax2_14A & 53. overdueamountmax2_398A**: The maximum overdue amount of active contracts and closed contracts. The maximum overdue amount shows the worst repayment situation.\n",
        "\n",
        "**75. totaldebtoverduevalue_178A & 76. totaldebtoverduevalue_718A**: The total overdue debt amount of active contracts and closed contracts. The total overdue debt amount reflects the overall overdue status of the borrower.\n",
        "\n",
        "### **Credit history**\n",
        "**7. contractsum_5085717L**: The total value of other contracts, which may reflect the borrower's level of credit activity.\n",
        "\n",
        "**36. numberofcontrsvalue_258L & 37. numberofcontrsvalue_358L**: The number of active contracts and closed contracts in the credit bureau. The number of contracts can reflect the borrower's credit experience.\n",
        "\n",
        "**38. numberofinstls_229L & 39. numberofinstls_320L**: The number of installments for closed and active contracts. The number of installments provides details of the borrower's repayment plan.\n",
        "\n",
        "**48. outstandingamount_354A & 49. outstandingamount_362A**: The outstanding amount of closed credit contracts and active contracts. The outstanding amount reflects the current debt level.\n",
        "\n",
        "**77. totaloutstanddebtvalue_39A & 78. totaloutstanddebtvalue_668A**: Total outstanding debt for active and closed contracts in the credit bureau. Total outstanding debt provides an overall view of a borrower's liabilities.\n",
        "\n",
        "### **Contract characteristics**\n",
        "**1. annualeffectiverate_199L & 2. annualeffectiverate_63L**: The annual effective interest rate of closed contracts and active contracts. The interest rate level can affect the repayment burden.\n",
        "\n",
        "**3. classificationofcontr_13M & 4. classificationofcontr_400M**: Classification of active contracts and closed contracts. Contract classification may affect default risk assessment.\n",
        "\n",
        "**5. contractst_545M & 6. contractst_964M**: Contract status, including the status of terminated credit contracts, the contract status can reflect the current status of the credit contract.\n",
        "\n",
        "### **Financial Information**\n",
        "**8. credlmt_230A & 9. credlmt_935A**: The credit limit of closed credit contracts and active loans. The credit limit reflects the credit capacity of the borrower.\n",
        "\n",
        "**15. debtoutstand_525A**: The outstanding amount of existing contracts, providing a view of the borrower's current liabilities.\n",
        "\n"
      ]
    },
    {
      "cell_type": "code",
      "execution_count": null,
      "metadata": {
        "id": "ZQGeI5lqKxEY"
      },
      "outputs": [],
      "source": [
        "df_credit_bureau_a_1_0 = load_and_process_csv('/content/home-credit-data/csv_files/train/train_credit_bureau_a_1_0.csv')"
      ]
    },
    {
      "cell_type": "code",
      "execution_count": null,
      "metadata": {
        "id": "TI-FwaFVK_r8"
      },
      "outputs": [],
      "source": [
        "df_credit_bureau_a_1_0.info()"
      ]
    },
    {
      "cell_type": "code",
      "execution_count": null,
      "metadata": {
        "id": "55c79kMqLI4r"
      },
      "outputs": [],
      "source": [
        "df_credit_bureau_a_1_0.describe()"
      ]
    },
    {
      "cell_type": "code",
      "execution_count": null,
      "metadata": {
        "id": "Ct6d0MMCL0Lb"
      },
      "outputs": [],
      "source": [
        "des_credit_bureau_a_1_0 = batch_descriptions(df_credit_bureau_a_1_0,des_dict,10)"
      ]
    },
    {
      "cell_type": "code",
      "execution_count": null,
      "metadata": {
        "id": "q_DSofQMME0h"
      },
      "outputs": [],
      "source": [
        "iterator_output=next(des_credit_bureau_a_1_0)\n",
        "print(format_output(iterator_output,70))"
      ]
    },
    {
      "cell_type": "markdown",
      "metadata": {
        "id": "D4p2tZtWMJuV"
      },
      "source": [
        "## 0. case_id\n",
        "not found\n",
        "## 1. annualeffectiverate_199L\n",
        "Interest rate of the closed contracts.\n",
        "## 2. annualeffectiverate_63L\n",
        "Interest rate for the active contracts.\n",
        "## 3. classificationofcontr_13M\n",
        "Classificiation of the active contract.\n",
        "## 4. classificationofcontr_400M\n",
        "Classificiation of the closed contract.\n",
        "## 5. contractst_545M\n",
        "Contract status.\n",
        "## 6. contractst_964M\n",
        "Contract status of terminated credit contract.\n",
        "## 7. contractsum_5085717L\n",
        "Sum of other contract values.\n",
        "## 8. credlmt_230A\n",
        "Credit limit of the closed credit contracts from credit bureau.\n",
        "## 9. credlmt_935A\n",
        "Credit limit for active loan."
      ]
    },
    {
      "cell_type": "markdown",
      "metadata": {
        "id": "zmfEGjd-MOnT"
      },
      "source": [
        "## 10. dateofcredend_289D\n",
        "End date of an active credit contract.\n",
        "## 11. dateofcredend_353D\n",
        "End date of a closed credit contract.\n",
        "## 12. dateofcredstart_181D\n",
        "Date when the credit contract was closed.\n",
        "## 13. dateofcredstart_739D\n",
        "Start date of a closed credit contract.\n",
        "## 14. dateofrealrepmt_138D\n",
        "Date of credit's closure (contract termination date).\n",
        "## 15. debtoutstand_525A\n",
        "Outstanding amount of existing contract.\n",
        "## 16. debtoverdue_47A\n",
        "Amount that is currently past due on a client's existing credit contract.\n",
        "## 17. description_351M\n",
        "Categorization of clients by credit bureau.\n",
        "## 18. dpdmax_139P\n",
        "Maximal days past due for active contract.\n",
        "## 19. dpdmax_757P\n",
        "Maximum days past due for a closed contract."
      ]
    },
    {
      "cell_type": "markdown",
      "metadata": {
        "id": "qKpPgM7tMaAB"
      },
      "source": [
        "## 20. dpdmaxdatemonth_442T\n",
        "Max DPD occurrence month for terminated contracts from credit bureau data.\n",
        "## 21. dpdmaxdatemonth_89T\n",
        "Month when maximum days past due occurred on the active contract with the credit bureau.\n",
        "## 22. dpdmaxdateyear_596T\n",
        "Year when maximum Days Past Due (DPD) occurred for the active contract.\n",
        "## 23. dpdmaxdateyear_896T\n",
        "Year of maximum Days Past Due of closed contract obtained from Credit Bureau.\n",
        "## 24. financialinstitution_382M\n",
        "Name of financial institution that is linked to a closed contract.\n",
        "## 25. financialinstitution_591M\n",
        "Financial institution name of the active contract.\n",
        "## 26. instlamount_768A\n",
        "Instalment amount for the active contract in credit bureau.\n",
        "## 27. instlamount_852A\n",
        "Instalment amount for closed contract.\n",
        "## 28. interestrate_508L\n",
        "Interest rate for a closed contract in the credit bureau.\n",
        "## 29. lastupdate_1112D\n",
        "Date of last update for an active contract from credit bureau."
      ]
    },
    {
      "cell_type": "markdown",
      "metadata": {
        "id": "cOjmrYqGMfR1"
      },
      "source": [
        "## 30. lastupdate_388D\n",
        "Date of last update for a closed contract in the credit bureau.\n",
        "## 31. monthlyinstlamount_332A\n",
        "Monthly instalment amount for active contract.\n",
        "## 32. monthlyinstlamount_674A\n",
        "Monthly amount of instalment payment on a closed contract.\n",
        "## 33. nominalrate_281L\n",
        "Interest rate of the active contract.\n",
        "## 34. nominalrate_498L\n",
        "Interest rate for closed contract.\n",
        "## 35. num_group1\n",
        "not found\n",
        "## 36. numberofcontrsvalue_258L\n",
        "Number of active contracts in credit bureau.\n",
        "## 37. numberofcontrsvalue_358L\n",
        "Number of closed credit contracts.\n",
        "## 38. numberofinstls_229L\n",
        "Number of instalments on closed contract.\n",
        "## 39. numberofinstls_320L\n",
        "Number of instalments of the active contract."
      ]
    },
    {
      "cell_type": "markdown",
      "metadata": {
        "id": "JTacf6-kMlpA"
      },
      "source": [
        "## 40. numberofoutstandinstls_520L\n",
        "Number of outstanding instalment for closed contract.\n",
        "## 41. numberofoutstandinstls_59L\n",
        "Number of outstanding instalments for the active contracts.\n",
        "## 42. numberofoverdueinstlmax_1039L\n",
        "Number of outstanding instalments for active contracts.\n",
        "## 43. numberofoverdueinstlmax_1151L\n",
        "Maximum number of past due installments for a closed contract.\n",
        "## 44. numberofoverdueinstlmaxdat_148D\n",
        "Date of maximum number of past due instalments for the closed contract.\n",
        "## 45. numberofoverdueinstlmaxdat_641D\n",
        "Date of maximum number of past due instalments for the active contract.\n",
        "## 46. numberofoverdueinstls_725L\n",
        "Maximum number of past due instalments for an active contract.\n",
        "## 47. numberofoverdueinstls_834L\n",
        "Number of past due instalments for a closed contract.\n",
        "## 48. outstandingamount_354A\n",
        "Outstanding amount for closed credit contract in credit bureau.\n",
        "## 49. outstandingamount_362A\n",
        "Active contract's outstanding amount."
      ]
    },
    {
      "cell_type": "markdown",
      "metadata": {
        "id": "Yo7Rty8qMrhx"
      },
      "source": [
        "## 50. overdueamount_31A\n",
        "Past due amount for a closed contract.\n",
        "## 51. overdueamount_659A\n",
        "Past due amount for active contract.\n",
        "## 52. overdueamountmax2_14A\n",
        "Maximal past due amount for an active contract.\n",
        "## 53. overdueamountmax2_398A\n",
        "Maximal overdue amount for a closed contract.\n",
        "## 54. overdueamountmax2date_1002D\n",
        "Date of maximal past due amount for a closed contract\n",
        "## 55. overdueamountmax2date_1142D\n",
        "Date of maximal past due amount for an active contract.\n",
        "## 56. overdueamountmax_155A\n",
        "Maximal past due amount for active contract.\n",
        "## 57. overdueamountmax_35A\n",
        "Maximal past due amount for a closed contract.\n",
        "## 58. overdueamountmaxdatemonth_284T\n",
        "Month when the maximum past due amount occurred for a closed contract.\n",
        "## 59. overdueamountmaxdatemonth_365T\n",
        "Month when maximum past due amount occurred for an active contract."
      ]
    },
    {
      "cell_type": "markdown",
      "metadata": {
        "id": "6OOjShFIMyOq"
      },
      "source": [
        "## 60. overdueamountmaxdateyear_2T\n",
        "Year when the maximum past due amount occurred for active contracts.\n",
        "## 61. overdueamountmaxdateyear_994T\n",
        "Year when maximum past due amount occurred for closed contract.\n",
        "## 62. periodicityofpmts_1102L\n",
        "Frequency of instalments for a closed contract.\n",
        "## 63. periodicityofpmts_837L\n",
        "Frequency of instalments for an active contract.\n",
        "## 64. prolongationcount_1120L\n",
        "Count of prolongations on terminated contract according to credit bureau.\n",
        "## 65. prolongationcount_599L\n",
        "Count of active contract prolongations.\n",
        "## 66. purposeofcred_426M\n",
        "Purpose of credit for active contract.\n",
        "## 67. purposeofcred_874M\n",
        "Purpose of credit on a closed contract.\n",
        "## 68. refreshdate_3813885D\n",
        "Date when the credit bureau's public sources have been last updated.\n",
        "## 69. residualamount_488A\n",
        "Residual amount of a closed contract."
      ]
    },
    {
      "cell_type": "markdown",
      "metadata": {
        "id": "861qDLe-M4td"
      },
      "source": [
        "## 70. residualamount_856A\n",
        "Residual amount for the active contract.\n",
        "## 71. subjectrole_182M\n",
        "Subject role in active credit contract.\n",
        "## 72. subjectrole_93M\n",
        "Subject role in closed credit contract.\n",
        "## 73. totalamount_6A\n",
        "Total amount of closed contracts.\n",
        "## 74. totalamount_996A\n",
        "Total amount of active contracts in the credit bureau.\n",
        "## 75. totaldebtoverduevalue_178A\n",
        "Total amount of past due debt on active contracts.\n",
        "## 76. totaldebtoverduevalue_718A\n",
        "Total overdue debt amount for closed credit contracts.\n",
        "## 77. totaloutstanddebtvalue_39A\n",
        "Total outstanding debt for active contracts in the credit bureau.\n",
        "## 78. totaloutstanddebtvalue_668A\n",
        "Total outstanding debt for the closed contracts in the credit bureau."
      ]
    },
    {
      "cell_type": "markdown",
      "metadata": {
        "id": "umtPRfQDT2HY"
      },
      "source": [
        "# **credit_bureau_a_2_0**\n",
        "## **Bussiness analysis**\n",
        "### **Collateral or collateral information**\n",
        "**1. collater_typofvalofguarant_298M & 2. collater_typofvalofguarant_407M**: Collateral valuation type for active and closed contracts, providing information on the collateral valuation method.\n",
        "\n",
        "**3. collater_valueofguarantee_1124L & 4. collater_valueofguarantee_876L**: The collateral value of active contracts and closed contracts directly reflects the security and potential recovery value of the loan.\n",
        "\n",
        "**5. collaterals_typeofguarante_359M & 6. collaterals_typeofguarante_669M**: The type of collateral used as guarantee for closed contracts and active contracts. The type of collateral can affect the recovery of losses after default.\n",
        "### **Payment history**\n",
        "**9. pmts_dpd_1073P & 10. pmts_dpd_303P**: The number of days payment is overdue for active contracts and terminated contracts. The number of days overdue is a key indicator for measuring credit risk.\n",
        "\n",
        "**11. pmts_month_158T & 12. pmts_month_706T**: Payment month for closed contracts and active contracts. Payment timing can help analyze the applicant's repayment pattern and seasonal effects.\n",
        "\n",
        "**13. pmts_overdue_1140A & 14. pmts_overdue_1152A**: The overdue payment amount of active contracts and closed contracts. The overdue amount provides direct evidence of default risk.\n",
        "\n",
        "**15. pmts_year_1139T & 16. pmts_year_507T**: The payment year of active contracts and closed credit contracts. Knowing the payment year helps analyze the applicant's long-term repayment behavior.\n",
        "### **Contract role information**\n",
        "**17. subjectroles_name_541M & 18. subjectroles_name_838M**: The name of the subject role in the closed credit contract and the active credit contract. The subject role can reveal the applicant's responsibility and status in the contract."
      ]
    },
    {
      "cell_type": "code",
      "execution_count": null,
      "metadata": {
        "id": "9AfkITMqUBd8"
      },
      "outputs": [],
      "source": [
        "df_credit_bureau_a_2_0 = load_and_process_csv('/content/home-credit-data/csv_files/train/train_credit_bureau_a_2_0.csv')"
      ]
    },
    {
      "cell_type": "code",
      "execution_count": null,
      "metadata": {
        "id": "hw76O6C-UO5t"
      },
      "outputs": [],
      "source": [
        "df_credit_bureau_a_2_0.info()"
      ]
    },
    {
      "cell_type": "code",
      "execution_count": null,
      "metadata": {
        "id": "iXdTYj--UYp8"
      },
      "outputs": [],
      "source": [
        "df_credit_bureau_a_2_0.describe()"
      ]
    },
    {
      "cell_type": "code",
      "execution_count": null,
      "metadata": {
        "id": "TxvJ5RBdUhPu"
      },
      "outputs": [],
      "source": [
        "des_credit_bureau_a_2_0 = batch_descriptions(df_credit_bureau_a_2_0,des_dict,10)"
      ]
    },
    {
      "cell_type": "code",
      "execution_count": null,
      "metadata": {
        "id": "984ZySupUtub"
      },
      "outputs": [],
      "source": [
        "iterator_output=next(des_credit_bureau_a_2_0)\n",
        "print(format_output(iterator_output,10))"
      ]
    },
    {
      "cell_type": "markdown",
      "metadata": {
        "id": "YwibtdIrUxnE"
      },
      "source": [
        "## 0. case_id\n",
        "not found\n",
        "## 1. collater_typofvalofguarant_298M\n",
        "Collateral valuation type (active contract).\n",
        "## 2. collater_typofvalofguarant_407M\n",
        "Collateral valuation type (closed contract).\n",
        "## 3. collater_valueofguarantee_1124L\n",
        "Value of collateral for active contract.\n",
        "## 4. collater_valueofguarantee_876L\n",
        "Value of collateral for closed contract.\n",
        "## 5. collaterals_typeofguarante_359M\n",
        "Type of collateral that was used as a guarantee for a closed contract.\n",
        "## 6. collaterals_typeofguarante_669M\n",
        "Collateral type for the active contract.\n",
        "## 7. num_group1\n",
        "not found\n",
        "## 8. num_group2\n",
        "not found\n",
        "## 9. pmts_dpd_1073P\n",
        "Days past due of the payment for the active contract (num_group1 - existing contract, num_group2 - payment)."
      ]
    },
    {
      "cell_type": "markdown",
      "metadata": {
        "id": "v4L3uNuBU3eH"
      },
      "source": [
        "## 10. pmts_dpd_303P\n",
        "Days past due of the payment for terminated contract according to credit bureau (num_group1 - terminated contract, num_group2 - payment).\n",
        "## 11. pmts_month_158T\n",
        "Month of payment for a closed contract (num_group1 - existing contract, num_group2 - payment).\n",
        "## 12. pmts_month_706T\n",
        "Month of payment for active contract (num_group1 - terminated contract, num_group2 - payment).\n",
        "## 13. pmts_overdue_1140A\n",
        "Overdue payment for an active contract (num_group1 - existing contract, num_group2 - payment).\n",
        "## 14. pmts_overdue_1152A\n",
        "Overdue payment for a closed contract (num_group1 - terminated contract, num_group2 - payment).\n",
        "## 15. pmts_year_1139T\n",
        "Year of payment for an active contract (num_group1 - existing contract, num_group2 - payment).\n",
        "## 16. pmts_year_507T\n",
        "Payment year for a closed credit contract (num_group1 - terminated contract, num_group2 - payment).\n",
        "## 17. subjectroles_name_541M\n",
        "Name of subject role in closed credit contract (num_group1 - terminated contract, num_group2 - subject roles).\n",
        "## 18. subjectroles_name_838M\n",
        "Name of subject role in active credit contract (num_group1 - existing contract, num_group2 - subject roles)."
      ]
    },
    {
      "cell_type": "markdown",
      "metadata": {
        "id": "N0FRREMYV5ut"
      },
      "source": [
        "# **credit_bureau_b_1**\n",
        "## **Bussiness analysis**\n",
        "### **Credit behavior and repayment ability**\n",
        "**1. amount_1115A**: Credit amount of the active contract provided by the credit bureau.\n",
        "\n",
        "**7. credlmt_1052A, 8. credlmt_228A, 9. credlmt_3940954A**: Credit limits for active and closed loans.\n",
        "\n",
        "**13. debtpastduevalue_732A**: Amount of unpaid debt for existing contracts.\n",
        "\n",
        "**14. debtvalue_227A**: Outstanding amount for existing debt contracts.\n",
        "\n",
        "**15. dpd_550P, 16. dpd_733P, 17. dpdmax_851P**: Days past due for active and closed contracts.\n",
        "\n",
        "**21. installmentamount_833A, 22. installmentamount_892A**: Installment amounts for active credit contracts.\n",
        "### **credit history**\n",
        "**11. credquantity_1099L, 12. credquantity_984L**: Number of credits in credit bureau.\n",
        "### **Contract characteristics**\n",
        "**2. classificationofcontr_1114M**: Classification of the active contract.\n",
        "\n",
        "**5. contractst_516M**: Contract status.\n",
        "\n",
        "**6. contracttype_653M**: Contract Type.\n",
        "\n",
        "**37. purposeofcred_722M**: Purpose of credit for active contracts."
      ]
    },
    {
      "cell_type": "code",
      "execution_count": null,
      "metadata": {
        "id": "WxiBWAz7WBGc"
      },
      "outputs": [],
      "source": [
        "df_credit_bureau_b_1 = load_and_process_csv('/content/home-credit-data/csv_files/train/train_credit_bureau_b_1.csv')"
      ]
    },
    {
      "cell_type": "code",
      "execution_count": null,
      "metadata": {
        "id": "QlsKd1dwWMvE"
      },
      "outputs": [],
      "source": [
        "df_credit_bureau_b_1.info()"
      ]
    },
    {
      "cell_type": "code",
      "execution_count": null,
      "metadata": {
        "id": "CwvuduE_WToG"
      },
      "outputs": [],
      "source": [
        "df_credit_bureau_b_1.describe()"
      ]
    },
    {
      "cell_type": "code",
      "execution_count": null,
      "metadata": {
        "id": "sUbGewFyI-X9"
      },
      "outputs": [],
      "source": [
        "des_credit_bureau_b_1 = batch_descriptions(df_credit_bureau_b_1,des_dict,10)"
      ]
    },
    {
      "cell_type": "code",
      "execution_count": null,
      "metadata": {
        "id": "vpjkKkW4JRVd"
      },
      "outputs": [],
      "source": [
        "iterator_output=next(des_credit_bureau_b_1)\n",
        "print(format_output(iterator_output,40))"
      ]
    },
    {
      "cell_type": "markdown",
      "metadata": {
        "id": "xBk0aVlGJhUW"
      },
      "source": [
        "\n",
        "## 0. case_id\n",
        "not found\n",
        "## 1. amount_1115A\n",
        "Credit amount of the active contract provided by the credit bureau.\n",
        "## 2. classificationofcontr_1114M\n",
        "Classificiation of the active contract.\n",
        "## 3. contractdate_551D\n",
        "Contract date of the active contract\n",
        "## 4. contractmaturitydate_151D\n",
        "End date of active contract.\n",
        "## 5. contractst_516M\n",
        "Contract status.\n",
        "## 6. contracttype_653M\n",
        "Contract Type\n",
        "## 7. credlmt_1052A\n",
        "Credit limit of an active loan.\n",
        "## 8. credlmt_228A\n",
        "Credit limit for closed loans.\n",
        "## 9. credlmt_3940954A\n",
        "Credit limit for active loan."
      ]
    },
    {
      "cell_type": "markdown",
      "metadata": {
        "id": "njv9wR3tKogW"
      },
      "source": [
        "\n",
        "## 10. credor_3940957M\n",
        "Creditor's name\n",
        "## 11. credquantity_1099L\n",
        "Number of credits in credit bureau\n",
        "## 12. credquantity_984L\n",
        "Number of closed credits in credit bureau.\n",
        "## 13. debtpastduevalue_732A\n",
        "Amount of unpaid debt for existing contracts.\n",
        "## 14. debtvalue_227A\n",
        "Outstanding amount for existing debt contracts.\n",
        "## 15. dpd_550P\n",
        "The number of days past due for active loans where a guarantee has been provided.\n",
        "## 16. dpd_733P\n",
        "Days past due (DPD) for guaranteed loans that were terminated according to credit bureau data.\n",
        "## 17. dpdmax_851P\n",
        "Maximal past due days for active contracts in the credit bureau.\n",
        "## 18. dpdmaxdatemonth_804T\n",
        "Month when the maximum Day Past Due (DPD) occurred for active contracts on credit bureau's records.\n",
        "## 19. dpdmaxdateyear_742T\n",
        "Year of the maximum Days Past Due (DPD) on an active credit contract in the credit bureau."
      ]
    },
    {
      "cell_type": "markdown",
      "metadata": {
        "id": "CuEuzZ8iKrxL"
      },
      "source": [
        "## 20. installmentamount_644A\n",
        "Instalment amount of a closed and secured credit contract.\n",
        "## 21. installmentamount_833A\n",
        "Instalment amount for a secured and active contract in credit bureau.\n",
        "## 22. instlamount_892A\n",
        "Instalment amount for active credit contract.\n",
        "## 23. interesteffectiverate_369L\n",
        "Interest rate on active contract.\n",
        "## 24. interestrateyearly_538L\n",
        "Annual interest rate for existing contract obtained from credit bureau.\n",
        "## 25. lastupdate_260D\n",
        "Last update date for the active contracts.\n",
        "## 26. maxdebtpduevalodued_3940955A\n",
        "Days past due at the time of the maximum debt.\n",
        "## 27. num_group1\n",
        "not found\n",
        "## 28. numberofinstls_810L\n",
        "Number of instalments for the active contract.\n",
        "## 29. overdueamountmax_950A\n",
        "Maximal past due amount for active contract."
      ]
    },
    {
      "cell_type": "markdown",
      "metadata": {
        "id": "5t95fyADLBGm"
      },
      "source": [
        "## 30. overdueamountmaxdatemonth_494T\n",
        "Month when the maximum past due amount was recorded for an active contract with the credit bureau.\n",
        "## 31. overdueamountmaxdateyear_432T\n",
        "Year when max past due amount occurred for active contract.\n",
        "## 32. periodicityofpmts_997L\n",
        "Frequency of instalments for active credit contracts.\n",
        "## 33. periodicityofpmts_997M\n",
        "Frequency of instalments for active credit contracts.\n",
        "## 34. pmtdaysoverdue_1135P\n",
        "Number of days past due for existing contracts in the credit bureau.\n",
        "## 35. pmtmethod_731M\n",
        "Instalment payment method for existing contract in credit bureau.\n",
        "## 36. pmtnumpending_403L\n",
        "Number of pending payments for active contract.\n",
        "## 37. purposeofcred_722M\n",
        "Purpose of credit for active contracts.\n",
        "## 38. residualamount_1093A\n",
        "Residual amount of closed guarantee contract.\n",
        "## 39. residualamount_127A\n",
        "Residual amount of active guarantee contract."
      ]
    },
    {
      "cell_type": "markdown",
      "metadata": {
        "id": "yeCqUijuLGRU"
      },
      "source": [
        "## 40. residualamount_3940956A\n",
        "Residual amount for the active contract.\n",
        "## 41. subjectrole_326M\n",
        "Subject role in active credit contract.\n",
        "## 42. subjectrole_43M\n",
        "Subject role in closed credit contract.\n",
        "## 43. totalamount_503A\n",
        "Total amount of active secured credit for a client.\n",
        "## 44. totalamount_881A\n",
        "Total amount of secured credit from closed contracts."
      ]
    },
    {
      "cell_type": "markdown",
      "metadata": {
        "id": "-6c1G_qw5LxR"
      },
      "source": [
        "# **deposit_1**\n"
      ]
    },
    {
      "cell_type": "code",
      "execution_count": null,
      "metadata": {
        "id": "dJ77Vc8i5R9N"
      },
      "outputs": [],
      "source": [
        "df_deposit_1 = load_and_process_csv('/content/home-credit-data/csv_files/train/train_deposit_1.csv')"
      ]
    },
    {
      "cell_type": "code",
      "execution_count": null,
      "metadata": {
        "id": "_lglXnAy6YO7"
      },
      "outputs": [],
      "source": [
        "df_deposit_1.info()"
      ]
    },
    {
      "cell_type": "markdown",
      "metadata": {
        "id": "vV4edhqt6dKN"
      },
      "source": [
        "# **person_1**"
      ]
    },
    {
      "cell_type": "code",
      "execution_count": null,
      "metadata": {
        "id": "l9Lg6jwc6mfA"
      },
      "outputs": [],
      "source": [
        "df_person_1 = load_and_process_csv('/content/home-credit-data/csv_files/train/train_person_1.csv')"
      ]
    },
    {
      "cell_type": "code",
      "execution_count": null,
      "metadata": {
        "id": "U0LxN20X63C5"
      },
      "outputs": [],
      "source": [
        "df_person_1.info()"
      ]
    },
    {
      "cell_type": "code",
      "execution_count": null,
      "metadata": {
        "id": "DxbYoOBP68BC"
      },
      "outputs": [],
      "source": [
        "df_person_1.describe()"
      ]
    },
    {
      "cell_type": "code",
      "execution_count": null,
      "metadata": {
        "id": "7aYIzhoZ7I9X"
      },
      "outputs": [],
      "source": [
        "des_person_1 = batch_descriptions(df_person_1,des_dict,10)"
      ]
    },
    {
      "cell_type": "code",
      "execution_count": null,
      "metadata": {
        "id": "g5kW8jue7y62"
      },
      "outputs": [],
      "source": [
        "iterator_output=next(des_person_1)\n",
        "print(format_output(iterator_output,30))"
      ]
    },
    {
      "cell_type": "markdown",
      "metadata": {
        "id": "JG9OjpeT78TJ"
      },
      "source": [
        "## 0. case_id\n",
        "not found\n",
        "## 1. birth_259D\n",
        "Date of birth of the person.\n",
        "## 2. birthdate_87D\n",
        "Birth date of the person.\n",
        "## 3. childnum_185L\n",
        "Number of children of the applicant.\n",
        "## 4. contaddr_district_15M\n",
        "Zip code of a contact person's address.\n",
        "## 5. contaddr_matchlist_1032L\n",
        "Indicates whether the contact address is found in a code list.\n",
        "## 6. contaddr_smempladdr_334L\n",
        "Indicates whether the contact address is the same as the employment address.\n",
        "## 7. contaddr_zipcode_807M\n",
        "Zip code of contact address.\n",
        "## 8. education_927M\n",
        "Education level of the person.\n",
        "## 9. empl_employedfrom_271D\n",
        "Start date of employment."
      ]
    },
    {
      "cell_type": "markdown",
      "metadata": {
        "id": "sSVW4nka8JNU"
      },
      "source": [
        "## 10. empl_employedtotal_800L\n",
        "Employment length of a person.\n",
        "## 11. empl_industry_691L\n",
        "Employment Industry of the person.\n",
        "## 12. empladdr_district_926M\n",
        "District where the employer's address is located.\n",
        "## 13. empladdr_zipcode_114M\n",
        "Zipcode of employer's address.\n",
        "## 14. familystate_447L\n",
        "Family state of the person.\n",
        "## 15. gender_992L\n",
        "Gender of a person.\n",
        "## 16. housetype_905L\n",
        "House type of the person.\n",
        "## 17. housingtype_772L\n",
        "Type of housing of the person.\n",
        "## 18. incometype_1044T\n",
        "Type of income of the person\n",
        "## 19. isreference_387L\n",
        "Flag indicating whether the person is a reference contact."
      ]
    },
    {
      "cell_type": "markdown",
      "metadata": {
        "id": "CMak-sKx8j5U"
      },
      "source": [
        "## 20. language1_981M\n",
        "The primary language of the person.\n",
        "## 21. mainoccupationinc_384A\n",
        "Amount of the main income of the client.\n",
        "## 22. maritalst_703L\n",
        "Marital status of the client.\n",
        "## 23. num_group1\n",
        "not found\n",
        "## 24. personindex_1023L\n",
        "Order of the person specified on the application form.\n",
        "## 25. persontype_1072L\n",
        "Person type.\n",
        "## 26. persontype_792L\n",
        "Person type.\n",
        "## 27. registaddr_district_1083M\n",
        "District of person's registered address.\n",
        "## 28. registaddr_zipcode_184M\n",
        "Registered address's zip code of a person.\n",
        "## 29. relationshiptoclient_415T\n",
        "Relationship to the client."
      ]
    },
    {
      "cell_type": "markdown",
      "metadata": {
        "id": "Upby0nCa8ouM"
      },
      "source": [
        "## 30. relationshiptoclient_642T\n",
        "Relationship to the client.\n",
        "## 31. remitter_829L\n",
        "Flag indicating whether the client is a remitter.\n",
        "## 32. role_1084L\n",
        "Type of contact role.\n",
        "## 33. role_993L\n",
        "Person's role.\n",
        "## 34. safeguarantyflag_411L\n",
        "Flag indicating if client is using a flexible product with additional safeguard garanty.\n",
        "## 35. sex_738L\n",
        "Gender of the client.\n",
        "## 36. type_25L\n",
        "Contact type of a person."
      ]
    },
    {
      "cell_type": "markdown",
      "metadata": {
        "id": "cv_oHuq5850R"
      },
      "source": [
        "# **person_2**"
      ]
    },
    {
      "cell_type": "code",
      "execution_count": null,
      "metadata": {
        "id": "itiff8wn9Do9"
      },
      "outputs": [],
      "source": [
        "df_person_2 = load_and_process_csv('/content/home-credit-data/csv_files/train/train_person_2.csv')"
      ]
    },
    {
      "cell_type": "code",
      "execution_count": null,
      "metadata": {
        "id": "ghheW4SU9cvt"
      },
      "outputs": [],
      "source": [
        "df_person_2.info()"
      ]
    },
    {
      "cell_type": "markdown",
      "metadata": {
        "id": "6LsXPZVX9kjV"
      },
      "source": [
        "# **debitcard_1**"
      ]
    },
    {
      "cell_type": "code",
      "execution_count": null,
      "metadata": {
        "id": "7WouDmKU-oYj"
      },
      "outputs": [],
      "source": [
        "df_debitcard_1 = load_and_process_csv('/content/home-credit-data/csv_files/train/train_debitcard_1.csv')"
      ]
    },
    {
      "cell_type": "code",
      "execution_count": null,
      "metadata": {
        "id": "jtsZ3I2S-uci"
      },
      "outputs": [],
      "source": [
        "df_debitcard_1.info()"
      ]
    },
    {
      "cell_type": "markdown",
      "metadata": {
        "id": "uT24YaIq-15m"
      },
      "source": [
        "# **other_1**"
      ]
    },
    {
      "cell_type": "code",
      "execution_count": null,
      "metadata": {
        "id": "UPTMNmL3-7l-"
      },
      "outputs": [],
      "source": [
        "df_other_1 = load_and_process_csv('/content/home-credit-data/csv_files/train/train_other_1.csv')"
      ]
    },
    {
      "cell_type": "code",
      "execution_count": null,
      "metadata": {
        "id": "DlSiZ6Kl_Apl"
      },
      "outputs": [],
      "source": [
        "df_other_1.info()"
      ]
    }
  ],
  "metadata": {
    "colab": {
      "collapsed_sections": [
        "xKQK-CDyeXfb",
        "HmZzUMdoSkBM",
        "7Q-IUV-8XMe-",
        "RfhHJYFH6lyi",
        "F75CQmBzeHCI",
        "lVRT26xOFn8h",
        "3qWfgGSbJex-",
        "QHj9IJFcKijb",
        "umtPRfQDT2HY",
        "N0FRREMYV5ut",
        "-6c1G_qw5LxR",
        "vV4edhqt6dKN",
        "cv_oHuq5850R",
        "6LsXPZVX9kjV",
        "uT24YaIq-15m"
      ],
      "provenance": [],
      "include_colab_link": true
    },
    "kernelspec": {
      "display_name": "Python 3",
      "name": "python3"
    },
    "language_info": {
      "name": "python"
    }
  },
  "nbformat": 4,
  "nbformat_minor": 0
}